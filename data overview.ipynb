{
 "cells": [
  {
   "cell_type": "code",
   "execution_count": 168,
   "metadata": {
    "scrolled": true
   },
   "outputs": [
    {
     "name": "stdout",
     "output_type": "stream",
     "text": [
      "Number of completed seances:\n"
     ]
    },
    {
     "ename": "InterfaceError",
     "evalue": "connection already closed",
     "output_type": "error",
     "traceback": [
      "\u001b[0;31m---------------------------------------------------------------------------\u001b[0m",
      "\u001b[0;31mInterfaceError\u001b[0m                            Traceback (most recent call last)",
      "\u001b[0;32m~/.virtualenvs/cabackend/lib/python3.6/site-packages/django/db/backends/base/base.py\u001b[0m in \u001b[0;36m_cursor\u001b[0;34m(self, name)\u001b[0m\n\u001b[1;32m    233\u001b[0m         \u001b[0;32mwith\u001b[0m \u001b[0mself\u001b[0m\u001b[0;34m.\u001b[0m\u001b[0mwrap_database_errors\u001b[0m\u001b[0;34m:\u001b[0m\u001b[0;34m\u001b[0m\u001b[0;34m\u001b[0m\u001b[0m\n\u001b[0;32m--> 234\u001b[0;31m             \u001b[0;32mreturn\u001b[0m \u001b[0mself\u001b[0m\u001b[0;34m.\u001b[0m\u001b[0m_prepare_cursor\u001b[0m\u001b[0;34m(\u001b[0m\u001b[0mself\u001b[0m\u001b[0;34m.\u001b[0m\u001b[0mcreate_cursor\u001b[0m\u001b[0;34m(\u001b[0m\u001b[0mname\u001b[0m\u001b[0;34m)\u001b[0m\u001b[0;34m)\u001b[0m\u001b[0;34m\u001b[0m\u001b[0;34m\u001b[0m\u001b[0m\n\u001b[0m\u001b[1;32m    235\u001b[0m \u001b[0;34m\u001b[0m\u001b[0m\n",
      "\u001b[0;32m~/.virtualenvs/cabackend/lib/python3.6/site-packages/django/db/backends/postgresql/base.py\u001b[0m in \u001b[0;36mcreate_cursor\u001b[0;34m(self, name)\u001b[0m\n\u001b[1;32m    221\u001b[0m         \u001b[0;32melse\u001b[0m\u001b[0;34m:\u001b[0m\u001b[0;34m\u001b[0m\u001b[0;34m\u001b[0m\u001b[0m\n\u001b[0;32m--> 222\u001b[0;31m             \u001b[0mcursor\u001b[0m \u001b[0;34m=\u001b[0m \u001b[0mself\u001b[0m\u001b[0;34m.\u001b[0m\u001b[0mconnection\u001b[0m\u001b[0;34m.\u001b[0m\u001b[0mcursor\u001b[0m\u001b[0;34m(\u001b[0m\u001b[0;34m)\u001b[0m\u001b[0;34m\u001b[0m\u001b[0;34m\u001b[0m\u001b[0m\n\u001b[0m\u001b[1;32m    223\u001b[0m         \u001b[0mcursor\u001b[0m\u001b[0;34m.\u001b[0m\u001b[0mtzinfo_factory\u001b[0m \u001b[0;34m=\u001b[0m \u001b[0mutc_tzinfo_factory\u001b[0m \u001b[0;32mif\u001b[0m \u001b[0msettings\u001b[0m\u001b[0;34m.\u001b[0m\u001b[0mUSE_TZ\u001b[0m \u001b[0;32melse\u001b[0m \u001b[0;32mNone\u001b[0m\u001b[0;34m\u001b[0m\u001b[0;34m\u001b[0m\u001b[0m\n",
      "\u001b[0;31mInterfaceError\u001b[0m: connection already closed",
      "\nThe above exception was the direct cause of the following exception:\n",
      "\u001b[0;31mInterfaceError\u001b[0m                            Traceback (most recent call last)",
      "\u001b[0;32m<ipython-input-168-0b737fa872e9>\u001b[0m in \u001b[0;36m<module>\u001b[0;34m\u001b[0m\n\u001b[1;32m      1\u001b[0m \u001b[0;32mfrom\u001b[0m \u001b[0mseances\u001b[0m\u001b[0;34m.\u001b[0m\u001b[0mmodels\u001b[0m \u001b[0;32mimport\u001b[0m \u001b[0mSeance\u001b[0m\u001b[0;34m\u001b[0m\u001b[0;34m\u001b[0m\u001b[0m\n\u001b[1;32m      2\u001b[0m \u001b[0mprint\u001b[0m\u001b[0;34m(\u001b[0m\u001b[0;34m\"Number of completed seances:\"\u001b[0m\u001b[0;34m)\u001b[0m\u001b[0;34m\u001b[0m\u001b[0;34m\u001b[0m\u001b[0m\n\u001b[0;32m----> 3\u001b[0;31m \u001b[0mprint\u001b[0m\u001b[0;34m(\u001b[0m\u001b[0mSeance\u001b[0m\u001b[0;34m.\u001b[0m\u001b[0mobjects\u001b[0m\u001b[0;34m.\u001b[0m\u001b[0mfilter\u001b[0m\u001b[0;34m(\u001b[0m\u001b[0mvalid\u001b[0m\u001b[0;34m=\u001b[0m\u001b[0;32mTrue\u001b[0m\u001b[0;34m)\u001b[0m\u001b[0;34m.\u001b[0m\u001b[0mcount\u001b[0m\u001b[0;34m(\u001b[0m\u001b[0;34m)\u001b[0m\u001b[0;34m)\u001b[0m\u001b[0;34m\u001b[0m\u001b[0;34m\u001b[0m\u001b[0m\n\u001b[0m\u001b[1;32m      4\u001b[0m \u001b[0;34m\u001b[0m\u001b[0m\n\u001b[1;32m      5\u001b[0m \u001b[0mprint\u001b[0m\u001b[0;34m(\u001b[0m\u001b[0;34m\"Experiment 1 count: {}\"\u001b[0m\u001b[0;34m.\u001b[0m\u001b[0mformat\u001b[0m\u001b[0;34m(\u001b[0m\u001b[0mSeance\u001b[0m\u001b[0;34m.\u001b[0m\u001b[0mobjects\u001b[0m\u001b[0;34m.\u001b[0m\u001b[0mfilter\u001b[0m\u001b[0;34m(\u001b[0m\u001b[0mexperiment__sequence_number\u001b[0m\u001b[0;34m=\u001b[0m\u001b[0;36m1\u001b[0m\u001b[0;34m)\u001b[0m\u001b[0;34m.\u001b[0m\u001b[0mcount\u001b[0m\u001b[0;34m(\u001b[0m\u001b[0;34m)\u001b[0m\u001b[0;34m)\u001b[0m\u001b[0;34m)\u001b[0m\u001b[0;34m\u001b[0m\u001b[0;34m\u001b[0m\u001b[0m\n",
      "\u001b[0;32m~/.virtualenvs/cabackend/lib/python3.6/site-packages/django/db/models/query.py\u001b[0m in \u001b[0;36mcount\u001b[0;34m(self)\u001b[0m\n\u001b[1;32m    381\u001b[0m             \u001b[0;32mreturn\u001b[0m \u001b[0mlen\u001b[0m\u001b[0;34m(\u001b[0m\u001b[0mself\u001b[0m\u001b[0;34m.\u001b[0m\u001b[0m_result_cache\u001b[0m\u001b[0;34m)\u001b[0m\u001b[0;34m\u001b[0m\u001b[0;34m\u001b[0m\u001b[0m\n\u001b[1;32m    382\u001b[0m \u001b[0;34m\u001b[0m\u001b[0m\n\u001b[0;32m--> 383\u001b[0;31m         \u001b[0;32mreturn\u001b[0m \u001b[0mself\u001b[0m\u001b[0;34m.\u001b[0m\u001b[0mquery\u001b[0m\u001b[0;34m.\u001b[0m\u001b[0mget_count\u001b[0m\u001b[0;34m(\u001b[0m\u001b[0musing\u001b[0m\u001b[0;34m=\u001b[0m\u001b[0mself\u001b[0m\u001b[0;34m.\u001b[0m\u001b[0mdb\u001b[0m\u001b[0;34m)\u001b[0m\u001b[0;34m\u001b[0m\u001b[0;34m\u001b[0m\u001b[0m\n\u001b[0m\u001b[1;32m    384\u001b[0m \u001b[0;34m\u001b[0m\u001b[0m\n\u001b[1;32m    385\u001b[0m     \u001b[0;32mdef\u001b[0m \u001b[0mget\u001b[0m\u001b[0;34m(\u001b[0m\u001b[0mself\u001b[0m\u001b[0;34m,\u001b[0m \u001b[0;34m*\u001b[0m\u001b[0margs\u001b[0m\u001b[0;34m,\u001b[0m \u001b[0;34m**\u001b[0m\u001b[0mkwargs\u001b[0m\u001b[0;34m)\u001b[0m\u001b[0;34m:\u001b[0m\u001b[0;34m\u001b[0m\u001b[0;34m\u001b[0m\u001b[0m\n",
      "\u001b[0;32m~/.virtualenvs/cabackend/lib/python3.6/site-packages/django/db/models/sql/query.py\u001b[0m in \u001b[0;36mget_count\u001b[0;34m(self, using)\u001b[0m\n\u001b[1;32m    496\u001b[0m         \u001b[0mobj\u001b[0m \u001b[0;34m=\u001b[0m \u001b[0mself\u001b[0m\u001b[0;34m.\u001b[0m\u001b[0mclone\u001b[0m\u001b[0;34m(\u001b[0m\u001b[0;34m)\u001b[0m\u001b[0;34m\u001b[0m\u001b[0;34m\u001b[0m\u001b[0m\n\u001b[1;32m    497\u001b[0m         \u001b[0mobj\u001b[0m\u001b[0;34m.\u001b[0m\u001b[0madd_annotation\u001b[0m\u001b[0;34m(\u001b[0m\u001b[0mCount\u001b[0m\u001b[0;34m(\u001b[0m\u001b[0;34m'*'\u001b[0m\u001b[0;34m)\u001b[0m\u001b[0;34m,\u001b[0m \u001b[0malias\u001b[0m\u001b[0;34m=\u001b[0m\u001b[0;34m'__count'\u001b[0m\u001b[0;34m,\u001b[0m \u001b[0mis_summary\u001b[0m\u001b[0;34m=\u001b[0m\u001b[0;32mTrue\u001b[0m\u001b[0;34m)\u001b[0m\u001b[0;34m\u001b[0m\u001b[0;34m\u001b[0m\u001b[0m\n\u001b[0;32m--> 498\u001b[0;31m         \u001b[0mnumber\u001b[0m \u001b[0;34m=\u001b[0m \u001b[0mobj\u001b[0m\u001b[0;34m.\u001b[0m\u001b[0mget_aggregation\u001b[0m\u001b[0;34m(\u001b[0m\u001b[0musing\u001b[0m\u001b[0;34m,\u001b[0m \u001b[0;34m[\u001b[0m\u001b[0;34m'__count'\u001b[0m\u001b[0;34m]\u001b[0m\u001b[0;34m)\u001b[0m\u001b[0;34m[\u001b[0m\u001b[0;34m'__count'\u001b[0m\u001b[0;34m]\u001b[0m\u001b[0;34m\u001b[0m\u001b[0;34m\u001b[0m\u001b[0m\n\u001b[0m\u001b[1;32m    499\u001b[0m         \u001b[0;32mif\u001b[0m \u001b[0mnumber\u001b[0m \u001b[0;32mis\u001b[0m \u001b[0;32mNone\u001b[0m\u001b[0;34m:\u001b[0m\u001b[0;34m\u001b[0m\u001b[0;34m\u001b[0m\u001b[0m\n\u001b[1;32m    500\u001b[0m             \u001b[0mnumber\u001b[0m \u001b[0;34m=\u001b[0m \u001b[0;36m0\u001b[0m\u001b[0;34m\u001b[0m\u001b[0;34m\u001b[0m\u001b[0m\n",
      "\u001b[0;32m~/.virtualenvs/cabackend/lib/python3.6/site-packages/django/db/models/sql/query.py\u001b[0m in \u001b[0;36mget_aggregation\u001b[0;34m(self, using, added_aggregate_names)\u001b[0m\n\u001b[1;32m    481\u001b[0m         \u001b[0mouter_query\u001b[0m\u001b[0;34m.\u001b[0m\u001b[0mselect_related\u001b[0m \u001b[0;34m=\u001b[0m \u001b[0;32mFalse\u001b[0m\u001b[0;34m\u001b[0m\u001b[0;34m\u001b[0m\u001b[0m\n\u001b[1;32m    482\u001b[0m         \u001b[0mcompiler\u001b[0m \u001b[0;34m=\u001b[0m \u001b[0mouter_query\u001b[0m\u001b[0;34m.\u001b[0m\u001b[0mget_compiler\u001b[0m\u001b[0;34m(\u001b[0m\u001b[0musing\u001b[0m\u001b[0;34m)\u001b[0m\u001b[0;34m\u001b[0m\u001b[0;34m\u001b[0m\u001b[0m\n\u001b[0;32m--> 483\u001b[0;31m         \u001b[0mresult\u001b[0m \u001b[0;34m=\u001b[0m \u001b[0mcompiler\u001b[0m\u001b[0;34m.\u001b[0m\u001b[0mexecute_sql\u001b[0m\u001b[0;34m(\u001b[0m\u001b[0mSINGLE\u001b[0m\u001b[0;34m)\u001b[0m\u001b[0;34m\u001b[0m\u001b[0;34m\u001b[0m\u001b[0m\n\u001b[0m\u001b[1;32m    484\u001b[0m         \u001b[0;32mif\u001b[0m \u001b[0mresult\u001b[0m \u001b[0;32mis\u001b[0m \u001b[0;32mNone\u001b[0m\u001b[0;34m:\u001b[0m\u001b[0;34m\u001b[0m\u001b[0;34m\u001b[0m\u001b[0m\n\u001b[1;32m    485\u001b[0m             \u001b[0mresult\u001b[0m \u001b[0;34m=\u001b[0m \u001b[0;34m[\u001b[0m\u001b[0;32mNone\u001b[0m\u001b[0;34m]\u001b[0m \u001b[0;34m*\u001b[0m \u001b[0mlen\u001b[0m\u001b[0;34m(\u001b[0m\u001b[0mouter_query\u001b[0m\u001b[0;34m.\u001b[0m\u001b[0mannotation_select\u001b[0m\u001b[0;34m)\u001b[0m\u001b[0;34m\u001b[0m\u001b[0;34m\u001b[0m\u001b[0m\n",
      "\u001b[0;32m~/.virtualenvs/cabackend/lib/python3.6/site-packages/django/db/models/sql/compiler.py\u001b[0m in \u001b[0;36mexecute_sql\u001b[0;34m(self, result_type, chunked_fetch, chunk_size)\u001b[0m\n\u001b[1;32m   1061\u001b[0m             \u001b[0mcursor\u001b[0m \u001b[0;34m=\u001b[0m \u001b[0mself\u001b[0m\u001b[0;34m.\u001b[0m\u001b[0mconnection\u001b[0m\u001b[0;34m.\u001b[0m\u001b[0mchunked_cursor\u001b[0m\u001b[0;34m(\u001b[0m\u001b[0;34m)\u001b[0m\u001b[0;34m\u001b[0m\u001b[0;34m\u001b[0m\u001b[0m\n\u001b[1;32m   1062\u001b[0m         \u001b[0;32melse\u001b[0m\u001b[0;34m:\u001b[0m\u001b[0;34m\u001b[0m\u001b[0;34m\u001b[0m\u001b[0m\n\u001b[0;32m-> 1063\u001b[0;31m             \u001b[0mcursor\u001b[0m \u001b[0;34m=\u001b[0m \u001b[0mself\u001b[0m\u001b[0;34m.\u001b[0m\u001b[0mconnection\u001b[0m\u001b[0;34m.\u001b[0m\u001b[0mcursor\u001b[0m\u001b[0;34m(\u001b[0m\u001b[0;34m)\u001b[0m\u001b[0;34m\u001b[0m\u001b[0;34m\u001b[0m\u001b[0m\n\u001b[0m\u001b[1;32m   1064\u001b[0m         \u001b[0;32mtry\u001b[0m\u001b[0;34m:\u001b[0m\u001b[0;34m\u001b[0m\u001b[0;34m\u001b[0m\u001b[0m\n\u001b[1;32m   1065\u001b[0m             \u001b[0mcursor\u001b[0m\u001b[0;34m.\u001b[0m\u001b[0mexecute\u001b[0m\u001b[0;34m(\u001b[0m\u001b[0msql\u001b[0m\u001b[0;34m,\u001b[0m \u001b[0mparams\u001b[0m\u001b[0;34m)\u001b[0m\u001b[0;34m\u001b[0m\u001b[0;34m\u001b[0m\u001b[0m\n",
      "\u001b[0;32m~/.virtualenvs/cabackend/lib/python3.6/site-packages/django/db/backends/base/base.py\u001b[0m in \u001b[0;36mcursor\u001b[0;34m(self)\u001b[0m\n\u001b[1;32m    253\u001b[0m     \u001b[0;32mdef\u001b[0m \u001b[0mcursor\u001b[0m\u001b[0;34m(\u001b[0m\u001b[0mself\u001b[0m\u001b[0;34m)\u001b[0m\u001b[0;34m:\u001b[0m\u001b[0;34m\u001b[0m\u001b[0;34m\u001b[0m\u001b[0m\n\u001b[1;32m    254\u001b[0m         \u001b[0;34m\"\"\"Create a cursor, opening a connection if necessary.\"\"\"\u001b[0m\u001b[0;34m\u001b[0m\u001b[0;34m\u001b[0m\u001b[0m\n\u001b[0;32m--> 255\u001b[0;31m         \u001b[0;32mreturn\u001b[0m \u001b[0mself\u001b[0m\u001b[0;34m.\u001b[0m\u001b[0m_cursor\u001b[0m\u001b[0;34m(\u001b[0m\u001b[0;34m)\u001b[0m\u001b[0;34m\u001b[0m\u001b[0;34m\u001b[0m\u001b[0m\n\u001b[0m\u001b[1;32m    256\u001b[0m \u001b[0;34m\u001b[0m\u001b[0m\n\u001b[1;32m    257\u001b[0m     \u001b[0;32mdef\u001b[0m \u001b[0mcommit\u001b[0m\u001b[0;34m(\u001b[0m\u001b[0mself\u001b[0m\u001b[0;34m)\u001b[0m\u001b[0;34m:\u001b[0m\u001b[0;34m\u001b[0m\u001b[0;34m\u001b[0m\u001b[0m\n",
      "\u001b[0;32m~/.virtualenvs/cabackend/lib/python3.6/site-packages/django/db/backends/base/base.py\u001b[0m in \u001b[0;36m_cursor\u001b[0;34m(self, name)\u001b[0m\n\u001b[1;32m    232\u001b[0m         \u001b[0mself\u001b[0m\u001b[0;34m.\u001b[0m\u001b[0mensure_connection\u001b[0m\u001b[0;34m(\u001b[0m\u001b[0;34m)\u001b[0m\u001b[0;34m\u001b[0m\u001b[0;34m\u001b[0m\u001b[0m\n\u001b[1;32m    233\u001b[0m         \u001b[0;32mwith\u001b[0m \u001b[0mself\u001b[0m\u001b[0;34m.\u001b[0m\u001b[0mwrap_database_errors\u001b[0m\u001b[0;34m:\u001b[0m\u001b[0;34m\u001b[0m\u001b[0;34m\u001b[0m\u001b[0m\n\u001b[0;32m--> 234\u001b[0;31m             \u001b[0;32mreturn\u001b[0m \u001b[0mself\u001b[0m\u001b[0;34m.\u001b[0m\u001b[0m_prepare_cursor\u001b[0m\u001b[0;34m(\u001b[0m\u001b[0mself\u001b[0m\u001b[0;34m.\u001b[0m\u001b[0mcreate_cursor\u001b[0m\u001b[0;34m(\u001b[0m\u001b[0mname\u001b[0m\u001b[0;34m)\u001b[0m\u001b[0;34m)\u001b[0m\u001b[0;34m\u001b[0m\u001b[0;34m\u001b[0m\u001b[0m\n\u001b[0m\u001b[1;32m    235\u001b[0m \u001b[0;34m\u001b[0m\u001b[0m\n\u001b[1;32m    236\u001b[0m     \u001b[0;32mdef\u001b[0m \u001b[0m_commit\u001b[0m\u001b[0;34m(\u001b[0m\u001b[0mself\u001b[0m\u001b[0;34m)\u001b[0m\u001b[0;34m:\u001b[0m\u001b[0;34m\u001b[0m\u001b[0;34m\u001b[0m\u001b[0m\n",
      "\u001b[0;32m~/.virtualenvs/cabackend/lib/python3.6/site-packages/django/db/utils.py\u001b[0m in \u001b[0;36m__exit__\u001b[0;34m(self, exc_type, exc_value, traceback)\u001b[0m\n\u001b[1;32m     87\u001b[0m                 \u001b[0;32mif\u001b[0m \u001b[0mdj_exc_type\u001b[0m \u001b[0;32mnot\u001b[0m \u001b[0;32min\u001b[0m \u001b[0;34m(\u001b[0m\u001b[0mDataError\u001b[0m\u001b[0;34m,\u001b[0m \u001b[0mIntegrityError\u001b[0m\u001b[0;34m)\u001b[0m\u001b[0;34m:\u001b[0m\u001b[0;34m\u001b[0m\u001b[0;34m\u001b[0m\u001b[0m\n\u001b[1;32m     88\u001b[0m                     \u001b[0mself\u001b[0m\u001b[0;34m.\u001b[0m\u001b[0mwrapper\u001b[0m\u001b[0;34m.\u001b[0m\u001b[0merrors_occurred\u001b[0m \u001b[0;34m=\u001b[0m \u001b[0;32mTrue\u001b[0m\u001b[0;34m\u001b[0m\u001b[0;34m\u001b[0m\u001b[0m\n\u001b[0;32m---> 89\u001b[0;31m                 \u001b[0;32mraise\u001b[0m \u001b[0mdj_exc_value\u001b[0m\u001b[0;34m.\u001b[0m\u001b[0mwith_traceback\u001b[0m\u001b[0;34m(\u001b[0m\u001b[0mtraceback\u001b[0m\u001b[0;34m)\u001b[0m \u001b[0;32mfrom\u001b[0m \u001b[0mexc_value\u001b[0m\u001b[0;34m\u001b[0m\u001b[0;34m\u001b[0m\u001b[0m\n\u001b[0m\u001b[1;32m     90\u001b[0m \u001b[0;34m\u001b[0m\u001b[0m\n\u001b[1;32m     91\u001b[0m     \u001b[0;32mdef\u001b[0m \u001b[0m__call__\u001b[0m\u001b[0;34m(\u001b[0m\u001b[0mself\u001b[0m\u001b[0;34m,\u001b[0m \u001b[0mfunc\u001b[0m\u001b[0;34m)\u001b[0m\u001b[0;34m:\u001b[0m\u001b[0;34m\u001b[0m\u001b[0;34m\u001b[0m\u001b[0m\n",
      "\u001b[0;32m~/.virtualenvs/cabackend/lib/python3.6/site-packages/django/db/backends/base/base.py\u001b[0m in \u001b[0;36m_cursor\u001b[0;34m(self, name)\u001b[0m\n\u001b[1;32m    232\u001b[0m         \u001b[0mself\u001b[0m\u001b[0;34m.\u001b[0m\u001b[0mensure_connection\u001b[0m\u001b[0;34m(\u001b[0m\u001b[0;34m)\u001b[0m\u001b[0;34m\u001b[0m\u001b[0;34m\u001b[0m\u001b[0m\n\u001b[1;32m    233\u001b[0m         \u001b[0;32mwith\u001b[0m \u001b[0mself\u001b[0m\u001b[0;34m.\u001b[0m\u001b[0mwrap_database_errors\u001b[0m\u001b[0;34m:\u001b[0m\u001b[0;34m\u001b[0m\u001b[0;34m\u001b[0m\u001b[0m\n\u001b[0;32m--> 234\u001b[0;31m             \u001b[0;32mreturn\u001b[0m \u001b[0mself\u001b[0m\u001b[0;34m.\u001b[0m\u001b[0m_prepare_cursor\u001b[0m\u001b[0;34m(\u001b[0m\u001b[0mself\u001b[0m\u001b[0;34m.\u001b[0m\u001b[0mcreate_cursor\u001b[0m\u001b[0;34m(\u001b[0m\u001b[0mname\u001b[0m\u001b[0;34m)\u001b[0m\u001b[0;34m)\u001b[0m\u001b[0;34m\u001b[0m\u001b[0;34m\u001b[0m\u001b[0m\n\u001b[0m\u001b[1;32m    235\u001b[0m \u001b[0;34m\u001b[0m\u001b[0m\n\u001b[1;32m    236\u001b[0m     \u001b[0;32mdef\u001b[0m \u001b[0m_commit\u001b[0m\u001b[0;34m(\u001b[0m\u001b[0mself\u001b[0m\u001b[0;34m)\u001b[0m\u001b[0;34m:\u001b[0m\u001b[0;34m\u001b[0m\u001b[0;34m\u001b[0m\u001b[0m\n",
      "\u001b[0;32m~/.virtualenvs/cabackend/lib/python3.6/site-packages/django/db/backends/postgresql/base.py\u001b[0m in \u001b[0;36mcreate_cursor\u001b[0;34m(self, name)\u001b[0m\n\u001b[1;32m    220\u001b[0m             \u001b[0mcursor\u001b[0m \u001b[0;34m=\u001b[0m \u001b[0mself\u001b[0m\u001b[0;34m.\u001b[0m\u001b[0mconnection\u001b[0m\u001b[0;34m.\u001b[0m\u001b[0mcursor\u001b[0m\u001b[0;34m(\u001b[0m\u001b[0mname\u001b[0m\u001b[0;34m,\u001b[0m \u001b[0mscrollable\u001b[0m\u001b[0;34m=\u001b[0m\u001b[0;32mFalse\u001b[0m\u001b[0;34m,\u001b[0m \u001b[0mwithhold\u001b[0m\u001b[0;34m=\u001b[0m\u001b[0mself\u001b[0m\u001b[0;34m.\u001b[0m\u001b[0mconnection\u001b[0m\u001b[0;34m.\u001b[0m\u001b[0mautocommit\u001b[0m\u001b[0;34m)\u001b[0m\u001b[0;34m\u001b[0m\u001b[0;34m\u001b[0m\u001b[0m\n\u001b[1;32m    221\u001b[0m         \u001b[0;32melse\u001b[0m\u001b[0;34m:\u001b[0m\u001b[0;34m\u001b[0m\u001b[0;34m\u001b[0m\u001b[0m\n\u001b[0;32m--> 222\u001b[0;31m             \u001b[0mcursor\u001b[0m \u001b[0;34m=\u001b[0m \u001b[0mself\u001b[0m\u001b[0;34m.\u001b[0m\u001b[0mconnection\u001b[0m\u001b[0;34m.\u001b[0m\u001b[0mcursor\u001b[0m\u001b[0;34m(\u001b[0m\u001b[0;34m)\u001b[0m\u001b[0;34m\u001b[0m\u001b[0;34m\u001b[0m\u001b[0m\n\u001b[0m\u001b[1;32m    223\u001b[0m         \u001b[0mcursor\u001b[0m\u001b[0;34m.\u001b[0m\u001b[0mtzinfo_factory\u001b[0m \u001b[0;34m=\u001b[0m \u001b[0mutc_tzinfo_factory\u001b[0m \u001b[0;32mif\u001b[0m \u001b[0msettings\u001b[0m\u001b[0;34m.\u001b[0m\u001b[0mUSE_TZ\u001b[0m \u001b[0;32melse\u001b[0m \u001b[0;32mNone\u001b[0m\u001b[0;34m\u001b[0m\u001b[0;34m\u001b[0m\u001b[0m\n\u001b[1;32m    224\u001b[0m         \u001b[0;32mreturn\u001b[0m \u001b[0mcursor\u001b[0m\u001b[0;34m\u001b[0m\u001b[0;34m\u001b[0m\u001b[0m\n",
      "\u001b[0;31mInterfaceError\u001b[0m: connection already closed"
     ]
    }
   ],
   "source": [
    "from seances.models import Seance\n",
    "print(\"Number of completed seances:\")\n",
    "print(Seance.objects.filter(valid=True).count())\n",
    "    \n",
    "print(\"Experiment 1 count: {}\".format(Seance.objects.filter(experiment__sequence_number=1).count()))\n",
    "print(\"Experiment 2 count: {}\".format(Seance.objects.filter(experiment__sequence_number=2).count()))\n",
    "print(\"Experiment 3 count: {}\".format(Seance.objects.filter(experiment__sequence_number=3).count()))\n"
   ]
  },
  {
   "cell_type": "code",
   "execution_count": null,
   "metadata": {
    "scrolled": true
   },
   "outputs": [],
   "source": [
    "# Loading the data from the db\n",
    "# should we use Influx and interpolated data (probably not)?\n",
    "# it will take some time to calculate all features for everyone.\n",
    "\n",
    "from numpy import mean, std\n",
    "from sklearn.preprocessing import normalize\n",
    "\n",
    "def load_data(username, seance_num, sens):\n",
    "    try:\n",
    "        seance = Seance.objects.filter(user__username=username, valid=True).order_by('created')[seance_num]\n",
    "    except IndexError:\n",
    "        print(\"Invalid seance id.\")\n",
    "        return\n",
    "    if sens == \"accelerometer\":\n",
    "        sensor_ids = [60,61,62]\n",
    "        sensors = Sensor.objects.filter(id__in=sensor_ids).order_by('id')\n",
    "        return (\n",
    "                SensorRecord.objects.filter(seance=seance, sensor=sensors[0]).order_by(\"created\"), \n",
    "                SensorRecord.objects.filter(seance=seance, sensor=sensors[1]).order_by(\"created\"), \n",
    "                SensorRecord.objects.filter(seance=seance, sensor=sensors[2]).order_by(\"created\")\n",
    "        )\n",
    "    elif sens == \"gyroscope\":\n",
    "        sensor_ids = [63,64,65]\n",
    "        sensors = Sensor.objects.filter(id__in=sensor_ids).order_by('id')\n",
    "        return (\n",
    "                SensorRecord.objects.filter(seance=seance, sensor=sensors[0]).order_by(\"created\"), \n",
    "                SensorRecord.objects.filter(seance=seance, sensor=sensors[1]).order_by(\"created\"), \n",
    "                SensorRecord.objects.filter(seance=seance, sensor=sensors[2]).order_by(\"created\")\n",
    "        )\n",
    "    elif sens == \"force\":\n",
    "        sensor_ids = [54,55,76,77]\n",
    "        sensors = Sensor.objects.filter(id__in=sensor_ids).order_by('topic')\n",
    "        return (\n",
    "                SensorRecord.objects.filter(seance=seance, sensor=sensors[0]).order_by(\"created\"), \n",
    "                SensorRecord.objects.filter(seance=seance, sensor=sensors[1]).order_by(\"created\"), \n",
    "                SensorRecord.objects.filter(seance=seance, sensor=sensors[2]).order_by(\"created\"), \n",
    "                SensorRecord.objects.filter(seance=seance, sensor=sensors[3]).order_by(\"created\")\n",
    "        )\n",
    "    elif sens == \"cpu\":\n",
    "        sensor_ids = [78,79,80,81]\n",
    "        sensors = Sensor.objects.filter(id__in=sensor_ids).order_by('topic')\n",
    "        return (\n",
    "                SensorRecord.objects.filter(seance=seance, sensor=sensors[0]).order_by(\"created\"), \n",
    "                SensorRecord.objects.filter(seance=seance, sensor=sensors[1]).order_by(\"created\"), \n",
    "                SensorRecord.objects.filter(seance=seance, sensor=sensors[2]).order_by(\"created\"), \n",
    "                SensorRecord.objects.filter(seance=seance, sensor=sensors[3]).order_by(\"created\")\n",
    "        )\n",
    "    elif sens == \"ram\":\n",
    "        sensor_ids = [82]\n",
    "        sensors = Sensor.objects.filter(id__in=sensor_ids).order_by('topic')\n",
    "        return SensorRecord.objects.filter(seance=seance, sensor=sensors[0]).order_by(\"created\")\n",
    "    elif sens == \"net\":\n",
    "        sensor_ids = [83, 84]\n",
    "        sensors = Sensor.objects.filter(id__in=sensor_ids).order_by('id')\n",
    "        return (\n",
    "            SensorRecord.objects.filter(seance=seance, sensor=sensors[0]).order_by(\"created\"),\n",
    "            SensorRecord.objects.filter(seance=seance, sensor=sensors[1]).order_by(\"created\")\n",
    "        )\n",
    "    elif sens == \"pir\":\n",
    "        sensor_ids = [58, 59, 66, 67, 68, 69]\n",
    "        sensors = Sensor.objects.filter(id__in=sensor_ids).order_by('id')\n",
    "        return (\n",
    "            SensorRecord.objects.filter(seance=seance, sensor__in=sensors).order_by(\"created\"),\n",
    "            seance.start,\n",
    "            seance.end,\n",
    "        )\n",
    "    else:\n",
    "        raise ValueError(\"Invalid sensor string.\")\n",
    "    "
   ]
  },
  {
   "cell_type": "code",
   "execution_count": 159,
   "metadata": {
    "scrolled": true
   },
   "outputs": [],
   "source": [
    "# Functions\n",
    "from scipy.signal import find_peaks\n",
    "from datetime import datetime, timedelta\n",
    "\n",
    "def process_signal(records):\n",
    "    \"\"\"\n",
    "    Take Django query and do basic signal processing.\n",
    "    \"\"\"\n",
    "    values = [x.value for x in records]\n",
    "    times = [x.timestamp for x in records]\n",
    "    m = mean(values)\n",
    "    s = std(values)\n",
    "    norm = [(x - m)/s for x in values]\n",
    "    \n",
    "    return values, times, norm, m, s\n",
    "\n",
    "def process_binary_signal(records):\n",
    "    \"\"\"\n",
    "    Take Django query with hall or pir data and return meaningful statistics.\n",
    "    \"\"\"\n",
    "    if len(records) == 0:\n",
    "        return [], []\n",
    "    values = [x.value for x in records]\n",
    "    times = [x.timestamp for x in records]\n",
    "    ids = [x.sensor_id for x in records]\n",
    "    return values, times, ids\n",
    "    \n",
    "def mean_crossing_rate(signal, m):\n",
    "    \"\"\"\n",
    "    Calculate mean crossing rate from signal.\n",
    "    Rate of mean crossings vs. the signal length.\n",
    "    \"\"\"\n",
    "    prev = signal[0]\n",
    "    crosses = 0\n",
    "    length = len(signal) - 1\n",
    "    \n",
    "    for curr in signal[1:]:\n",
    "        if prev <= m < curr or prev > m >=curr:\n",
    "            crosses += 1\n",
    "        prev = curr\n",
    "    return crosses/length\n",
    "\n",
    "def mean_acceleration_intensity(signal):\n",
    "    \"\"\"\n",
    "    Mean derivative of a signal.\n",
    "    \"\"\"\n",
    "    prev = signal[0]\n",
    "    length = len(signal) - 1\n",
    "    derv = []\n",
    "    \n",
    "    for curr in signal[1:]:\n",
    "        derv.append(abs(curr - prev))\n",
    "        prev = curr\n",
    "        \n",
    "    return mean(derv)\n",
    "    \n",
    "    \n",
    "def find_typing_start_and_stop(signal):\n",
    "    \"\"\"\n",
    "    Find the two peaks that are present in the signal.\n",
    "    (specific for experiment 1)\n",
    "    \"\"\"\n",
    "    peaks_id = [0,1]\n",
    "    for i in range(2, len(signal)):\n",
    "        x = abs(signal[i])\n",
    "        if x > signal[peaks_id[0]]:\n",
    "            peaks_id[0] = i\n",
    "            continue\n",
    "        if x > signal[peaks_id[1]]:\n",
    "            peaks_id[1] = i\n",
    "    print(signal[peaks_id[0]])\n",
    "    print(signal[peaks_id[1]])\n",
    "    \n",
    "\n",
    "def create_time_chunks(start: datetime, end: datetime, interval: timedelta):\n",
    "    \"\"\"\n",
    "    Create a list of time intervals for given parameters.\n",
    "    \"\"\"\n",
    "    intervals = []\n",
    "    while start < end:\n",
    "        intervals.append((start, min(start + interval, end)))\n",
    "        start += interval\n",
    "    return intervals\n",
    "    "
   ]
  },
  {
   "cell_type": "markdown",
   "metadata": {},
   "source": [
    "# Accelerometer data overview"
   ]
  },
  {
   "cell_type": "code",
   "execution_count": 142,
   "metadata": {
    "scrolled": true
   },
   "outputs": [],
   "source": [
    "x_val_1, y_val_1, z_val_1 = load_data(\"test_subject_01\", 0, \"accelerometer\")\n",
    "x_val_2, y_val_2, z_val_2 = load_data(\"test_subject_02\", 0, \"accelerometer\")\n",
    "x_val_3, y_val_3, z_val_3 = load_data(\"test_subject_03\", 0, \"accelerometer\")\n",
    "x_val_4, y_val_4, z_val_4 = load_data(\"test_subject_04\", 0, \"accelerometer\")\n",
    "\n",
    "x_val_1, x_tim_1, x_nor_1, x_m_1, x_s_1 = process_signal(x_val_1)\n",
    "y_val_1, y_tim_1, y_nor_1, y_m_1, y_s_1 = process_signal(y_val_1)\n",
    "z_val_1, z_tim_1, z_nor_1, z_m_1, z_s_1 = process_signal(z_val_1)\n",
    "\n",
    "x_val_2, x_tim_2, x_nor_2, x_m_2, x_s_2 = process_signal(x_val_2)\n",
    "y_val_2, y_tim_2, y_nor_2, y_m_2, y_s_2 = process_signal(y_val_2)\n",
    "z_val_2, z_tim_2, z_nor_2, z_m_2, z_s_2 = process_signal(z_val_2)\n",
    "\n",
    "x_val_3, x_tim_3, x_nor_3, x_m_3, x_s_3 = process_signal(x_val_3)\n",
    "y_val_3, y_tim_3, y_nor_3, y_m_3, y_s_3 = process_signal(y_val_3)\n",
    "z_val_3, z_tim_3, z_nor_3, z_m_3, z_s_3 = process_signal(z_val_3)\n",
    "\n",
    "x_val_4, x_tim_4, x_nor_4, x_m_4, x_s_4 = process_signal(x_val_4)\n",
    "y_val_4, y_tim_4, y_nor_4, y_m_4, y_s_4 = process_signal(y_val_4)\n",
    "z_val_4, z_tim_4, z_nor_4, z_m_4, z_s_4 = process_signal(z_val_4)"
   ]
  },
  {
   "cell_type": "markdown",
   "metadata": {},
   "source": [
    "## Mean crossing rate on a single signal\n",
    "- how to merge signals into one?\n",
    "- interpolation to achieve a static sampling interval?\n",
    "- mean crossing rate for time chunks as a vector?\n",
    "- use time warping on values?"
   ]
  },
  {
   "cell_type": "code",
   "execution_count": 143,
   "metadata": {
    "scrolled": true
   },
   "outputs": [
    {
     "name": "stdout",
     "output_type": "stream",
     "text": [
      "X mean crossing rate:\n",
      "0.41755978026712626\n",
      "0.22630066172606472\n",
      "0.39876727479678287\n",
      "0.22855036282968347\n",
      "\n",
      "Y mean crossing rate:\n",
      "0.39735028005170187\n",
      "0.35534260679314894\n",
      "0.4726448827944635\n",
      "0.23297718218036942\n",
      "\n",
      "Z mean crossing rate:\n",
      "0.411851034037053\n",
      "0.4376454563979365\n",
      "0.45526002126128834\n",
      "0.44841413566513166\n"
     ]
    }
   ],
   "source": [
    "print(\"X mean crossing rate:\")\n",
    "print(mean_crossing_rate(x_val_1, x_m_1))\n",
    "print(mean_crossing_rate(x_val_2, x_m_2))\n",
    "print(mean_crossing_rate(x_val_3, x_m_3))\n",
    "print(mean_crossing_rate(x_val_4, x_m_4))\n",
    "print()\n",
    "print(\"Y mean crossing rate:\")\n",
    "print(mean_crossing_rate(y_val_1, y_m_1))\n",
    "print(mean_crossing_rate(y_val_2, y_m_2))\n",
    "print(mean_crossing_rate(y_val_3, y_m_3))\n",
    "print(mean_crossing_rate(y_val_4, y_m_4))\n",
    "print()\n",
    "print(\"Z mean crossing rate:\")\n",
    "print(mean_crossing_rate(z_val_1, z_m_1))\n",
    "print(mean_crossing_rate(z_val_2, z_m_2))\n",
    "print(mean_crossing_rate(z_val_3, z_m_3))\n",
    "print(mean_crossing_rate(z_val_4, z_m_4))"
   ]
  },
  {
   "cell_type": "markdown",
   "metadata": {},
   "source": [
    "## Mean acceleration intensity on a single signal\n",
    "- Calculated by taking the mean derivative of a signal."
   ]
  },
  {
   "cell_type": "code",
   "execution_count": 144,
   "metadata": {
    "scrolled": true
   },
   "outputs": [
    {
     "name": "stdout",
     "output_type": "stream",
     "text": [
      "X mean acceleration intensity:\n",
      "0.010863245906936667\n",
      "0.008716283609141902\n",
      "0.008438798629828085\n",
      "0.008669883196005639\n",
      "\n",
      "Y mean acceleration intensity:\n",
      "0.008125740521327016\n",
      "0.007799734022586631\n",
      "0.008014431904818153\n",
      "0.009671702799192841\n",
      "\n",
      "Z mean acceleration intensity:\n",
      "0.03960334984920293\n",
      "0.0294240731008891\n",
      "0.03078752671083574\n",
      "0.03911613287111295\n"
     ]
    }
   ],
   "source": [
    "print(\"X mean acceleration intensity:\")\n",
    "print(mean_acceleration_intensity(x_val_1))\n",
    "print(mean_acceleration_intensity(x_val_2))\n",
    "print(mean_acceleration_intensity(x_val_3))\n",
    "print(mean_acceleration_intensity(x_val_4))\n",
    "print()\n",
    "print(\"Y mean acceleration intensity:\")\n",
    "print(mean_acceleration_intensity(y_val_1))\n",
    "print(mean_acceleration_intensity(y_val_2))\n",
    "print(mean_acceleration_intensity(y_val_3))\n",
    "print(mean_acceleration_intensity(y_val_4))\n",
    "print()\n",
    "print(\"Z mean acceleration intensity:\")\n",
    "print(mean_acceleration_intensity(z_val_1))\n",
    "print(mean_acceleration_intensity(z_val_2))\n",
    "print(mean_acceleration_intensity(z_val_3))\n",
    "print(mean_acceleration_intensity(z_val_4))"
   ]
  },
  {
   "cell_type": "code",
   "execution_count": null,
   "metadata": {
    "scrolled": true
   },
   "outputs": [],
   "source": []
  },
  {
   "cell_type": "code",
   "execution_count": 145,
   "metadata": {
    "scrolled": true
   },
   "outputs": [
    {
     "ename": "NameError",
     "evalue": "name 'x_val' is not defined",
     "output_type": "error",
     "traceback": [
      "\u001b[0;31m-----------\u001b[0m",
      "\u001b[0;31mNameError\u001b[0mTraceback (most recent call last)",
      "\u001b[0;32m<ipython-input-145-77082724dfa6>\u001b[0m in \u001b[0;36m<module>\u001b[0;34m\u001b[0m\n\u001b[0;32m----> 1\u001b[0;31m \u001b[0mfind_peaks\u001b[0m\u001b[0;34m(\u001b[0m\u001b[0mx_val\u001b[0m\u001b[0;34m,\u001b[0m \u001b[0mthreshold\u001b[0m\u001b[0;34m=\u001b[0m\u001b[0;36m0.2\u001b[0m\u001b[0;34m)\u001b[0m\u001b[0;34m\u001b[0m\u001b[0;34m\u001b[0m\u001b[0m\n\u001b[0m\u001b[1;32m      2\u001b[0m \u001b[0mfind_peaks\u001b[0m\u001b[0;34m(\u001b[0m\u001b[0my_val\u001b[0m\u001b[0;34m,\u001b[0m \u001b[0mthreshold\u001b[0m\u001b[0;34m=\u001b[0m\u001b[0;36m0.2\u001b[0m\u001b[0;34m)\u001b[0m\u001b[0;34m\u001b[0m\u001b[0;34m\u001b[0m\u001b[0m\n\u001b[1;32m      3\u001b[0m \u001b[0mfind_peaks\u001b[0m\u001b[0;34m(\u001b[0m\u001b[0mz_val\u001b[0m\u001b[0;34m,\u001b[0m \u001b[0mthreshold\u001b[0m\u001b[0;34m=\u001b[0m\u001b[0;36m0.2\u001b[0m\u001b[0;34m)\u001b[0m\u001b[0;34m\u001b[0m\u001b[0;34m\u001b[0m\u001b[0m\n\u001b[1;32m      4\u001b[0m \u001b[0;34m\u001b[0m\u001b[0m\n\u001b[1;32m      5\u001b[0m \u001b[0;34m\u001b[0m\u001b[0m\n",
      "\u001b[0;31mNameError\u001b[0m: name 'x_val' is not defined"
     ]
    }
   ],
   "source": [
    "find_peaks(x_val, threshold=0.2)\n",
    "find_peaks(y_val, threshold=0.2)\n",
    "find_peaks(z_val, threshold=0.2)\n",
    "\n",
    "\n",
    "# find_typing_start_and_stop(x_val)\n",
    "# print()\n",
    "# find_typing_start_and_stop(y_val)\n",
    "# print()\n",
    "# find_typing_start_and_stop(z_val)"
   ]
  },
  {
   "cell_type": "markdown",
   "metadata": {},
   "source": [
    "## Dynamic type warping example"
   ]
  },
  {
   "cell_type": "code",
   "execution_count": 146,
   "metadata": {
    "scrolled": true
   },
   "outputs": [
    {
     "name": "stdout",
     "output_type": "stream",
     "text": [
      "2.8284271247461903\n",
      "[(0, 0), (1, 0), (2, 1), (2, 2), (3, 3), (4, 3)]\n"
     ]
    }
   ],
   "source": [
    "import numpy as np\n",
    "from scipy.spatial.distance import euclidean\n",
    "\n",
    "from fastdtw import fastdtw\n",
    "\n",
    "x = np.array([[1,1], [2,2], [3,3], [4,4], [5,5]])\n",
    "y = np.array([[2,2], [3,3], [3,3], [4,4]])\n",
    "\n",
    "distance, path = fastdtw(x, y, dist=euclidean)\n",
    "print(distance)\n",
    "print(path)\n"
   ]
  },
  {
   "cell_type": "markdown",
   "metadata": {},
   "source": [
    "# Gyroscope data overview"
   ]
  },
  {
   "cell_type": "code",
   "execution_count": 147,
   "metadata": {
    "scrolled": true
   },
   "outputs": [],
   "source": [
    "x_val_1_g, y_val_1_g, z_val_1_g = load_data(\"test_subject_01\", 0, \"gyroscope\")\n",
    "x_val_2_g, y_val_2_g, z_val_2_g = load_data(\"test_subject_02\", 0, \"gyroscope\")\n",
    "x_val_3_g, y_val_3_g, z_val_3_g = load_data(\"test_subject_03\", 0, \"gyroscope\")\n",
    "x_val_4_g, y_val_4_g, z_val_4_g = load_data(\"test_subject_04\", 0, \"gyroscope\")\n",
    "\n",
    "x_val_1_g, x_tim_1_g, x_nor_1_g, x_m_1_g, x_s_1_g = process_signal(x_val_1_g)\n",
    "y_val_1_g, y_tim_1_g, y_nor_1_g, y_m_1_g, y_s_1_g = process_signal(y_val_1_g)\n",
    "z_val_1_g, z_tim_1_g, z_nor_1_g, z_m_1_g, z_s_1_g = process_signal(z_val_1_g)\n",
    "\n",
    "x_val_2_g, x_tim_2_g, x_nor_2_g, x_m_2_g, x_s_2_g = process_signal(x_val_2_g)\n",
    "y_val_2_g, y_tim_2_g, y_nor_2_g, y_m_2_g, y_s_2_g = process_signal(y_val_2_g)\n",
    "z_val_2_g, z_tim_2_g, z_nor_2_g, z_m_2_g, z_s_2_g = process_signal(z_val_2_g)\n",
    "\n",
    "x_val_3_g, x_tim_3_g, x_nor_3_g, x_m_3_g, x_s_3_g = process_signal(x_val_3_g)\n",
    "y_val_3_g, y_tim_3_g, y_nor_3_g, y_m_3_g, y_s_3_g = process_signal(y_val_3_g)\n",
    "z_val_3_g, z_tim_3_g, z_nor_3_g, z_m_3_g, z_s_3_g = process_signal(z_val_3_g)\n",
    "\n",
    "x_val_4_g, x_tim_4_g, x_nor_4_g, x_m_4_g, x_s_4_g = process_signal(x_val_4_g)\n",
    "y_val_4_g, y_tim_4_g, y_nor_4_g, y_m_4_g, y_s_4_g = process_signal(y_val_4_g)\n",
    "z_val_4_g, z_tim_4_g, z_nor_4_g, z_m_4_g, z_s_4_g = process_signal(z_val_4_g)"
   ]
  },
  {
   "cell_type": "markdown",
   "metadata": {},
   "source": [
    "## Mean crossing rate"
   ]
  },
  {
   "cell_type": "code",
   "execution_count": 148,
   "metadata": {
    "scrolled": true
   },
   "outputs": [
    {
     "name": "stdout",
     "output_type": "stream",
     "text": [
      "X mean crossing rate:\n",
      "0.4932477919000431\n",
      "0.46970753209425037\n",
      "0.44458642498953044\n",
      "0.5183292802814715\n",
      "\n",
      "Y mean crossing rate:\n",
      "0.45126696467040067\n",
      "0.4208931693139284\n",
      "0.45349898525669247\n",
      "0.4554121177627154\n",
      "\n",
      "Z mean crossing rate:\n",
      "0.4975360835846618\n",
      "0.4946697268369065\n",
      "0.5089878229495522\n",
      "0.4985771200910643\n"
     ]
    }
   ],
   "source": [
    "print(\"X mean crossing rate:\")\n",
    "print(mean_crossing_rate(x_val_1_g, x_m_1_g))\n",
    "print(mean_crossing_rate(x_val_2_g, x_m_2_g))\n",
    "print(mean_crossing_rate(x_val_3_g, x_m_3_g))\n",
    "print(mean_crossing_rate(x_val_4_g, x_m_4_g))\n",
    "print()\n",
    "print(\"Y mean crossing rate:\")\n",
    "print(mean_crossing_rate(y_val_1_g, y_m_1_g))\n",
    "print(mean_crossing_rate(y_val_2_g, y_m_2_g))\n",
    "print(mean_crossing_rate(y_val_3_g, y_m_3_g))\n",
    "print(mean_crossing_rate(y_val_4_g, y_m_4_g))\n",
    "print()\n",
    "print(\"Z mean crossing rate:\")\n",
    "print(mean_crossing_rate(z_val_1_g, z_m_1_g))\n",
    "print(mean_crossing_rate(z_val_2_g, z_m_2_g))\n",
    "print(mean_crossing_rate(z_val_3_g, z_m_3_g))\n",
    "print(mean_crossing_rate(z_val_4_g, z_m_4_g))"
   ]
  },
  {
   "cell_type": "markdown",
   "metadata": {},
   "source": [
    "# Force sensors data overview"
   ]
  },
  {
   "cell_type": "code",
   "execution_count": 149,
   "metadata": {
    "scrolled": true
   },
   "outputs": [],
   "source": [
    "f1_1, f2_1, f3_1, f4_1 = load_data(\"test_subject_01\", 0, \"force\")\n",
    "f1_2, f2_2, f3_2, f4_2 = load_data(\"test_subject_02\", 0, \"force\")\n",
    "f1_3, f2_3, f3_3, f4_3 = load_data(\"test_subject_03\", 0, \"force\")\n",
    "f1_4, f2_4, f3_4, f4_4 = load_data(\"test_subject_04\", 0, \"force\")\n",
    "\n",
    "f1_val_1, f1_tim_1, f1_nor_1, f1_m_1, f1_s_1 = process_signal(f1_1)\n",
    "f2_val_1, f2_tim_1, f2_nor_1, f2_m_1, f2_s_1 = process_signal(f2_1)\n",
    "f3_val_1, f3_tim_1, f3_nor_1, f3_m_1, f3_s_1 = process_signal(f3_1)\n",
    "f4_val_1, f4_tim_1, f4_nor_1, f4_m_1, f4_s_1 = process_signal(f4_1)\n",
    "\n",
    "f1_val_2, f1_tim_2, f1_nor_2, f1_m_2, f1_s_2 = process_signal(f1_2)\n",
    "f2_val_2, f2_tim_2, f2_nor_2, f2_m_2, f2_s_2 = process_signal(f2_2)\n",
    "f3_val_2, f3_tim_2, f3_nor_2, f3_m_2, f3_s_2 = process_signal(f3_2)\n",
    "f4_val_2, f4_tim_2, f4_nor_2, f4_m_2, f4_s_2 = process_signal(f4_2)\n",
    "\n",
    "f1_val_3, f1_tim_3, f1_nor_3, f1_m_3, f1_s_3 = process_signal(f1_3)\n",
    "f2_val_3, f2_tim_3, f2_nor_3, f2_m_3, f2_s_3 = process_signal(f2_3)\n",
    "f3_val_3, f3_tim_3, f3_nor_3, f3_m_3, f3_s_3 = process_signal(f3_3)\n",
    "f4_val_3, f4_tim_3, f4_nor_3, f4_m_3, f4_s_3 = process_signal(f4_3)\n",
    "\n",
    "f1_val_4, f1_tim_4, f1_nor_4, f1_m_4, f1_s_4 = process_signal(f1_4)\n",
    "f2_val_4, f2_tim_4, f2_nor_4, f2_m_4, f2_s_4 = process_signal(f2_4)\n",
    "f3_val_4, f3_tim_4, f3_nor_4, f3_m_4, f3_s_4 = process_signal(f3_4)\n",
    "f4_val_4, f4_tim_4, f4_nor_4, f4_m_4, f4_s_4 = process_signal(f4_4)"
   ]
  },
  {
   "cell_type": "markdown",
   "metadata": {},
   "source": [
    "## Mean crossing rate"
   ]
  },
  {
   "cell_type": "code",
   "execution_count": 150,
   "metadata": {
    "scrolled": false
   },
   "outputs": [
    {
     "name": "stdout",
     "output_type": "stream",
     "text": [
      "Fsr 1 mean crossing rate:\n",
      "8.051551010726616\n",
      "0.16371748534126987\n",
      "0.4930369345212352\n",
      "0.0007392021052475957\n",
      "\n",
      "Fsr 2 mean crossing rate:\n",
      "6.03453927957934\n",
      "0.004161378248475895\n",
      "0.1413366094434599\n",
      "0.0011911284751173262\n",
      "\n",
      "Fsr 3 mean crossing rate:\n",
      "1.3532385279597177\n",
      "0.6420595856270227\n",
      "2.1004684497981563\n",
      "0.0110489098408957\n",
      "\n",
      "Fsr 4 mean crossing rate:\n",
      "5.552350735506201\n",
      "0.7726126424698748\n",
      "39.45514173458454\n",
      "0.20429544264012572\n"
     ]
    }
   ],
   "source": [
    "print(\"Fsr 1 mean crossing rate:\")\n",
    "print(mean_crossing_rate(f1_val_1, f1_m_1) * 100)\n",
    "print(mean_crossing_rate(f1_val_2, f1_m_2) * 100)\n",
    "print(mean_crossing_rate(f1_val_3, f1_m_3) * 100)\n",
    "print(mean_crossing_rate(f1_val_4, f1_m_4) * 100)\n",
    "print()\n",
    "print(\"Fsr 2 mean crossing rate:\")\n",
    "print(mean_crossing_rate(f2_val_1, f2_m_1) * 100)\n",
    "print(mean_crossing_rate(f2_val_2, f2_m_2) * 100)\n",
    "print(mean_crossing_rate(f2_val_3, f2_m_3) * 100)\n",
    "print(mean_crossing_rate(f2_val_4, f2_m_4) * 100)\n",
    "print()\n",
    "print(\"Fsr 3 mean crossing rate:\")\n",
    "print(mean_crossing_rate(f3_val_1, f3_m_1) * 100)\n",
    "print(mean_crossing_rate(f3_val_2, f3_m_2) * 100)\n",
    "print(mean_crossing_rate(f3_val_3, f3_m_3) * 100)\n",
    "print(mean_crossing_rate(f3_val_4, f3_m_4) * 100)\n",
    "print()\n",
    "print(\"Fsr 4 mean crossing rate:\")\n",
    "print(mean_crossing_rate(f4_val_1, f4_m_1) * 100)\n",
    "print(mean_crossing_rate(f4_val_2, f4_m_2) * 100)\n",
    "print(mean_crossing_rate(f4_val_3, f4_m_3) * 100)\n",
    "print(mean_crossing_rate(f4_val_4, f4_m_4) * 100)\n"
   ]
  },
  {
   "cell_type": "markdown",
   "metadata": {},
   "source": [
    "# CPU overview"
   ]
  },
  {
   "cell_type": "code",
   "execution_count": 151,
   "metadata": {
    "scrolled": true
   },
   "outputs": [],
   "source": [
    "c1_1, c2_1, c3_1, c4_1 = load_data(\"test_subject_01\", 0, \"cpu\")\n",
    "c1_2, c2_2, c3_2, c4_2 = load_data(\"test_subject_02\", 0, \"cpu\")\n",
    "c1_3, c2_3, c3_3, c4_3 = load_data(\"test_subject_03\", 0, \"cpu\")\n",
    "c1_4, c2_4, c3_4, c4_4 = load_data(\"test_subject_04\", 0, \"cpu\")\n",
    "\n",
    "c1_val_1, c1_tim_1, c1_nor_1, c1_m_1, c1_s_1 = process_signal(c1_1)\n",
    "c2_val_1, c2_tim_1, c2_nor_1, c2_m_1, c2_s_1 = process_signal(c2_1)\n",
    "c3_val_1, c3_tim_1, c3_nor_1, c3_m_1, c3_s_1 = process_signal(c3_1)\n",
    "c4_val_1, c4_tim_1, c4_nor_1, c4_m_1, c4_s_1 = process_signal(c4_1)\n",
    "c1_val_2, c1_tim_2, c1_nor_2, c1_m_2, c1_s_2 = process_signal(c1_2)\n",
    "c2_val_2, c2_tim_2, c2_nor_2, c2_m_2, c2_s_2 = process_signal(c2_2)\n",
    "c3_val_2, c3_tim_2, c3_nor_2, c3_m_2, c3_s_2 = process_signal(c3_2)\n",
    "c4_val_2, c4_tim_2, c4_nor_2, c4_m_2, c4_s_2 = process_signal(c4_2)\n",
    "c1_val_3, c1_tim_3, c1_nor_3, c1_m_3, c1_s_3 = process_signal(c1_3)\n",
    "c2_val_3, c2_tim_3, c2_nor_3, c2_m_3, c2_s_3 = process_signal(c2_3)\n",
    "c3_val_3, c3_tim_3, c3_nor_3, c3_m_3, c3_s_3 = process_signal(c3_3)\n",
    "c4_val_3, c4_tim_3, c4_nor_3, c4_m_3, c4_s_3 = process_signal(c4_3)\n",
    "c1_val_4, c1_tim_4, c1_nor_4, c1_m_4, c1_s_4 = process_signal(c1_4)\n",
    "c2_val_4, c2_tim_4, c2_nor_4, c2_m_4, c2_s_4 = process_signal(c2_4)\n",
    "c3_val_4, c3_tim_4, c3_nor_4, c3_m_4, c3_s_4 = process_signal(c3_4)\n",
    "c4_val_4, c4_tim_4, c4_nor_4, c4_m_4, c4_s_4 = process_signal(c4_4)"
   ]
  },
  {
   "cell_type": "markdown",
   "metadata": {},
   "source": [
    "## Mean crossing rate"
   ]
  },
  {
   "cell_type": "code",
   "execution_count": 152,
   "metadata": {
    "scrolled": true
   },
   "outputs": [
    {
     "name": "stdout",
     "output_type": "stream",
     "text": [
      "Cpu 1 mean crossing rate:\n",
      "0.11610486891385768\n",
      "0.2687806719516799\n",
      "0.2\n",
      "0.13801452784503632\n",
      "\n",
      "Cpu 2 mean crossing rate:\n",
      "0.12195121951219512\n",
      "0.2612306530766327\n",
      "0.18333333333333332\n",
      "0.13317191283292978\n",
      "\n",
      "Cpu 3 mean crossing rate:\n",
      "0.13320825515947468\n",
      "0.270392749244713\n",
      "0.21\n",
      "0.14527845036319612\n",
      "\n",
      "Cpu 4 mean crossing rate:\n",
      "0.09568480300187618\n",
      "0.2348942598187311\n",
      "0.21\n",
      "0.14805825242718446\n"
     ]
    }
   ],
   "source": [
    "print(\"Cpu 1 mean crossing rate:\")\n",
    "print(mean_crossing_rate(c1_val_1, c1_m_1))\n",
    "print(mean_crossing_rate(c1_val_2, c1_m_2))\n",
    "print(mean_crossing_rate(c1_val_3, c1_m_3))\n",
    "print(mean_crossing_rate(c1_val_4, c1_m_4))\n",
    "print()\n",
    "print(\"Cpu 2 mean crossing rate:\")\n",
    "print(mean_crossing_rate(c2_val_1, c2_m_1))\n",
    "print(mean_crossing_rate(c2_val_2, c2_m_2))\n",
    "print(mean_crossing_rate(c2_val_3, c2_m_3))\n",
    "print(mean_crossing_rate(c2_val_4, c2_m_4))\n",
    "print()\n",
    "print(\"Cpu 3 mean crossing rate:\")\n",
    "print(mean_crossing_rate(c3_val_1, c3_m_1))\n",
    "print(mean_crossing_rate(c3_val_2, c3_m_2))\n",
    "print(mean_crossing_rate(c3_val_3, c3_m_3))\n",
    "print(mean_crossing_rate(c3_val_4, c3_m_4))\n",
    "print()\n",
    "print(\"Cpu 4 mean crossing rate:\")\n",
    "print(mean_crossing_rate(c4_val_1, c4_m_1))\n",
    "print(mean_crossing_rate(c4_val_2, c4_m_2))\n",
    "print(mean_crossing_rate(c4_val_3, c4_m_3))\n",
    "print(mean_crossing_rate(c4_val_4, c4_m_4))"
   ]
  },
  {
   "cell_type": "markdown",
   "metadata": {},
   "source": [
    "# Memory overview"
   ]
  },
  {
   "cell_type": "code",
   "execution_count": 153,
   "metadata": {
    "scrolled": true
   },
   "outputs": [],
   "source": [
    "r_1 = load_data(\"test_subject_01\", 0, \"ram\")\n",
    "r_2 = load_data(\"test_subject_02\", 0, \"ram\")\n",
    "r_3 = load_data(\"test_subject_03\", 0, \"ram\")\n",
    "r_4 = load_data(\"test_subject_04\", 0, \"ram\")\n",
    "\n",
    "r_val_1, r_tim_1, r_nor_1, r_m_1, r_s_1 = process_signal(r_1)\n",
    "r_val_2, r_tim_2, r_nor_2, r_m_2, r_s_2 = process_signal(r_2)\n",
    "r_val_3, r_tim_3, r_nor_3, r_m_3, r_s_3 = process_signal(r_3)\n",
    "r_val_4, r_tim_4, r_nor_4, r_m_4, r_s_4 = process_signal(r_4)\n"
   ]
  },
  {
   "cell_type": "markdown",
   "metadata": {},
   "source": [
    "## Mean crossing rate"
   ]
  },
  {
   "cell_type": "code",
   "execution_count": 154,
   "metadata": {
    "scrolled": true
   },
   "outputs": [
    {
     "name": "stdout",
     "output_type": "stream",
     "text": [
      "Memory mean crossing rate:\n",
      "0.022113022113022112\n",
      "0.005642519111758282\n",
      "0.05016357688113413\n",
      "0.008468052347959968\n"
     ]
    }
   ],
   "source": [
    "print(\"Memory mean crossing rate:\")\n",
    "print(mean_crossing_rate(r_val_1, r_m_1))\n",
    "print(mean_crossing_rate(r_val_2, r_m_2))\n",
    "print(mean_crossing_rate(r_val_3, r_m_3))\n",
    "print(mean_crossing_rate(r_val_4, r_m_4))"
   ]
  },
  {
   "cell_type": "markdown",
   "metadata": {},
   "source": [
    "# Network activity overview"
   ]
  },
  {
   "cell_type": "code",
   "execution_count": 155,
   "metadata": {
    "scrolled": true
   },
   "outputs": [],
   "source": [
    "ns_1, nr_1 = load_data(\"test_subject_01\", 0, \"net\")\n",
    "ns_2, nr_2 = load_data(\"test_subject_02\", 0, \"net\")\n",
    "ns_3, nr_3 = load_data(\"test_subject_03\", 0, \"net\")\n",
    "ns_4, nr_4 = load_data(\"test_subject_04\", 0, \"net\")\n",
    "\n",
    "ns_val_1, ns_tim_1, ns_nor_1, ns_m_1, ns_s_1 = process_signal(ns_1)\n",
    "ns_val_2, ns_tim_2, ns_nor_2, ns_m_2, ns_s_2 = process_signal(ns_2)\n",
    "ns_val_3, ns_tim_3, ns_nor_3, ns_m_3, ns_s_3 = process_signal(ns_3)\n",
    "ns_val_4, ns_tim_4, ns_nor_4, ns_m_4, ns_s_4 = process_signal(ns_4)\n",
    "\n",
    "nr_val_1, nr_tim_1, nr_nor_1, nr_m_1, nr_s_1 = process_signal(nr_1)\n",
    "nr_val_2, nr_tim_2, nr_nor_2, nr_m_2, nr_s_2 = process_signal(nr_2)\n",
    "nr_val_3, nr_tim_3, nr_nor_3, nr_m_3, nr_s_3 = process_signal(nr_3)\n",
    "nr_val_4, nr_tim_4, nr_nor_4, nr_m_4, nr_s_4 = process_signal(nr_4)"
   ]
  },
  {
   "cell_type": "markdown",
   "metadata": {},
   "source": [
    "## Jumps statistics"
   ]
  },
  {
   "cell_type": "code",
   "execution_count": 156,
   "metadata": {
    "scrolled": true
   },
   "outputs": [],
   "source": [
    "def get_jumps(values, times):\n",
    "    \"\"\"\n",
    "    Get first derivative and empirically determine a threshold for a pair of values to be classified as a jump.\n",
    "    \"\"\"\n",
    "    pv = values[0]\n",
    "    pt = values[1]\n",
    "    for cv, ct in zip(values[1:], times[1:]):\n",
    "        pass"
   ]
  },
  {
   "cell_type": "markdown",
   "metadata": {},
   "source": [
    "# Pir sensors overview\n",
    "- Id 58: pir_01\n",
    "- Id 59: pir_02\n",
    "- Id 66: pir_03\n",
    "- Id 67: pir_04\n",
    "- Id 68: pir_05\n",
    "- Id 69: pir_06"
   ]
  },
  {
   "cell_type": "code",
   "execution_count": 163,
   "metadata": {
    "scrolled": true
   },
   "outputs": [],
   "source": [
    "pir_10, s_sta_10, s_end_10 = load_data(\"test_subject_01\", 2, \"pir\")\n",
    "# pir_13, s_sta_13, s_end_13 = load_data(\"test_subject_01\", 3, \"pir\")\n",
    "pir_2, s_sta_2, s_end_2 = load_data(\"test_subject_02\", 2, \"pir\")\n",
    "pir_3, s_sta_3, s_end_3 = load_data(\"test_subject_03\", 2, \"pir\")\n",
    "pir_4, s_sta_4, s_end_4 = load_data(\"test_subject_04\", 2, \"pir\")\n",
    "\n",
    "pir_val_10, pir_tim_10, pir_ids_10 = process_binary_signal(pir_10)\n",
    "pir_val_13, pir_tim_13, pir_ids_13 = process_binary_signal(pir_13)\n",
    "pir_val_2, pir_tim_2, pir_ids_2 = process_binary_signal(pir_2)\n",
    "pir_val_3, pir_tim_3, pir_ids_3 = process_binary_signal(pir_3)\n",
    "pir_val_4, pir_tim_4, pir_ids_4 = process_binary_signal(pir_4)"
   ]
  },
  {
   "cell_type": "code",
   "execution_count": 164,
   "metadata": {
    "scrolled": true
   },
   "outputs": [
    {
     "name": "stdout",
     "output_type": "stream",
     "text": [
      "[2, 2, 2, 2, 2, 2, 2, 2, 2, 2, 2, 2, 2, 2, 2, 2, 2, 2, 2, 2, 2, 2, 2, 2, 2, 2, 2, 2, 2, 2]\n",
      "[2, 2, 2, 2, 0, 0, 0, 0, 0, 0, 2, 2]\n",
      "[2, 2, 2, 2, 2, 2, 2, 2, 2, 2, 2, 2, 2]\n",
      "[2, 2, 2, 2, 2, 2, 2, 2, 2, 2, 2, 2, 2, 2, 0, 0, 0, 0, 0, 0, 0, 0, 0, 0, 0, 0, 0, 2, 2]\n"
     ]
    }
   ],
   "source": [
    "def detect_pir_activity_type(start, end, values, times, ids, time_interval: timedelta=timedelta(seconds=30)):\n",
    "    \"\"\"\n",
    "    For every given time interval, check which sensors were active and \n",
    "    based on that classify each time interval into one of 3 activities:\n",
    "    - no activity (no sensors active)\n",
    "    - seating (senor pir_01 active)\n",
    "    - moving (more than one sensor active)\n",
    "    \"\"\"\n",
    "    if not (len(values) == len(times) and len(times) == len(ids)):\n",
    "        raise ValueError(\"Mismatching value lengths.\")\n",
    "    intervals = create_time_chunks(start, end, time_interval)\n",
    "    result = []\n",
    "    active = []\n",
    "    \n",
    "    for interval in intervals:\n",
    "        prev = []\n",
    "        interval_ids = [index for index, value in enumerate(times) if interval[0] <= value <= interval[1]]\n",
    "        for idx in interval_ids:\n",
    "            if not values[idx]:\n",
    "                try:\n",
    "                    active.remove(ids[idx])\n",
    "                    prev.append(ids[idx])\n",
    "                except:\n",
    "                    pass\n",
    "            elif ids[idx] not in active:\n",
    "                active.append(ids[idx])\n",
    "        result.append({\"interval\": interval, \"ids\": set(prev + active)})\n",
    "        prev = active\n",
    "        \n",
    "    for res in result:\n",
    "        if len(res[\"ids\"]) > 1 or len(res[\"ids\"]) == 1 and res[\"ids\"] != 58:\n",
    "            res.update({\"activity\": \"movement\"})\n",
    "        elif len(res[\"ids\"]) == 1 and res[\"ids\"] == 58:\n",
    "            res.update({\"activity\": \"seated\"})\n",
    "        else:\n",
    "            res.update({\"activity\": \"no activity\"})\n",
    "    return result\n",
    "\n",
    "\n",
    "def get_activity_vector(intervals):\n",
    "    \"\"\"\n",
    "    Create an enum vector from pir activity intervals.\n",
    "    \"\"\"\n",
    "    result_vector = []\n",
    "    for x in intervals:\n",
    "        if x[\"activity\"] == \"no activity\":\n",
    "            result_vector.append(0)\n",
    "        elif x[\"activity\"] == \"seated\":\n",
    "            result_vector.append(1)\n",
    "        elif x[\"activity\"] == \"movement\":\n",
    "            result_vector.append(2)\n",
    "        else:\n",
    "            raise ValueError(\"Unknown activity class.\")\n",
    "    return result_vector\n",
    "    \n",
    "from scipy.spatial.distance import euclidean\n",
    "from fastdtw import fastdtw\n",
    "\n",
    "# print(pir_ids_10)\n",
    "# print(pir_ids_13)\n",
    "# print(pir_ids_2)\n",
    "# print(pir_ids_3)\n",
    "# print(pir_ids_4)\n",
    "\n",
    "# distance, path = fastdtw(pir_ids_10, pir_ids_2, dist=euclidean)\n",
    "# print(path)\n",
    "# print(distance)\n",
    "\n",
    "# distance, path = fastdtw(pir_ids_13, pir_ids_2, dist=euclidean)\n",
    "# print(path)\n",
    "# print(distance)\n",
    "\n",
    "\n",
    "# distance, path = fastdtw(pir_ids_10, pir_ids_13, dist=euclidean)\n",
    "# print(path)\n",
    "# print(distance)\n",
    "\n",
    "# for i in range(0, len(pir_val_10)):\n",
    "#     print(\"============================\")\n",
    "#     print(pir_ids_10[i])\n",
    "#     print(pir_val_10[i])\n",
    "#     print(pir_tim_10[i])\n",
    "    \n",
    "seconds = 30\n",
    "intervals_10 = detect_pir_activity_type(s_sta_10, s_end_10, pir_val_10, pir_tim_10, pir_ids_10, timedelta(seconds=seconds))\n",
    "# intervals_13 = detect_pir_activity_type(s_sta_13, s_end_13, pir_val_13, pir_tim_13, pir_ids_13, timedelta(seconds=seconds))\n",
    "\n",
    "intervals_2 = detect_pir_activity_type(s_sta_2, s_end_2, pir_val_2, pir_tim_2, pir_ids_2, timedelta(seconds=seconds))\n",
    "intervals_3 = detect_pir_activity_type(s_sta_3, s_end_3, pir_val_3, pir_tim_3, pir_ids_3, timedelta(seconds=seconds))\n",
    "intervals_4 = detect_pir_activity_type(s_sta_4, s_end_4, pir_val_4, pir_tim_4, pir_ids_4, timedelta(seconds=seconds))\n",
    "\n",
    "print(get_activity_vector(intervals_10))\n",
    "print(get_activity_vector(intervals_2))\n",
    "print(get_activity_vector(intervals_3))\n",
    "print(get_activity_vector(intervals_4))"
   ]
  },
  {
   "cell_type": "code",
   "execution_count": null,
   "metadata": {},
   "outputs": [],
   "source": []
  }
 ],
 "metadata": {
  "kernelspec": {
   "display_name": "Django Shell-Plus",
   "language": "python",
   "name": "django_extensions"
  },
  "language_info": {
   "codemirror_mode": {
    "name": "ipython",
    "version": 3
   },
   "file_extension": ".py",
   "mimetype": "text/x-python",
   "name": "python",
   "nbconvert_exporter": "python",
   "pygments_lexer": "ipython3",
   "version": "3.6.7"
  }
 },
 "nbformat": 4,
 "nbformat_minor": 2
}
