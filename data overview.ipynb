{
 "cells": [
  {
   "cell_type": "code",
   "execution_count": 1,
   "metadata": {
    "scrolled": false
   },
   "outputs": [
    {
     "name": "stdout",
     "output_type": "stream",
     "text": [
      "Number of completed seances:\n",
      "125\n",
      "Experiment 1 count: 42\n",
      "Experiment 2 count: 42\n",
      "Experiment 3 count: 41\n"
     ]
    }
   ],
   "source": [
    "from seances.models import Seance\n",
    "print(\"Number of completed seances:\")\n",
    "print(Seance.objects.filter(valid=True).count())\n",
    "    \n",
    "print(\"Experiment 1 count: {}\".format(Seance.objects.filter(experiment__sequence_number=1).count()))\n",
    "print(\"Experiment 2 count: {}\".format(Seance.objects.filter(experiment__sequence_number=2).count()))\n",
    "print(\"Experiment 3 count: {}\".format(Seance.objects.filter(experiment__sequence_number=3).count()))\n"
   ]
  },
  {
   "cell_type": "code",
   "execution_count": 2,
   "metadata": {
    "scrolled": false
   },
   "outputs": [],
   "source": [
    "# Loading the data from the db\n",
    "# should we use Influx and interpolated data (probably not)?\n",
    "# it will take some time to calculate all features for everyone.\n",
    "\n",
    "from numpy import mean, std\n",
    "from sklearn.preprocessing import normalize\n",
    "\n",
    "def load_data(username, seance_num, sens):\n",
    "    try:\n",
    "        seance = Seance.objects.filter(user__username=username, valid=True).order_by('created')[seance_num]\n",
    "    except IndexError:\n",
    "        print(\"Invalid seance id.\")\n",
    "        return\n",
    "    if sens == \"accelerometer\":\n",
    "        sensor_ids = [60,61,62]\n",
    "        sensors = Sensor.objects.filter(id__in=sensor_ids).order_by('id')\n",
    "        return (\n",
    "                SensorRecord.objects.filter(seance=seance, sensor=sensors[0]).order_by(\"created\"), \n",
    "                SensorRecord.objects.filter(seance=seance, sensor=sensors[1]).order_by(\"created\"), \n",
    "                SensorRecord.objects.filter(seance=seance, sensor=sensors[2]).order_by(\"created\")\n",
    "        )\n",
    "    elif sens == \"gyroscope\":\n",
    "        sensor_ids = [63,64,65]\n",
    "        sensors = Sensor.objects.filter(id__in=sensor_ids).order_by('id')\n",
    "        return (\n",
    "                SensorRecord.objects.filter(seance=seance, sensor=sensors[0]).order_by(\"created\"), \n",
    "                SensorRecord.objects.filter(seance=seance, sensor=sensors[1]).order_by(\"created\"), \n",
    "                SensorRecord.objects.filter(seance=seance, sensor=sensors[2]).order_by(\"created\")\n",
    "        )\n",
    "    elif sens == \"force\":\n",
    "        sensor_ids = [54,55,76,77]\n",
    "        sensors = Sensor.objects.filter(id__in=sensor_ids).order_by('topic')\n",
    "        return (\n",
    "                SensorRecord.objects.filter(seance=seance, sensor=sensors[0], value__gte=50).order_by(\"created\"), \n",
    "                SensorRecord.objects.filter(seance=seance, sensor=sensors[1], value__gte=50).order_by(\"created\"), \n",
    "                SensorRecord.objects.filter(seance=seance, sensor=sensors[2], value__gte=50).order_by(\"created\"), \n",
    "                SensorRecord.objects.filter(seance=seance, sensor=sensors[3], value__gte=50).order_by(\"created\")\n",
    "        )\n",
    "    elif sens == \"cpu\":\n",
    "        sensor_ids = [78,79,80,81]\n",
    "        sensors = Sensor.objects.filter(id__in=sensor_ids).order_by('topic')\n",
    "        return (\n",
    "                SensorRecord.objects.filter(seance=seance, sensor=sensors[0]).order_by(\"created\"), \n",
    "                SensorRecord.objects.filter(seance=seance, sensor=sensors[1]).order_by(\"created\"), \n",
    "                SensorRecord.objects.filter(seance=seance, sensor=sensors[2]).order_by(\"created\"), \n",
    "                SensorRecord.objects.filter(seance=seance, sensor=sensors[3]).order_by(\"created\")\n",
    "        )\n",
    "    elif sens == \"ram\":\n",
    "        sensor_ids = [82]\n",
    "        sensors = Sensor.objects.filter(id__in=sensor_ids).order_by('topic')\n",
    "        return SensorRecord.objects.filter(seance=seance, sensor=sensors[0]).order_by(\"created\")\n",
    "    elif sens == \"net\":\n",
    "        sensor_ids = [83, 84]\n",
    "        sensors = Sensor.objects.filter(id__in=sensor_ids).order_by('id')\n",
    "        return (\n",
    "            SensorRecord.objects.filter(seance=seance, sensor=sensors[0]).order_by(\"created\"),\n",
    "            SensorRecord.objects.filter(seance=seance, sensor=sensors[1]).order_by(\"created\")\n",
    "        )\n",
    "    elif sens == \"pir\":\n",
    "        sensor_ids = [58, 59, 66, 67, 68, 69]\n",
    "        sensors = Sensor.objects.filter(id__in=sensor_ids).order_by('id')\n",
    "        return (\n",
    "            SensorRecord.objects.filter(seance=seance, sensor__in=sensors).order_by(\"created\"),\n",
    "            seance.start,\n",
    "            seance.end,\n",
    "        )\n",
    "    else:\n",
    "        raise ValueError(\"Invalid sensor string.\")\n",
    "    "
   ]
  },
  {
   "cell_type": "markdown",
   "metadata": {},
   "source": [
    "### Variables naming conventions\n",
    "This is done to preserve as many data as possible in ram, which reduces load times on multiple runs.\n",
    "\n",
    "sensorType_userNumber_featureName_axis_experiment\n",
    "\n",
    "- axis is only applicable with accelerometer, gyroscope and force sensors\n",
    "- experiment is only applicable if we have multiple experiments for the same person\n",
    "\n",
    "example:\n",
    "\n",
    "acc_1_val_x_2"
   ]
  },
  {
   "cell_type": "code",
   "execution_count": null,
   "metadata": {
    "scrolled": false
   },
   "outputs": [],
   "source": [
    "# Functions\n",
    "from scipy.signal import find_peaks\n",
    "from datetime import datetime, timedelta\n",
    "from math import sqrt\n",
    "import numpy as np\n",
    "from scipy.spatial.distance import euclidean\n",
    "from fastdtw import fastdtw\n",
    "import plotly.express as px\n",
    "from plotly.express import line\n",
    "from pandas import DataFrame\n",
    "from numpy import mean, std\n",
    "import plotly.graph_objects as go\n",
    "\n",
    "\n",
    "def process_signal(records):\n",
    "    \"\"\"\n",
    "    Take Django query and do basic signal processing.\n",
    "    \"\"\"\n",
    "    values = [x.value for x in records]\n",
    "    times = [x.timestamp for x in records]\n",
    "    m = mean(values)\n",
    "    s = std(values)\n",
    "    norm = [(x - m)/s for x in values]\n",
    "    \n",
    "    return values, times, norm, m, s\n",
    "\n",
    "def process_binary_signal(records):\n",
    "    \"\"\"\n",
    "    Take Django query with hall or pir data and return meaningful statistics.\n",
    "    \"\"\"\n",
    "    if len(records) == 0:\n",
    "        return [], []\n",
    "    values = [x.value for x in records]\n",
    "    times = [x.timestamp for x in records]\n",
    "    ids = [x.sensor_id for x in records]\n",
    "    return values, times, ids\n",
    "    \n",
    "def mean_crossing_rate(signal, m):\n",
    "    \"\"\"\n",
    "    Calculate mean crossing rate from signal.\n",
    "    Rate of mean crossings vs. the signal length.\n",
    "    \"\"\"\n",
    "    prev = signal[0]\n",
    "    crosses = 0\n",
    "    length = len(signal) - 1\n",
    "    \n",
    "    for curr in signal[1:]:\n",
    "        if prev <= m < curr or prev > m >=curr:\n",
    "            crosses += 1\n",
    "        prev = curr\n",
    "    return crosses/length\n",
    "\n",
    "def mean_acceleration_intensity(signal):\n",
    "    \"\"\"\n",
    "    Mean derivative of a signal.\n",
    "    \"\"\"\n",
    "    prev = signal[0]\n",
    "    length = len(signal) - 1\n",
    "    derv = []\n",
    "    \n",
    "    for curr in signal[1:]:\n",
    "        derv.append(abs(curr - prev))\n",
    "        prev = curr\n",
    "        \n",
    "    return mean(derv)\n",
    "    \n",
    "\n",
    "def create_time_chunks(start: datetime, end: datetime, interval: timedelta):\n",
    "    \"\"\"\n",
    "    Create a list of time intervals for given parameters.\n",
    "    \"\"\"\n",
    "    intervals = []\n",
    "    while start < end:\n",
    "        intervals.append((start, min(start + interval, end)))\n",
    "        start += interval\n",
    "    return intervals\n",
    "\n",
    "\n",
    "def join_accelerometer_signals(x, y, z):\n",
    "    \"\"\"\n",
    "    Join accelerometer signals, based simply on concurrence. \n",
    "    We can do this, as only one controller sends data in loop for all axis.\n",
    "    \"\"\"\n",
    "    result = []\n",
    "    n = min(len(x), len(y), len(z))\n",
    "    for a,b,c in zip(x[:n], y[:n], z[:n]):\n",
    "        result.append(sqrt(a**2+b**2+c**2))\n",
    "    return result, mean(result), std(result)\n",
    "\n",
    "\n",
    "def join_cpu_signals(a, b, c, d):\n",
    "    \"\"\"\n",
    "    Similar to accelerometer one.\n",
    "    \"\"\"\n",
    "    result = []\n",
    "    n = min(len(a), len(b), len(c), len(d))\n",
    "    for w,x,y,z in zip(a[:n], b[:n], c[:n], d[:n]):\n",
    "        result.append(sqrt(w**2+x**2+y**2+z**2))\n",
    "    return result, mean(result), std(result)\n",
    "    \n",
    "    "
   ]
  },
  {
   "cell_type": "markdown",
   "metadata": {},
   "source": [
    "# Accelerometer data overview"
   ]
  },
  {
   "cell_type": "code",
   "execution_count": null,
   "metadata": {
    "scrolled": false
   },
   "outputs": [],
   "source": [
    "users = [\"test_subject_10\", \"test_subject_11\", \"test_subject_12\", \"test_subject_13\"]\n",
    "\n",
    "accx11, accy11, accz11 = load_data(users[0], 0, \"accelerometer\")\n",
    "accx12, accy12, accz12 = load_data(users[0], 3, \"accelerometer\")\n",
    "accx21, accy21, accz21 = load_data(users[1], 0, \"accelerometer\")\n",
    "accx22, accy22, accz22 = load_data(users[1], 3, \"accelerometer\")\n",
    "accx31, accy31, accz31 = load_data(users[2], 0, \"accelerometer\")\n",
    "accx32, accy32, accz32 = load_data(users[2], 3, \"accelerometer\")\n",
    "accx41, accy41, accz41 = load_data(users[3], 0, \"accelerometer\")\n",
    "accx42, accy42, accz42 = load_data(users[3], 3, \"accelerometer\")\n",
    "\n",
    "acc_1_val_x_1, _, acc_1_nor_x_1, acc_1_mea_x_1, acc_1_std_x_1 = process_signal(accx11)\n",
    "acc_1_val_y_1, _, acc_1_nor_y_1, acc_1_mea_y_1, acc_1_std_y_1 = process_signal(accy11)\n",
    "acc_1_val_z_1, _, acc_1_nor_z_1, acc_1_mea_z_1, acc_1_std_z_1 = process_signal(accz11)\n",
    "acc_1_val_x_2, _, acc_1_nor_x_2, acc_1_mea_x_2, acc_1_std_x_2 = process_signal(accx12)\n",
    "acc_1_val_y_2, _, acc_1_nor_y_2, acc_1_mea_y_2, acc_1_std_y_2 = process_signal(accy12)\n",
    "acc_1_val_z_2, _, acc_1_nor_z_2, acc_1_mea_z_2, acc_1_std_z_2 = process_signal(accz12)\n",
    "acc_1_nor_1, acc_1_mea_1, acc_1_std_1 = join_accelerometer_signals(acc_1_nor_x_1, acc_1_nor_y_1, acc_1_nor_z_1)\n",
    "acc_1_nor_2, acc_1_mea_2, acc_1_std_2 = join_accelerometer_signals(acc_1_nor_x_2, acc_1_nor_y_2, acc_1_nor_z_2)\n",
    "\n",
    "acc_2_val_x_1, _, acc_2_nor_x_1, acc_2_mea_x_1, acc_2_std_x_1 = process_signal(accx21)\n",
    "acc_2_val_y_1, _, acc_2_nor_y_1, acc_2_mea_y_1, acc_2_std_y_1 = process_signal(accy21)\n",
    "acc_2_val_z_1, _, acc_2_nor_z_1, acc_2_mea_z_1, acc_2_std_z_1 = process_signal(accz21)\n",
    "acc_2_val_x_2, _, acc_2_nor_x_2, acc_2_mea_x_2, acc_2_std_x_2 = process_signal(accx22)\n",
    "acc_2_val_y_2, _, acc_2_nor_y_2, acc_2_mea_y_2, acc_2_std_y_2 = process_signal(accy22)\n",
    "acc_2_val_z_2, _, acc_2_nor_z_2, acc_2_mea_z_2, acc_2_std_z_2 = process_signal(accz22)\n",
    "acc_2_nor_1, acc_2_mea_1, acc_2_std_1 = join_accelerometer_signals(acc_2_nor_x_1, acc_2_nor_y_1, acc_2_nor_z_1)\n",
    "acc_2_nor_2, acc_2_mea_2, acc_2_std_2 = join_accelerometer_signals(acc_2_nor_x_2, acc_2_nor_y_2, acc_2_nor_z_2)\n",
    "\n",
    "acc_3_val_x_1, _, acc_3_nor_x_1, acc_3_mea_x_1, acc_3_std_x_1 = process_signal(accx31)\n",
    "acc_3_val_y_1, _, acc_3_nor_y_1, acc_3_mea_y_1, acc_3_std_y_1 = process_signal(accy31)\n",
    "acc_3_val_z_1, _, acc_3_nor_z_1, acc_3_mea_z_1, acc_3_std_z_1 = process_signal(accz31)\n",
    "acc_3_val_x_2, _, acc_3_nor_x_2, acc_3_mea_x_2, acc_3_std_x_2 = process_signal(accx32)\n",
    "acc_3_val_y_2, _, acc_3_nor_y_2, acc_3_mea_y_2, acc_3_std_y_2 = process_signal(accy32)\n",
    "acc_3_val_z_2, _, acc_3_nor_z_2, acc_3_mea_z_2, acc_3_std_z_2 = process_signal(accz32)\n",
    "acc_3_nor_1, acc_3_mea_1, acc_3_std_1 = join_accelerometer_signals(acc_3_nor_x_1, acc_3_nor_y_1, acc_3_nor_z_1)\n",
    "acc_3_nor_2, acc_3_mea_2, acc_3_std_2 = join_accelerometer_signals(acc_3_nor_x_2, acc_3_nor_y_2, acc_3_nor_z_2)\n",
    "\n",
    "acc_4_val_x_1, _, acc_4_nor_x_1, acc_4_mea_x_1, acc_4_std_x_1 = process_signal(accx41)\n",
    "acc_4_val_y_1, _, acc_4_nor_y_1, acc_4_mea_y_1, acc_4_std_y_1 = process_signal(accy41)\n",
    "acc_4_val_z_1, _, acc_4_nor_z_1, acc_4_mea_z_1, acc_4_std_z_1 = process_signal(accz41)\n",
    "acc_4_val_x_2, _, acc_4_nor_x_2, acc_4_mea_x_2, acc_4_std_x_2 = process_signal(accx42)\n",
    "acc_4_val_y_2, _, acc_4_nor_y_2, acc_4_mea_y_2, acc_4_std_y_2 = process_signal(accy42)\n",
    "acc_4_val_z_2, _, acc_4_nor_z_2, acc_4_mea_z_2, acc_4_std_z_2 = process_signal(accz42)\n",
    "acc_4_nor_1, acc_4_mea_1, acc_4_std_1 = join_accelerometer_signals(acc_4_nor_x_1, acc_4_nor_y_1, acc_4_nor_z_1)\n",
    "acc_4_nor_2, acc_4_mea_2, acc_4_std_2 = join_accelerometer_signals(acc_4_nor_x_2, acc_4_nor_y_2, acc_4_nor_z_2)"
   ]
  },
  {
   "cell_type": "markdown",
   "metadata": {},
   "source": [
    "## Visualization"
   ]
  },
  {
   "cell_type": "code",
   "execution_count": null,
   "metadata": {
    "scrolled": false
   },
   "outputs": [],
   "source": [
    "stats = DataFrame(acc_1_nor_1, columns=[\"values\"])\n",
    "fig = px.line(stats, y=\"values\")\n",
    "fig.show()"
   ]
  },
  {
   "cell_type": "markdown",
   "metadata": {},
   "source": [
    "## Mean values"
   ]
  },
  {
   "cell_type": "code",
   "execution_count": null,
   "metadata": {
    "scrolled": false
   },
   "outputs": [],
   "source": [
    "print(\"X mean values:\")\n",
    "print(acc_1_mea_x_1)\n",
    "print(acc_1_mea_x_2)\n",
    "print(acc_2_mea_x_1)\n",
    "print(acc_2_mea_x_2)\n",
    "print(acc_3_mea_x_1)\n",
    "print(acc_3_mea_x_2)\n",
    "print(acc_4_mea_x_1)\n",
    "print(acc_4_mea_x_2)\n",
    "print()\n",
    "print(\"Y mean values:\")\n",
    "print(acc_1_mea_y_1)\n",
    "print(acc_1_mea_y_2)\n",
    "print(acc_2_mea_y_1)\n",
    "print(acc_2_mea_y_2)\n",
    "print(acc_3_mea_y_1)\n",
    "print(acc_3_mea_y_2)\n",
    "print(acc_4_mea_y_1)\n",
    "print(acc_4_mea_y_2)\n",
    "print()\n",
    "print(\"Z mean values:\")\n",
    "print(acc_1_mea_z_1)\n",
    "print(acc_1_mea_z_2)\n",
    "print(acc_2_mea_z_1)\n",
    "print(acc_2_mea_z_2)\n",
    "print(acc_3_mea_z_1)\n",
    "print(acc_3_mea_z_2)\n",
    "print(acc_4_mea_z_1)\n",
    "print(acc_4_mea_z_2)\n",
    "print()\n",
    "print(\"Combined mean values:\")\n",
    "print(acc_1_mea_1)\n",
    "print(acc_1_mea_2)\n",
    "print(acc_2_mea_1)\n",
    "print(acc_2_mea_2)\n",
    "print(acc_3_mea_1)\n",
    "print(acc_3_mea_2)\n",
    "print(acc_4_mea_1)\n",
    "print(acc_4_mea_2)"
   ]
  },
  {
   "cell_type": "markdown",
   "metadata": {},
   "source": [
    "## Standard deviations"
   ]
  },
  {
   "cell_type": "code",
   "execution_count": null,
   "metadata": {
    "scrolled": false
   },
   "outputs": [],
   "source": [
    "print(\"X stdn values:\")\n",
    "print(acc_1_std_x_1)\n",
    "print(acc_1_std_x_2)\n",
    "print(acc_2_std_x_1)\n",
    "print(acc_2_std_x_2)\n",
    "print(acc_3_std_x_1)\n",
    "print(acc_3_std_x_2)\n",
    "print(acc_4_std_x_1)\n",
    "print(acc_4_std_x_2)\n",
    "print()\n",
    "print(\"Y stdn values:\")\n",
    "print(acc_1_std_y_1)\n",
    "print(acc_1_std_y_2)\n",
    "print(acc_2_std_y_1)\n",
    "print(acc_2_std_y_2)\n",
    "print(acc_3_std_y_1)\n",
    "print(acc_3_std_y_2)\n",
    "print(acc_4_std_y_1)\n",
    "print(acc_4_std_y_2)\n",
    "print()\n",
    "print(\"Z stdn values:\")\n",
    "print(acc_1_std_z_1)\n",
    "print(acc_1_std_z_2)\n",
    "print(acc_2_std_z_1)\n",
    "print(acc_2_std_z_2)\n",
    "print(acc_3_std_z_1)\n",
    "print(acc_3_std_z_2)\n",
    "print(acc_4_std_z_1)\n",
    "print(acc_4_std_z_2)\n",
    "print()\n",
    "print(\"Combined stdn values:\")\n",
    "print(acc_1_std_1)\n",
    "print(acc_1_std_2)\n",
    "print(acc_2_std_1)\n",
    "print(acc_2_std_2)\n",
    "print(acc_3_std_1)\n",
    "print(acc_3_std_2)\n",
    "print(acc_4_std_1)\n",
    "print(acc_4_std_2)"
   ]
  },
  {
   "cell_type": "markdown",
   "metadata": {},
   "source": [
    "## Mean crossing rate\n",
    "- use time warping on values?"
   ]
  },
  {
   "cell_type": "code",
   "execution_count": null,
   "metadata": {
    "scrolled": false
   },
   "outputs": [],
   "source": [
    "print(\"X mean crossing rate:\")\n",
    "print(mean_crossing_rate(acc_1_val_x_1, acc_1_mea_x_1))\n",
    "print(mean_crossing_rate(acc_1_val_x_2, acc_1_mea_x_2))\n",
    "print(mean_crossing_rate(acc_2_val_x_1, acc_2_mea_x_1))\n",
    "print(mean_crossing_rate(acc_2_val_x_2, acc_2_mea_x_2))\n",
    "print(mean_crossing_rate(acc_3_val_x_1, acc_3_mea_x_1))\n",
    "print(mean_crossing_rate(acc_3_val_x_2, acc_3_mea_x_2))\n",
    "print(mean_crossing_rate(acc_4_val_x_1, acc_4_mea_x_1))\n",
    "print(mean_crossing_rate(acc_4_val_x_2, acc_4_mea_x_2))\n",
    "print()\n",
    "print(\"Y mean crossing rate:\")\n",
    "print(mean_crossing_rate(acc_1_val_y_1, acc_1_mea_y_1))\n",
    "print(mean_crossing_rate(acc_1_val_y_2, acc_1_mea_y_2))\n",
    "print(mean_crossing_rate(acc_2_val_y_1, acc_2_mea_y_1))\n",
    "print(mean_crossing_rate(acc_2_val_y_2, acc_2_mea_y_2))\n",
    "print(mean_crossing_rate(acc_3_val_y_1, acc_3_mea_y_1))\n",
    "print(mean_crossing_rate(acc_3_val_y_2, acc_3_mea_y_2))\n",
    "print(mean_crossing_rate(acc_4_val_y_1, acc_4_mea_y_1))\n",
    "print(mean_crossing_rate(acc_4_val_y_2, acc_4_mea_y_2))\n",
    "print()\n",
    "print(\"Z mean crossing rate:\")\n",
    "print(mean_crossing_rate(acc_1_val_z_1, acc_1_mea_z_1))\n",
    "print(mean_crossing_rate(acc_1_val_z_2, acc_1_mea_z_2))\n",
    "print(mean_crossing_rate(acc_2_val_z_1, acc_2_mea_z_1))\n",
    "print(mean_crossing_rate(acc_2_val_z_2, acc_2_mea_z_2))\n",
    "print(mean_crossing_rate(acc_3_val_z_1, acc_3_mea_z_1))\n",
    "print(mean_crossing_rate(acc_3_val_z_2, acc_3_mea_z_2))\n",
    "print(mean_crossing_rate(acc_4_val_z_1, acc_4_mea_z_1))\n",
    "print(mean_crossing_rate(acc_4_val_z_2, acc_4_mea_z_2))\n",
    "print()\n",
    "print(\"Combined crossing rate:\")\n",
    "print(mean_crossing_rate(acc_1_nor_1, acc_1_mea_1))\n",
    "print(mean_crossing_rate(acc_1_nor_2, acc_1_mea_2))\n",
    "print(mean_crossing_rate(acc_2_nor_1, acc_2_mea_1))\n",
    "print(mean_crossing_rate(acc_2_nor_2, acc_2_mea_2))\n",
    "print(mean_crossing_rate(acc_3_nor_1, acc_3_mea_1))\n",
    "print(mean_crossing_rate(acc_3_nor_2, acc_3_mea_2))\n",
    "print(mean_crossing_rate(acc_4_nor_1, acc_4_mea_1))\n",
    "print(mean_crossing_rate(acc_4_nor_2, acc_4_mea_2))"
   ]
  },
  {
   "cell_type": "markdown",
   "metadata": {},
   "source": [
    "## Mean acceleration intensity\n",
    "- Calculated by taking the mean derivative of a signal."
   ]
  },
  {
   "cell_type": "code",
   "execution_count": null,
   "metadata": {
    "scrolled": false
   },
   "outputs": [],
   "source": [
    "print(\"X mean acceleration intensity:\")\n",
    "print(mean_acceleration_intensity(acc_1_val_x_1))\n",
    "print(mean_acceleration_intensity(acc_1_val_x_2))\n",
    "print(mean_acceleration_intensity(acc_2_val_x_1))\n",
    "print(mean_acceleration_intensity(acc_2_val_x_2))\n",
    "print(mean_acceleration_intensity(acc_3_val_x_1))\n",
    "print(mean_acceleration_intensity(acc_3_val_x_2))\n",
    "print(mean_acceleration_intensity(acc_4_val_x_1))\n",
    "print(mean_acceleration_intensity(acc_4_val_x_2))\n",
    "print()\n",
    "print(\"Y mean acceleration intensity:\")\n",
    "print(mean_acceleration_intensity(acc_1_val_y_1))\n",
    "print(mean_acceleration_intensity(acc_1_val_y_2))\n",
    "print(mean_acceleration_intensity(acc_2_val_y_1))\n",
    "print(mean_acceleration_intensity(acc_2_val_y_2))\n",
    "print(mean_acceleration_intensity(acc_3_val_y_1))\n",
    "print(mean_acceleration_intensity(acc_3_val_y_2))\n",
    "print(mean_acceleration_intensity(acc_4_val_y_1))\n",
    "print(mean_acceleration_intensity(acc_4_val_y_2))\n",
    "print()\n",
    "print(\"Z mean acceleration intensity:\")\n",
    "print(mean_acceleration_intensity(acc_1_val_z_1))\n",
    "print(mean_acceleration_intensity(acc_1_val_z_2))\n",
    "print(mean_acceleration_intensity(acc_2_val_z_1))\n",
    "print(mean_acceleration_intensity(acc_2_val_z_2))\n",
    "print(mean_acceleration_intensity(acc_3_val_z_1))\n",
    "print(mean_acceleration_intensity(acc_3_val_z_2))\n",
    "print(mean_acceleration_intensity(acc_4_val_z_1))\n",
    "print(mean_acceleration_intensity(acc_4_val_z_2))\n",
    "print()\n",
    "print(\"Combined acceleration intensity:\")\n",
    "print(mean_acceleration_intensity(acc_1_nor_1))\n",
    "print(mean_acceleration_intensity(acc_1_nor_2))\n",
    "print(mean_acceleration_intensity(acc_2_nor_1))\n",
    "print(mean_acceleration_intensity(acc_2_nor_2))\n",
    "print(mean_acceleration_intensity(acc_3_nor_1))\n",
    "print(mean_acceleration_intensity(acc_3_nor_2))\n",
    "print(mean_acceleration_intensity(acc_4_nor_1))\n",
    "print(mean_acceleration_intensity(acc_4_nor_2))"
   ]
  },
  {
   "cell_type": "markdown",
   "metadata": {
    "scrolled": true
   },
   "source": [
    "intensity = sum of square (not normalized values)"
   ]
  },
  {
   "cell_type": "markdown",
   "metadata": {},
   "source": [
    "## Dynamic type warping example"
   ]
  },
  {
   "cell_type": "code",
   "execution_count": null,
   "metadata": {
    "scrolled": false
   },
   "outputs": [],
   "source": [
    "x = np.array([[1,1], [2,2], [3,3], [4,4], [5,5]])\n",
    "y = np.array([[2,2], [3,3], [3,3], [4,4]])\n",
    "\n",
    "distance, path = fastdtw(x, y, dist=euclidean)\n",
    "print(distance)\n",
    "print(path)\n",
    "\n",
    "# binarizacija glede na nek threshold, potem pa match ()"
   ]
  },
  {
   "cell_type": "markdown",
   "metadata": {},
   "source": [
    "# Gyroscope data overview"
   ]
  },
  {
   "cell_type": "code",
   "execution_count": null,
   "metadata": {
    "scrolled": false
   },
   "outputs": [],
   "source": [
    "users = [\"test_subject_10\", \"test_subject_11\", \"test_subject_12\", \"test_subject_13\"]\n",
    "\n",
    "gyrx11, gyry11, gyrz11 = load_data(users[0], 0, \"gyroscope\")\n",
    "gyrx12, gyry12, gyrz12 = load_data(users[0], 3, \"gyroscope\")\n",
    "gyrx21, gyry21, gyrz21 = load_data(users[1], 0, \"gyroscope\")\n",
    "gyrx22, gyry22, gyrz22 = load_data(users[1], 3, \"gyroscope\")\n",
    "gyrx31, gyry31, gyrz31 = load_data(users[2], 0, \"gyroscope\")\n",
    "gyrx32, gyry32, gyrz32 = load_data(users[2], 3, \"gyroscope\")\n",
    "gyrx41, gyry41, gyrz41 = load_data(users[3], 0, \"gyroscope\")\n",
    "gyrx42, gyry42, gyrz42 = load_data(users[3], 3, \"gyroscope\")\n",
    "\n",
    "gyr_1_val_x_1, _, gyr_1_nor_x_1, gyr_1_mea_x_1, gyr_1_std_x_1 = process_signal(gyrx11)\n",
    "gyr_1_val_y_1, _, gyr_1_nor_y_1, gyr_1_mea_y_1, gyr_1_std_y_1 = process_signal(gyry11)\n",
    "gyr_1_val_z_1, _, gyr_1_nor_z_1, gyr_1_mea_z_1, gyr_1_std_z_1 = process_signal(gyrz11)\n",
    "gyr_1_val_x_2, _, gyr_1_nor_x_2, gyr_1_mea_x_2, gyr_1_std_x_2 = process_signal(gyrx12)\n",
    "gyr_1_val_y_2, _, gyr_1_nor_y_2, gyr_1_mea_y_2, gyr_1_std_y_2 = process_signal(gyry12)\n",
    "gyr_1_val_z_2, _, gyr_1_nor_z_2, gyr_1_mea_z_2, gyr_1_std_z_2 = process_signal(gyrz12)\n",
    "gyr_1_nor_1, gyr_1_mea_1, gyr_1_std_1 = join_accelerometer_signals(gyr_1_nor_x_1, gyr_1_nor_y_1, gyr_1_nor_z_1)\n",
    "gyr_1_nor_2, gyr_1_mea_2, gyr_1_std_2 = join_accelerometer_signals(gyr_1_nor_x_2, gyr_1_nor_y_2, gyr_1_nor_z_2)\n",
    "\n",
    "gyr_2_val_x_1, _, gyr_2_nor_x_1, gyr_2_mea_x_1, gyr_2_std_x_1 = process_signal(gyrx21)\n",
    "gyr_2_val_y_1, _, gyr_2_nor_y_1, gyr_2_mea_y_1, gyr_2_std_y_1 = process_signal(gyry21)\n",
    "gyr_2_val_z_1, _, gyr_2_nor_z_1, gyr_2_mea_z_1, gyr_2_std_z_1 = process_signal(gyrz21)\n",
    "gyr_2_val_x_2, _, gyr_2_nor_x_2, gyr_2_mea_x_2, gyr_2_std_x_2 = process_signal(gyrx22)\n",
    "gyr_2_val_y_2, _, gyr_2_nor_y_2, gyr_2_mea_y_2, gyr_2_std_y_2 = process_signal(gyry22)\n",
    "gyr_2_val_z_2, _, gyr_2_nor_z_2, gyr_2_mea_z_2, gyr_2_std_z_2 = process_signal(gyrz22)\n",
    "gyr_2_nor_1, gyr_2_mea_1, gyr_2_std_1 = join_accelerometer_signals(gyr_2_nor_x_1, gyr_2_nor_y_1, gyr_2_nor_z_1)\n",
    "gyr_2_nor_2, gyr_2_mea_2, gyr_2_std_2 = join_accelerometer_signals(gyr_2_nor_x_2, gyr_2_nor_y_2, gyr_2_nor_z_2)\n",
    "\n",
    "gyr_3_val_x_1, _, gyr_3_nor_x_1, gyr_3_mea_x_1, gyr_3_std_x_1 = process_signal(gyrx31)\n",
    "gyr_3_val_y_1, _, gyr_3_nor_y_1, gyr_3_mea_y_1, gyr_3_std_y_1 = process_signal(gyry31)\n",
    "gyr_3_val_z_1, _, gyr_3_nor_z_1, gyr_3_mea_z_1, gyr_3_std_z_1 = process_signal(gyrz31)\n",
    "gyr_3_val_x_2, _, gyr_3_nor_x_2, gyr_3_mea_x_2, gyr_3_std_x_2 = process_signal(gyrx32)\n",
    "gyr_3_val_y_2, _, gyr_3_nor_y_2, gyr_3_mea_y_2, gyr_3_std_y_2 = process_signal(gyry32)\n",
    "gyr_3_val_z_2, _, gyr_3_nor_z_2, gyr_3_mea_z_2, gyr_3_std_z_2 = process_signal(gyrz32)\n",
    "gyr_3_nor_1, gyr_3_mea_1, gyr_3_std_1 = join_accelerometer_signals(gyr_3_nor_x_1, gyr_3_nor_y_1, gyr_3_nor_z_1)\n",
    "gyr_3_nor_2, gyr_3_mea_2, gyr_3_std_2 = join_accelerometer_signals(gyr_3_nor_x_2, gyr_3_nor_y_2, gyr_3_nor_z_2)\n",
    "\n",
    "gyr_4_val_x_1, _, gyr_4_nor_x_1, gyr_4_mea_x_1, gyr_4_std_x_1 = process_signal(gyrx41)\n",
    "gyr_4_val_y_1, _, gyr_4_nor_y_1, gyr_4_mea_y_1, gyr_4_std_y_1 = process_signal(gyry41)\n",
    "gyr_4_val_z_1, _, gyr_4_nor_z_1, gyr_4_mea_z_1, gyr_4_std_z_1 = process_signal(gyrz41)\n",
    "gyr_4_val_x_2, _, gyr_4_nor_x_2, gyr_4_mea_x_2, gyr_4_std_x_2 = process_signal(gyrx42)\n",
    "gyr_4_val_y_2, _, gyr_4_nor_y_2, gyr_4_mea_y_2, gyr_4_std_y_2 = process_signal(gyry42)\n",
    "gyr_4_val_z_2, _, gyr_4_nor_z_2, gyr_4_mea_z_2, gyr_4_std_z_2 = process_signal(gyrz42)\n",
    "gyr_4_nor_1, gyr_4_mea_1, gyr_4_std_1 = join_accelerometer_signals(gyr_4_nor_x_1, gyr_4_nor_y_1, gyr_4_nor_z_1)\n",
    "gyr_4_nor_2, gyr_4_mea_2, gyr_4_std_2 = join_accelerometer_signals(gyr_4_nor_x_2, gyr_4_nor_y_2, gyr_4_nor_z_2)"
   ]
  },
  {
   "cell_type": "markdown",
   "metadata": {},
   "source": [
    "## Visualization"
   ]
  },
  {
   "cell_type": "code",
   "execution_count": null,
   "metadata": {
    "scrolled": false
   },
   "outputs": [],
   "source": [
    "stats = DataFrame(gyr_1_nor_1, columns=[\"values\"])\n",
    "fig = px.line(stats, y=\"values\")\n",
    "fig.show()\n",
    "\n",
    "stats = DataFrame(gyr_1_nor_2, columns=[\"values\"])\n",
    "fig = px.line(stats, y=\"values\")\n",
    "fig.show()"
   ]
  },
  {
   "cell_type": "markdown",
   "metadata": {},
   "source": [
    "## Mean values"
   ]
  },
  {
   "cell_type": "code",
   "execution_count": null,
   "metadata": {
    "scrolled": false
   },
   "outputs": [],
   "source": [
    "print(\"X mean values:\")\n",
    "print(gyr_1_mea_x_1)\n",
    "print(gyr_1_mea_x_2)\n",
    "print(gyr_2_mea_x_1)\n",
    "print(gyr_2_mea_x_2)\n",
    "print(gyr_3_mea_x_1)\n",
    "print(gyr_3_mea_x_2)\n",
    "print(gyr_4_mea_x_1)\n",
    "print(gyr_4_mea_x_2)\n",
    "print()\n",
    "print(\"Y mean values:\")\n",
    "print(gyr_1_mea_y_1)\n",
    "print(gyr_1_mea_y_2)\n",
    "print(gyr_2_mea_y_1)\n",
    "print(gyr_2_mea_y_2)\n",
    "print(gyr_3_mea_y_1)\n",
    "print(gyr_3_mea_y_2)\n",
    "print(gyr_4_mea_y_1)\n",
    "print(gyr_4_mea_y_2)\n",
    "print()\n",
    "print(\"Z mean values:\")\n",
    "print(gyr_1_mea_z_1)\n",
    "print(gyr_1_mea_z_2)\n",
    "print(gyr_2_mea_z_1)\n",
    "print(gyr_2_mea_z_2)\n",
    "print(gyr_3_mea_z_1)\n",
    "print(gyr_3_mea_z_2)\n",
    "print(gyr_4_mea_z_1)\n",
    "print(gyr_4_mea_z_2)\n",
    "print()\n",
    "print(\"Combined mean values:\")\n",
    "print(gyr_1_mea_1)\n",
    "print(gyr_1_mea_2)\n",
    "print(gyr_2_mea_1)\n",
    "print(gyr_2_mea_2)\n",
    "print(gyr_3_mea_1)\n",
    "print(gyr_3_mea_2)\n",
    "print(gyr_4_mea_1)\n",
    "print(gyr_4_mea_2)"
   ]
  },
  {
   "cell_type": "markdown",
   "metadata": {},
   "source": [
    "## Standard deviations"
   ]
  },
  {
   "cell_type": "code",
   "execution_count": null,
   "metadata": {
    "scrolled": false
   },
   "outputs": [],
   "source": [
    "print(\"X stdn values:\")\n",
    "print(gyr_1_std_x_1)\n",
    "print(gyr_1_std_x_2)\n",
    "print(gyr_2_std_x_1)\n",
    "print(gyr_2_std_x_2)\n",
    "print(gyr_3_std_x_1)\n",
    "print(gyr_3_std_x_2)\n",
    "print(gyr_4_std_x_1)\n",
    "print(gyr_4_std_x_2)\n",
    "print()\n",
    "print(\"Y stdn values:\")\n",
    "print(gyr_1_std_y_1)\n",
    "print(gyr_1_std_y_2)\n",
    "print(gyr_2_std_y_1)\n",
    "print(gyr_2_std_y_2)\n",
    "print(gyr_3_std_y_1)\n",
    "print(gyr_3_std_y_2)\n",
    "print(gyr_4_std_y_1)\n",
    "print(gyr_4_std_y_2)\n",
    "print()\n",
    "print(\"Z stdn values:\")\n",
    "print(gyr_1_std_z_1)\n",
    "print(gyr_1_std_z_2)\n",
    "print(gyr_2_std_z_1)\n",
    "print(gyr_2_std_z_2)\n",
    "print(gyr_3_std_z_1)\n",
    "print(gyr_3_std_z_2)\n",
    "print(gyr_4_std_z_1)\n",
    "print(gyr_4_std_z_2)\n",
    "print()\n",
    "print(\"Combined stdn values:\")\n",
    "print(gyr_1_std_1)\n",
    "print(gyr_1_std_2)\n",
    "print(gyr_2_std_1)\n",
    "print(gyr_2_std_2)\n",
    "print(gyr_3_std_1)\n",
    "print(gyr_3_std_2)\n",
    "print(gyr_4_std_1)\n",
    "print(gyr_4_std_2)"
   ]
  },
  {
   "cell_type": "markdown",
   "metadata": {},
   "source": [
    "## Mean crossing rate"
   ]
  },
  {
   "cell_type": "code",
   "execution_count": null,
   "metadata": {
    "scrolled": false
   },
   "outputs": [],
   "source": [
    "print(\"X mean crossing rate:\")\n",
    "print(mean_crossing_rate(gyr_1_val_x_1, gyr_1_mea_x_1))\n",
    "print(mean_crossing_rate(gyr_1_val_x_2, gyr_1_mea_x_2))\n",
    "print(mean_crossing_rate(gyr_2_val_x_1, gyr_2_mea_x_1))\n",
    "print(mean_crossing_rate(gyr_2_val_x_2, gyr_2_mea_x_2))\n",
    "print(mean_crossing_rate(gyr_3_val_x_1, gyr_3_mea_x_1))\n",
    "print(mean_crossing_rate(gyr_3_val_x_2, gyr_3_mea_x_2))\n",
    "print(mean_crossing_rate(gyr_4_val_x_1, gyr_4_mea_x_1))\n",
    "print(mean_crossing_rate(gyr_4_val_x_2, gyr_4_mea_x_2))\n",
    "print()\n",
    "print(\"Y mean crossing rate:\")\n",
    "print(mean_crossing_rate(gyr_1_val_y_1, gyr_1_mea_y_1))\n",
    "print(mean_crossing_rate(gyr_1_val_y_2, gyr_1_mea_y_2))\n",
    "print(mean_crossing_rate(gyr_2_val_y_1, gyr_2_mea_y_1))\n",
    "print(mean_crossing_rate(gyr_2_val_y_2, gyr_2_mea_y_2))\n",
    "print(mean_crossing_rate(gyr_3_val_y_1, gyr_3_mea_y_1))\n",
    "print(mean_crossing_rate(gyr_3_val_y_2, gyr_3_mea_y_2))\n",
    "print(mean_crossing_rate(gyr_4_val_y_1, gyr_4_mea_y_1))\n",
    "print(mean_crossing_rate(gyr_4_val_y_2, gyr_4_mea_y_2))\n",
    "print()\n",
    "print(\"Z mean crossing rate:\")\n",
    "print(mean_crossing_rate(gyr_1_val_z_1, gyr_1_mea_z_1))\n",
    "print(mean_crossing_rate(gyr_1_val_z_2, gyr_1_mea_z_2))\n",
    "print(mean_crossing_rate(gyr_2_val_z_1, gyr_2_mea_z_1))\n",
    "print(mean_crossing_rate(gyr_2_val_z_2, gyr_2_mea_z_2))\n",
    "print(mean_crossing_rate(gyr_3_val_z_1, gyr_3_mea_z_1))\n",
    "print(mean_crossing_rate(gyr_3_val_z_2, gyr_3_mea_z_2))\n",
    "print(mean_crossing_rate(gyr_4_val_z_1, gyr_4_mea_z_1))\n",
    "print(mean_crossing_rate(gyr_4_val_z_2, gyr_4_mea_z_2))\n",
    "print()\n",
    "print(\"Combined crossing rate:\")\n",
    "print(mean_crossing_rate(gyr_1_nor_1, gyr_1_mea_1))\n",
    "print(mean_crossing_rate(gyr_1_nor_2, gyr_1_mea_2))\n",
    "print(mean_crossing_rate(gyr_2_nor_1, gyr_2_mea_1))\n",
    "print(mean_crossing_rate(gyr_2_nor_2, gyr_2_mea_2))\n",
    "print(mean_crossing_rate(gyr_3_nor_1, gyr_3_mea_1))\n",
    "print(mean_crossing_rate(gyr_3_nor_2, gyr_3_mea_2))\n",
    "print(mean_crossing_rate(gyr_4_nor_1, gyr_4_mea_1))\n",
    "print(mean_crossing_rate(gyr_4_nor_2, gyr_4_mea_2))"
   ]
  },
  {
   "cell_type": "markdown",
   "metadata": {},
   "source": [
    "# Force sensors data overview"
   ]
  },
  {
   "cell_type": "code",
   "execution_count": null,
   "metadata": {
    "scrolled": false
   },
   "outputs": [],
   "source": [
    "users = [\"test_subject_10\", \"test_subject_11\", \"test_subject_12\", \"test_subject_13\"]\n",
    "fsra11, fsrb11, fsrc11, fsrd11 = load_data(users[0], 0, \"force\")\n",
    "fsra12, fsrb12, fsrc12, fsrd12 = load_data(users[0], 3, \"force\")\n",
    "fsra21, fsrb21, fsrc21, fsrd21 = load_data(users[1], 0, \"force\")\n",
    "fsra22, fsrb22, fsrc22, fsrd22 = load_data(users[1], 3, \"force\")\n",
    "fsra31, fsrb31, fsrc31, fsrd31 = load_data(users[2], 0, \"force\")\n",
    "fsra32, fsrb32, fsrc32, fsrd32 = load_data(users[2], 3, \"force\")\n",
    "fsra41, fsrb41, fsrc41, fsrd41 = load_data(users[2], 0, \"force\")\n",
    "fsra42, fsrb42, fsrc42, fsrd42 = load_data(users[3], 3, \"force\")\n",
    "\n",
    "fsr_1_val_a_1, _, _, fsr_1_mea_a_1, fsr_1_std_a_1 = process_signal(fsra11)\n",
    "fsr_1_val_b_1, _, _, fsr_1_mea_b_1, fsr_1_std_b_1 = process_signal(fsrb11)\n",
    "fsr_1_val_c_1, _, _, fsr_1_mea_c_1, fsr_1_std_c_1 = process_signal(fsrc11)\n",
    "fsr_1_val_d_1, _, _, fsr_1_mea_d_1, fsr_1_std_d_1 = process_signal(fsrd11)\n",
    "fsr_1_val_a_2, _, _, fsr_1_mea_a_2, fsr_1_std_a_2 = process_signal(fsra12)\n",
    "fsr_1_val_b_2, _, _, fsr_1_mea_b_2, fsr_1_std_b_2 = process_signal(fsrb12)\n",
    "fsr_1_val_c_2, _, _, fsr_1_mea_c_2, fsr_1_std_c_2 = process_signal(fsrc12)\n",
    "fsr_1_val_d_2, _, _, fsr_1_mea_d_2, fsr_1_std_d_2 = process_signal(fsrd12)\n",
    "\n",
    "fsr_2_val_a_1, _, _, fsr_2_mea_a_1, fsr_2_std_a_1 = process_signal(fsra21)\n",
    "fsr_2_val_b_1, _, _, fsr_2_mea_b_1, fsr_2_std_b_1 = process_signal(fsrb21)\n",
    "fsr_2_val_c_1, _, _, fsr_2_mea_c_1, fsr_2_std_c_1 = process_signal(fsrc21)\n",
    "fsr_2_val_d_1, _, _, fsr_2_mea_d_1, fsr_2_std_d_1 = process_signal(fsrd21)\n",
    "fsr_2_val_a_2, _, _, fsr_2_mea_a_2, fsr_2_std_a_2 = process_signal(fsra22)\n",
    "fsr_2_val_b_2, _, _, fsr_2_mea_b_2, fsr_2_std_b_2 = process_signal(fsrb22)\n",
    "fsr_2_val_c_2, _, _, fsr_2_mea_c_2, fsr_2_std_c_2 = process_signal(fsrc22)\n",
    "fsr_2_val_d_2, _, _, fsr_2_mea_d_2, fsr_2_std_d_2 = process_signal(fsrd22)\n",
    "\n",
    "fsr_3_val_a_1, _, _, fsr_3_mea_a_1, fsr_3_std_a_1 = process_signal(fsra31)\n",
    "fsr_3_val_b_1, _, _, fsr_3_mea_b_1, fsr_3_std_b_1 = process_signal(fsrb31)\n",
    "fsr_3_val_c_1, _, _, fsr_3_mea_c_1, fsr_3_std_c_1 = process_signal(fsrc31)\n",
    "fsr_3_val_d_1, _, _, fsr_3_mea_d_1, fsr_3_std_d_1 = process_signal(fsrd31)\n",
    "fsr_3_val_a_2, _, _, fsr_3_mea_a_2, fsr_3_std_a_2 = process_signal(fsra32)\n",
    "fsr_3_val_b_2, _, _, fsr_3_mea_b_2, fsr_3_std_b_2 = process_signal(fsrb32)\n",
    "fsr_3_val_c_2, _, _, fsr_3_mea_c_2, fsr_3_std_c_2 = process_signal(fsrc32)\n",
    "fsr_3_val_d_2, _, _, fsr_3_mea_d_2, fsr_3_std_d_2 = process_signal(fsrd32)\n",
    "\n",
    "fsr_4_val_a_1, _, _, fsr_4_mea_a_1, fsr_4_std_a_1 = process_signal(fsra41)\n",
    "fsr_4_val_b_1, _, _, fsr_4_mea_b_1, fsr_4_std_b_1 = process_signal(fsrb41)\n",
    "fsr_4_val_c_1, _, _, fsr_4_mea_c_1, fsr_4_std_c_1 = process_signal(fsrc41)\n",
    "fsr_4_val_d_1, _, _, fsr_4_mea_d_1, fsr_4_std_d_1 = process_signal(fsrd41)\n",
    "fsr_4_val_a_2, _, _, fsr_4_mea_a_2, fsr_4_std_a_2 = process_signal(fsra42)\n",
    "fsr_4_val_b_2, _, _, fsr_4_mea_b_2, fsr_4_std_b_2 = process_signal(fsrb42)\n",
    "fsr_4_val_c_2, _, _, fsr_4_mea_c_2, fsr_4_std_c_2 = process_signal(fsrc42)\n",
    "fsr_4_val_d_2, _, _, fsr_4_mea_d_2, fsr_4_std_d_2 = process_signal(fsrd42)\n"
   ]
  },
  {
   "cell_type": "markdown",
   "metadata": {},
   "source": [
    "## Visualization"
   ]
  },
  {
   "cell_type": "code",
   "execution_count": null,
   "metadata": {
    "scrolled": false
   },
   "outputs": [],
   "source": [
    "stats = DataFrame(fsr_1_val_a_1, columns=[\"values\"])\n",
    "fig = px.line(stats, y=\"values\")\n",
    "fig.show()\n",
    "stats = DataFrame(fsr_1_val_a_2, columns=[\"values\"])\n",
    "fig = px.line(stats, y=\"values\")\n",
    "fig.show()"
   ]
  },
  {
   "cell_type": "markdown",
   "metadata": {},
   "source": [
    "## Mean values"
   ]
  },
  {
   "cell_type": "code",
   "execution_count": null,
   "metadata": {
    "scrolled": false
   },
   "outputs": [],
   "source": [
    "print(\"Fsr 1 mean values:\")\n",
    "print(fsr_1_mea_a_1)\n",
    "print(fsr_1_mea_a_2)\n",
    "print(fsr_2_mea_a_1)\n",
    "print(fsr_2_mea_a_2)\n",
    "print(fsr_3_mea_a_1)\n",
    "print(fsr_3_mea_a_2)\n",
    "print(fsr_4_mea_a_1)\n",
    "print(fsr_4_mea_a_2)\n",
    "print()\n",
    "print(\"Fsr 2 mean values:\")\n",
    "print(fsr_1_mea_b_1)\n",
    "print(fsr_1_mea_b_2)\n",
    "print(fsr_2_mea_b_1)\n",
    "print(fsr_2_mea_b_2)\n",
    "print(fsr_3_mea_b_1)\n",
    "print(fsr_3_mea_b_2)\n",
    "print(fsr_4_mea_b_1)\n",
    "print(fsr_4_mea_b_2)\n",
    "print()\n",
    "print(\"Fsr 3 mean values:\")\n",
    "print(fsr_1_mea_c_1)\n",
    "print(fsr_1_mea_c_2)\n",
    "print(fsr_2_mea_c_1)\n",
    "print(fsr_2_mea_c_2)\n",
    "print(fsr_3_mea_c_1)\n",
    "print(fsr_3_mea_c_2)\n",
    "print(fsr_4_mea_c_1)\n",
    "print(fsr_4_mea_c_2)\n",
    "print()\n",
    "print(\"Fsr 4 mean values:\")\n",
    "print(fsr_1_mea_d_1)\n",
    "print(fsr_1_mea_d_2)\n",
    "print(fsr_2_mea_d_1)\n",
    "print(fsr_2_mea_d_2)\n",
    "print(fsr_3_mea_d_1)\n",
    "print(fsr_3_mea_d_2)\n",
    "print(fsr_4_mea_d_1)\n",
    "print(fsr_4_mea_d_2)"
   ]
  },
  {
   "cell_type": "markdown",
   "metadata": {},
   "source": [
    "## Standard deviations"
   ]
  },
  {
   "cell_type": "code",
   "execution_count": null,
   "metadata": {
    "scrolled": false
   },
   "outputs": [],
   "source": [
    "print(\"Fsr 1 stdn values:\")\n",
    "print(fsr_1_std_a_1)\n",
    "print(fsr_1_std_a_2)\n",
    "print(fsr_2_std_a_1)\n",
    "print(fsr_2_std_a_2)\n",
    "print(fsr_3_std_a_1)\n",
    "print(fsr_3_std_a_2)\n",
    "print(fsr_4_std_a_1)\n",
    "print(fsr_4_std_a_2)\n",
    "print()\n",
    "print(\"Fsr 2 stdn values:\")\n",
    "print(fsr_1_std_b_1)\n",
    "print(fsr_1_std_b_2)\n",
    "print(fsr_2_std_b_1)\n",
    "print(fsr_2_std_b_2)\n",
    "print(fsr_3_std_b_1)\n",
    "print(fsr_3_std_b_2)\n",
    "print(fsr_4_std_b_1)\n",
    "print(fsr_4_std_b_2)\n",
    "print()\n",
    "print(\"Fsr 3 stdn values:\")\n",
    "print(fsr_1_std_c_1)\n",
    "print(fsr_1_std_c_2)\n",
    "print(fsr_2_std_c_1)\n",
    "print(fsr_2_std_c_2)\n",
    "print(fsr_3_std_c_1)\n",
    "print(fsr_3_std_c_2)\n",
    "print(fsr_4_std_c_1)\n",
    "print(fsr_4_std_c_2)\n",
    "print()\n",
    "print(\"Fsr 4 stdn values:\")\n",
    "print(fsr_1_std_d_1)\n",
    "print(fsr_1_std_d_2)\n",
    "print(fsr_2_std_d_1)\n",
    "print(fsr_2_std_d_2)\n",
    "print(fsr_3_std_d_1)\n",
    "print(fsr_3_std_d_2)\n",
    "print(fsr_4_std_d_1)\n",
    "print(fsr_4_std_d_2)"
   ]
  },
  {
   "cell_type": "markdown",
   "metadata": {},
   "source": [
    "## Mean crossing rate"
   ]
  },
  {
   "cell_type": "code",
   "execution_count": null,
   "metadata": {
    "scrolled": false
   },
   "outputs": [],
   "source": [
    "print(\"Fsr 1 stdn values:\")\n",
    "print(mean_crossing_rate(fsr_1_val_a_1, fsr_1_mea_a_1))\n",
    "print(mean_crossing_rate(fsr_1_val_a_2, fsr_1_mea_a_2))\n",
    "print(mean_crossing_rate(fsr_2_val_a_1, fsr_2_mea_a_1))\n",
    "print(mean_crossing_rate(fsr_2_val_a_2, fsr_2_mea_a_2))\n",
    "print(mean_crossing_rate(fsr_3_val_a_1, fsr_3_mea_a_1))\n",
    "print(mean_crossing_rate(fsr_3_val_a_2, fsr_3_mea_a_2))\n",
    "print(mean_crossing_rate(fsr_4_val_a_1, fsr_4_mea_a_1))\n",
    "print(mean_crossing_rate(fsr_4_val_a_2, fsr_4_mea_a_2))\n",
    "print()\n",
    "print(\"Fsr 2 stdn values:\")\n",
    "print(mean_crossing_rate(fsr_1_val_b_1, fsr_1_mea_b_1))\n",
    "print(mean_crossing_rate(fsr_1_val_b_2, fsr_1_mea_b_2))\n",
    "print(mean_crossing_rate(fsr_2_val_b_1, fsr_2_mea_b_1))\n",
    "print(mean_crossing_rate(fsr_2_val_b_2, fsr_2_mea_b_2))\n",
    "print(mean_crossing_rate(fsr_3_val_b_1, fsr_3_mea_b_1))\n",
    "print(mean_crossing_rate(fsr_3_val_b_2, fsr_3_mea_b_2))\n",
    "print(mean_crossing_rate(fsr_4_val_b_1, fsr_4_mea_b_1))\n",
    "print(mean_crossing_rate(fsr_4_val_b_2, fsr_4_mea_b_2))\n",
    "print()\n",
    "print(\"Fsr 3 stdn values:\")\n",
    "print(mean_crossing_rate(fsr_1_val_c_1, fsr_1_mea_c_1))\n",
    "print(mean_crossing_rate(fsr_1_val_c_2, fsr_1_mea_c_2))\n",
    "print(mean_crossing_rate(fsr_2_val_c_1, fsr_2_mea_c_1))\n",
    "print(mean_crossing_rate(fsr_2_val_c_2, fsr_2_mea_c_2))\n",
    "print(mean_crossing_rate(fsr_3_val_c_1, fsr_3_mea_c_1))\n",
    "print(mean_crossing_rate(fsr_3_val_c_2, fsr_3_mea_c_2))\n",
    "print(mean_crossing_rate(fsr_4_val_c_1, fsr_4_mea_c_1))\n",
    "print(mean_crossing_rate(fsr_4_val_c_2, fsr_4_mea_c_2))\n",
    "print()\n",
    "print(\"Fsr 3 stdn values:\")\n",
    "print(mean_crossing_rate(fsr_1_val_d_1, fsr_1_mea_d_1))\n",
    "print(mean_crossing_rate(fsr_1_val_d_2, fsr_1_mea_d_2))\n",
    "print(mean_crossing_rate(fsr_2_val_d_1, fsr_2_mea_d_1))\n",
    "print(mean_crossing_rate(fsr_2_val_d_2, fsr_2_mea_d_2))\n",
    "print(mean_crossing_rate(fsr_3_val_d_1, fsr_3_mea_d_1))\n",
    "print(mean_crossing_rate(fsr_3_val_d_2, fsr_3_mea_d_2))\n",
    "print(mean_crossing_rate(fsr_4_val_d_1, fsr_4_mea_d_1))\n",
    "print(mean_crossing_rate(fsr_4_val_d_2, fsr_4_mea_d_2))"
   ]
  },
  {
   "cell_type": "markdown",
   "metadata": {},
   "source": [
    "# CPU overview"
   ]
  },
  {
   "cell_type": "code",
   "execution_count": null,
   "metadata": {
    "scrolled": false
   },
   "outputs": [],
   "source": [
    "users = [\"test_subject_10\", \"test_subject_11\", \"test_subject_12\", \"test_subject_13\"]\n",
    "cpua11, cpub11, cpuc11, cpud11 = load_data(users[0], 0, \"cpu\")\n",
    "cpua12, cpub12, cpuc12, cpud12 = load_data(users[0], 3, \"cpu\")\n",
    "cpua21, cpub21, cpuc21, cpud21 = load_data(users[1], 0, \"cpu\")\n",
    "cpua22, cpub22, cpuc22, cpud22 = load_data(users[1], 3, \"cpu\")\n",
    "cpua31, cpub31, cpuc31, cpud31 = load_data(users[2], 0, \"cpu\")\n",
    "cpua32, cpub32, cpuc32, cpud32 = load_data(users[2], 3, \"cpu\")\n",
    "cpua41, cpub41, cpuc41, cpud41 = load_data(users[3], 0, \"cpu\")\n",
    "cpua42, cpub42, cpuc42, cpud42 = load_data(users[3], 3, \"cpu\")\n",
    "\n",
    "cpu_1_val_a_1, _, _, cpu_1_mea_a_1, _ = process_signal(cpua11)\n",
    "cpu_1_val_b_1, _, _, cpu_1_mea_b_1, _ = process_signal(cpub11)\n",
    "cpu_1_val_c_1, _, _, cpu_1_mea_c_1, _ = process_signal(cpuc11)\n",
    "cpu_1_val_d_1, _, _, cpu_1_mea_d_1, _ = process_signal(cpud11)\n",
    "cpu_1_val_1, cpu_1_mea_1, _ = join_cpu_signals(cpu_1_val_a_1, cpu_1_val_b_1, cpu_1_val_c_1, cpu_1_val_d_1)\n",
    "\n",
    "cpu_1_val_a_2, _, _, cpu_1_mea_a_2, _ = process_signal(cpua12)\n",
    "cpu_1_val_b_2, _, _, cpu_1_mea_b_2, _ = process_signal(cpub12)\n",
    "cpu_1_val_c_2, _, _, cpu_1_mea_c_2, _ = process_signal(cpuc12)\n",
    "cpu_1_val_d_2, _, _, cpu_1_mea_d_2, _ = process_signal(cpud12)\n",
    "cpu_1_val_2, cpu_1_mea_2, _ = join_cpu_signals(cpu_1_val_a_2, cpu_1_val_b_2, cpu_1_val_c_2, cpu_1_val_d_2)\n",
    "\n",
    "cpu_2_val_a_1, _, _, cpu_2_mea_a_1, _ = process_signal(cpua21)\n",
    "cpu_2_val_b_1, _, _, cpu_2_mea_b_1, _ = process_signal(cpub21)\n",
    "cpu_2_val_c_1, _, _, cpu_2_mea_c_1, _ = process_signal(cpuc21)\n",
    "cpu_2_val_d_1, _, _, cpu_2_mea_d_1, _ = process_signal(cpud21)\n",
    "cpu_2_val_1, cpu_2_mea_1, _ = join_cpu_signals(cpu_2_val_a_1, cpu_2_val_b_1, cpu_2_val_c_1, cpu_2_val_d_1)\n",
    "\n",
    "cpu_2_val_a_2, _, _, cpu_2_mea_a_2, _ = process_signal(cpua22)\n",
    "cpu_2_val_b_2, _, _, cpu_2_mea_b_2, _ = process_signal(cpub22)\n",
    "cpu_2_val_c_2, _, _, cpu_2_mea_c_2, _ = process_signal(cpuc22)\n",
    "cpu_2_val_d_2, _, _, cpu_2_mea_d_2, _ = process_signal(cpud22)\n",
    "cpu_2_val_2, cpu_2_mea_2, _ = join_cpu_signals(cpu_2_val_a_2, cpu_2_val_b_2, cpu_2_val_c_2, cpu_2_val_d_2)\n",
    "\n",
    "cpu_3_val_a_1, _, _, cpu_3_mea_a_1, _ = process_signal(cpua31)\n",
    "cpu_3_val_b_1, _, _, cpu_3_mea_b_1, _ = process_signal(cpub31)\n",
    "cpu_3_val_c_1, _, _, cpu_3_mea_c_1, _ = process_signal(cpuc31)\n",
    "cpu_3_val_d_1, _, _, cpu_3_mea_d_1, _ = process_signal(cpud31)\n",
    "cpu_3_val_1, cpu_3_mea_1, _ = join_cpu_signals(cpu_3_val_a_1, cpu_3_val_b_1, cpu_3_val_c_1, cpu_3_val_d_1)\n",
    "\n",
    "cpu_3_val_a_2, _, _, cpu_3_mea_a_2, _ = process_signal(cpua32)\n",
    "cpu_3_val_b_2, _, _, cpu_3_mea_b_2, _ = process_signal(cpub32)\n",
    "cpu_3_val_c_2, _, _, cpu_3_mea_c_2, _ = process_signal(cpuc32)\n",
    "cpu_3_val_d_2, _, _, cpu_3_mea_d_2, _ = process_signal(cpud32)\n",
    "cpu_3_val_2, cpu_3_mea_2, _ = join_cpu_signals(cpu_3_val_a_2, cpu_3_val_b_2, cpu_3_val_c_2, cpu_3_val_d_2)\n",
    "\n",
    "cpu_4_val_a_1, _, _, cpu_4_mea_a_1, _ = process_signal(cpua41)\n",
    "cpu_4_val_b_1, _, _, cpu_4_mea_b_1, _ = process_signal(cpub41)\n",
    "cpu_4_val_c_1, _, _, cpu_4_mea_c_1, _ = process_signal(cpuc41)\n",
    "cpu_4_val_d_1, _, _, cpu_4_mea_d_1, _ = process_signal(cpud41)\n",
    "cpu_4_val_1, cpu_4_mea_1, _ = join_cpu_signals(cpu_4_val_a_1, cpu_4_val_b_1, cpu_4_val_c_1, cpu_4_val_d_1)\n",
    "\n",
    "cpu_4_val_a_2, _, _, cpu_4_mea_a_2, _ = process_signal(cpua42)\n",
    "cpu_4_val_b_2, _, _, cpu_4_mea_b_2, _ = process_signal(cpub42)\n",
    "cpu_4_val_c_2, _, _, cpu_4_mea_c_2, _ = process_signal(cpuc42)\n",
    "cpu_4_val_d_2, _, _, cpu_4_mea_d_2, _ = process_signal(cpud42)\n",
    "cpu_4_val_2, cpu_4_mea_2, _ = join_cpu_signals(cpu_4_val_a_2, cpu_4_val_b_2, cpu_4_val_c_2, cpu_4_val_d_2)\n"
   ]
  },
  {
   "cell_type": "code",
   "execution_count": null,
   "metadata": {
    "scrolled": false
   },
   "outputs": [],
   "source": [
    "stats = {\"avg_load\": [], \"min_load\": [], \"max_load\": [], \"mean_crossing_rate\": []}\n",
    "\n",
    "for val, mea in zip(\n",
    "    [cpu_1_val_1, cpu_1_val_2, cpu_2_val_1, cpu_2_val_2, cpu_3_val_1, cpu_3_val_2, cpu_4_val_1, cpu_4_val_2],\n",
    "    [cpu_1_mea_1, cpu_1_mea_2, cpu_2_mea_1, cpu_2_mea_2, cpu_3_mea_1, cpu_3_mea_2, cpu_4_mea_1, cpu_4_mea_2]\n",
    "):\n",
    "    stats[\"avg_load\"].append(mean(val))\n",
    "    stats[\"min_load\"].append(min(val))\n",
    "    stats[\"max_load\"].append(max(val))\n",
    "    stats[\"mean_crossing_rate\"].append(mean_crossing_rate(val, mea))\n",
    "    \n",
    "stats = DataFrame(stats)\n",
    "print(stats)"
   ]
  },
  {
   "cell_type": "markdown",
   "metadata": {},
   "source": [
    "# Memory overview"
   ]
  },
  {
   "cell_type": "code",
   "execution_count": null,
   "metadata": {
    "scrolled": false
   },
   "outputs": [],
   "source": [
    "users = [\"test_subject_10\", \"test_subject_11\", \"test_subject_12\", \"test_subject_13\"]\n",
    "ram11 = load_data(users[0], 0, \"ram\")\n",
    "ram12 = load_data(users[0], 3, \"ram\")\n",
    "ram21 = load_data(users[1], 0, \"ram\")\n",
    "ram22 = load_data(users[1], 3, \"ram\")\n",
    "ram31 = load_data(users[2], 0, \"ram\")\n",
    "ram32 = load_data(users[2], 3, \"ram\")\n",
    "ram41 = load_data(users[3], 0, \"ram\")\n",
    "ram42 = load_data(users[3], 3, \"ram\")\n",
    "\n",
    "ram_1_val_1, _, _, _, _ = process_signal(ram11)\n",
    "ram_1_val_2, _, _, _, _ = process_signal(ram12)\n",
    "ram_2_val_1, _, _, _, _ = process_signal(ram21)\n",
    "ram_2_val_2, _, _, _, _ = process_signal(ram22)\n",
    "ram_3_val_1, _, _, _, _ = process_signal(ram31)\n",
    "ram_3_val_2, _, _, _, _ = process_signal(ram32)\n",
    "ram_4_val_1, _, _, _, _ = process_signal(ram41)\n",
    "ram_4_val_2, _, _, _, _ = process_signal(ram42)\n"
   ]
  },
  {
   "cell_type": "code",
   "execution_count": null,
   "metadata": {
    "scrolled": false
   },
   "outputs": [],
   "source": [
    "def find_ram_jump(signal):\n",
    "    derivative = []\n",
    "    prev = signal[0]\n",
    "    for curr in signal[1:]:\n",
    "        derivative.append(abs(curr-prev))\n",
    "        prev = curr\n",
    "    peaks, _ = find_peaks(derivative, threshold=0.25)\n",
    "    \n",
    "    p = {\"position\": [], \"magnitude\": []}\n",
    "    for x in peaks:\n",
    "        p[\"position\"].append(x)\n",
    "        p[\"magnitude\"].append(derivative[x])\n",
    "    return derivative, p\n",
    "\n",
    "stats = {\"avg_load\":[], \"min_load\":[], \"max_load\":[], \"jump_count\":[], \"jump_rate\":[], \"avg_jump_value\":[], \"avg_inter_jump_interval\":[]}\n",
    "\n",
    "for x in [ram_1_val_1, ram_1_val_2, ram_2_val_1, ram_2_val_2, ram_3_val_1, ram_3_val_2, ram_4_val_1, ram_4_val_2]:\n",
    "    derivatives, peaks = find_ram_jump(x)\n",
    "    val = DataFrame(x, columns=[\"values\"])\n",
    "    der = DataFrame(derivatives, columns=[\"values\"])\n",
    "    pea = DataFrame(peaks)\n",
    "\n",
    "    fig = go.Figure()\n",
    "    fig.add_trace(\n",
    "        go.Scatter(\n",
    "            name=\"Value\",\n",
    "            x=val.index.values,\n",
    "            y=val[\"values\"],\n",
    "        )\n",
    "    )\n",
    "    fig.add_trace(\n",
    "        go.Scatter(\n",
    "            name=\"Derivative\",\n",
    "            x=der.index.values,\n",
    "            y=der[\"values\"],\n",
    "        )\n",
    "    )\n",
    "    fig.add_trace(\n",
    "        go.Scatter(\n",
    "            name=\"Peak\",\n",
    "            x=pea[\"position\"],\n",
    "            y=pea[\"magnitude\"],\n",
    "            mode=\"markers\",\n",
    "        )\n",
    "    )\n",
    "    fig.show()\n",
    "    \n",
    "    # Calculate average inter jump interval\n",
    "    prev = peaks[\"position\"][0]\n",
    "    intervals = []\n",
    "    for curr in peaks[\"position\"][1:]:\n",
    "        intervals.append(curr-prev)\n",
    "        prev = curr\n",
    "    avg_load = round(mean(x), 2)\n",
    "    min_load = min(x)\n",
    "    max_load = max(x)\n",
    "    jump_count = len(peaks[\"position\"])\n",
    "    jump_rate = round(len(peaks[\"position\"])/len(derivatives), 2)\n",
    "    avg_jump_value = round(mean(peaks[\"magnitude\"]), 2)\n",
    "    avg_inter_jump_interval = round(mean(intervals), 2)\n",
    "    print(\"Average load: \\t\\t\\t{}\".format(avg_load))\n",
    "    print(\"Minimum load: \\t\\t\\t{}\".format(min_load))\n",
    "    print(\"Maximum load: \\t\\t\\t{}\".format(max_load))\n",
    "    print(\"Jump count: \\t\\t\\t{}\".format(jump_count))\n",
    "    print(\"Jump rate: \\t\\t\\t{}\".format(jump_rate))\n",
    "    print(\"Average jump value: \\t\\t{}\".format(avg_jump_value))\n",
    "    print(\"Average inter jump interval: \\t{}\".format(avg_inter_jump_interval))\n",
    "    \n",
    "    stats[\"avg_load\"].append(avg_load)\n",
    "    stats[\"min_load\"].append(min_load)\n",
    "    stats[\"max_load\"].append(max_load)\n",
    "    stats[\"jump_count\"].append(jump_count)\n",
    "    stats[\"jump_rate\"].append(jump_rate)\n",
    "    stats[\"avg_jump_value\"].append(avg_jump_value)\n",
    "    stats[\"avg_inter_jump_interval\"].append(avg_inter_jump_interval)\n",
    "\n",
    "stats = DataFrame(stats)\n",
    "print()\n",
    "print(stats)\n",
    "\n"
   ]
  },
  {
   "cell_type": "markdown",
   "metadata": {},
   "source": [
    "# Network activity overview"
   ]
  },
  {
   "cell_type": "code",
   "execution_count": null,
   "metadata": {
    "scrolled": false
   },
   "outputs": [],
   "source": [
    "users = [\"test_subject_10\", \"test_subject_11\", \"test_subject_12\", \"test_subject_13\"]\n",
    "# Take only packet received data\n",
    "_, net11 = load_data(users[0], 0, \"net\")\n",
    "_, net12 = load_data(users[0], 3, \"net\")\n",
    "_, net21 = load_data(users[1], 0, \"net\")\n",
    "_, net22 = load_data(users[1], 3, \"net\")\n",
    "_, net31 = load_data(users[2], 0, \"net\")\n",
    "_, net32 = load_data(users[2], 3, \"net\")\n",
    "_, net41 = load_data(users[3], 0, \"net\")\n",
    "_, net42 = load_data(users[3], 3, \"net\")\n",
    "\n",
    "# Take only packet sent data\n",
    "# net11, _ = load_data(users[0], 0, \"net\")\n",
    "# net12, _ = load_data(users[0], 3, \"net\")\n",
    "# net21, _ = load_data(users[1], 0, \"net\")\n",
    "# net22, _ = load_data(users[1], 3, \"net\")\n",
    "# net31, _ = load_data(users[2], 0, \"net\")\n",
    "# net32, _ = load_data(users[2], 3, \"net\")\n",
    "# net41, _ = load_data(users[3], 0, \"net\")\n",
    "# net42, _ = load_data(users[3], 3, \"net\")\n",
    "\n",
    "net_1_val_1, _, _, _, _ = process_signal(net11)\n",
    "net_1_val_2, _, _, _, _ = process_signal(net12)\n",
    "net_2_val_1, _, _, _, _ = process_signal(net21)\n",
    "net_2_val_2, _, _, _, _ = process_signal(net22)\n",
    "net_3_val_1, _, _, _, _ = process_signal(net31)\n",
    "net_3_val_2, _, _, _, _ = process_signal(net32)\n",
    "net_4_val_1, _, _, _, _ = process_signal(net41)\n",
    "net_4_val_2, _, _, _, _ = process_signal(net42)"
   ]
  },
  {
   "cell_type": "code",
   "execution_count": null,
   "metadata": {
    "scrolled": false
   },
   "outputs": [],
   "source": [
    "def find_ram_jump(signal):\n",
    "    derivative = []\n",
    "    prev = signal[0]\n",
    "    for curr in signal[1:]:\n",
    "        derivative.append(abs(curr-prev))\n",
    "        prev = curr\n",
    "    peaks, _ = find_peaks(derivative, threshold=mean(derivative))\n",
    "    \n",
    "    p = {\"position\": [], \"magnitude\": []}\n",
    "    for x in peaks:\n",
    "        p[\"position\"].append(x)\n",
    "        p[\"magnitude\"].append(derivative[x])\n",
    "    return derivative, p\n",
    "\n",
    "stats = {\"sum_load\":[], \"jump_count\":[], \"jump_rate\":[], \"avg_jump_value\":[], \"avg_inter_jump_interval\":[]}\n",
    "\n",
    "for x in [net_1_val_1, net_1_val_2, net_2_val_1, net_2_val_2, net_3_val_1, net_3_val_2, net_4_val_1, net_4_val_2]:\n",
    "    derivatives, peaks = find_ram_jump(x)\n",
    "    val = DataFrame(x, columns=[\"values\"])\n",
    "    der = DataFrame(derivatives, columns=[\"values\"])\n",
    "    pea = DataFrame(peaks)\n",
    "\n",
    "    fig = go.Figure()\n",
    "    fig.add_trace(\n",
    "        go.Scatter(\n",
    "            name=\"Value\",\n",
    "            x=val.index.values,\n",
    "            y=val[\"values\"],\n",
    "        )\n",
    "    )\n",
    "    fig.add_trace(\n",
    "        go.Scatter(\n",
    "            name=\"Derivative\",\n",
    "            x=der.index.values,\n",
    "            y=der[\"values\"],\n",
    "        )\n",
    "    )\n",
    "    fig.add_trace(\n",
    "        go.Scatter(\n",
    "            name=\"Peak\",\n",
    "            x=pea[\"position\"],\n",
    "            y=pea[\"magnitude\"],\n",
    "            mode=\"markers\",\n",
    "        )\n",
    "    )\n",
    "    fig.show()\n",
    "    \n",
    "    # Calculate average inter jump interval\n",
    "    prev = peaks[\"position\"][0]\n",
    "    intervals = []\n",
    "    for curr in peaks[\"position\"][1:]:\n",
    "        intervals.append(curr-prev)\n",
    "        prev = curr\n",
    "\n",
    "    sum_load = x[-1] - x[0]\n",
    "    jump_count = len(peaks[\"position\"])\n",
    "    jump_rate = round(len(peaks[\"position\"])/len(derivatives), 2)\n",
    "    avg_jump_value = round(mean(peaks[\"magnitude\"]), 2)\n",
    "    avg_inter_jump_interval = round(mean(intervals), 2)\n",
    "    \n",
    "    print(\"Sum load: \\t\\t\\t{}\".format(sum_load))\n",
    "    print(\"Jump count: \\t\\t\\t{}\".format(jump_count))\n",
    "    print(\"Jump rate: \\t\\t\\t{}\".format(jump_rate))\n",
    "    print(\"Average jump value: \\t\\t{}\".format(avg_jump_value))\n",
    "    print(\"Average inter jump interval: \\t{}\".format(avg_inter_jump_interval))\n",
    "    \n",
    "    stats[\"sum_load\"].append(sum_load)\n",
    "    stats[\"jump_count\"].append(jump_count)\n",
    "    stats[\"jump_rate\"].append(jump_rate)\n",
    "    stats[\"avg_jump_value\"].append(avg_jump_value)\n",
    "    stats[\"avg_inter_jump_interval\"].append(avg_inter_jump_interval)\n",
    "\n",
    "stats = DataFrame(stats)\n",
    "print()\n",
    "print(stats)\n",
    "\n",
    "# normalize sum load"
   ]
  },
  {
   "cell_type": "markdown",
   "metadata": {},
   "source": [
    "# Pir sensors overview\n",
    "- Id 58: pir_01\n",
    "- Id 59: pir_02\n",
    "- Id 66: pir_03\n",
    "- Id 67: pir_04\n",
    "- Id 68: pir_05\n",
    "- Id 69: pir_06"
   ]
  },
  {
   "cell_type": "code",
   "execution_count": null,
   "metadata": {
    "scrolled": false
   },
   "outputs": [],
   "source": [
    "pir_1, s_sta_1, s_end_1 = load_data(\"test_subject_10\", 2, \"pir\")\n",
    "pir_2, s_sta_2, s_end_2 = load_data(\"test_subject_11\", 2, \"pir\")\n",
    "pir_3, s_sta_3, s_end_3 = load_data(\"test_subject_12\", 2, \"pir\")\n",
    "pir_4, s_sta_4, s_end_4 = load_data(\"test_subject_13\", 2, \"pir\")\n",
    "\n",
    "pir_val_1, pir_tim_1, pir_ids_1 = process_binary_signal(pir_1)\n",
    "pir_val_2, pir_tim_2, pir_ids_2 = process_binary_signal(pir_2)\n",
    "pir_val_3, pir_tim_3, pir_ids_3 = process_binary_signal(pir_3)\n",
    "pir_val_4, pir_tim_4, pir_ids_4 = process_binary_signal(pir_4)"
   ]
  },
  {
   "cell_type": "code",
   "execution_count": null,
   "metadata": {
    "scrolled": false
   },
   "outputs": [],
   "source": [
    "def detect_pir_activity_type(start, end, values, times, ids, time_interval: timedelta=timedelta(seconds=30)):\n",
    "    \"\"\"\n",
    "    For every given time interval, check which sensors were active and \n",
    "    based on that classify each time interval into one of 3 activities:\n",
    "    - no activity (no sensors active)\n",
    "    - seating (senor pir_01 active)\n",
    "    - moving (more than one sensor active)\n",
    "    \"\"\"\n",
    "    if not (len(values) == len(times) and len(times) == len(ids)):\n",
    "        raise ValueError(\"Mismatching value lengths.\")\n",
    "    intervals = create_time_chunks(start, end, time_interval)\n",
    "    result = []\n",
    "    active = []\n",
    "    \n",
    "    for interval in intervals:\n",
    "        prev = []\n",
    "        interval_ids = [index for index, value in enumerate(times) if interval[0] <= value <= interval[1]]\n",
    "        for idx in interval_ids:\n",
    "            if not values[idx]:\n",
    "                try:\n",
    "                    active.remove(ids[idx])\n",
    "                    prev.append(ids[idx])\n",
    "                except:\n",
    "                    pass\n",
    "            elif ids[idx] not in active:\n",
    "                active.append(ids[idx])\n",
    "        result.append({\"interval\": interval, \"ids\": set(prev + active)})\n",
    "        prev = active\n",
    "        \n",
    "    for res in result:\n",
    "        if len(res[\"ids\"]) > 1 or len(res[\"ids\"]) == 1 and res[\"ids\"] != 58:\n",
    "            res.update({\"activity\": \"movement\"})\n",
    "        elif len(res[\"ids\"]) == 1 and res[\"ids\"] == 58:\n",
    "            res.update({\"activity\": \"seated\"})\n",
    "        else:\n",
    "            res.update({\"activity\": \"no activity\"})\n",
    "    return result\n",
    "\n",
    "\n",
    "def get_activity_vector(intervals):\n",
    "    \"\"\"\n",
    "    Create an enum vector from pir activity intervals.\n",
    "    \"\"\"\n",
    "    result_vector = []\n",
    "    for x in intervals:\n",
    "        if x[\"activity\"] == \"no activity\":\n",
    "            result_vector.append(0)\n",
    "        elif x[\"activity\"] == \"seated\":\n",
    "            result_vector.append(1)\n",
    "        elif x[\"activity\"] == \"movement\":\n",
    "            result_vector.append(2)\n",
    "        else:\n",
    "            raise ValueError(\"Unknown activity class.\")\n",
    "    return result_vector\n",
    "    \n",
    "from scipy.spatial.distance import euclidean\n",
    "from fastdtw import fastdtw\n",
    "    \n",
    "seconds = 5\n",
    "intervals_1 = detect_pir_activity_type(s_sta_1, s_end_1, pir_val_1, pir_tim_1, pir_ids_1, timedelta(seconds=seconds))\n",
    "intervals_2 = detect_pir_activity_type(s_sta_2, s_end_2, pir_val_2, pir_tim_2, pir_ids_2, timedelta(seconds=seconds))\n",
    "intervals_3 = detect_pir_activity_type(s_sta_3, s_end_3, pir_val_3, pir_tim_3, pir_ids_3, timedelta(seconds=seconds))\n",
    "intervals_4 = detect_pir_activity_type(s_sta_4, s_end_4, pir_val_4, pir_tim_4, pir_ids_4, timedelta(seconds=seconds))\n",
    "\n",
    "print(get_activity_vector(intervals_1))\n",
    "print(get_activity_vector(intervals_2))\n",
    "print(get_activity_vector(intervals_3))\n",
    "print(get_activity_vector(intervals_4))"
   ]
  },
  {
   "cell_type": "markdown",
   "metadata": {},
   "source": [
    "# Hall sensor overview"
   ]
  },
  {
   "cell_type": "code",
   "execution_count": null,
   "metadata": {},
   "outputs": [],
   "source": []
  },
  {
   "cell_type": "markdown",
   "metadata": {},
   "source": [
    "## Pca"
   ]
  },
  {
   "cell_type": "code",
   "execution_count": 36,
   "metadata": {
    "scrolled": false
   },
   "outputs": [
    {
     "name": "stdout",
     "output_type": "stream",
     "text": [
      "[0.18324616 0.13251893]\n"
     ]
    },
    {
     "data": {
      "application/vnd.plotly.v1+json": {
       "config": {
        "plotlyServerURL": "https://plot.ly"
       },
       "data": [
        {
         "hoverlabel": {
          "namelength": 0
         },
         "hovertemplate": "label=test_subject_01<br>component 1=%{x}<br>component 2=%{y}<br>experiment=%{marker.size}",
         "legendgroup": "label=test_subject_01",
         "marker": {
          "color": "#636efa",
          "size": [
           0.0125,
           0.025
          ],
          "sizemode": "area",
          "sizeref": 6.25e-05,
          "symbol": "circle"
         },
         "mode": "markers",
         "name": "label=test_subject_01",
         "showlegend": true,
         "type": "scatter",
         "x": [
          2.712553719183644,
          2.138108937436931
         ],
         "xaxis": "x",
         "y": [
          0.06460483655729415,
          -3.1016236452238903
         ],
         "yaxis": "y"
        },
        {
         "hoverlabel": {
          "namelength": 0
         },
         "hovertemplate": "label=test_subject_02<br>component 1=%{x}<br>component 2=%{y}<br>experiment=%{marker.size}",
         "legendgroup": "label=test_subject_02",
         "marker": {
          "color": "#EF553B",
          "size": [
           0.0125,
           0.025
          ],
          "sizemode": "area",
          "sizeref": 6.25e-05,
          "symbol": "circle"
         },
         "mode": "markers",
         "name": "label=test_subject_02",
         "showlegend": true,
         "type": "scatter",
         "x": [
          6.015659395466363,
          3.009435157026454
         ],
         "xaxis": "x",
         "y": [
          -3.4031341750580144,
          -2.5550348666460496
         ],
         "yaxis": "y"
        },
        {
         "hoverlabel": {
          "namelength": 0
         },
         "hovertemplate": "label=test_subject_03<br>component 1=%{x}<br>component 2=%{y}<br>experiment=%{marker.size}",
         "legendgroup": "label=test_subject_03",
         "marker": {
          "color": "#00cc96",
          "size": [
           0.0125,
           0.025
          ],
          "sizemode": "area",
          "sizeref": 6.25e-05,
          "symbol": "circle"
         },
         "mode": "markers",
         "name": "label=test_subject_03",
         "showlegend": true,
         "type": "scatter",
         "x": [
          9.164002497742898,
          9.621465605203136
         ],
         "xaxis": "x",
         "y": [
          5.005670547411862,
          3.5771340501260016
         ],
         "yaxis": "y"
        },
        {
         "hoverlabel": {
          "namelength": 0
         },
         "hovertemplate": "label=test_subject_04<br>component 1=%{x}<br>component 2=%{y}<br>experiment=%{marker.size}",
         "legendgroup": "label=test_subject_04",
         "marker": {
          "color": "#ab63fa",
          "size": [
           0.0125,
           0.025
          ],
          "sizemode": "area",
          "sizeref": 6.25e-05,
          "symbol": "circle"
         },
         "mode": "markers",
         "name": "label=test_subject_04",
         "showlegend": true,
         "type": "scatter",
         "x": [
          -0.6345323753317403,
          1.0521436771359653
         ],
         "xaxis": "x",
         "y": [
          -0.5168440111427778,
          -2.8388798275358806
         ],
         "yaxis": "y"
        },
        {
         "hoverlabel": {
          "namelength": 0
         },
         "hovertemplate": "label=test_subject_05<br>component 1=%{x}<br>component 2=%{y}<br>experiment=%{marker.size}",
         "legendgroup": "label=test_subject_05",
         "marker": {
          "color": "#FFA15A",
          "size": [
           0.0125,
           0.025
          ],
          "sizemode": "area",
          "sizeref": 6.25e-05,
          "symbol": "circle"
         },
         "mode": "markers",
         "name": "label=test_subject_05",
         "showlegend": true,
         "type": "scatter",
         "x": [
          -0.2913483530760751,
          1.1835926078270433
         ],
         "xaxis": "x",
         "y": [
          -0.30635073685473907,
          -3.183543651114784
         ],
         "yaxis": "y"
        },
        {
         "hoverlabel": {
          "namelength": 0
         },
         "hovertemplate": "label=test_subject_06<br>component 1=%{x}<br>component 2=%{y}<br>experiment=%{marker.size}",
         "legendgroup": "label=test_subject_06",
         "marker": {
          "color": "#19d3f3",
          "size": [
           0.0125,
           0.025
          ],
          "sizemode": "area",
          "sizeref": 6.25e-05,
          "symbol": "circle"
         },
         "mode": "markers",
         "name": "label=test_subject_06",
         "showlegend": true,
         "type": "scatter",
         "x": [
          -1.9462604983782628,
          6.688787047303867
         ],
         "xaxis": "x",
         "y": [
          3.1992258929444035,
          6.992436365412159
         ],
         "yaxis": "y"
        },
        {
         "hoverlabel": {
          "namelength": 0
         },
         "hovertemplate": "label=test_subject_07<br>component 1=%{x}<br>component 2=%{y}<br>experiment=%{marker.size}",
         "legendgroup": "label=test_subject_07",
         "marker": {
          "color": "#FF6692",
          "size": [
           0.0125,
           0.025
          ],
          "sizemode": "area",
          "sizeref": 6.25e-05,
          "symbol": "circle"
         },
         "mode": "markers",
         "name": "label=test_subject_07",
         "showlegend": true,
         "type": "scatter",
         "x": [
          -1.1864849183369,
          -0.6585724037123638
         ],
         "xaxis": "x",
         "y": [
          3.4151548391106323,
          2.989268494523921
         ],
         "yaxis": "y"
        },
        {
         "hoverlabel": {
          "namelength": 0
         },
         "hovertemplate": "label=test_subject_08<br>component 1=%{x}<br>component 2=%{y}<br>experiment=%{marker.size}",
         "legendgroup": "label=test_subject_08",
         "marker": {
          "color": "#B6E880",
          "size": [
           0.0125,
           0.025
          ],
          "sizemode": "area",
          "sizeref": 6.25e-05,
          "symbol": "circle"
         },
         "mode": "markers",
         "name": "label=test_subject_08",
         "showlegend": true,
         "type": "scatter",
         "x": [
          -1.5877262443908573,
          -0.9121911299211373
         ],
         "xaxis": "x",
         "y": [
          0.9954667048144438,
          -0.5693178342005549
         ],
         "yaxis": "y"
        },
        {
         "hoverlabel": {
          "namelength": 0
         },
         "hovertemplate": "label=test_subject_09<br>component 1=%{x}<br>component 2=%{y}<br>experiment=%{marker.size}",
         "legendgroup": "label=test_subject_09",
         "marker": {
          "color": "#FF97FF",
          "size": [
           0.0125,
           0.025
          ],
          "sizemode": "area",
          "sizeref": 6.25e-05,
          "symbol": "circle"
         },
         "mode": "markers",
         "name": "label=test_subject_09",
         "showlegend": true,
         "type": "scatter",
         "x": [
          -1.7208561933119044,
          -1.528170936856864
         ],
         "xaxis": "x",
         "y": [
          -0.9078288703572506,
          2.2706546812873962
         ],
         "yaxis": "y"
        },
        {
         "hoverlabel": {
          "namelength": 0
         },
         "hovertemplate": "label=test_subject_10<br>component 1=%{x}<br>component 2=%{y}<br>experiment=%{marker.size}",
         "legendgroup": "label=test_subject_10",
         "marker": {
          "color": "#FECB52",
          "size": [
           0.0125,
           0.025
          ],
          "sizemode": "area",
          "sizeref": 6.25e-05,
          "symbol": "circle"
         },
         "mode": "markers",
         "name": "label=test_subject_10",
         "showlegend": true,
         "type": "scatter",
         "x": [
          0.1130414856192552,
          1.2359318398978159
         ],
         "xaxis": "x",
         "y": [
          -2.996806090593549,
          -3.681446551393179
         ],
         "yaxis": "y"
        },
        {
         "hoverlabel": {
          "namelength": 0
         },
         "hovertemplate": "label=test_subject_11<br>component 1=%{x}<br>component 2=%{y}<br>experiment=%{marker.size}",
         "legendgroup": "label=test_subject_11",
         "marker": {
          "color": "#636efa",
          "size": [
           0.0125,
           0.025
          ],
          "sizemode": "area",
          "sizeref": 6.25e-05,
          "symbol": "circle"
         },
         "mode": "markers",
         "name": "label=test_subject_11",
         "showlegend": true,
         "type": "scatter",
         "x": [
          -2.547850106218597,
          0.7732071261809014
         ],
         "xaxis": "x",
         "y": [
          1.4841758410054255,
          -0.942434431036285
         ],
         "yaxis": "y"
        },
        {
         "hoverlabel": {
          "namelength": 0
         },
         "hovertemplate": "label=test_subject_12<br>component 1=%{x}<br>component 2=%{y}<br>experiment=%{marker.size}",
         "legendgroup": "label=test_subject_12",
         "marker": {
          "color": "#EF553B",
          "size": [
           0.0125,
           0.025
          ],
          "sizemode": "area",
          "sizeref": 6.25e-05,
          "symbol": "circle"
         },
         "mode": "markers",
         "name": "label=test_subject_12",
         "showlegend": true,
         "type": "scatter",
         "x": [
          -0.712396345767312,
          -1.983390251778963
         ],
         "xaxis": "x",
         "y": [
          -1.3573441500365473,
          1.4782929201226211
         ],
         "yaxis": "y"
        },
        {
         "hoverlabel": {
          "namelength": 0
         },
         "hovertemplate": "label=test_subject_13<br>component 1=%{x}<br>component 2=%{y}<br>experiment=%{marker.size}",
         "legendgroup": "label=test_subject_13",
         "marker": {
          "color": "#00cc96",
          "size": [
           0.0125,
           0.025
          ],
          "sizemode": "area",
          "sizeref": 6.25e-05,
          "symbol": "circle"
         },
         "mode": "markers",
         "name": "label=test_subject_13",
         "showlegend": true,
         "type": "scatter",
         "x": [
          -4.341118445213055,
          -3.4198500070191455
         ],
         "xaxis": "x",
         "y": [
          5.65930246802963,
          4.904592459275439
         ],
         "yaxis": "y"
        },
        {
         "hoverlabel": {
          "namelength": 0
         },
         "hovertemplate": "label=test_subject_14<br>component 1=%{x}<br>component 2=%{y}<br>experiment=%{marker.size}",
         "legendgroup": "label=test_subject_14",
         "marker": {
          "color": "#ab63fa",
          "size": [
           0.0125,
           0.025
          ],
          "sizemode": "area",
          "sizeref": 6.25e-05,
          "symbol": "circle"
         },
         "mode": "markers",
         "name": "label=test_subject_14",
         "showlegend": true,
         "type": "scatter",
         "x": [
          -2.776102453791006,
          -3.177135592261746
         ],
         "xaxis": "x",
         "y": [
          1.2170155148380604,
          0.13022155529510598
         ],
         "yaxis": "y"
        },
        {
         "hoverlabel": {
          "namelength": 0
         },
         "hovertemplate": "label=test_subject_15<br>component 1=%{x}<br>component 2=%{y}<br>experiment=%{marker.size}",
         "legendgroup": "label=test_subject_15",
         "marker": {
          "color": "#FFA15A",
          "size": [
           0.0125,
           0.025
          ],
          "sizemode": "area",
          "sizeref": 6.25e-05,
          "symbol": "circle"
         },
         "mode": "markers",
         "name": "label=test_subject_15",
         "showlegend": true,
         "type": "scatter",
         "x": [
          -3.8327083342951944,
          -2.4979912237143718
         ],
         "xaxis": "x",
         "y": [
          0.6707431180400593,
          0.19494737466602796
         ],
         "yaxis": "y"
        },
        {
         "hoverlabel": {
          "namelength": 0
         },
         "hovertemplate": "label=test_subject_16<br>component 1=%{x}<br>component 2=%{y}<br>experiment=%{marker.size}",
         "legendgroup": "label=test_subject_16",
         "marker": {
          "color": "#19d3f3",
          "size": [
           0.0125,
           0.025
          ],
          "sizemode": "area",
          "sizeref": 6.25e-05,
          "symbol": "circle"
         },
         "mode": "markers",
         "name": "label=test_subject_16",
         "showlegend": true,
         "type": "scatter",
         "x": [
          -1.4819807946938661,
          0.6581798299215561
         ],
         "xaxis": "x",
         "y": [
          -1.3658880789190206,
          -2.627680787000904
         ],
         "yaxis": "y"
        },
        {
         "hoverlabel": {
          "namelength": 0
         },
         "hovertemplate": "label=test_subject_17<br>component 1=%{x}<br>component 2=%{y}<br>experiment=%{marker.size}",
         "legendgroup": "label=test_subject_17",
         "marker": {
          "color": "#FF6692",
          "size": [
           0.0125,
           0.025
          ],
          "sizemode": "area",
          "sizeref": 6.25e-05,
          "symbol": "circle"
         },
         "mode": "markers",
         "name": "label=test_subject_17",
         "showlegend": true,
         "type": "scatter",
         "x": [
          -1.3718433985246579,
          -2.928686530241559
         ],
         "xaxis": "x",
         "y": [
          -1.4175359410714845,
          -1.1806468199918072
         ],
         "yaxis": "y"
        },
        {
         "hoverlabel": {
          "namelength": 0
         },
         "hovertemplate": "label=test_subject_18<br>component 1=%{x}<br>component 2=%{y}<br>experiment=%{marker.size}",
         "legendgroup": "label=test_subject_18",
         "marker": {
          "color": "#B6E880",
          "size": [
           0.0125,
           0.025
          ],
          "sizemode": "area",
          "sizeref": 6.25e-05,
          "symbol": "circle"
         },
         "mode": "markers",
         "name": "label=test_subject_18",
         "showlegend": true,
         "type": "scatter",
         "x": [
          -1.33695164570846,
          -0.43802497034027754
         ],
         "xaxis": "x",
         "y": [
          -1.435492755828659,
          -1.462326599069355
         ],
         "yaxis": "y"
        },
        {
         "hoverlabel": {
          "namelength": 0
         },
         "hovertemplate": "label=test_subject_19<br>component 1=%{x}<br>component 2=%{y}<br>experiment=%{marker.size}",
         "legendgroup": "label=test_subject_19",
         "marker": {
          "color": "#FF97FF",
          "size": [
           0.0125,
           0.025
          ],
          "sizemode": "area",
          "sizeref": 6.25e-05,
          "symbol": "circle"
         },
         "mode": "markers",
         "name": "label=test_subject_19",
         "showlegend": true,
         "type": "scatter",
         "x": [
          3.4424072708306666,
          2.444992607778542
         ],
         "xaxis": "x",
         "y": [
          -3.1060337717834448,
          -3.2706470304949113
         ],
         "yaxis": "y"
        },
        {
         "hoverlabel": {
          "namelength": 0
         },
         "hovertemplate": "label=test_subject_20<br>component 1=%{x}<br>component 2=%{y}<br>experiment=%{marker.size}",
         "legendgroup": "label=test_subject_20",
         "marker": {
          "color": "#FECB52",
          "size": [
           0.0125,
           0.025
          ],
          "sizemode": "area",
          "sizeref": 6.25e-05,
          "symbol": "circle"
         },
         "mode": "markers",
         "name": "label=test_subject_20",
         "showlegend": true,
         "type": "scatter",
         "x": [
          -2.0176069649198594,
          -1.8216107341633936
         ],
         "xaxis": "x",
         "y": [
          -2.307312171254772,
          -1.6901833966138826
         ],
         "yaxis": "y"
        },
        {
         "hoverlabel": {
          "namelength": 0
         },
         "hovertemplate": "label=test_subject_21<br>component 1=%{x}<br>component 2=%{y}<br>experiment=%{marker.size}",
         "legendgroup": "label=test_subject_21",
         "marker": {
          "color": "#636efa",
          "size": [
           0.0125,
           0.025
          ],
          "sizemode": "area",
          "sizeref": 6.25e-05,
          "symbol": "circle"
         },
         "mode": "markers",
         "name": "label=test_subject_21",
         "showlegend": true,
         "type": "scatter",
         "x": [
          -3.3329005746336593,
          0.2307826220461928
         ],
         "xaxis": "x",
         "y": [
          2.551251424769497,
          -0.575822895008221
         ],
         "yaxis": "y"
        }
       ],
       "layout": {
        "height": 600,
        "legend": {
         "itemsizing": "constant",
         "tracegroupgap": 0
        },
        "margin": {
         "t": 60
        },
        "template": {
         "data": {
          "bar": [
           {
            "error_x": {
             "color": "#2a3f5f"
            },
            "error_y": {
             "color": "#2a3f5f"
            },
            "marker": {
             "line": {
              "color": "#E5ECF6",
              "width": 0.5
             }
            },
            "type": "bar"
           }
          ],
          "barpolar": [
           {
            "marker": {
             "line": {
              "color": "#E5ECF6",
              "width": 0.5
             }
            },
            "type": "barpolar"
           }
          ],
          "carpet": [
           {
            "aaxis": {
             "endlinecolor": "#2a3f5f",
             "gridcolor": "white",
             "linecolor": "white",
             "minorgridcolor": "white",
             "startlinecolor": "#2a3f5f"
            },
            "baxis": {
             "endlinecolor": "#2a3f5f",
             "gridcolor": "white",
             "linecolor": "white",
             "minorgridcolor": "white",
             "startlinecolor": "#2a3f5f"
            },
            "type": "carpet"
           }
          ],
          "choropleth": [
           {
            "colorbar": {
             "outlinewidth": 0,
             "ticks": ""
            },
            "type": "choropleth"
           }
          ],
          "contour": [
           {
            "colorbar": {
             "outlinewidth": 0,
             "ticks": ""
            },
            "colorscale": [
             [
              0,
              "#0d0887"
             ],
             [
              0.1111111111111111,
              "#46039f"
             ],
             [
              0.2222222222222222,
              "#7201a8"
             ],
             [
              0.3333333333333333,
              "#9c179e"
             ],
             [
              0.4444444444444444,
              "#bd3786"
             ],
             [
              0.5555555555555556,
              "#d8576b"
             ],
             [
              0.6666666666666666,
              "#ed7953"
             ],
             [
              0.7777777777777778,
              "#fb9f3a"
             ],
             [
              0.8888888888888888,
              "#fdca26"
             ],
             [
              1,
              "#f0f921"
             ]
            ],
            "type": "contour"
           }
          ],
          "contourcarpet": [
           {
            "colorbar": {
             "outlinewidth": 0,
             "ticks": ""
            },
            "type": "contourcarpet"
           }
          ],
          "heatmap": [
           {
            "colorbar": {
             "outlinewidth": 0,
             "ticks": ""
            },
            "colorscale": [
             [
              0,
              "#0d0887"
             ],
             [
              0.1111111111111111,
              "#46039f"
             ],
             [
              0.2222222222222222,
              "#7201a8"
             ],
             [
              0.3333333333333333,
              "#9c179e"
             ],
             [
              0.4444444444444444,
              "#bd3786"
             ],
             [
              0.5555555555555556,
              "#d8576b"
             ],
             [
              0.6666666666666666,
              "#ed7953"
             ],
             [
              0.7777777777777778,
              "#fb9f3a"
             ],
             [
              0.8888888888888888,
              "#fdca26"
             ],
             [
              1,
              "#f0f921"
             ]
            ],
            "type": "heatmap"
           }
          ],
          "heatmapgl": [
           {
            "colorbar": {
             "outlinewidth": 0,
             "ticks": ""
            },
            "colorscale": [
             [
              0,
              "#0d0887"
             ],
             [
              0.1111111111111111,
              "#46039f"
             ],
             [
              0.2222222222222222,
              "#7201a8"
             ],
             [
              0.3333333333333333,
              "#9c179e"
             ],
             [
              0.4444444444444444,
              "#bd3786"
             ],
             [
              0.5555555555555556,
              "#d8576b"
             ],
             [
              0.6666666666666666,
              "#ed7953"
             ],
             [
              0.7777777777777778,
              "#fb9f3a"
             ],
             [
              0.8888888888888888,
              "#fdca26"
             ],
             [
              1,
              "#f0f921"
             ]
            ],
            "type": "heatmapgl"
           }
          ],
          "histogram": [
           {
            "marker": {
             "colorbar": {
              "outlinewidth": 0,
              "ticks": ""
             }
            },
            "type": "histogram"
           }
          ],
          "histogram2d": [
           {
            "colorbar": {
             "outlinewidth": 0,
             "ticks": ""
            },
            "colorscale": [
             [
              0,
              "#0d0887"
             ],
             [
              0.1111111111111111,
              "#46039f"
             ],
             [
              0.2222222222222222,
              "#7201a8"
             ],
             [
              0.3333333333333333,
              "#9c179e"
             ],
             [
              0.4444444444444444,
              "#bd3786"
             ],
             [
              0.5555555555555556,
              "#d8576b"
             ],
             [
              0.6666666666666666,
              "#ed7953"
             ],
             [
              0.7777777777777778,
              "#fb9f3a"
             ],
             [
              0.8888888888888888,
              "#fdca26"
             ],
             [
              1,
              "#f0f921"
             ]
            ],
            "type": "histogram2d"
           }
          ],
          "histogram2dcontour": [
           {
            "colorbar": {
             "outlinewidth": 0,
             "ticks": ""
            },
            "colorscale": [
             [
              0,
              "#0d0887"
             ],
             [
              0.1111111111111111,
              "#46039f"
             ],
             [
              0.2222222222222222,
              "#7201a8"
             ],
             [
              0.3333333333333333,
              "#9c179e"
             ],
             [
              0.4444444444444444,
              "#bd3786"
             ],
             [
              0.5555555555555556,
              "#d8576b"
             ],
             [
              0.6666666666666666,
              "#ed7953"
             ],
             [
              0.7777777777777778,
              "#fb9f3a"
             ],
             [
              0.8888888888888888,
              "#fdca26"
             ],
             [
              1,
              "#f0f921"
             ]
            ],
            "type": "histogram2dcontour"
           }
          ],
          "mesh3d": [
           {
            "colorbar": {
             "outlinewidth": 0,
             "ticks": ""
            },
            "type": "mesh3d"
           }
          ],
          "parcoords": [
           {
            "line": {
             "colorbar": {
              "outlinewidth": 0,
              "ticks": ""
             }
            },
            "type": "parcoords"
           }
          ],
          "scatter": [
           {
            "marker": {
             "colorbar": {
              "outlinewidth": 0,
              "ticks": ""
             }
            },
            "type": "scatter"
           }
          ],
          "scatter3d": [
           {
            "line": {
             "colorbar": {
              "outlinewidth": 0,
              "ticks": ""
             }
            },
            "marker": {
             "colorbar": {
              "outlinewidth": 0,
              "ticks": ""
             }
            },
            "type": "scatter3d"
           }
          ],
          "scattercarpet": [
           {
            "marker": {
             "colorbar": {
              "outlinewidth": 0,
              "ticks": ""
             }
            },
            "type": "scattercarpet"
           }
          ],
          "scattergeo": [
           {
            "marker": {
             "colorbar": {
              "outlinewidth": 0,
              "ticks": ""
             }
            },
            "type": "scattergeo"
           }
          ],
          "scattergl": [
           {
            "marker": {
             "colorbar": {
              "outlinewidth": 0,
              "ticks": ""
             }
            },
            "type": "scattergl"
           }
          ],
          "scattermapbox": [
           {
            "marker": {
             "colorbar": {
              "outlinewidth": 0,
              "ticks": ""
             }
            },
            "type": "scattermapbox"
           }
          ],
          "scatterpolar": [
           {
            "marker": {
             "colorbar": {
              "outlinewidth": 0,
              "ticks": ""
             }
            },
            "type": "scatterpolar"
           }
          ],
          "scatterpolargl": [
           {
            "marker": {
             "colorbar": {
              "outlinewidth": 0,
              "ticks": ""
             }
            },
            "type": "scatterpolargl"
           }
          ],
          "scatterternary": [
           {
            "marker": {
             "colorbar": {
              "outlinewidth": 0,
              "ticks": ""
             }
            },
            "type": "scatterternary"
           }
          ],
          "surface": [
           {
            "colorbar": {
             "outlinewidth": 0,
             "ticks": ""
            },
            "colorscale": [
             [
              0,
              "#0d0887"
             ],
             [
              0.1111111111111111,
              "#46039f"
             ],
             [
              0.2222222222222222,
              "#7201a8"
             ],
             [
              0.3333333333333333,
              "#9c179e"
             ],
             [
              0.4444444444444444,
              "#bd3786"
             ],
             [
              0.5555555555555556,
              "#d8576b"
             ],
             [
              0.6666666666666666,
              "#ed7953"
             ],
             [
              0.7777777777777778,
              "#fb9f3a"
             ],
             [
              0.8888888888888888,
              "#fdca26"
             ],
             [
              1,
              "#f0f921"
             ]
            ],
            "type": "surface"
           }
          ],
          "table": [
           {
            "cells": {
             "fill": {
              "color": "#EBF0F8"
             },
             "line": {
              "color": "white"
             }
            },
            "header": {
             "fill": {
              "color": "#C8D4E3"
             },
             "line": {
              "color": "white"
             }
            },
            "type": "table"
           }
          ]
         },
         "layout": {
          "annotationdefaults": {
           "arrowcolor": "#2a3f5f",
           "arrowhead": 0,
           "arrowwidth": 1
          },
          "colorscale": {
           "diverging": [
            [
             0,
             "#8e0152"
            ],
            [
             0.1,
             "#c51b7d"
            ],
            [
             0.2,
             "#de77ae"
            ],
            [
             0.3,
             "#f1b6da"
            ],
            [
             0.4,
             "#fde0ef"
            ],
            [
             0.5,
             "#f7f7f7"
            ],
            [
             0.6,
             "#e6f5d0"
            ],
            [
             0.7,
             "#b8e186"
            ],
            [
             0.8,
             "#7fbc41"
            ],
            [
             0.9,
             "#4d9221"
            ],
            [
             1,
             "#276419"
            ]
           ],
           "sequential": [
            [
             0,
             "#0d0887"
            ],
            [
             0.1111111111111111,
             "#46039f"
            ],
            [
             0.2222222222222222,
             "#7201a8"
            ],
            [
             0.3333333333333333,
             "#9c179e"
            ],
            [
             0.4444444444444444,
             "#bd3786"
            ],
            [
             0.5555555555555556,
             "#d8576b"
            ],
            [
             0.6666666666666666,
             "#ed7953"
            ],
            [
             0.7777777777777778,
             "#fb9f3a"
            ],
            [
             0.8888888888888888,
             "#fdca26"
            ],
            [
             1,
             "#f0f921"
            ]
           ],
           "sequentialminus": [
            [
             0,
             "#0d0887"
            ],
            [
             0.1111111111111111,
             "#46039f"
            ],
            [
             0.2222222222222222,
             "#7201a8"
            ],
            [
             0.3333333333333333,
             "#9c179e"
            ],
            [
             0.4444444444444444,
             "#bd3786"
            ],
            [
             0.5555555555555556,
             "#d8576b"
            ],
            [
             0.6666666666666666,
             "#ed7953"
            ],
            [
             0.7777777777777778,
             "#fb9f3a"
            ],
            [
             0.8888888888888888,
             "#fdca26"
            ],
            [
             1,
             "#f0f921"
            ]
           ]
          },
          "colorway": [
           "#636efa",
           "#EF553B",
           "#00cc96",
           "#ab63fa",
           "#FFA15A",
           "#19d3f3",
           "#FF6692",
           "#B6E880",
           "#FF97FF",
           "#FECB52"
          ],
          "font": {
           "color": "#2a3f5f"
          },
          "geo": {
           "bgcolor": "white",
           "lakecolor": "white",
           "landcolor": "#E5ECF6",
           "showlakes": true,
           "showland": true,
           "subunitcolor": "white"
          },
          "hoverlabel": {
           "align": "left"
          },
          "hovermode": "closest",
          "mapbox": {
           "style": "light"
          },
          "paper_bgcolor": "white",
          "plot_bgcolor": "#E5ECF6",
          "polar": {
           "angularaxis": {
            "gridcolor": "white",
            "linecolor": "white",
            "ticks": ""
           },
           "bgcolor": "#E5ECF6",
           "radialaxis": {
            "gridcolor": "white",
            "linecolor": "white",
            "ticks": ""
           }
          },
          "scene": {
           "xaxis": {
            "backgroundcolor": "#E5ECF6",
            "gridcolor": "white",
            "gridwidth": 2,
            "linecolor": "white",
            "showbackground": true,
            "ticks": "",
            "zerolinecolor": "white"
           },
           "yaxis": {
            "backgroundcolor": "#E5ECF6",
            "gridcolor": "white",
            "gridwidth": 2,
            "linecolor": "white",
            "showbackground": true,
            "ticks": "",
            "zerolinecolor": "white"
           },
           "zaxis": {
            "backgroundcolor": "#E5ECF6",
            "gridcolor": "white",
            "gridwidth": 2,
            "linecolor": "white",
            "showbackground": true,
            "ticks": "",
            "zerolinecolor": "white"
           }
          },
          "shapedefaults": {
           "line": {
            "color": "#2a3f5f"
           }
          },
          "ternary": {
           "aaxis": {
            "gridcolor": "white",
            "linecolor": "white",
            "ticks": ""
           },
           "baxis": {
            "gridcolor": "white",
            "linecolor": "white",
            "ticks": ""
           },
           "bgcolor": "#E5ECF6",
           "caxis": {
            "gridcolor": "white",
            "linecolor": "white",
            "ticks": ""
           }
          },
          "title": {
           "x": 0.05
          },
          "xaxis": {
           "automargin": true,
           "gridcolor": "white",
           "linecolor": "white",
           "ticks": "",
           "zerolinecolor": "white",
           "zerolinewidth": 2
          },
          "yaxis": {
           "automargin": true,
           "gridcolor": "white",
           "linecolor": "white",
           "ticks": "",
           "zerolinecolor": "white",
           "zerolinewidth": 2
          }
         }
        },
        "xaxis": {
         "anchor": "y",
         "domain": [
          0,
          0.98
         ],
         "title": {
          "text": "component 1"
         }
        },
        "yaxis": {
         "anchor": "x",
         "domain": [
          0,
          1
         ],
         "title": {
          "text": "component 2"
         }
        }
       }
      },
      "text/html": [
       "<div>\n",
       "        \n",
       "        \n",
       "            <div id=\"d04fa267-b849-4319-8108-6595bb332cb8\" class=\"plotly-graph-div\" style=\"height:600px; width:100%;\"></div>\n",
       "            <script type=\"text/javascript\">\n",
       "                require([\"plotly\"], function(Plotly) {\n",
       "                    window.PLOTLYENV=window.PLOTLYENV || {};\n",
       "                    \n",
       "                if (document.getElementById(\"d04fa267-b849-4319-8108-6595bb332cb8\")) {\n",
       "                    Plotly.newPlot(\n",
       "                        'd04fa267-b849-4319-8108-6595bb332cb8',\n",
       "                        [{\"hoverlabel\": {\"namelength\": 0}, \"hovertemplate\": \"label=test_subject_01<br>component 1=%{x}<br>component 2=%{y}<br>experiment=%{marker.size}\", \"legendgroup\": \"label=test_subject_01\", \"marker\": {\"color\": \"#636efa\", \"size\": [0.0125, 0.025], \"sizemode\": \"area\", \"sizeref\": 6.25e-05, \"symbol\": \"circle\"}, \"mode\": \"markers\", \"name\": \"label=test_subject_01\", \"showlegend\": true, \"type\": \"scatter\", \"x\": [2.712553719183644, 2.138108937436931], \"xaxis\": \"x\", \"y\": [0.06460483655729415, -3.1016236452238903], \"yaxis\": \"y\"}, {\"hoverlabel\": {\"namelength\": 0}, \"hovertemplate\": \"label=test_subject_02<br>component 1=%{x}<br>component 2=%{y}<br>experiment=%{marker.size}\", \"legendgroup\": \"label=test_subject_02\", \"marker\": {\"color\": \"#EF553B\", \"size\": [0.0125, 0.025], \"sizemode\": \"area\", \"sizeref\": 6.25e-05, \"symbol\": \"circle\"}, \"mode\": \"markers\", \"name\": \"label=test_subject_02\", \"showlegend\": true, \"type\": \"scatter\", \"x\": [6.015659395466363, 3.009435157026454], \"xaxis\": \"x\", \"y\": [-3.4031341750580144, -2.5550348666460496], \"yaxis\": \"y\"}, {\"hoverlabel\": {\"namelength\": 0}, \"hovertemplate\": \"label=test_subject_03<br>component 1=%{x}<br>component 2=%{y}<br>experiment=%{marker.size}\", \"legendgroup\": \"label=test_subject_03\", \"marker\": {\"color\": \"#00cc96\", \"size\": [0.0125, 0.025], \"sizemode\": \"area\", \"sizeref\": 6.25e-05, \"symbol\": \"circle\"}, \"mode\": \"markers\", \"name\": \"label=test_subject_03\", \"showlegend\": true, \"type\": \"scatter\", \"x\": [9.164002497742898, 9.621465605203136], \"xaxis\": \"x\", \"y\": [5.005670547411862, 3.5771340501260016], \"yaxis\": \"y\"}, {\"hoverlabel\": {\"namelength\": 0}, \"hovertemplate\": \"label=test_subject_04<br>component 1=%{x}<br>component 2=%{y}<br>experiment=%{marker.size}\", \"legendgroup\": \"label=test_subject_04\", \"marker\": {\"color\": \"#ab63fa\", \"size\": [0.0125, 0.025], \"sizemode\": \"area\", \"sizeref\": 6.25e-05, \"symbol\": \"circle\"}, \"mode\": \"markers\", \"name\": \"label=test_subject_04\", \"showlegend\": true, \"type\": \"scatter\", \"x\": [-0.6345323753317403, 1.0521436771359653], \"xaxis\": \"x\", \"y\": [-0.5168440111427778, -2.8388798275358806], \"yaxis\": \"y\"}, {\"hoverlabel\": {\"namelength\": 0}, \"hovertemplate\": \"label=test_subject_05<br>component 1=%{x}<br>component 2=%{y}<br>experiment=%{marker.size}\", \"legendgroup\": \"label=test_subject_05\", \"marker\": {\"color\": \"#FFA15A\", \"size\": [0.0125, 0.025], \"sizemode\": \"area\", \"sizeref\": 6.25e-05, \"symbol\": \"circle\"}, \"mode\": \"markers\", \"name\": \"label=test_subject_05\", \"showlegend\": true, \"type\": \"scatter\", \"x\": [-0.2913483530760751, 1.1835926078270433], \"xaxis\": \"x\", \"y\": [-0.30635073685473907, -3.183543651114784], \"yaxis\": \"y\"}, {\"hoverlabel\": {\"namelength\": 0}, \"hovertemplate\": \"label=test_subject_06<br>component 1=%{x}<br>component 2=%{y}<br>experiment=%{marker.size}\", \"legendgroup\": \"label=test_subject_06\", \"marker\": {\"color\": \"#19d3f3\", \"size\": [0.0125, 0.025], \"sizemode\": \"area\", \"sizeref\": 6.25e-05, \"symbol\": \"circle\"}, \"mode\": \"markers\", \"name\": \"label=test_subject_06\", \"showlegend\": true, \"type\": \"scatter\", \"x\": [-1.9462604983782628, 6.688787047303867], \"xaxis\": \"x\", \"y\": [3.1992258929444035, 6.992436365412159], \"yaxis\": \"y\"}, {\"hoverlabel\": {\"namelength\": 0}, \"hovertemplate\": \"label=test_subject_07<br>component 1=%{x}<br>component 2=%{y}<br>experiment=%{marker.size}\", \"legendgroup\": \"label=test_subject_07\", \"marker\": {\"color\": \"#FF6692\", \"size\": [0.0125, 0.025], \"sizemode\": \"area\", \"sizeref\": 6.25e-05, \"symbol\": \"circle\"}, \"mode\": \"markers\", \"name\": \"label=test_subject_07\", \"showlegend\": true, \"type\": \"scatter\", \"x\": [-1.1864849183369, -0.6585724037123638], \"xaxis\": \"x\", \"y\": [3.4151548391106323, 2.989268494523921], \"yaxis\": \"y\"}, {\"hoverlabel\": {\"namelength\": 0}, \"hovertemplate\": \"label=test_subject_08<br>component 1=%{x}<br>component 2=%{y}<br>experiment=%{marker.size}\", \"legendgroup\": \"label=test_subject_08\", \"marker\": {\"color\": \"#B6E880\", \"size\": [0.0125, 0.025], \"sizemode\": \"area\", \"sizeref\": 6.25e-05, \"symbol\": \"circle\"}, \"mode\": \"markers\", \"name\": \"label=test_subject_08\", \"showlegend\": true, \"type\": \"scatter\", \"x\": [-1.5877262443908573, -0.9121911299211373], \"xaxis\": \"x\", \"y\": [0.9954667048144438, -0.5693178342005549], \"yaxis\": \"y\"}, {\"hoverlabel\": {\"namelength\": 0}, \"hovertemplate\": \"label=test_subject_09<br>component 1=%{x}<br>component 2=%{y}<br>experiment=%{marker.size}\", \"legendgroup\": \"label=test_subject_09\", \"marker\": {\"color\": \"#FF97FF\", \"size\": [0.0125, 0.025], \"sizemode\": \"area\", \"sizeref\": 6.25e-05, \"symbol\": \"circle\"}, \"mode\": \"markers\", \"name\": \"label=test_subject_09\", \"showlegend\": true, \"type\": \"scatter\", \"x\": [-1.7208561933119044, -1.528170936856864], \"xaxis\": \"x\", \"y\": [-0.9078288703572506, 2.2706546812873962], \"yaxis\": \"y\"}, {\"hoverlabel\": {\"namelength\": 0}, \"hovertemplate\": \"label=test_subject_10<br>component 1=%{x}<br>component 2=%{y}<br>experiment=%{marker.size}\", \"legendgroup\": \"label=test_subject_10\", \"marker\": {\"color\": \"#FECB52\", \"size\": [0.0125, 0.025], \"sizemode\": \"area\", \"sizeref\": 6.25e-05, \"symbol\": \"circle\"}, \"mode\": \"markers\", \"name\": \"label=test_subject_10\", \"showlegend\": true, \"type\": \"scatter\", \"x\": [0.1130414856192552, 1.2359318398978159], \"xaxis\": \"x\", \"y\": [-2.996806090593549, -3.681446551393179], \"yaxis\": \"y\"}, {\"hoverlabel\": {\"namelength\": 0}, \"hovertemplate\": \"label=test_subject_11<br>component 1=%{x}<br>component 2=%{y}<br>experiment=%{marker.size}\", \"legendgroup\": \"label=test_subject_11\", \"marker\": {\"color\": \"#636efa\", \"size\": [0.0125, 0.025], \"sizemode\": \"area\", \"sizeref\": 6.25e-05, \"symbol\": \"circle\"}, \"mode\": \"markers\", \"name\": \"label=test_subject_11\", \"showlegend\": true, \"type\": \"scatter\", \"x\": [-2.547850106218597, 0.7732071261809014], \"xaxis\": \"x\", \"y\": [1.4841758410054255, -0.942434431036285], \"yaxis\": \"y\"}, {\"hoverlabel\": {\"namelength\": 0}, \"hovertemplate\": \"label=test_subject_12<br>component 1=%{x}<br>component 2=%{y}<br>experiment=%{marker.size}\", \"legendgroup\": \"label=test_subject_12\", \"marker\": {\"color\": \"#EF553B\", \"size\": [0.0125, 0.025], \"sizemode\": \"area\", \"sizeref\": 6.25e-05, \"symbol\": \"circle\"}, \"mode\": \"markers\", \"name\": \"label=test_subject_12\", \"showlegend\": true, \"type\": \"scatter\", \"x\": [-0.712396345767312, -1.983390251778963], \"xaxis\": \"x\", \"y\": [-1.3573441500365473, 1.4782929201226211], \"yaxis\": \"y\"}, {\"hoverlabel\": {\"namelength\": 0}, \"hovertemplate\": \"label=test_subject_13<br>component 1=%{x}<br>component 2=%{y}<br>experiment=%{marker.size}\", \"legendgroup\": \"label=test_subject_13\", \"marker\": {\"color\": \"#00cc96\", \"size\": [0.0125, 0.025], \"sizemode\": \"area\", \"sizeref\": 6.25e-05, \"symbol\": \"circle\"}, \"mode\": \"markers\", \"name\": \"label=test_subject_13\", \"showlegend\": true, \"type\": \"scatter\", \"x\": [-4.341118445213055, -3.4198500070191455], \"xaxis\": \"x\", \"y\": [5.65930246802963, 4.904592459275439], \"yaxis\": \"y\"}, {\"hoverlabel\": {\"namelength\": 0}, \"hovertemplate\": \"label=test_subject_14<br>component 1=%{x}<br>component 2=%{y}<br>experiment=%{marker.size}\", \"legendgroup\": \"label=test_subject_14\", \"marker\": {\"color\": \"#ab63fa\", \"size\": [0.0125, 0.025], \"sizemode\": \"area\", \"sizeref\": 6.25e-05, \"symbol\": \"circle\"}, \"mode\": \"markers\", \"name\": \"label=test_subject_14\", \"showlegend\": true, \"type\": \"scatter\", \"x\": [-2.776102453791006, -3.177135592261746], \"xaxis\": \"x\", \"y\": [1.2170155148380604, 0.13022155529510598], \"yaxis\": \"y\"}, {\"hoverlabel\": {\"namelength\": 0}, \"hovertemplate\": \"label=test_subject_15<br>component 1=%{x}<br>component 2=%{y}<br>experiment=%{marker.size}\", \"legendgroup\": \"label=test_subject_15\", \"marker\": {\"color\": \"#FFA15A\", \"size\": [0.0125, 0.025], \"sizemode\": \"area\", \"sizeref\": 6.25e-05, \"symbol\": \"circle\"}, \"mode\": \"markers\", \"name\": \"label=test_subject_15\", \"showlegend\": true, \"type\": \"scatter\", \"x\": [-3.8327083342951944, -2.4979912237143718], \"xaxis\": \"x\", \"y\": [0.6707431180400593, 0.19494737466602796], \"yaxis\": \"y\"}, {\"hoverlabel\": {\"namelength\": 0}, \"hovertemplate\": \"label=test_subject_16<br>component 1=%{x}<br>component 2=%{y}<br>experiment=%{marker.size}\", \"legendgroup\": \"label=test_subject_16\", \"marker\": {\"color\": \"#19d3f3\", \"size\": [0.0125, 0.025], \"sizemode\": \"area\", \"sizeref\": 6.25e-05, \"symbol\": \"circle\"}, \"mode\": \"markers\", \"name\": \"label=test_subject_16\", \"showlegend\": true, \"type\": \"scatter\", \"x\": [-1.4819807946938661, 0.6581798299215561], \"xaxis\": \"x\", \"y\": [-1.3658880789190206, -2.627680787000904], \"yaxis\": \"y\"}, {\"hoverlabel\": {\"namelength\": 0}, \"hovertemplate\": \"label=test_subject_17<br>component 1=%{x}<br>component 2=%{y}<br>experiment=%{marker.size}\", \"legendgroup\": \"label=test_subject_17\", \"marker\": {\"color\": \"#FF6692\", \"size\": [0.0125, 0.025], \"sizemode\": \"area\", \"sizeref\": 6.25e-05, \"symbol\": \"circle\"}, \"mode\": \"markers\", \"name\": \"label=test_subject_17\", \"showlegend\": true, \"type\": \"scatter\", \"x\": [-1.3718433985246579, -2.928686530241559], \"xaxis\": \"x\", \"y\": [-1.4175359410714845, -1.1806468199918072], \"yaxis\": \"y\"}, {\"hoverlabel\": {\"namelength\": 0}, \"hovertemplate\": \"label=test_subject_18<br>component 1=%{x}<br>component 2=%{y}<br>experiment=%{marker.size}\", \"legendgroup\": \"label=test_subject_18\", \"marker\": {\"color\": \"#B6E880\", \"size\": [0.0125, 0.025], \"sizemode\": \"area\", \"sizeref\": 6.25e-05, \"symbol\": \"circle\"}, \"mode\": \"markers\", \"name\": \"label=test_subject_18\", \"showlegend\": true, \"type\": \"scatter\", \"x\": [-1.33695164570846, -0.43802497034027754], \"xaxis\": \"x\", \"y\": [-1.435492755828659, -1.462326599069355], \"yaxis\": \"y\"}, {\"hoverlabel\": {\"namelength\": 0}, \"hovertemplate\": \"label=test_subject_19<br>component 1=%{x}<br>component 2=%{y}<br>experiment=%{marker.size}\", \"legendgroup\": \"label=test_subject_19\", \"marker\": {\"color\": \"#FF97FF\", \"size\": [0.0125, 0.025], \"sizemode\": \"area\", \"sizeref\": 6.25e-05, \"symbol\": \"circle\"}, \"mode\": \"markers\", \"name\": \"label=test_subject_19\", \"showlegend\": true, \"type\": \"scatter\", \"x\": [3.4424072708306666, 2.444992607778542], \"xaxis\": \"x\", \"y\": [-3.1060337717834448, -3.2706470304949113], \"yaxis\": \"y\"}, {\"hoverlabel\": {\"namelength\": 0}, \"hovertemplate\": \"label=test_subject_20<br>component 1=%{x}<br>component 2=%{y}<br>experiment=%{marker.size}\", \"legendgroup\": \"label=test_subject_20\", \"marker\": {\"color\": \"#FECB52\", \"size\": [0.0125, 0.025], \"sizemode\": \"area\", \"sizeref\": 6.25e-05, \"symbol\": \"circle\"}, \"mode\": \"markers\", \"name\": \"label=test_subject_20\", \"showlegend\": true, \"type\": \"scatter\", \"x\": [-2.0176069649198594, -1.8216107341633936], \"xaxis\": \"x\", \"y\": [-2.307312171254772, -1.6901833966138826], \"yaxis\": \"y\"}, {\"hoverlabel\": {\"namelength\": 0}, \"hovertemplate\": \"label=test_subject_21<br>component 1=%{x}<br>component 2=%{y}<br>experiment=%{marker.size}\", \"legendgroup\": \"label=test_subject_21\", \"marker\": {\"color\": \"#636efa\", \"size\": [0.0125, 0.025], \"sizemode\": \"area\", \"sizeref\": 6.25e-05, \"symbol\": \"circle\"}, \"mode\": \"markers\", \"name\": \"label=test_subject_21\", \"showlegend\": true, \"type\": \"scatter\", \"x\": [-3.3329005746336593, 0.2307826220461928], \"xaxis\": \"x\", \"y\": [2.551251424769497, -0.575822895008221], \"yaxis\": \"y\"}],\n",
       "                        {\"height\": 600, \"legend\": {\"itemsizing\": \"constant\", \"tracegroupgap\": 0}, \"margin\": {\"t\": 60}, \"template\": {\"data\": {\"bar\": [{\"error_x\": {\"color\": \"#2a3f5f\"}, \"error_y\": {\"color\": \"#2a3f5f\"}, \"marker\": {\"line\": {\"color\": \"#E5ECF6\", \"width\": 0.5}}, \"type\": \"bar\"}], \"barpolar\": [{\"marker\": {\"line\": {\"color\": \"#E5ECF6\", \"width\": 0.5}}, \"type\": \"barpolar\"}], \"carpet\": [{\"aaxis\": {\"endlinecolor\": \"#2a3f5f\", \"gridcolor\": \"white\", \"linecolor\": \"white\", \"minorgridcolor\": \"white\", \"startlinecolor\": \"#2a3f5f\"}, \"baxis\": {\"endlinecolor\": \"#2a3f5f\", \"gridcolor\": \"white\", \"linecolor\": \"white\", \"minorgridcolor\": \"white\", \"startlinecolor\": \"#2a3f5f\"}, \"type\": \"carpet\"}], \"choropleth\": [{\"colorbar\": {\"outlinewidth\": 0, \"ticks\": \"\"}, \"type\": \"choropleth\"}], \"contour\": [{\"colorbar\": {\"outlinewidth\": 0, \"ticks\": \"\"}, \"colorscale\": [[0.0, \"#0d0887\"], [0.1111111111111111, \"#46039f\"], [0.2222222222222222, \"#7201a8\"], [0.3333333333333333, \"#9c179e\"], [0.4444444444444444, \"#bd3786\"], [0.5555555555555556, \"#d8576b\"], [0.6666666666666666, \"#ed7953\"], [0.7777777777777778, \"#fb9f3a\"], [0.8888888888888888, \"#fdca26\"], [1.0, \"#f0f921\"]], \"type\": \"contour\"}], \"contourcarpet\": [{\"colorbar\": {\"outlinewidth\": 0, \"ticks\": \"\"}, \"type\": \"contourcarpet\"}], \"heatmap\": [{\"colorbar\": {\"outlinewidth\": 0, \"ticks\": \"\"}, \"colorscale\": [[0.0, \"#0d0887\"], [0.1111111111111111, \"#46039f\"], [0.2222222222222222, \"#7201a8\"], [0.3333333333333333, \"#9c179e\"], [0.4444444444444444, \"#bd3786\"], [0.5555555555555556, \"#d8576b\"], [0.6666666666666666, \"#ed7953\"], [0.7777777777777778, \"#fb9f3a\"], [0.8888888888888888, \"#fdca26\"], [1.0, \"#f0f921\"]], \"type\": \"heatmap\"}], \"heatmapgl\": [{\"colorbar\": {\"outlinewidth\": 0, \"ticks\": \"\"}, \"colorscale\": [[0.0, \"#0d0887\"], [0.1111111111111111, \"#46039f\"], [0.2222222222222222, \"#7201a8\"], [0.3333333333333333, \"#9c179e\"], [0.4444444444444444, \"#bd3786\"], [0.5555555555555556, \"#d8576b\"], [0.6666666666666666, \"#ed7953\"], [0.7777777777777778, \"#fb9f3a\"], [0.8888888888888888, \"#fdca26\"], [1.0, \"#f0f921\"]], \"type\": \"heatmapgl\"}], \"histogram\": [{\"marker\": {\"colorbar\": {\"outlinewidth\": 0, \"ticks\": \"\"}}, \"type\": \"histogram\"}], \"histogram2d\": [{\"colorbar\": {\"outlinewidth\": 0, \"ticks\": \"\"}, \"colorscale\": [[0.0, \"#0d0887\"], [0.1111111111111111, \"#46039f\"], [0.2222222222222222, \"#7201a8\"], [0.3333333333333333, \"#9c179e\"], [0.4444444444444444, \"#bd3786\"], [0.5555555555555556, \"#d8576b\"], [0.6666666666666666, \"#ed7953\"], [0.7777777777777778, \"#fb9f3a\"], [0.8888888888888888, \"#fdca26\"], [1.0, \"#f0f921\"]], \"type\": \"histogram2d\"}], \"histogram2dcontour\": [{\"colorbar\": {\"outlinewidth\": 0, \"ticks\": \"\"}, \"colorscale\": [[0.0, \"#0d0887\"], [0.1111111111111111, \"#46039f\"], [0.2222222222222222, \"#7201a8\"], [0.3333333333333333, \"#9c179e\"], [0.4444444444444444, \"#bd3786\"], [0.5555555555555556, \"#d8576b\"], [0.6666666666666666, \"#ed7953\"], [0.7777777777777778, \"#fb9f3a\"], [0.8888888888888888, \"#fdca26\"], [1.0, \"#f0f921\"]], \"type\": \"histogram2dcontour\"}], \"mesh3d\": [{\"colorbar\": {\"outlinewidth\": 0, \"ticks\": \"\"}, \"type\": \"mesh3d\"}], \"parcoords\": [{\"line\": {\"colorbar\": {\"outlinewidth\": 0, \"ticks\": \"\"}}, \"type\": \"parcoords\"}], \"scatter\": [{\"marker\": {\"colorbar\": {\"outlinewidth\": 0, \"ticks\": \"\"}}, \"type\": \"scatter\"}], \"scatter3d\": [{\"line\": {\"colorbar\": {\"outlinewidth\": 0, \"ticks\": \"\"}}, \"marker\": {\"colorbar\": {\"outlinewidth\": 0, \"ticks\": \"\"}}, \"type\": \"scatter3d\"}], \"scattercarpet\": [{\"marker\": {\"colorbar\": {\"outlinewidth\": 0, \"ticks\": \"\"}}, \"type\": \"scattercarpet\"}], \"scattergeo\": [{\"marker\": {\"colorbar\": {\"outlinewidth\": 0, \"ticks\": \"\"}}, \"type\": \"scattergeo\"}], \"scattergl\": [{\"marker\": {\"colorbar\": {\"outlinewidth\": 0, \"ticks\": \"\"}}, \"type\": \"scattergl\"}], \"scattermapbox\": [{\"marker\": {\"colorbar\": {\"outlinewidth\": 0, \"ticks\": \"\"}}, \"type\": \"scattermapbox\"}], \"scatterpolar\": [{\"marker\": {\"colorbar\": {\"outlinewidth\": 0, \"ticks\": \"\"}}, \"type\": \"scatterpolar\"}], \"scatterpolargl\": [{\"marker\": {\"colorbar\": {\"outlinewidth\": 0, \"ticks\": \"\"}}, \"type\": \"scatterpolargl\"}], \"scatterternary\": [{\"marker\": {\"colorbar\": {\"outlinewidth\": 0, \"ticks\": \"\"}}, \"type\": \"scatterternary\"}], \"surface\": [{\"colorbar\": {\"outlinewidth\": 0, \"ticks\": \"\"}, \"colorscale\": [[0.0, \"#0d0887\"], [0.1111111111111111, \"#46039f\"], [0.2222222222222222, \"#7201a8\"], [0.3333333333333333, \"#9c179e\"], [0.4444444444444444, \"#bd3786\"], [0.5555555555555556, \"#d8576b\"], [0.6666666666666666, \"#ed7953\"], [0.7777777777777778, \"#fb9f3a\"], [0.8888888888888888, \"#fdca26\"], [1.0, \"#f0f921\"]], \"type\": \"surface\"}], \"table\": [{\"cells\": {\"fill\": {\"color\": \"#EBF0F8\"}, \"line\": {\"color\": \"white\"}}, \"header\": {\"fill\": {\"color\": \"#C8D4E3\"}, \"line\": {\"color\": \"white\"}}, \"type\": \"table\"}]}, \"layout\": {\"annotationdefaults\": {\"arrowcolor\": \"#2a3f5f\", \"arrowhead\": 0, \"arrowwidth\": 1}, \"colorscale\": {\"diverging\": [[0, \"#8e0152\"], [0.1, \"#c51b7d\"], [0.2, \"#de77ae\"], [0.3, \"#f1b6da\"], [0.4, \"#fde0ef\"], [0.5, \"#f7f7f7\"], [0.6, \"#e6f5d0\"], [0.7, \"#b8e186\"], [0.8, \"#7fbc41\"], [0.9, \"#4d9221\"], [1, \"#276419\"]], \"sequential\": [[0.0, \"#0d0887\"], [0.1111111111111111, \"#46039f\"], [0.2222222222222222, \"#7201a8\"], [0.3333333333333333, \"#9c179e\"], [0.4444444444444444, \"#bd3786\"], [0.5555555555555556, \"#d8576b\"], [0.6666666666666666, \"#ed7953\"], [0.7777777777777778, \"#fb9f3a\"], [0.8888888888888888, \"#fdca26\"], [1.0, \"#f0f921\"]], \"sequentialminus\": [[0.0, \"#0d0887\"], [0.1111111111111111, \"#46039f\"], [0.2222222222222222, \"#7201a8\"], [0.3333333333333333, \"#9c179e\"], [0.4444444444444444, \"#bd3786\"], [0.5555555555555556, \"#d8576b\"], [0.6666666666666666, \"#ed7953\"], [0.7777777777777778, \"#fb9f3a\"], [0.8888888888888888, \"#fdca26\"], [1.0, \"#f0f921\"]]}, \"colorway\": [\"#636efa\", \"#EF553B\", \"#00cc96\", \"#ab63fa\", \"#FFA15A\", \"#19d3f3\", \"#FF6692\", \"#B6E880\", \"#FF97FF\", \"#FECB52\"], \"font\": {\"color\": \"#2a3f5f\"}, \"geo\": {\"bgcolor\": \"white\", \"lakecolor\": \"white\", \"landcolor\": \"#E5ECF6\", \"showlakes\": true, \"showland\": true, \"subunitcolor\": \"white\"}, \"hoverlabel\": {\"align\": \"left\"}, \"hovermode\": \"closest\", \"mapbox\": {\"style\": \"light\"}, \"paper_bgcolor\": \"white\", \"plot_bgcolor\": \"#E5ECF6\", \"polar\": {\"angularaxis\": {\"gridcolor\": \"white\", \"linecolor\": \"white\", \"ticks\": \"\"}, \"bgcolor\": \"#E5ECF6\", \"radialaxis\": {\"gridcolor\": \"white\", \"linecolor\": \"white\", \"ticks\": \"\"}}, \"scene\": {\"xaxis\": {\"backgroundcolor\": \"#E5ECF6\", \"gridcolor\": \"white\", \"gridwidth\": 2, \"linecolor\": \"white\", \"showbackground\": true, \"ticks\": \"\", \"zerolinecolor\": \"white\"}, \"yaxis\": {\"backgroundcolor\": \"#E5ECF6\", \"gridcolor\": \"white\", \"gridwidth\": 2, \"linecolor\": \"white\", \"showbackground\": true, \"ticks\": \"\", \"zerolinecolor\": \"white\"}, \"zaxis\": {\"backgroundcolor\": \"#E5ECF6\", \"gridcolor\": \"white\", \"gridwidth\": 2, \"linecolor\": \"white\", \"showbackground\": true, \"ticks\": \"\", \"zerolinecolor\": \"white\"}}, \"shapedefaults\": {\"line\": {\"color\": \"#2a3f5f\"}}, \"ternary\": {\"aaxis\": {\"gridcolor\": \"white\", \"linecolor\": \"white\", \"ticks\": \"\"}, \"baxis\": {\"gridcolor\": \"white\", \"linecolor\": \"white\", \"ticks\": \"\"}, \"bgcolor\": \"#E5ECF6\", \"caxis\": {\"gridcolor\": \"white\", \"linecolor\": \"white\", \"ticks\": \"\"}}, \"title\": {\"x\": 0.05}, \"xaxis\": {\"automargin\": true, \"gridcolor\": \"white\", \"linecolor\": \"white\", \"ticks\": \"\", \"zerolinecolor\": \"white\", \"zerolinewidth\": 2}, \"yaxis\": {\"automargin\": true, \"gridcolor\": \"white\", \"linecolor\": \"white\", \"ticks\": \"\", \"zerolinecolor\": \"white\", \"zerolinewidth\": 2}}}, \"xaxis\": {\"anchor\": \"y\", \"domain\": [0.0, 0.98], \"title\": {\"text\": \"component 1\"}}, \"yaxis\": {\"anchor\": \"x\", \"domain\": [0.0, 1.0], \"title\": {\"text\": \"component 2\"}}},\n",
       "                        {\"responsive\": true}\n",
       "                    ).then(function(){\n",
       "                            \n",
       "var gd = document.getElementById('d04fa267-b849-4319-8108-6595bb332cb8');\n",
       "var x = new MutationObserver(function (mutations, observer) {{\n",
       "        var display = window.getComputedStyle(gd).display;\n",
       "        if (!display || display === 'none') {{\n",
       "            console.log([gd, 'removed!']);\n",
       "            Plotly.purge(gd);\n",
       "            observer.disconnect();\n",
       "        }}\n",
       "}});\n",
       "\n",
       "// Listen for the removal of the full notebook cells\n",
       "var notebookContainer = gd.closest('#notebook-container');\n",
       "if (notebookContainer) {{\n",
       "    x.observe(notebookContainer, {childList: true});\n",
       "}}\n",
       "\n",
       "// Listen for the clearing of the current output cell\n",
       "var outputEl = gd.closest('.output');\n",
       "if (outputEl) {{\n",
       "    x.observe(outputEl, {childList: true});\n",
       "}}\n",
       "\n",
       "                        })\n",
       "                };\n",
       "                });\n",
       "            </script>\n",
       "        </div>"
      ]
     },
     "metadata": {},
     "output_type": "display_data"
    },
    {
     "name": "stdout",
     "output_type": "stream",
     "text": [
      "[0.17608125 0.17480934]\n"
     ]
    },
    {
     "data": {
      "application/vnd.plotly.v1+json": {
       "config": {
        "plotlyServerURL": "https://plot.ly"
       },
       "data": [
        {
         "hoverlabel": {
          "namelength": 0
         },
         "hovertemplate": "label=test_subject_01<br>component 1=%{x}<br>component 2=%{y}<br>experiment=%{marker.size}",
         "legendgroup": "label=test_subject_01",
         "marker": {
          "color": "#636efa",
          "size": [
           0.0125,
           0.025
          ],
          "sizemode": "area",
          "sizeref": 6.25e-05,
          "symbol": "circle"
         },
         "mode": "markers",
         "name": "label=test_subject_01",
         "showlegend": true,
         "type": "scatter",
         "x": [
          0.9035468676790749,
          1.6045450367129903
         ],
         "xaxis": "x",
         "y": [
          -0.4208206900068767,
          0.7987120772316693
         ],
         "yaxis": "y"
        },
        {
         "hoverlabel": {
          "namelength": 0
         },
         "hovertemplate": "label=test_subject_02<br>component 1=%{x}<br>component 2=%{y}<br>experiment=%{marker.size}",
         "legendgroup": "label=test_subject_02",
         "marker": {
          "color": "#EF553B",
          "size": [
           0.0125,
           0.025
          ],
          "sizemode": "area",
          "sizeref": 6.25e-05,
          "symbol": "circle"
         },
         "mode": "markers",
         "name": "label=test_subject_02",
         "showlegend": true,
         "type": "scatter",
         "x": [
          -4.576190653138378,
          -3.872109484167664
         ],
         "xaxis": "x",
         "y": [
          -1.2508807067166576,
          -1.1838841786769128
         ],
         "yaxis": "y"
        },
        {
         "hoverlabel": {
          "namelength": 0
         },
         "hovertemplate": "label=test_subject_03<br>component 1=%{x}<br>component 2=%{y}<br>experiment=%{marker.size}",
         "legendgroup": "label=test_subject_03",
         "marker": {
          "color": "#00cc96",
          "size": [
           0.0125,
           0.025
          ],
          "sizemode": "area",
          "sizeref": 6.25e-05,
          "symbol": "circle"
         },
         "mode": "markers",
         "name": "label=test_subject_03",
         "showlegend": true,
         "type": "scatter",
         "x": [
          -2.8692417800352796,
          0.20002463415415406
         ],
         "xaxis": "x",
         "y": [
          -5.406616054590674,
          2.637373029512694
         ],
         "yaxis": "y"
        },
        {
         "hoverlabel": {
          "namelength": 0
         },
         "hovertemplate": "label=test_subject_04<br>component 1=%{x}<br>component 2=%{y}<br>experiment=%{marker.size}",
         "legendgroup": "label=test_subject_04",
         "marker": {
          "color": "#ab63fa",
          "size": [
           0.0125,
           0.025
          ],
          "sizemode": "area",
          "sizeref": 6.25e-05,
          "symbol": "circle"
         },
         "mode": "markers",
         "name": "label=test_subject_04",
         "showlegend": true,
         "type": "scatter",
         "x": [
          0.30250191360380146,
          -1.636540363243156
         ],
         "xaxis": "x",
         "y": [
          0.8915988426088116,
          -1.0899031422107126
         ],
         "yaxis": "y"
        },
        {
         "hoverlabel": {
          "namelength": 0
         },
         "hovertemplate": "label=test_subject_05<br>component 1=%{x}<br>component 2=%{y}<br>experiment=%{marker.size}",
         "legendgroup": "label=test_subject_05",
         "marker": {
          "color": "#FFA15A",
          "size": [
           0.0125,
           0.025
          ],
          "sizemode": "area",
          "sizeref": 6.25e-05,
          "symbol": "circle"
         },
         "mode": "markers",
         "name": "label=test_subject_05",
         "showlegend": true,
         "type": "scatter",
         "x": [
          -0.5318273220472622,
          -0.5285910371866436
         ],
         "xaxis": "x",
         "y": [
          -1.3724691413067502,
          -0.3940487461357545
         ],
         "yaxis": "y"
        },
        {
         "hoverlabel": {
          "namelength": 0
         },
         "hovertemplate": "label=test_subject_06<br>component 1=%{x}<br>component 2=%{y}<br>experiment=%{marker.size}",
         "legendgroup": "label=test_subject_06",
         "marker": {
          "color": "#19d3f3",
          "size": [
           0.0125,
           0.025
          ],
          "sizemode": "area",
          "sizeref": 6.25e-05,
          "symbol": "circle"
         },
         "mode": "markers",
         "name": "label=test_subject_06",
         "showlegend": true,
         "type": "scatter",
         "x": [
          -5.607535980771773,
          -6.074594206078975
         ],
         "xaxis": "x",
         "y": [
          11.736754959740404,
          11.121336897556914
         ],
         "yaxis": "y"
        },
        {
         "hoverlabel": {
          "namelength": 0
         },
         "hovertemplate": "label=test_subject_07<br>component 1=%{x}<br>component 2=%{y}<br>experiment=%{marker.size}",
         "legendgroup": "label=test_subject_07",
         "marker": {
          "color": "#FF6692",
          "size": [
           0.0125,
           0.025
          ],
          "sizemode": "area",
          "sizeref": 6.25e-05,
          "symbol": "circle"
         },
         "mode": "markers",
         "name": "label=test_subject_07",
         "showlegend": true,
         "type": "scatter",
         "x": [
          0.4058154405710742,
          -3.0752935260478678
         ],
         "xaxis": "x",
         "y": [
          0.22699293114059954,
          -1.666429988568278
         ],
         "yaxis": "y"
        },
        {
         "hoverlabel": {
          "namelength": 0
         },
         "hovertemplate": "label=test_subject_08<br>component 1=%{x}<br>component 2=%{y}<br>experiment=%{marker.size}",
         "legendgroup": "label=test_subject_08",
         "marker": {
          "color": "#B6E880",
          "size": [
           0.0125,
           0.025
          ],
          "sizemode": "area",
          "sizeref": 6.25e-05,
          "symbol": "circle"
         },
         "mode": "markers",
         "name": "label=test_subject_08",
         "showlegend": true,
         "type": "scatter",
         "x": [
          -2.4367663726011735,
          -3.8978894985763146
         ],
         "xaxis": "x",
         "y": [
          -3.9956120663551724,
          -2.5920855546169643
         ],
         "yaxis": "y"
        },
        {
         "hoverlabel": {
          "namelength": 0
         },
         "hovertemplate": "label=test_subject_09<br>component 1=%{x}<br>component 2=%{y}<br>experiment=%{marker.size}",
         "legendgroup": "label=test_subject_09",
         "marker": {
          "color": "#FF97FF",
          "size": [
           0.0125,
           0.025
          ],
          "sizemode": "area",
          "sizeref": 6.25e-05,
          "symbol": "circle"
         },
         "mode": "markers",
         "name": "label=test_subject_09",
         "showlegend": true,
         "type": "scatter",
         "x": [
          2.519418836663077,
          2.50197427305126
         ],
         "xaxis": "x",
         "y": [
          -1.4274203694430179,
          -0.9727299845936227
         ],
         "yaxis": "y"
        },
        {
         "hoverlabel": {
          "namelength": 0
         },
         "hovertemplate": "label=test_subject_10<br>component 1=%{x}<br>component 2=%{y}<br>experiment=%{marker.size}",
         "legendgroup": "label=test_subject_10",
         "marker": {
          "color": "#FECB52",
          "size": [
           0.0125,
           0.025
          ],
          "sizemode": "area",
          "sizeref": 6.25e-05,
          "symbol": "circle"
         },
         "mode": "markers",
         "name": "label=test_subject_10",
         "showlegend": true,
         "type": "scatter",
         "x": [
          3.601750952058749,
          4.565516527432759
         ],
         "xaxis": "x",
         "y": [
          0.6610412640629897,
          3.328484433337176
         ],
         "yaxis": "y"
        },
        {
         "hoverlabel": {
          "namelength": 0
         },
         "hovertemplate": "label=test_subject_11<br>component 1=%{x}<br>component 2=%{y}<br>experiment=%{marker.size}",
         "legendgroup": "label=test_subject_11",
         "marker": {
          "color": "#636efa",
          "size": [
           0.0125,
           0.025
          ],
          "sizemode": "area",
          "sizeref": 6.25e-05,
          "symbol": "circle"
         },
         "mode": "markers",
         "name": "label=test_subject_11",
         "showlegend": true,
         "type": "scatter",
         "x": [
          -3.148593806927992,
          -4.7035019153063935
         ],
         "xaxis": "x",
         "y": [
          -0.3404301316489655,
          -1.7361089758793642
         ],
         "yaxis": "y"
        },
        {
         "hoverlabel": {
          "namelength": 0
         },
         "hovertemplate": "label=test_subject_12<br>component 1=%{x}<br>component 2=%{y}<br>experiment=%{marker.size}",
         "legendgroup": "label=test_subject_12",
         "marker": {
          "color": "#EF553B",
          "size": [
           0.0125,
           0.025
          ],
          "sizemode": "area",
          "sizeref": 6.25e-05,
          "symbol": "circle"
         },
         "mode": "markers",
         "name": "label=test_subject_12",
         "showlegend": true,
         "type": "scatter",
         "x": [
          1.3474353044665641,
          0.2067599600923668
         ],
         "xaxis": "x",
         "y": [
          -2.4506074994714306,
          -2.0529482423186685
         ],
         "yaxis": "y"
        },
        {
         "hoverlabel": {
          "namelength": 0
         },
         "hovertemplate": "label=test_subject_13<br>component 1=%{x}<br>component 2=%{y}<br>experiment=%{marker.size}",
         "legendgroup": "label=test_subject_13",
         "marker": {
          "color": "#00cc96",
          "size": [
           0.0125,
           0.025
          ],
          "sizemode": "area",
          "sizeref": 6.25e-05,
          "symbol": "circle"
         },
         "mode": "markers",
         "name": "label=test_subject_13",
         "showlegend": true,
         "type": "scatter",
         "x": [
          4.301020178137564,
          -0.7978472446486921
         ],
         "xaxis": "x",
         "y": [
          0.21750269766151512,
          -2.9287260017206083
         ],
         "yaxis": "y"
        },
        {
         "hoverlabel": {
          "namelength": 0
         },
         "hovertemplate": "label=test_subject_14<br>component 1=%{x}<br>component 2=%{y}<br>experiment=%{marker.size}",
         "legendgroup": "label=test_subject_14",
         "marker": {
          "color": "#ab63fa",
          "size": [
           0.0125,
           0.025
          ],
          "sizemode": "area",
          "sizeref": 6.25e-05,
          "symbol": "circle"
         },
         "mode": "markers",
         "name": "label=test_subject_14",
         "showlegend": true,
         "type": "scatter",
         "x": [
          -2.3755450247925602,
          -1.5997483311937841
         ],
         "xaxis": "x",
         "y": [
          -3.810512238343499,
          -1.2698794058103318
         ],
         "yaxis": "y"
        },
        {
         "hoverlabel": {
          "namelength": 0
         },
         "hovertemplate": "label=test_subject_15<br>component 1=%{x}<br>component 2=%{y}<br>experiment=%{marker.size}",
         "legendgroup": "label=test_subject_15",
         "marker": {
          "color": "#FFA15A",
          "size": [
           0.0125,
           0.025
          ],
          "sizemode": "area",
          "sizeref": 6.25e-05,
          "symbol": "circle"
         },
         "mode": "markers",
         "name": "label=test_subject_15",
         "showlegend": true,
         "type": "scatter",
         "x": [
          0.04044701052232752,
          3.2045812671654343
         ],
         "xaxis": "x",
         "y": [
          -0.07421311481176215,
          1.1220249498411496
         ],
         "yaxis": "y"
        },
        {
         "hoverlabel": {
          "namelength": 0
         },
         "hovertemplate": "label=test_subject_16<br>component 1=%{x}<br>component 2=%{y}<br>experiment=%{marker.size}",
         "legendgroup": "label=test_subject_16",
         "marker": {
          "color": "#19d3f3",
          "size": [
           0.0125,
           0.025
          ],
          "sizemode": "area",
          "sizeref": 6.25e-05,
          "symbol": "circle"
         },
         "mode": "markers",
         "name": "label=test_subject_16",
         "showlegend": true,
         "type": "scatter",
         "x": [
          1.1465219231449528,
          -2.057235123949641
         ],
         "xaxis": "x",
         "y": [
          0.9155415807859641,
          -0.520165287932949
         ],
         "yaxis": "y"
        },
        {
         "hoverlabel": {
          "namelength": 0
         },
         "hovertemplate": "label=test_subject_17<br>component 1=%{x}<br>component 2=%{y}<br>experiment=%{marker.size}",
         "legendgroup": "label=test_subject_17",
         "marker": {
          "color": "#FF6692",
          "size": [
           0.0125,
           0.025
          ],
          "sizemode": "area",
          "sizeref": 6.25e-05,
          "symbol": "circle"
         },
         "mode": "markers",
         "name": "label=test_subject_17",
         "showlegend": true,
         "type": "scatter",
         "x": [
          6.306916046369095,
          5.270059943065036
         ],
         "xaxis": "x",
         "y": [
          0.9766899795709141,
          1.1353321601471507
         ],
         "yaxis": "y"
        },
        {
         "hoverlabel": {
          "namelength": 0
         },
         "hovertemplate": "label=test_subject_18<br>component 1=%{x}<br>component 2=%{y}<br>experiment=%{marker.size}",
         "legendgroup": "label=test_subject_18",
         "marker": {
          "color": "#B6E880",
          "size": [
           0.0125,
           0.025
          ],
          "sizemode": "area",
          "sizeref": 6.25e-05,
          "symbol": "circle"
         },
         "mode": "markers",
         "name": "label=test_subject_18",
         "showlegend": true,
         "type": "scatter",
         "x": [
          0.7831031271284299,
          5.595555706589995
         ],
         "xaxis": "x",
         "y": [
          -0.07138140672501991,
          3.0067459583344007
         ],
         "yaxis": "y"
        },
        {
         "hoverlabel": {
          "namelength": 0
         },
         "hovertemplate": "label=test_subject_19<br>component 1=%{x}<br>component 2=%{y}<br>experiment=%{marker.size}",
         "legendgroup": "label=test_subject_19",
         "marker": {
          "color": "#FF97FF",
          "size": [
           0.0125,
           0.025
          ],
          "sizemode": "area",
          "sizeref": 6.25e-05,
          "symbol": "circle"
         },
         "mode": "markers",
         "name": "label=test_subject_19",
         "showlegend": true,
         "type": "scatter",
         "x": [
          1.9250809877868034,
          3.8361120296874995
         ],
         "xaxis": "x",
         "y": [
          0.8788357040066793,
          2.2777691150738106
         ],
         "yaxis": "y"
        },
        {
         "hoverlabel": {
          "namelength": 0
         },
         "hovertemplate": "label=test_subject_20<br>component 1=%{x}<br>component 2=%{y}<br>experiment=%{marker.size}",
         "legendgroup": "label=test_subject_20",
         "marker": {
          "color": "#FECB52",
          "size": [
           0.0125,
           0.025
          ],
          "sizemode": "area",
          "sizeref": 6.25e-05,
          "symbol": "circle"
         },
         "mode": "markers",
         "name": "label=test_subject_20",
         "showlegend": true,
         "type": "scatter",
         "x": [
          0.004850258260859156,
          2.1201476924358142
         ],
         "xaxis": "x",
         "y": [
          -1.58860356073071,
          -1.1080143398827231
         ],
         "yaxis": "y"
        },
        {
         "hoverlabel": {
          "namelength": 0
         },
         "hovertemplate": "label=test_subject_21<br>component 1=%{x}<br>component 2=%{y}<br>experiment=%{marker.size}",
         "legendgroup": "label=test_subject_21",
         "marker": {
          "color": "#636efa",
          "size": [
           0.0125,
           0.025
          ],
          "sizemode": "area",
          "sizeref": 6.25e-05,
          "symbol": "circle"
         },
         "mode": "markers",
         "name": "label=test_subject_21",
         "showlegend": true,
         "type": "scatter",
         "x": [
          1.0245452523887355,
          -3.9291794984548605
         ],
         "xaxis": "x",
         "y": [
          -0.9516510237477206,
          -1.2565947283676944
         ],
         "yaxis": "y"
        }
       ],
       "layout": {
        "height": 600,
        "legend": {
         "itemsizing": "constant",
         "tracegroupgap": 0
        },
        "margin": {
         "t": 60
        },
        "template": {
         "data": {
          "bar": [
           {
            "error_x": {
             "color": "#2a3f5f"
            },
            "error_y": {
             "color": "#2a3f5f"
            },
            "marker": {
             "line": {
              "color": "#E5ECF6",
              "width": 0.5
             }
            },
            "type": "bar"
           }
          ],
          "barpolar": [
           {
            "marker": {
             "line": {
              "color": "#E5ECF6",
              "width": 0.5
             }
            },
            "type": "barpolar"
           }
          ],
          "carpet": [
           {
            "aaxis": {
             "endlinecolor": "#2a3f5f",
             "gridcolor": "white",
             "linecolor": "white",
             "minorgridcolor": "white",
             "startlinecolor": "#2a3f5f"
            },
            "baxis": {
             "endlinecolor": "#2a3f5f",
             "gridcolor": "white",
             "linecolor": "white",
             "minorgridcolor": "white",
             "startlinecolor": "#2a3f5f"
            },
            "type": "carpet"
           }
          ],
          "choropleth": [
           {
            "colorbar": {
             "outlinewidth": 0,
             "ticks": ""
            },
            "type": "choropleth"
           }
          ],
          "contour": [
           {
            "colorbar": {
             "outlinewidth": 0,
             "ticks": ""
            },
            "colorscale": [
             [
              0,
              "#0d0887"
             ],
             [
              0.1111111111111111,
              "#46039f"
             ],
             [
              0.2222222222222222,
              "#7201a8"
             ],
             [
              0.3333333333333333,
              "#9c179e"
             ],
             [
              0.4444444444444444,
              "#bd3786"
             ],
             [
              0.5555555555555556,
              "#d8576b"
             ],
             [
              0.6666666666666666,
              "#ed7953"
             ],
             [
              0.7777777777777778,
              "#fb9f3a"
             ],
             [
              0.8888888888888888,
              "#fdca26"
             ],
             [
              1,
              "#f0f921"
             ]
            ],
            "type": "contour"
           }
          ],
          "contourcarpet": [
           {
            "colorbar": {
             "outlinewidth": 0,
             "ticks": ""
            },
            "type": "contourcarpet"
           }
          ],
          "heatmap": [
           {
            "colorbar": {
             "outlinewidth": 0,
             "ticks": ""
            },
            "colorscale": [
             [
              0,
              "#0d0887"
             ],
             [
              0.1111111111111111,
              "#46039f"
             ],
             [
              0.2222222222222222,
              "#7201a8"
             ],
             [
              0.3333333333333333,
              "#9c179e"
             ],
             [
              0.4444444444444444,
              "#bd3786"
             ],
             [
              0.5555555555555556,
              "#d8576b"
             ],
             [
              0.6666666666666666,
              "#ed7953"
             ],
             [
              0.7777777777777778,
              "#fb9f3a"
             ],
             [
              0.8888888888888888,
              "#fdca26"
             ],
             [
              1,
              "#f0f921"
             ]
            ],
            "type": "heatmap"
           }
          ],
          "heatmapgl": [
           {
            "colorbar": {
             "outlinewidth": 0,
             "ticks": ""
            },
            "colorscale": [
             [
              0,
              "#0d0887"
             ],
             [
              0.1111111111111111,
              "#46039f"
             ],
             [
              0.2222222222222222,
              "#7201a8"
             ],
             [
              0.3333333333333333,
              "#9c179e"
             ],
             [
              0.4444444444444444,
              "#bd3786"
             ],
             [
              0.5555555555555556,
              "#d8576b"
             ],
             [
              0.6666666666666666,
              "#ed7953"
             ],
             [
              0.7777777777777778,
              "#fb9f3a"
             ],
             [
              0.8888888888888888,
              "#fdca26"
             ],
             [
              1,
              "#f0f921"
             ]
            ],
            "type": "heatmapgl"
           }
          ],
          "histogram": [
           {
            "marker": {
             "colorbar": {
              "outlinewidth": 0,
              "ticks": ""
             }
            },
            "type": "histogram"
           }
          ],
          "histogram2d": [
           {
            "colorbar": {
             "outlinewidth": 0,
             "ticks": ""
            },
            "colorscale": [
             [
              0,
              "#0d0887"
             ],
             [
              0.1111111111111111,
              "#46039f"
             ],
             [
              0.2222222222222222,
              "#7201a8"
             ],
             [
              0.3333333333333333,
              "#9c179e"
             ],
             [
              0.4444444444444444,
              "#bd3786"
             ],
             [
              0.5555555555555556,
              "#d8576b"
             ],
             [
              0.6666666666666666,
              "#ed7953"
             ],
             [
              0.7777777777777778,
              "#fb9f3a"
             ],
             [
              0.8888888888888888,
              "#fdca26"
             ],
             [
              1,
              "#f0f921"
             ]
            ],
            "type": "histogram2d"
           }
          ],
          "histogram2dcontour": [
           {
            "colorbar": {
             "outlinewidth": 0,
             "ticks": ""
            },
            "colorscale": [
             [
              0,
              "#0d0887"
             ],
             [
              0.1111111111111111,
              "#46039f"
             ],
             [
              0.2222222222222222,
              "#7201a8"
             ],
             [
              0.3333333333333333,
              "#9c179e"
             ],
             [
              0.4444444444444444,
              "#bd3786"
             ],
             [
              0.5555555555555556,
              "#d8576b"
             ],
             [
              0.6666666666666666,
              "#ed7953"
             ],
             [
              0.7777777777777778,
              "#fb9f3a"
             ],
             [
              0.8888888888888888,
              "#fdca26"
             ],
             [
              1,
              "#f0f921"
             ]
            ],
            "type": "histogram2dcontour"
           }
          ],
          "mesh3d": [
           {
            "colorbar": {
             "outlinewidth": 0,
             "ticks": ""
            },
            "type": "mesh3d"
           }
          ],
          "parcoords": [
           {
            "line": {
             "colorbar": {
              "outlinewidth": 0,
              "ticks": ""
             }
            },
            "type": "parcoords"
           }
          ],
          "scatter": [
           {
            "marker": {
             "colorbar": {
              "outlinewidth": 0,
              "ticks": ""
             }
            },
            "type": "scatter"
           }
          ],
          "scatter3d": [
           {
            "line": {
             "colorbar": {
              "outlinewidth": 0,
              "ticks": ""
             }
            },
            "marker": {
             "colorbar": {
              "outlinewidth": 0,
              "ticks": ""
             }
            },
            "type": "scatter3d"
           }
          ],
          "scattercarpet": [
           {
            "marker": {
             "colorbar": {
              "outlinewidth": 0,
              "ticks": ""
             }
            },
            "type": "scattercarpet"
           }
          ],
          "scattergeo": [
           {
            "marker": {
             "colorbar": {
              "outlinewidth": 0,
              "ticks": ""
             }
            },
            "type": "scattergeo"
           }
          ],
          "scattergl": [
           {
            "marker": {
             "colorbar": {
              "outlinewidth": 0,
              "ticks": ""
             }
            },
            "type": "scattergl"
           }
          ],
          "scattermapbox": [
           {
            "marker": {
             "colorbar": {
              "outlinewidth": 0,
              "ticks": ""
             }
            },
            "type": "scattermapbox"
           }
          ],
          "scatterpolar": [
           {
            "marker": {
             "colorbar": {
              "outlinewidth": 0,
              "ticks": ""
             }
            },
            "type": "scatterpolar"
           }
          ],
          "scatterpolargl": [
           {
            "marker": {
             "colorbar": {
              "outlinewidth": 0,
              "ticks": ""
             }
            },
            "type": "scatterpolargl"
           }
          ],
          "scatterternary": [
           {
            "marker": {
             "colorbar": {
              "outlinewidth": 0,
              "ticks": ""
             }
            },
            "type": "scatterternary"
           }
          ],
          "surface": [
           {
            "colorbar": {
             "outlinewidth": 0,
             "ticks": ""
            },
            "colorscale": [
             [
              0,
              "#0d0887"
             ],
             [
              0.1111111111111111,
              "#46039f"
             ],
             [
              0.2222222222222222,
              "#7201a8"
             ],
             [
              0.3333333333333333,
              "#9c179e"
             ],
             [
              0.4444444444444444,
              "#bd3786"
             ],
             [
              0.5555555555555556,
              "#d8576b"
             ],
             [
              0.6666666666666666,
              "#ed7953"
             ],
             [
              0.7777777777777778,
              "#fb9f3a"
             ],
             [
              0.8888888888888888,
              "#fdca26"
             ],
             [
              1,
              "#f0f921"
             ]
            ],
            "type": "surface"
           }
          ],
          "table": [
           {
            "cells": {
             "fill": {
              "color": "#EBF0F8"
             },
             "line": {
              "color": "white"
             }
            },
            "header": {
             "fill": {
              "color": "#C8D4E3"
             },
             "line": {
              "color": "white"
             }
            },
            "type": "table"
           }
          ]
         },
         "layout": {
          "annotationdefaults": {
           "arrowcolor": "#2a3f5f",
           "arrowhead": 0,
           "arrowwidth": 1
          },
          "colorscale": {
           "diverging": [
            [
             0,
             "#8e0152"
            ],
            [
             0.1,
             "#c51b7d"
            ],
            [
             0.2,
             "#de77ae"
            ],
            [
             0.3,
             "#f1b6da"
            ],
            [
             0.4,
             "#fde0ef"
            ],
            [
             0.5,
             "#f7f7f7"
            ],
            [
             0.6,
             "#e6f5d0"
            ],
            [
             0.7,
             "#b8e186"
            ],
            [
             0.8,
             "#7fbc41"
            ],
            [
             0.9,
             "#4d9221"
            ],
            [
             1,
             "#276419"
            ]
           ],
           "sequential": [
            [
             0,
             "#0d0887"
            ],
            [
             0.1111111111111111,
             "#46039f"
            ],
            [
             0.2222222222222222,
             "#7201a8"
            ],
            [
             0.3333333333333333,
             "#9c179e"
            ],
            [
             0.4444444444444444,
             "#bd3786"
            ],
            [
             0.5555555555555556,
             "#d8576b"
            ],
            [
             0.6666666666666666,
             "#ed7953"
            ],
            [
             0.7777777777777778,
             "#fb9f3a"
            ],
            [
             0.8888888888888888,
             "#fdca26"
            ],
            [
             1,
             "#f0f921"
            ]
           ],
           "sequentialminus": [
            [
             0,
             "#0d0887"
            ],
            [
             0.1111111111111111,
             "#46039f"
            ],
            [
             0.2222222222222222,
             "#7201a8"
            ],
            [
             0.3333333333333333,
             "#9c179e"
            ],
            [
             0.4444444444444444,
             "#bd3786"
            ],
            [
             0.5555555555555556,
             "#d8576b"
            ],
            [
             0.6666666666666666,
             "#ed7953"
            ],
            [
             0.7777777777777778,
             "#fb9f3a"
            ],
            [
             0.8888888888888888,
             "#fdca26"
            ],
            [
             1,
             "#f0f921"
            ]
           ]
          },
          "colorway": [
           "#636efa",
           "#EF553B",
           "#00cc96",
           "#ab63fa",
           "#FFA15A",
           "#19d3f3",
           "#FF6692",
           "#B6E880",
           "#FF97FF",
           "#FECB52"
          ],
          "font": {
           "color": "#2a3f5f"
          },
          "geo": {
           "bgcolor": "white",
           "lakecolor": "white",
           "landcolor": "#E5ECF6",
           "showlakes": true,
           "showland": true,
           "subunitcolor": "white"
          },
          "hoverlabel": {
           "align": "left"
          },
          "hovermode": "closest",
          "mapbox": {
           "style": "light"
          },
          "paper_bgcolor": "white",
          "plot_bgcolor": "#E5ECF6",
          "polar": {
           "angularaxis": {
            "gridcolor": "white",
            "linecolor": "white",
            "ticks": ""
           },
           "bgcolor": "#E5ECF6",
           "radialaxis": {
            "gridcolor": "white",
            "linecolor": "white",
            "ticks": ""
           }
          },
          "scene": {
           "xaxis": {
            "backgroundcolor": "#E5ECF6",
            "gridcolor": "white",
            "gridwidth": 2,
            "linecolor": "white",
            "showbackground": true,
            "ticks": "",
            "zerolinecolor": "white"
           },
           "yaxis": {
            "backgroundcolor": "#E5ECF6",
            "gridcolor": "white",
            "gridwidth": 2,
            "linecolor": "white",
            "showbackground": true,
            "ticks": "",
            "zerolinecolor": "white"
           },
           "zaxis": {
            "backgroundcolor": "#E5ECF6",
            "gridcolor": "white",
            "gridwidth": 2,
            "linecolor": "white",
            "showbackground": true,
            "ticks": "",
            "zerolinecolor": "white"
           }
          },
          "shapedefaults": {
           "line": {
            "color": "#2a3f5f"
           }
          },
          "ternary": {
           "aaxis": {
            "gridcolor": "white",
            "linecolor": "white",
            "ticks": ""
           },
           "baxis": {
            "gridcolor": "white",
            "linecolor": "white",
            "ticks": ""
           },
           "bgcolor": "#E5ECF6",
           "caxis": {
            "gridcolor": "white",
            "linecolor": "white",
            "ticks": ""
           }
          },
          "title": {
           "x": 0.05
          },
          "xaxis": {
           "automargin": true,
           "gridcolor": "white",
           "linecolor": "white",
           "ticks": "",
           "zerolinecolor": "white",
           "zerolinewidth": 2
          },
          "yaxis": {
           "automargin": true,
           "gridcolor": "white",
           "linecolor": "white",
           "ticks": "",
           "zerolinecolor": "white",
           "zerolinewidth": 2
          }
         }
        },
        "xaxis": {
         "anchor": "y",
         "domain": [
          0,
          0.98
         ],
         "title": {
          "text": "component 1"
         }
        },
        "yaxis": {
         "anchor": "x",
         "domain": [
          0,
          1
         ],
         "title": {
          "text": "component 2"
         }
        }
       }
      },
      "text/html": [
       "<div>\n",
       "        \n",
       "        \n",
       "            <div id=\"ec07251d-1b14-4943-bf9a-d680ded9d748\" class=\"plotly-graph-div\" style=\"height:600px; width:100%;\"></div>\n",
       "            <script type=\"text/javascript\">\n",
       "                require([\"plotly\"], function(Plotly) {\n",
       "                    window.PLOTLYENV=window.PLOTLYENV || {};\n",
       "                    \n",
       "                if (document.getElementById(\"ec07251d-1b14-4943-bf9a-d680ded9d748\")) {\n",
       "                    Plotly.newPlot(\n",
       "                        'ec07251d-1b14-4943-bf9a-d680ded9d748',\n",
       "                        [{\"hoverlabel\": {\"namelength\": 0}, \"hovertemplate\": \"label=test_subject_01<br>component 1=%{x}<br>component 2=%{y}<br>experiment=%{marker.size}\", \"legendgroup\": \"label=test_subject_01\", \"marker\": {\"color\": \"#636efa\", \"size\": [0.0125, 0.025], \"sizemode\": \"area\", \"sizeref\": 6.25e-05, \"symbol\": \"circle\"}, \"mode\": \"markers\", \"name\": \"label=test_subject_01\", \"showlegend\": true, \"type\": \"scatter\", \"x\": [0.9035468676790749, 1.6045450367129903], \"xaxis\": \"x\", \"y\": [-0.4208206900068767, 0.7987120772316693], \"yaxis\": \"y\"}, {\"hoverlabel\": {\"namelength\": 0}, \"hovertemplate\": \"label=test_subject_02<br>component 1=%{x}<br>component 2=%{y}<br>experiment=%{marker.size}\", \"legendgroup\": \"label=test_subject_02\", \"marker\": {\"color\": \"#EF553B\", \"size\": [0.0125, 0.025], \"sizemode\": \"area\", \"sizeref\": 6.25e-05, \"symbol\": \"circle\"}, \"mode\": \"markers\", \"name\": \"label=test_subject_02\", \"showlegend\": true, \"type\": \"scatter\", \"x\": [-4.576190653138378, -3.872109484167664], \"xaxis\": \"x\", \"y\": [-1.2508807067166576, -1.1838841786769128], \"yaxis\": \"y\"}, {\"hoverlabel\": {\"namelength\": 0}, \"hovertemplate\": \"label=test_subject_03<br>component 1=%{x}<br>component 2=%{y}<br>experiment=%{marker.size}\", \"legendgroup\": \"label=test_subject_03\", \"marker\": {\"color\": \"#00cc96\", \"size\": [0.0125, 0.025], \"sizemode\": \"area\", \"sizeref\": 6.25e-05, \"symbol\": \"circle\"}, \"mode\": \"markers\", \"name\": \"label=test_subject_03\", \"showlegend\": true, \"type\": \"scatter\", \"x\": [-2.8692417800352796, 0.20002463415415406], \"xaxis\": \"x\", \"y\": [-5.406616054590674, 2.637373029512694], \"yaxis\": \"y\"}, {\"hoverlabel\": {\"namelength\": 0}, \"hovertemplate\": \"label=test_subject_04<br>component 1=%{x}<br>component 2=%{y}<br>experiment=%{marker.size}\", \"legendgroup\": \"label=test_subject_04\", \"marker\": {\"color\": \"#ab63fa\", \"size\": [0.0125, 0.025], \"sizemode\": \"area\", \"sizeref\": 6.25e-05, \"symbol\": \"circle\"}, \"mode\": \"markers\", \"name\": \"label=test_subject_04\", \"showlegend\": true, \"type\": \"scatter\", \"x\": [0.30250191360380146, -1.636540363243156], \"xaxis\": \"x\", \"y\": [0.8915988426088116, -1.0899031422107126], \"yaxis\": \"y\"}, {\"hoverlabel\": {\"namelength\": 0}, \"hovertemplate\": \"label=test_subject_05<br>component 1=%{x}<br>component 2=%{y}<br>experiment=%{marker.size}\", \"legendgroup\": \"label=test_subject_05\", \"marker\": {\"color\": \"#FFA15A\", \"size\": [0.0125, 0.025], \"sizemode\": \"area\", \"sizeref\": 6.25e-05, \"symbol\": \"circle\"}, \"mode\": \"markers\", \"name\": \"label=test_subject_05\", \"showlegend\": true, \"type\": \"scatter\", \"x\": [-0.5318273220472622, -0.5285910371866436], \"xaxis\": \"x\", \"y\": [-1.3724691413067502, -0.3940487461357545], \"yaxis\": \"y\"}, {\"hoverlabel\": {\"namelength\": 0}, \"hovertemplate\": \"label=test_subject_06<br>component 1=%{x}<br>component 2=%{y}<br>experiment=%{marker.size}\", \"legendgroup\": \"label=test_subject_06\", \"marker\": {\"color\": \"#19d3f3\", \"size\": [0.0125, 0.025], \"sizemode\": \"area\", \"sizeref\": 6.25e-05, \"symbol\": \"circle\"}, \"mode\": \"markers\", \"name\": \"label=test_subject_06\", \"showlegend\": true, \"type\": \"scatter\", \"x\": [-5.607535980771773, -6.074594206078975], \"xaxis\": \"x\", \"y\": [11.736754959740404, 11.121336897556914], \"yaxis\": \"y\"}, {\"hoverlabel\": {\"namelength\": 0}, \"hovertemplate\": \"label=test_subject_07<br>component 1=%{x}<br>component 2=%{y}<br>experiment=%{marker.size}\", \"legendgroup\": \"label=test_subject_07\", \"marker\": {\"color\": \"#FF6692\", \"size\": [0.0125, 0.025], \"sizemode\": \"area\", \"sizeref\": 6.25e-05, \"symbol\": \"circle\"}, \"mode\": \"markers\", \"name\": \"label=test_subject_07\", \"showlegend\": true, \"type\": \"scatter\", \"x\": [0.4058154405710742, -3.0752935260478678], \"xaxis\": \"x\", \"y\": [0.22699293114059954, -1.666429988568278], \"yaxis\": \"y\"}, {\"hoverlabel\": {\"namelength\": 0}, \"hovertemplate\": \"label=test_subject_08<br>component 1=%{x}<br>component 2=%{y}<br>experiment=%{marker.size}\", \"legendgroup\": \"label=test_subject_08\", \"marker\": {\"color\": \"#B6E880\", \"size\": [0.0125, 0.025], \"sizemode\": \"area\", \"sizeref\": 6.25e-05, \"symbol\": \"circle\"}, \"mode\": \"markers\", \"name\": \"label=test_subject_08\", \"showlegend\": true, \"type\": \"scatter\", \"x\": [-2.4367663726011735, -3.8978894985763146], \"xaxis\": \"x\", \"y\": [-3.9956120663551724, -2.5920855546169643], \"yaxis\": \"y\"}, {\"hoverlabel\": {\"namelength\": 0}, \"hovertemplate\": \"label=test_subject_09<br>component 1=%{x}<br>component 2=%{y}<br>experiment=%{marker.size}\", \"legendgroup\": \"label=test_subject_09\", \"marker\": {\"color\": \"#FF97FF\", \"size\": [0.0125, 0.025], \"sizemode\": \"area\", \"sizeref\": 6.25e-05, \"symbol\": \"circle\"}, \"mode\": \"markers\", \"name\": \"label=test_subject_09\", \"showlegend\": true, \"type\": \"scatter\", \"x\": [2.519418836663077, 2.50197427305126], \"xaxis\": \"x\", \"y\": [-1.4274203694430179, -0.9727299845936227], \"yaxis\": \"y\"}, {\"hoverlabel\": {\"namelength\": 0}, \"hovertemplate\": \"label=test_subject_10<br>component 1=%{x}<br>component 2=%{y}<br>experiment=%{marker.size}\", \"legendgroup\": \"label=test_subject_10\", \"marker\": {\"color\": \"#FECB52\", \"size\": [0.0125, 0.025], \"sizemode\": \"area\", \"sizeref\": 6.25e-05, \"symbol\": \"circle\"}, \"mode\": \"markers\", \"name\": \"label=test_subject_10\", \"showlegend\": true, \"type\": \"scatter\", \"x\": [3.601750952058749, 4.565516527432759], \"xaxis\": \"x\", \"y\": [0.6610412640629897, 3.328484433337176], \"yaxis\": \"y\"}, {\"hoverlabel\": {\"namelength\": 0}, \"hovertemplate\": \"label=test_subject_11<br>component 1=%{x}<br>component 2=%{y}<br>experiment=%{marker.size}\", \"legendgroup\": \"label=test_subject_11\", \"marker\": {\"color\": \"#636efa\", \"size\": [0.0125, 0.025], \"sizemode\": \"area\", \"sizeref\": 6.25e-05, \"symbol\": \"circle\"}, \"mode\": \"markers\", \"name\": \"label=test_subject_11\", \"showlegend\": true, \"type\": \"scatter\", \"x\": [-3.148593806927992, -4.7035019153063935], \"xaxis\": \"x\", \"y\": [-0.3404301316489655, -1.7361089758793642], \"yaxis\": \"y\"}, {\"hoverlabel\": {\"namelength\": 0}, \"hovertemplate\": \"label=test_subject_12<br>component 1=%{x}<br>component 2=%{y}<br>experiment=%{marker.size}\", \"legendgroup\": \"label=test_subject_12\", \"marker\": {\"color\": \"#EF553B\", \"size\": [0.0125, 0.025], \"sizemode\": \"area\", \"sizeref\": 6.25e-05, \"symbol\": \"circle\"}, \"mode\": \"markers\", \"name\": \"label=test_subject_12\", \"showlegend\": true, \"type\": \"scatter\", \"x\": [1.3474353044665641, 0.2067599600923668], \"xaxis\": \"x\", \"y\": [-2.4506074994714306, -2.0529482423186685], \"yaxis\": \"y\"}, {\"hoverlabel\": {\"namelength\": 0}, \"hovertemplate\": \"label=test_subject_13<br>component 1=%{x}<br>component 2=%{y}<br>experiment=%{marker.size}\", \"legendgroup\": \"label=test_subject_13\", \"marker\": {\"color\": \"#00cc96\", \"size\": [0.0125, 0.025], \"sizemode\": \"area\", \"sizeref\": 6.25e-05, \"symbol\": \"circle\"}, \"mode\": \"markers\", \"name\": \"label=test_subject_13\", \"showlegend\": true, \"type\": \"scatter\", \"x\": [4.301020178137564, -0.7978472446486921], \"xaxis\": \"x\", \"y\": [0.21750269766151512, -2.9287260017206083], \"yaxis\": \"y\"}, {\"hoverlabel\": {\"namelength\": 0}, \"hovertemplate\": \"label=test_subject_14<br>component 1=%{x}<br>component 2=%{y}<br>experiment=%{marker.size}\", \"legendgroup\": \"label=test_subject_14\", \"marker\": {\"color\": \"#ab63fa\", \"size\": [0.0125, 0.025], \"sizemode\": \"area\", \"sizeref\": 6.25e-05, \"symbol\": \"circle\"}, \"mode\": \"markers\", \"name\": \"label=test_subject_14\", \"showlegend\": true, \"type\": \"scatter\", \"x\": [-2.3755450247925602, -1.5997483311937841], \"xaxis\": \"x\", \"y\": [-3.810512238343499, -1.2698794058103318], \"yaxis\": \"y\"}, {\"hoverlabel\": {\"namelength\": 0}, \"hovertemplate\": \"label=test_subject_15<br>component 1=%{x}<br>component 2=%{y}<br>experiment=%{marker.size}\", \"legendgroup\": \"label=test_subject_15\", \"marker\": {\"color\": \"#FFA15A\", \"size\": [0.0125, 0.025], \"sizemode\": \"area\", \"sizeref\": 6.25e-05, \"symbol\": \"circle\"}, \"mode\": \"markers\", \"name\": \"label=test_subject_15\", \"showlegend\": true, \"type\": \"scatter\", \"x\": [0.04044701052232752, 3.2045812671654343], \"xaxis\": \"x\", \"y\": [-0.07421311481176215, 1.1220249498411496], \"yaxis\": \"y\"}, {\"hoverlabel\": {\"namelength\": 0}, \"hovertemplate\": \"label=test_subject_16<br>component 1=%{x}<br>component 2=%{y}<br>experiment=%{marker.size}\", \"legendgroup\": \"label=test_subject_16\", \"marker\": {\"color\": \"#19d3f3\", \"size\": [0.0125, 0.025], \"sizemode\": \"area\", \"sizeref\": 6.25e-05, \"symbol\": \"circle\"}, \"mode\": \"markers\", \"name\": \"label=test_subject_16\", \"showlegend\": true, \"type\": \"scatter\", \"x\": [1.1465219231449528, -2.057235123949641], \"xaxis\": \"x\", \"y\": [0.9155415807859641, -0.520165287932949], \"yaxis\": \"y\"}, {\"hoverlabel\": {\"namelength\": 0}, \"hovertemplate\": \"label=test_subject_17<br>component 1=%{x}<br>component 2=%{y}<br>experiment=%{marker.size}\", \"legendgroup\": \"label=test_subject_17\", \"marker\": {\"color\": \"#FF6692\", \"size\": [0.0125, 0.025], \"sizemode\": \"area\", \"sizeref\": 6.25e-05, \"symbol\": \"circle\"}, \"mode\": \"markers\", \"name\": \"label=test_subject_17\", \"showlegend\": true, \"type\": \"scatter\", \"x\": [6.306916046369095, 5.270059943065036], \"xaxis\": \"x\", \"y\": [0.9766899795709141, 1.1353321601471507], \"yaxis\": \"y\"}, {\"hoverlabel\": {\"namelength\": 0}, \"hovertemplate\": \"label=test_subject_18<br>component 1=%{x}<br>component 2=%{y}<br>experiment=%{marker.size}\", \"legendgroup\": \"label=test_subject_18\", \"marker\": {\"color\": \"#B6E880\", \"size\": [0.0125, 0.025], \"sizemode\": \"area\", \"sizeref\": 6.25e-05, \"symbol\": \"circle\"}, \"mode\": \"markers\", \"name\": \"label=test_subject_18\", \"showlegend\": true, \"type\": \"scatter\", \"x\": [0.7831031271284299, 5.595555706589995], \"xaxis\": \"x\", \"y\": [-0.07138140672501991, 3.0067459583344007], \"yaxis\": \"y\"}, {\"hoverlabel\": {\"namelength\": 0}, \"hovertemplate\": \"label=test_subject_19<br>component 1=%{x}<br>component 2=%{y}<br>experiment=%{marker.size}\", \"legendgroup\": \"label=test_subject_19\", \"marker\": {\"color\": \"#FF97FF\", \"size\": [0.0125, 0.025], \"sizemode\": \"area\", \"sizeref\": 6.25e-05, \"symbol\": \"circle\"}, \"mode\": \"markers\", \"name\": \"label=test_subject_19\", \"showlegend\": true, \"type\": \"scatter\", \"x\": [1.9250809877868034, 3.8361120296874995], \"xaxis\": \"x\", \"y\": [0.8788357040066793, 2.2777691150738106], \"yaxis\": \"y\"}, {\"hoverlabel\": {\"namelength\": 0}, \"hovertemplate\": \"label=test_subject_20<br>component 1=%{x}<br>component 2=%{y}<br>experiment=%{marker.size}\", \"legendgroup\": \"label=test_subject_20\", \"marker\": {\"color\": \"#FECB52\", \"size\": [0.0125, 0.025], \"sizemode\": \"area\", \"sizeref\": 6.25e-05, \"symbol\": \"circle\"}, \"mode\": \"markers\", \"name\": \"label=test_subject_20\", \"showlegend\": true, \"type\": \"scatter\", \"x\": [0.004850258260859156, 2.1201476924358142], \"xaxis\": \"x\", \"y\": [-1.58860356073071, -1.1080143398827231], \"yaxis\": \"y\"}, {\"hoverlabel\": {\"namelength\": 0}, \"hovertemplate\": \"label=test_subject_21<br>component 1=%{x}<br>component 2=%{y}<br>experiment=%{marker.size}\", \"legendgroup\": \"label=test_subject_21\", \"marker\": {\"color\": \"#636efa\", \"size\": [0.0125, 0.025], \"sizemode\": \"area\", \"sizeref\": 6.25e-05, \"symbol\": \"circle\"}, \"mode\": \"markers\", \"name\": \"label=test_subject_21\", \"showlegend\": true, \"type\": \"scatter\", \"x\": [1.0245452523887355, -3.9291794984548605], \"xaxis\": \"x\", \"y\": [-0.9516510237477206, -1.2565947283676944], \"yaxis\": \"y\"}],\n",
       "                        {\"height\": 600, \"legend\": {\"itemsizing\": \"constant\", \"tracegroupgap\": 0}, \"margin\": {\"t\": 60}, \"template\": {\"data\": {\"bar\": [{\"error_x\": {\"color\": \"#2a3f5f\"}, \"error_y\": {\"color\": \"#2a3f5f\"}, \"marker\": {\"line\": {\"color\": \"#E5ECF6\", \"width\": 0.5}}, \"type\": \"bar\"}], \"barpolar\": [{\"marker\": {\"line\": {\"color\": \"#E5ECF6\", \"width\": 0.5}}, \"type\": \"barpolar\"}], \"carpet\": [{\"aaxis\": {\"endlinecolor\": \"#2a3f5f\", \"gridcolor\": \"white\", \"linecolor\": \"white\", \"minorgridcolor\": \"white\", \"startlinecolor\": \"#2a3f5f\"}, \"baxis\": {\"endlinecolor\": \"#2a3f5f\", \"gridcolor\": \"white\", \"linecolor\": \"white\", \"minorgridcolor\": \"white\", \"startlinecolor\": \"#2a3f5f\"}, \"type\": \"carpet\"}], \"choropleth\": [{\"colorbar\": {\"outlinewidth\": 0, \"ticks\": \"\"}, \"type\": \"choropleth\"}], \"contour\": [{\"colorbar\": {\"outlinewidth\": 0, \"ticks\": \"\"}, \"colorscale\": [[0.0, \"#0d0887\"], [0.1111111111111111, \"#46039f\"], [0.2222222222222222, \"#7201a8\"], [0.3333333333333333, \"#9c179e\"], [0.4444444444444444, \"#bd3786\"], [0.5555555555555556, \"#d8576b\"], [0.6666666666666666, \"#ed7953\"], [0.7777777777777778, \"#fb9f3a\"], [0.8888888888888888, \"#fdca26\"], [1.0, \"#f0f921\"]], \"type\": \"contour\"}], \"contourcarpet\": [{\"colorbar\": {\"outlinewidth\": 0, \"ticks\": \"\"}, \"type\": \"contourcarpet\"}], \"heatmap\": [{\"colorbar\": {\"outlinewidth\": 0, \"ticks\": \"\"}, \"colorscale\": [[0.0, \"#0d0887\"], [0.1111111111111111, \"#46039f\"], [0.2222222222222222, \"#7201a8\"], [0.3333333333333333, \"#9c179e\"], [0.4444444444444444, \"#bd3786\"], [0.5555555555555556, \"#d8576b\"], [0.6666666666666666, \"#ed7953\"], [0.7777777777777778, \"#fb9f3a\"], [0.8888888888888888, \"#fdca26\"], [1.0, \"#f0f921\"]], \"type\": \"heatmap\"}], \"heatmapgl\": [{\"colorbar\": {\"outlinewidth\": 0, \"ticks\": \"\"}, \"colorscale\": [[0.0, \"#0d0887\"], [0.1111111111111111, \"#46039f\"], [0.2222222222222222, \"#7201a8\"], [0.3333333333333333, \"#9c179e\"], [0.4444444444444444, \"#bd3786\"], [0.5555555555555556, \"#d8576b\"], [0.6666666666666666, \"#ed7953\"], [0.7777777777777778, \"#fb9f3a\"], [0.8888888888888888, \"#fdca26\"], [1.0, \"#f0f921\"]], \"type\": \"heatmapgl\"}], \"histogram\": [{\"marker\": {\"colorbar\": {\"outlinewidth\": 0, \"ticks\": \"\"}}, \"type\": \"histogram\"}], \"histogram2d\": [{\"colorbar\": {\"outlinewidth\": 0, \"ticks\": \"\"}, \"colorscale\": [[0.0, \"#0d0887\"], [0.1111111111111111, \"#46039f\"], [0.2222222222222222, \"#7201a8\"], [0.3333333333333333, \"#9c179e\"], [0.4444444444444444, \"#bd3786\"], [0.5555555555555556, \"#d8576b\"], [0.6666666666666666, \"#ed7953\"], [0.7777777777777778, \"#fb9f3a\"], [0.8888888888888888, \"#fdca26\"], [1.0, \"#f0f921\"]], \"type\": \"histogram2d\"}], \"histogram2dcontour\": [{\"colorbar\": {\"outlinewidth\": 0, \"ticks\": \"\"}, \"colorscale\": [[0.0, \"#0d0887\"], [0.1111111111111111, \"#46039f\"], [0.2222222222222222, \"#7201a8\"], [0.3333333333333333, \"#9c179e\"], [0.4444444444444444, \"#bd3786\"], [0.5555555555555556, \"#d8576b\"], [0.6666666666666666, \"#ed7953\"], [0.7777777777777778, \"#fb9f3a\"], [0.8888888888888888, \"#fdca26\"], [1.0, \"#f0f921\"]], \"type\": \"histogram2dcontour\"}], \"mesh3d\": [{\"colorbar\": {\"outlinewidth\": 0, \"ticks\": \"\"}, \"type\": \"mesh3d\"}], \"parcoords\": [{\"line\": {\"colorbar\": {\"outlinewidth\": 0, \"ticks\": \"\"}}, \"type\": \"parcoords\"}], \"scatter\": [{\"marker\": {\"colorbar\": {\"outlinewidth\": 0, \"ticks\": \"\"}}, \"type\": \"scatter\"}], \"scatter3d\": [{\"line\": {\"colorbar\": {\"outlinewidth\": 0, \"ticks\": \"\"}}, \"marker\": {\"colorbar\": {\"outlinewidth\": 0, \"ticks\": \"\"}}, \"type\": \"scatter3d\"}], \"scattercarpet\": [{\"marker\": {\"colorbar\": {\"outlinewidth\": 0, \"ticks\": \"\"}}, \"type\": \"scattercarpet\"}], \"scattergeo\": [{\"marker\": {\"colorbar\": {\"outlinewidth\": 0, \"ticks\": \"\"}}, \"type\": \"scattergeo\"}], \"scattergl\": [{\"marker\": {\"colorbar\": {\"outlinewidth\": 0, \"ticks\": \"\"}}, \"type\": \"scattergl\"}], \"scattermapbox\": [{\"marker\": {\"colorbar\": {\"outlinewidth\": 0, \"ticks\": \"\"}}, \"type\": \"scattermapbox\"}], \"scatterpolar\": [{\"marker\": {\"colorbar\": {\"outlinewidth\": 0, \"ticks\": \"\"}}, \"type\": \"scatterpolar\"}], \"scatterpolargl\": [{\"marker\": {\"colorbar\": {\"outlinewidth\": 0, \"ticks\": \"\"}}, \"type\": \"scatterpolargl\"}], \"scatterternary\": [{\"marker\": {\"colorbar\": {\"outlinewidth\": 0, \"ticks\": \"\"}}, \"type\": \"scatterternary\"}], \"surface\": [{\"colorbar\": {\"outlinewidth\": 0, \"ticks\": \"\"}, \"colorscale\": [[0.0, \"#0d0887\"], [0.1111111111111111, \"#46039f\"], [0.2222222222222222, \"#7201a8\"], [0.3333333333333333, \"#9c179e\"], [0.4444444444444444, \"#bd3786\"], [0.5555555555555556, \"#d8576b\"], [0.6666666666666666, \"#ed7953\"], [0.7777777777777778, \"#fb9f3a\"], [0.8888888888888888, \"#fdca26\"], [1.0, \"#f0f921\"]], \"type\": \"surface\"}], \"table\": [{\"cells\": {\"fill\": {\"color\": \"#EBF0F8\"}, \"line\": {\"color\": \"white\"}}, \"header\": {\"fill\": {\"color\": \"#C8D4E3\"}, \"line\": {\"color\": \"white\"}}, \"type\": \"table\"}]}, \"layout\": {\"annotationdefaults\": {\"arrowcolor\": \"#2a3f5f\", \"arrowhead\": 0, \"arrowwidth\": 1}, \"colorscale\": {\"diverging\": [[0, \"#8e0152\"], [0.1, \"#c51b7d\"], [0.2, \"#de77ae\"], [0.3, \"#f1b6da\"], [0.4, \"#fde0ef\"], [0.5, \"#f7f7f7\"], [0.6, \"#e6f5d0\"], [0.7, \"#b8e186\"], [0.8, \"#7fbc41\"], [0.9, \"#4d9221\"], [1, \"#276419\"]], \"sequential\": [[0.0, \"#0d0887\"], [0.1111111111111111, \"#46039f\"], [0.2222222222222222, \"#7201a8\"], [0.3333333333333333, \"#9c179e\"], [0.4444444444444444, \"#bd3786\"], [0.5555555555555556, \"#d8576b\"], [0.6666666666666666, \"#ed7953\"], [0.7777777777777778, \"#fb9f3a\"], [0.8888888888888888, \"#fdca26\"], [1.0, \"#f0f921\"]], \"sequentialminus\": [[0.0, \"#0d0887\"], [0.1111111111111111, \"#46039f\"], [0.2222222222222222, \"#7201a8\"], [0.3333333333333333, \"#9c179e\"], [0.4444444444444444, \"#bd3786\"], [0.5555555555555556, \"#d8576b\"], [0.6666666666666666, \"#ed7953\"], [0.7777777777777778, \"#fb9f3a\"], [0.8888888888888888, \"#fdca26\"], [1.0, \"#f0f921\"]]}, \"colorway\": [\"#636efa\", \"#EF553B\", \"#00cc96\", \"#ab63fa\", \"#FFA15A\", \"#19d3f3\", \"#FF6692\", \"#B6E880\", \"#FF97FF\", \"#FECB52\"], \"font\": {\"color\": \"#2a3f5f\"}, \"geo\": {\"bgcolor\": \"white\", \"lakecolor\": \"white\", \"landcolor\": \"#E5ECF6\", \"showlakes\": true, \"showland\": true, \"subunitcolor\": \"white\"}, \"hoverlabel\": {\"align\": \"left\"}, \"hovermode\": \"closest\", \"mapbox\": {\"style\": \"light\"}, \"paper_bgcolor\": \"white\", \"plot_bgcolor\": \"#E5ECF6\", \"polar\": {\"angularaxis\": {\"gridcolor\": \"white\", \"linecolor\": \"white\", \"ticks\": \"\"}, \"bgcolor\": \"#E5ECF6\", \"radialaxis\": {\"gridcolor\": \"white\", \"linecolor\": \"white\", \"ticks\": \"\"}}, \"scene\": {\"xaxis\": {\"backgroundcolor\": \"#E5ECF6\", \"gridcolor\": \"white\", \"gridwidth\": 2, \"linecolor\": \"white\", \"showbackground\": true, \"ticks\": \"\", \"zerolinecolor\": \"white\"}, \"yaxis\": {\"backgroundcolor\": \"#E5ECF6\", \"gridcolor\": \"white\", \"gridwidth\": 2, \"linecolor\": \"white\", \"showbackground\": true, \"ticks\": \"\", \"zerolinecolor\": \"white\"}, \"zaxis\": {\"backgroundcolor\": \"#E5ECF6\", \"gridcolor\": \"white\", \"gridwidth\": 2, \"linecolor\": \"white\", \"showbackground\": true, \"ticks\": \"\", \"zerolinecolor\": \"white\"}}, \"shapedefaults\": {\"line\": {\"color\": \"#2a3f5f\"}}, \"ternary\": {\"aaxis\": {\"gridcolor\": \"white\", \"linecolor\": \"white\", \"ticks\": \"\"}, \"baxis\": {\"gridcolor\": \"white\", \"linecolor\": \"white\", \"ticks\": \"\"}, \"bgcolor\": \"#E5ECF6\", \"caxis\": {\"gridcolor\": \"white\", \"linecolor\": \"white\", \"ticks\": \"\"}}, \"title\": {\"x\": 0.05}, \"xaxis\": {\"automargin\": true, \"gridcolor\": \"white\", \"linecolor\": \"white\", \"ticks\": \"\", \"zerolinecolor\": \"white\", \"zerolinewidth\": 2}, \"yaxis\": {\"automargin\": true, \"gridcolor\": \"white\", \"linecolor\": \"white\", \"ticks\": \"\", \"zerolinecolor\": \"white\", \"zerolinewidth\": 2}}}, \"xaxis\": {\"anchor\": \"y\", \"domain\": [0.0, 0.98], \"title\": {\"text\": \"component 1\"}}, \"yaxis\": {\"anchor\": \"x\", \"domain\": [0.0, 1.0], \"title\": {\"text\": \"component 2\"}}},\n",
       "                        {\"responsive\": true}\n",
       "                    ).then(function(){\n",
       "                            \n",
       "var gd = document.getElementById('ec07251d-1b14-4943-bf9a-d680ded9d748');\n",
       "var x = new MutationObserver(function (mutations, observer) {{\n",
       "        var display = window.getComputedStyle(gd).display;\n",
       "        if (!display || display === 'none') {{\n",
       "            console.log([gd, 'removed!']);\n",
       "            Plotly.purge(gd);\n",
       "            observer.disconnect();\n",
       "        }}\n",
       "}});\n",
       "\n",
       "// Listen for the removal of the full notebook cells\n",
       "var notebookContainer = gd.closest('#notebook-container');\n",
       "if (notebookContainer) {{\n",
       "    x.observe(notebookContainer, {childList: true});\n",
       "}}\n",
       "\n",
       "// Listen for the clearing of the current output cell\n",
       "var outputEl = gd.closest('.output');\n",
       "if (outputEl) {{\n",
       "    x.observe(outputEl, {childList: true});\n",
       "}}\n",
       "\n",
       "                        })\n",
       "                };\n",
       "                });\n",
       "            </script>\n",
       "        </div>"
      ]
     },
     "metadata": {},
     "output_type": "display_data"
    },
    {
     "name": "stdout",
     "output_type": "stream",
     "text": [
      "[0.23382361 0.18722177]\n"
     ]
    },
    {
     "data": {
      "application/vnd.plotly.v1+json": {
       "config": {
        "plotlyServerURL": "https://plot.ly"
       },
       "data": [
        {
         "hoverlabel": {
          "namelength": 0
         },
         "hovertemplate": "label=test_subject_01<br>component 1=%{x}<br>component 2=%{y}<br>experiment=%{marker.size}",
         "legendgroup": "label=test_subject_01",
         "marker": {
          "color": "#636efa",
          "size": [
           0.0125,
           0.025
          ],
          "sizemode": "area",
          "sizeref": 6.25e-05,
          "symbol": "circle"
         },
         "mode": "markers",
         "name": "label=test_subject_01",
         "showlegend": true,
         "type": "scatter",
         "x": [
          -1.2179742180672317,
          -1.2206004914401634
         ],
         "xaxis": "x",
         "y": [
          -0.7059568821858473,
          0.65323563887741
         ],
         "yaxis": "y"
        },
        {
         "hoverlabel": {
          "namelength": 0
         },
         "hovertemplate": "label=test_subject_02<br>component 1=%{x}<br>component 2=%{y}<br>experiment=%{marker.size}",
         "legendgroup": "label=test_subject_02",
         "marker": {
          "color": "#EF553B",
          "size": [
           0.0125,
           0.025
          ],
          "sizemode": "area",
          "sizeref": 6.25e-05,
          "symbol": "circle"
         },
         "mode": "markers",
         "name": "label=test_subject_02",
         "showlegend": true,
         "type": "scatter",
         "x": [
          -10.280303749125812,
          -11.29252322109339
         ],
         "xaxis": "x",
         "y": [
          2.7942357489489225,
          3.3101656941703204
         ],
         "yaxis": "y"
        },
        {
         "hoverlabel": {
          "namelength": 0
         },
         "hovertemplate": "label=test_subject_03<br>component 1=%{x}<br>component 2=%{y}<br>experiment=%{marker.size}",
         "legendgroup": "label=test_subject_03",
         "marker": {
          "color": "#00cc96",
          "size": [
           0.0125,
           0.025
          ],
          "sizemode": "area",
          "sizeref": 6.25e-05,
          "symbol": "circle"
         },
         "mode": "markers",
         "name": "label=test_subject_03",
         "showlegend": true,
         "type": "scatter",
         "x": [
          -6.662227267975733,
          1.8466316498756852
         ],
         "xaxis": "x",
         "y": [
          4.17734886252707,
          -1.0542976340889634
         ],
         "yaxis": "y"
        },
        {
         "hoverlabel": {
          "namelength": 0
         },
         "hovertemplate": "label=test_subject_04<br>component 1=%{x}<br>component 2=%{y}<br>experiment=%{marker.size}",
         "legendgroup": "label=test_subject_04",
         "marker": {
          "color": "#ab63fa",
          "size": [
           0.0125,
           0.025
          ],
          "sizemode": "area",
          "sizeref": 6.25e-05,
          "symbol": "circle"
         },
         "mode": "markers",
         "name": "label=test_subject_04",
         "showlegend": true,
         "type": "scatter",
         "x": [
          0.12365972242370624,
          -0.1588014150939293
         ],
         "xaxis": "x",
         "y": [
          -1.0919548980415477,
          -0.9589742357630173
         ],
         "yaxis": "y"
        },
        {
         "hoverlabel": {
          "namelength": 0
         },
         "hovertemplate": "label=test_subject_05<br>component 1=%{x}<br>component 2=%{y}<br>experiment=%{marker.size}",
         "legendgroup": "label=test_subject_05",
         "marker": {
          "color": "#FFA15A",
          "size": [
           0.0125,
           0.025
          ],
          "sizemode": "area",
          "sizeref": 6.25e-05,
          "symbol": "circle"
         },
         "mode": "markers",
         "name": "label=test_subject_05",
         "showlegend": true,
         "type": "scatter",
         "x": [
          1.0268969200945612,
          1.0791841973395448
         ],
         "xaxis": "x",
         "y": [
          -2.09904114989845,
          -1.0928723867575654
         ],
         "yaxis": "y"
        },
        {
         "hoverlabel": {
          "namelength": 0
         },
         "hovertemplate": "label=test_subject_06<br>component 1=%{x}<br>component 2=%{y}<br>experiment=%{marker.size}",
         "legendgroup": "label=test_subject_06",
         "marker": {
          "color": "#19d3f3",
          "size": [
           0.0125,
           0.025
          ],
          "sizemode": "area",
          "sizeref": 6.25e-05,
          "symbol": "circle"
         },
         "mode": "markers",
         "name": "label=test_subject_06",
         "showlegend": true,
         "type": "scatter",
         "x": [
          3.2160573959075274,
          -1.3100257699762663
         ],
         "xaxis": "x",
         "y": [
          8.235059715931719,
          11.398894174876935
         ],
         "yaxis": "y"
        },
        {
         "hoverlabel": {
          "namelength": 0
         },
         "hovertemplate": "label=test_subject_07<br>component 1=%{x}<br>component 2=%{y}<br>experiment=%{marker.size}",
         "legendgroup": "label=test_subject_07",
         "marker": {
          "color": "#FF6692",
          "size": [
           0.0125,
           0.025
          ],
          "sizemode": "area",
          "sizeref": 6.25e-05,
          "symbol": "circle"
         },
         "mode": "markers",
         "name": "label=test_subject_07",
         "showlegend": true,
         "type": "scatter",
         "x": [
          2.406312618272065,
          1.2252591113068094
         ],
         "xaxis": "x",
         "y": [
          -2.756237006204306,
          -0.49713534076965654
         ],
         "yaxis": "y"
        },
        {
         "hoverlabel": {
          "namelength": 0
         },
         "hovertemplate": "label=test_subject_08<br>component 1=%{x}<br>component 2=%{y}<br>experiment=%{marker.size}",
         "legendgroup": "label=test_subject_08",
         "marker": {
          "color": "#B6E880",
          "size": [
           0.0125
          ],
          "sizemode": "area",
          "sizeref": 6.25e-05,
          "symbol": "circle"
         },
         "mode": "markers",
         "name": "label=test_subject_08",
         "showlegend": true,
         "type": "scatter",
         "x": [
          0.9046222680187778
         ],
         "xaxis": "x",
         "y": [
          -0.35481851658726676
         ],
         "yaxis": "y"
        },
        {
         "hoverlabel": {
          "namelength": 0
         },
         "hovertemplate": "label=test_subject_09<br>component 1=%{x}<br>component 2=%{y}<br>experiment=%{marker.size}",
         "legendgroup": "label=test_subject_09",
         "marker": {
          "color": "#FF97FF",
          "size": [
           0.0125,
           0.025
          ],
          "sizemode": "area",
          "sizeref": 6.25e-05,
          "symbol": "circle"
         },
         "mode": "markers",
         "name": "label=test_subject_09",
         "showlegend": true,
         "type": "scatter",
         "x": [
          0.13522442863963566,
          1.447398678440792
         ],
         "xaxis": "x",
         "y": [
          -2.2050519290764257,
          -2.2288529045077796
         ],
         "yaxis": "y"
        },
        {
         "hoverlabel": {
          "namelength": 0
         },
         "hovertemplate": "label=test_subject_10<br>component 1=%{x}<br>component 2=%{y}<br>experiment=%{marker.size}",
         "legendgroup": "label=test_subject_10",
         "marker": {
          "color": "#FECB52",
          "size": [
           0.0125,
           0.025
          ],
          "sizemode": "area",
          "sizeref": 6.25e-05,
          "symbol": "circle"
         },
         "mode": "markers",
         "name": "label=test_subject_10",
         "showlegend": true,
         "type": "scatter",
         "x": [
          -2.3284724784326327,
          -2.671973721396493
         ],
         "xaxis": "x",
         "y": [
          0.5132668847711023,
          1.014893553317733
         ],
         "yaxis": "y"
        },
        {
         "hoverlabel": {
          "namelength": 0
         },
         "hovertemplate": "label=test_subject_11<br>component 1=%{x}<br>component 2=%{y}<br>experiment=%{marker.size}",
         "legendgroup": "label=test_subject_11",
         "marker": {
          "color": "#636efa",
          "size": [
           0.0125,
           0.025
          ],
          "sizemode": "area",
          "sizeref": 6.25e-05,
          "symbol": "circle"
         },
         "mode": "markers",
         "name": "label=test_subject_11",
         "showlegend": true,
         "type": "scatter",
         "x": [
          -0.18401862009393777,
          -1.0218256201354063
         ],
         "xaxis": "x",
         "y": [
          -1.7581972708123559,
          -1.4456503131607652
         ],
         "yaxis": "y"
        },
        {
         "hoverlabel": {
          "namelength": 0
         },
         "hovertemplate": "label=test_subject_12<br>component 1=%{x}<br>component 2=%{y}<br>experiment=%{marker.size}",
         "legendgroup": "label=test_subject_12",
         "marker": {
          "color": "#EF553B",
          "size": [
           0.0125,
           0.025
          ],
          "sizemode": "area",
          "sizeref": 6.25e-05,
          "symbol": "circle"
         },
         "mode": "markers",
         "name": "label=test_subject_12",
         "showlegend": true,
         "type": "scatter",
         "x": [
          2.217381874755691,
          2.907965118488838
         ],
         "xaxis": "x",
         "y": [
          -1.6295849017723198,
          -1.1556606057251761
         ],
         "yaxis": "y"
        },
        {
         "hoverlabel": {
          "namelength": 0
         },
         "hovertemplate": "label=test_subject_13<br>component 1=%{x}<br>component 2=%{y}<br>experiment=%{marker.size}",
         "legendgroup": "label=test_subject_13",
         "marker": {
          "color": "#00cc96",
          "size": [
           0.0125,
           0.025
          ],
          "sizemode": "area",
          "sizeref": 6.25e-05,
          "symbol": "circle"
         },
         "mode": "markers",
         "name": "label=test_subject_13",
         "showlegend": true,
         "type": "scatter",
         "x": [
          4.60452919122362,
          0.8202325093915444
         ],
         "xaxis": "x",
         "y": [
          -1.6067417759498748,
          -2.7289666816736604
         ],
         "yaxis": "y"
        },
        {
         "hoverlabel": {
          "namelength": 0
         },
         "hovertemplate": "label=test_subject_14<br>component 1=%{x}<br>component 2=%{y}<br>experiment=%{marker.size}",
         "legendgroup": "label=test_subject_14",
         "marker": {
          "color": "#ab63fa",
          "size": [
           0.0125,
           0.025
          ],
          "sizemode": "area",
          "sizeref": 6.25e-05,
          "symbol": "circle"
         },
         "mode": "markers",
         "name": "label=test_subject_14",
         "showlegend": true,
         "type": "scatter",
         "x": [
          12.0054870208061,
          -0.40707587366682974
         ],
         "xaxis": "x",
         "y": [
          10.696538542439534,
          -0.11367753274899199
         ],
         "yaxis": "y"
        },
        {
         "hoverlabel": {
          "namelength": 0
         },
         "hovertemplate": "label=test_subject_15<br>component 1=%{x}<br>component 2=%{y}<br>experiment=%{marker.size}",
         "legendgroup": "label=test_subject_15",
         "marker": {
          "color": "#FFA15A",
          "size": [
           0.0125,
           0.025
          ],
          "sizemode": "area",
          "sizeref": 6.25e-05,
          "symbol": "circle"
         },
         "mode": "markers",
         "name": "label=test_subject_15",
         "showlegend": true,
         "type": "scatter",
         "x": [
          1.210864554935267,
          0.18667135703948368
         ],
         "xaxis": "x",
         "y": [
          -1.221042071411697,
          -1.3944211321363285
         ],
         "yaxis": "y"
        },
        {
         "hoverlabel": {
          "namelength": 0
         },
         "hovertemplate": "label=test_subject_16<br>component 1=%{x}<br>component 2=%{y}<br>experiment=%{marker.size}",
         "legendgroup": "label=test_subject_16",
         "marker": {
          "color": "#19d3f3",
          "size": [
           0.0125,
           0.025
          ],
          "sizemode": "area",
          "sizeref": 6.25e-05,
          "symbol": "circle"
         },
         "mode": "markers",
         "name": "label=test_subject_16",
         "showlegend": true,
         "type": "scatter",
         "x": [
          -0.5423798432125259,
          0.8428600215274542
         ],
         "xaxis": "x",
         "y": [
          -1.8322623837071685,
          -1.6703242526966036
         ],
         "yaxis": "y"
        },
        {
         "hoverlabel": {
          "namelength": 0
         },
         "hovertemplate": "label=test_subject_17<br>component 1=%{x}<br>component 2=%{y}<br>experiment=%{marker.size}",
         "legendgroup": "label=test_subject_17",
         "marker": {
          "color": "#FF6692",
          "size": [
           0.0125,
           0.025
          ],
          "sizemode": "area",
          "sizeref": 6.25e-05,
          "symbol": "circle"
         },
         "mode": "markers",
         "name": "label=test_subject_17",
         "showlegend": true,
         "type": "scatter",
         "x": [
          -1.4561478619257597,
          -0.8430952625679059
         ],
         "xaxis": "x",
         "y": [
          -1.683664858387539,
          -1.1598794309323368
         ],
         "yaxis": "y"
        },
        {
         "hoverlabel": {
          "namelength": 0
         },
         "hovertemplate": "label=test_subject_18<br>component 1=%{x}<br>component 2=%{y}<br>experiment=%{marker.size}",
         "legendgroup": "label=test_subject_18",
         "marker": {
          "color": "#B6E880",
          "size": [
           0.0125,
           0.025
          ],
          "sizemode": "area",
          "sizeref": 6.25e-05,
          "symbol": "circle"
         },
         "mode": "markers",
         "name": "label=test_subject_18",
         "showlegend": true,
         "type": "scatter",
         "x": [
          -1.061009661415208,
          -2.2760524155962067
         ],
         "xaxis": "x",
         "y": [
          -0.08927294149486527,
          0.12709453667599788
         ],
         "yaxis": "y"
        },
        {
         "hoverlabel": {
          "namelength": 0
         },
         "hovertemplate": "label=test_subject_19<br>component 1=%{x}<br>component 2=%{y}<br>experiment=%{marker.size}",
         "legendgroup": "label=test_subject_19",
         "marker": {
          "color": "#FF97FF",
          "size": [
           0.0125,
           0.025
          ],
          "sizemode": "area",
          "sizeref": 6.25e-05,
          "symbol": "circle"
         },
         "mode": "markers",
         "name": "label=test_subject_19",
         "showlegend": true,
         "type": "scatter",
         "x": [
          1.809155297406524,
          1.4923914530946536
         ],
         "xaxis": "x",
         "y": [
          -0.5780034215333271,
          -0.5566284024713655
         ],
         "yaxis": "y"
        },
        {
         "hoverlabel": {
          "namelength": 0
         },
         "hovertemplate": "label=test_subject_20<br>component 1=%{x}<br>component 2=%{y}<br>experiment=%{marker.size}",
         "legendgroup": "label=test_subject_20",
         "marker": {
          "color": "#FECB52",
          "size": [
           0.0125,
           0.025
          ],
          "sizemode": "area",
          "sizeref": 6.25e-05,
          "symbol": "circle"
         },
         "mode": "markers",
         "name": "label=test_subject_20",
         "showlegend": true,
         "type": "scatter",
         "x": [
          -2.047668945864322,
          1.1868901917856942
         ],
         "xaxis": "x",
         "y": [
          -1.2088916618683212,
          -1.1822776377883513
         ],
         "yaxis": "y"
        },
        {
         "hoverlabel": {
          "namelength": 0
         },
         "hovertemplate": "label=test_subject_21<br>component 1=%{x}<br>component 2=%{y}<br>experiment=%{marker.size}",
         "legendgroup": "label=test_subject_21",
         "marker": {
          "color": "#636efa",
          "size": [
           0.0125,
           0.025
          ],
          "sizemode": "area",
          "sizeref": 6.25e-05,
          "symbol": "circle"
         },
         "mode": "markers",
         "name": "label=test_subject_21",
         "showlegend": true,
         "type": "scatter",
         "x": [
          2.6018410789470092,
          1.6846597773587741
         ],
         "xaxis": "x",
         "y": [
          -3.4486395574949813,
          -1.4117536348898805
         ],
         "yaxis": "y"
        }
       ],
       "layout": {
        "height": 600,
        "legend": {
         "itemsizing": "constant",
         "tracegroupgap": 0
        },
        "margin": {
         "t": 60
        },
        "template": {
         "data": {
          "bar": [
           {
            "error_x": {
             "color": "#2a3f5f"
            },
            "error_y": {
             "color": "#2a3f5f"
            },
            "marker": {
             "line": {
              "color": "#E5ECF6",
              "width": 0.5
             }
            },
            "type": "bar"
           }
          ],
          "barpolar": [
           {
            "marker": {
             "line": {
              "color": "#E5ECF6",
              "width": 0.5
             }
            },
            "type": "barpolar"
           }
          ],
          "carpet": [
           {
            "aaxis": {
             "endlinecolor": "#2a3f5f",
             "gridcolor": "white",
             "linecolor": "white",
             "minorgridcolor": "white",
             "startlinecolor": "#2a3f5f"
            },
            "baxis": {
             "endlinecolor": "#2a3f5f",
             "gridcolor": "white",
             "linecolor": "white",
             "minorgridcolor": "white",
             "startlinecolor": "#2a3f5f"
            },
            "type": "carpet"
           }
          ],
          "choropleth": [
           {
            "colorbar": {
             "outlinewidth": 0,
             "ticks": ""
            },
            "type": "choropleth"
           }
          ],
          "contour": [
           {
            "colorbar": {
             "outlinewidth": 0,
             "ticks": ""
            },
            "colorscale": [
             [
              0,
              "#0d0887"
             ],
             [
              0.1111111111111111,
              "#46039f"
             ],
             [
              0.2222222222222222,
              "#7201a8"
             ],
             [
              0.3333333333333333,
              "#9c179e"
             ],
             [
              0.4444444444444444,
              "#bd3786"
             ],
             [
              0.5555555555555556,
              "#d8576b"
             ],
             [
              0.6666666666666666,
              "#ed7953"
             ],
             [
              0.7777777777777778,
              "#fb9f3a"
             ],
             [
              0.8888888888888888,
              "#fdca26"
             ],
             [
              1,
              "#f0f921"
             ]
            ],
            "type": "contour"
           }
          ],
          "contourcarpet": [
           {
            "colorbar": {
             "outlinewidth": 0,
             "ticks": ""
            },
            "type": "contourcarpet"
           }
          ],
          "heatmap": [
           {
            "colorbar": {
             "outlinewidth": 0,
             "ticks": ""
            },
            "colorscale": [
             [
              0,
              "#0d0887"
             ],
             [
              0.1111111111111111,
              "#46039f"
             ],
             [
              0.2222222222222222,
              "#7201a8"
             ],
             [
              0.3333333333333333,
              "#9c179e"
             ],
             [
              0.4444444444444444,
              "#bd3786"
             ],
             [
              0.5555555555555556,
              "#d8576b"
             ],
             [
              0.6666666666666666,
              "#ed7953"
             ],
             [
              0.7777777777777778,
              "#fb9f3a"
             ],
             [
              0.8888888888888888,
              "#fdca26"
             ],
             [
              1,
              "#f0f921"
             ]
            ],
            "type": "heatmap"
           }
          ],
          "heatmapgl": [
           {
            "colorbar": {
             "outlinewidth": 0,
             "ticks": ""
            },
            "colorscale": [
             [
              0,
              "#0d0887"
             ],
             [
              0.1111111111111111,
              "#46039f"
             ],
             [
              0.2222222222222222,
              "#7201a8"
             ],
             [
              0.3333333333333333,
              "#9c179e"
             ],
             [
              0.4444444444444444,
              "#bd3786"
             ],
             [
              0.5555555555555556,
              "#d8576b"
             ],
             [
              0.6666666666666666,
              "#ed7953"
             ],
             [
              0.7777777777777778,
              "#fb9f3a"
             ],
             [
              0.8888888888888888,
              "#fdca26"
             ],
             [
              1,
              "#f0f921"
             ]
            ],
            "type": "heatmapgl"
           }
          ],
          "histogram": [
           {
            "marker": {
             "colorbar": {
              "outlinewidth": 0,
              "ticks": ""
             }
            },
            "type": "histogram"
           }
          ],
          "histogram2d": [
           {
            "colorbar": {
             "outlinewidth": 0,
             "ticks": ""
            },
            "colorscale": [
             [
              0,
              "#0d0887"
             ],
             [
              0.1111111111111111,
              "#46039f"
             ],
             [
              0.2222222222222222,
              "#7201a8"
             ],
             [
              0.3333333333333333,
              "#9c179e"
             ],
             [
              0.4444444444444444,
              "#bd3786"
             ],
             [
              0.5555555555555556,
              "#d8576b"
             ],
             [
              0.6666666666666666,
              "#ed7953"
             ],
             [
              0.7777777777777778,
              "#fb9f3a"
             ],
             [
              0.8888888888888888,
              "#fdca26"
             ],
             [
              1,
              "#f0f921"
             ]
            ],
            "type": "histogram2d"
           }
          ],
          "histogram2dcontour": [
           {
            "colorbar": {
             "outlinewidth": 0,
             "ticks": ""
            },
            "colorscale": [
             [
              0,
              "#0d0887"
             ],
             [
              0.1111111111111111,
              "#46039f"
             ],
             [
              0.2222222222222222,
              "#7201a8"
             ],
             [
              0.3333333333333333,
              "#9c179e"
             ],
             [
              0.4444444444444444,
              "#bd3786"
             ],
             [
              0.5555555555555556,
              "#d8576b"
             ],
             [
              0.6666666666666666,
              "#ed7953"
             ],
             [
              0.7777777777777778,
              "#fb9f3a"
             ],
             [
              0.8888888888888888,
              "#fdca26"
             ],
             [
              1,
              "#f0f921"
             ]
            ],
            "type": "histogram2dcontour"
           }
          ],
          "mesh3d": [
           {
            "colorbar": {
             "outlinewidth": 0,
             "ticks": ""
            },
            "type": "mesh3d"
           }
          ],
          "parcoords": [
           {
            "line": {
             "colorbar": {
              "outlinewidth": 0,
              "ticks": ""
             }
            },
            "type": "parcoords"
           }
          ],
          "scatter": [
           {
            "marker": {
             "colorbar": {
              "outlinewidth": 0,
              "ticks": ""
             }
            },
            "type": "scatter"
           }
          ],
          "scatter3d": [
           {
            "line": {
             "colorbar": {
              "outlinewidth": 0,
              "ticks": ""
             }
            },
            "marker": {
             "colorbar": {
              "outlinewidth": 0,
              "ticks": ""
             }
            },
            "type": "scatter3d"
           }
          ],
          "scattercarpet": [
           {
            "marker": {
             "colorbar": {
              "outlinewidth": 0,
              "ticks": ""
             }
            },
            "type": "scattercarpet"
           }
          ],
          "scattergeo": [
           {
            "marker": {
             "colorbar": {
              "outlinewidth": 0,
              "ticks": ""
             }
            },
            "type": "scattergeo"
           }
          ],
          "scattergl": [
           {
            "marker": {
             "colorbar": {
              "outlinewidth": 0,
              "ticks": ""
             }
            },
            "type": "scattergl"
           }
          ],
          "scattermapbox": [
           {
            "marker": {
             "colorbar": {
              "outlinewidth": 0,
              "ticks": ""
             }
            },
            "type": "scattermapbox"
           }
          ],
          "scatterpolar": [
           {
            "marker": {
             "colorbar": {
              "outlinewidth": 0,
              "ticks": ""
             }
            },
            "type": "scatterpolar"
           }
          ],
          "scatterpolargl": [
           {
            "marker": {
             "colorbar": {
              "outlinewidth": 0,
              "ticks": ""
             }
            },
            "type": "scatterpolargl"
           }
          ],
          "scatterternary": [
           {
            "marker": {
             "colorbar": {
              "outlinewidth": 0,
              "ticks": ""
             }
            },
            "type": "scatterternary"
           }
          ],
          "surface": [
           {
            "colorbar": {
             "outlinewidth": 0,
             "ticks": ""
            },
            "colorscale": [
             [
              0,
              "#0d0887"
             ],
             [
              0.1111111111111111,
              "#46039f"
             ],
             [
              0.2222222222222222,
              "#7201a8"
             ],
             [
              0.3333333333333333,
              "#9c179e"
             ],
             [
              0.4444444444444444,
              "#bd3786"
             ],
             [
              0.5555555555555556,
              "#d8576b"
             ],
             [
              0.6666666666666666,
              "#ed7953"
             ],
             [
              0.7777777777777778,
              "#fb9f3a"
             ],
             [
              0.8888888888888888,
              "#fdca26"
             ],
             [
              1,
              "#f0f921"
             ]
            ],
            "type": "surface"
           }
          ],
          "table": [
           {
            "cells": {
             "fill": {
              "color": "#EBF0F8"
             },
             "line": {
              "color": "white"
             }
            },
            "header": {
             "fill": {
              "color": "#C8D4E3"
             },
             "line": {
              "color": "white"
             }
            },
            "type": "table"
           }
          ]
         },
         "layout": {
          "annotationdefaults": {
           "arrowcolor": "#2a3f5f",
           "arrowhead": 0,
           "arrowwidth": 1
          },
          "colorscale": {
           "diverging": [
            [
             0,
             "#8e0152"
            ],
            [
             0.1,
             "#c51b7d"
            ],
            [
             0.2,
             "#de77ae"
            ],
            [
             0.3,
             "#f1b6da"
            ],
            [
             0.4,
             "#fde0ef"
            ],
            [
             0.5,
             "#f7f7f7"
            ],
            [
             0.6,
             "#e6f5d0"
            ],
            [
             0.7,
             "#b8e186"
            ],
            [
             0.8,
             "#7fbc41"
            ],
            [
             0.9,
             "#4d9221"
            ],
            [
             1,
             "#276419"
            ]
           ],
           "sequential": [
            [
             0,
             "#0d0887"
            ],
            [
             0.1111111111111111,
             "#46039f"
            ],
            [
             0.2222222222222222,
             "#7201a8"
            ],
            [
             0.3333333333333333,
             "#9c179e"
            ],
            [
             0.4444444444444444,
             "#bd3786"
            ],
            [
             0.5555555555555556,
             "#d8576b"
            ],
            [
             0.6666666666666666,
             "#ed7953"
            ],
            [
             0.7777777777777778,
             "#fb9f3a"
            ],
            [
             0.8888888888888888,
             "#fdca26"
            ],
            [
             1,
             "#f0f921"
            ]
           ],
           "sequentialminus": [
            [
             0,
             "#0d0887"
            ],
            [
             0.1111111111111111,
             "#46039f"
            ],
            [
             0.2222222222222222,
             "#7201a8"
            ],
            [
             0.3333333333333333,
             "#9c179e"
            ],
            [
             0.4444444444444444,
             "#bd3786"
            ],
            [
             0.5555555555555556,
             "#d8576b"
            ],
            [
             0.6666666666666666,
             "#ed7953"
            ],
            [
             0.7777777777777778,
             "#fb9f3a"
            ],
            [
             0.8888888888888888,
             "#fdca26"
            ],
            [
             1,
             "#f0f921"
            ]
           ]
          },
          "colorway": [
           "#636efa",
           "#EF553B",
           "#00cc96",
           "#ab63fa",
           "#FFA15A",
           "#19d3f3",
           "#FF6692",
           "#B6E880",
           "#FF97FF",
           "#FECB52"
          ],
          "font": {
           "color": "#2a3f5f"
          },
          "geo": {
           "bgcolor": "white",
           "lakecolor": "white",
           "landcolor": "#E5ECF6",
           "showlakes": true,
           "showland": true,
           "subunitcolor": "white"
          },
          "hoverlabel": {
           "align": "left"
          },
          "hovermode": "closest",
          "mapbox": {
           "style": "light"
          },
          "paper_bgcolor": "white",
          "plot_bgcolor": "#E5ECF6",
          "polar": {
           "angularaxis": {
            "gridcolor": "white",
            "linecolor": "white",
            "ticks": ""
           },
           "bgcolor": "#E5ECF6",
           "radialaxis": {
            "gridcolor": "white",
            "linecolor": "white",
            "ticks": ""
           }
          },
          "scene": {
           "xaxis": {
            "backgroundcolor": "#E5ECF6",
            "gridcolor": "white",
            "gridwidth": 2,
            "linecolor": "white",
            "showbackground": true,
            "ticks": "",
            "zerolinecolor": "white"
           },
           "yaxis": {
            "backgroundcolor": "#E5ECF6",
            "gridcolor": "white",
            "gridwidth": 2,
            "linecolor": "white",
            "showbackground": true,
            "ticks": "",
            "zerolinecolor": "white"
           },
           "zaxis": {
            "backgroundcolor": "#E5ECF6",
            "gridcolor": "white",
            "gridwidth": 2,
            "linecolor": "white",
            "showbackground": true,
            "ticks": "",
            "zerolinecolor": "white"
           }
          },
          "shapedefaults": {
           "line": {
            "color": "#2a3f5f"
           }
          },
          "ternary": {
           "aaxis": {
            "gridcolor": "white",
            "linecolor": "white",
            "ticks": ""
           },
           "baxis": {
            "gridcolor": "white",
            "linecolor": "white",
            "ticks": ""
           },
           "bgcolor": "#E5ECF6",
           "caxis": {
            "gridcolor": "white",
            "linecolor": "white",
            "ticks": ""
           }
          },
          "title": {
           "x": 0.05
          },
          "xaxis": {
           "automargin": true,
           "gridcolor": "white",
           "linecolor": "white",
           "ticks": "",
           "zerolinecolor": "white",
           "zerolinewidth": 2
          },
          "yaxis": {
           "automargin": true,
           "gridcolor": "white",
           "linecolor": "white",
           "ticks": "",
           "zerolinecolor": "white",
           "zerolinewidth": 2
          }
         }
        },
        "xaxis": {
         "anchor": "y",
         "domain": [
          0,
          0.98
         ],
         "title": {
          "text": "component 1"
         }
        },
        "yaxis": {
         "anchor": "x",
         "domain": [
          0,
          1
         ],
         "title": {
          "text": "component 2"
         }
        }
       }
      },
      "text/html": [
       "<div>\n",
       "        \n",
       "        \n",
       "            <div id=\"691e62f8-d740-4d58-a5e5-834ab236f59b\" class=\"plotly-graph-div\" style=\"height:600px; width:100%;\"></div>\n",
       "            <script type=\"text/javascript\">\n",
       "                require([\"plotly\"], function(Plotly) {\n",
       "                    window.PLOTLYENV=window.PLOTLYENV || {};\n",
       "                    \n",
       "                if (document.getElementById(\"691e62f8-d740-4d58-a5e5-834ab236f59b\")) {\n",
       "                    Plotly.newPlot(\n",
       "                        '691e62f8-d740-4d58-a5e5-834ab236f59b',\n",
       "                        [{\"hoverlabel\": {\"namelength\": 0}, \"hovertemplate\": \"label=test_subject_01<br>component 1=%{x}<br>component 2=%{y}<br>experiment=%{marker.size}\", \"legendgroup\": \"label=test_subject_01\", \"marker\": {\"color\": \"#636efa\", \"size\": [0.0125, 0.025], \"sizemode\": \"area\", \"sizeref\": 6.25e-05, \"symbol\": \"circle\"}, \"mode\": \"markers\", \"name\": \"label=test_subject_01\", \"showlegend\": true, \"type\": \"scatter\", \"x\": [-1.2179742180672317, -1.2206004914401634], \"xaxis\": \"x\", \"y\": [-0.7059568821858473, 0.65323563887741], \"yaxis\": \"y\"}, {\"hoverlabel\": {\"namelength\": 0}, \"hovertemplate\": \"label=test_subject_02<br>component 1=%{x}<br>component 2=%{y}<br>experiment=%{marker.size}\", \"legendgroup\": \"label=test_subject_02\", \"marker\": {\"color\": \"#EF553B\", \"size\": [0.0125, 0.025], \"sizemode\": \"area\", \"sizeref\": 6.25e-05, \"symbol\": \"circle\"}, \"mode\": \"markers\", \"name\": \"label=test_subject_02\", \"showlegend\": true, \"type\": \"scatter\", \"x\": [-10.280303749125812, -11.29252322109339], \"xaxis\": \"x\", \"y\": [2.7942357489489225, 3.3101656941703204], \"yaxis\": \"y\"}, {\"hoverlabel\": {\"namelength\": 0}, \"hovertemplate\": \"label=test_subject_03<br>component 1=%{x}<br>component 2=%{y}<br>experiment=%{marker.size}\", \"legendgroup\": \"label=test_subject_03\", \"marker\": {\"color\": \"#00cc96\", \"size\": [0.0125, 0.025], \"sizemode\": \"area\", \"sizeref\": 6.25e-05, \"symbol\": \"circle\"}, \"mode\": \"markers\", \"name\": \"label=test_subject_03\", \"showlegend\": true, \"type\": \"scatter\", \"x\": [-6.662227267975733, 1.8466316498756852], \"xaxis\": \"x\", \"y\": [4.17734886252707, -1.0542976340889634], \"yaxis\": \"y\"}, {\"hoverlabel\": {\"namelength\": 0}, \"hovertemplate\": \"label=test_subject_04<br>component 1=%{x}<br>component 2=%{y}<br>experiment=%{marker.size}\", \"legendgroup\": \"label=test_subject_04\", \"marker\": {\"color\": \"#ab63fa\", \"size\": [0.0125, 0.025], \"sizemode\": \"area\", \"sizeref\": 6.25e-05, \"symbol\": \"circle\"}, \"mode\": \"markers\", \"name\": \"label=test_subject_04\", \"showlegend\": true, \"type\": \"scatter\", \"x\": [0.12365972242370624, -0.1588014150939293], \"xaxis\": \"x\", \"y\": [-1.0919548980415477, -0.9589742357630173], \"yaxis\": \"y\"}, {\"hoverlabel\": {\"namelength\": 0}, \"hovertemplate\": \"label=test_subject_05<br>component 1=%{x}<br>component 2=%{y}<br>experiment=%{marker.size}\", \"legendgroup\": \"label=test_subject_05\", \"marker\": {\"color\": \"#FFA15A\", \"size\": [0.0125, 0.025], \"sizemode\": \"area\", \"sizeref\": 6.25e-05, \"symbol\": \"circle\"}, \"mode\": \"markers\", \"name\": \"label=test_subject_05\", \"showlegend\": true, \"type\": \"scatter\", \"x\": [1.0268969200945612, 1.0791841973395448], \"xaxis\": \"x\", \"y\": [-2.09904114989845, -1.0928723867575654], \"yaxis\": \"y\"}, {\"hoverlabel\": {\"namelength\": 0}, \"hovertemplate\": \"label=test_subject_06<br>component 1=%{x}<br>component 2=%{y}<br>experiment=%{marker.size}\", \"legendgroup\": \"label=test_subject_06\", \"marker\": {\"color\": \"#19d3f3\", \"size\": [0.0125, 0.025], \"sizemode\": \"area\", \"sizeref\": 6.25e-05, \"symbol\": \"circle\"}, \"mode\": \"markers\", \"name\": \"label=test_subject_06\", \"showlegend\": true, \"type\": \"scatter\", \"x\": [3.2160573959075274, -1.3100257699762663], \"xaxis\": \"x\", \"y\": [8.235059715931719, 11.398894174876935], \"yaxis\": \"y\"}, {\"hoverlabel\": {\"namelength\": 0}, \"hovertemplate\": \"label=test_subject_07<br>component 1=%{x}<br>component 2=%{y}<br>experiment=%{marker.size}\", \"legendgroup\": \"label=test_subject_07\", \"marker\": {\"color\": \"#FF6692\", \"size\": [0.0125, 0.025], \"sizemode\": \"area\", \"sizeref\": 6.25e-05, \"symbol\": \"circle\"}, \"mode\": \"markers\", \"name\": \"label=test_subject_07\", \"showlegend\": true, \"type\": \"scatter\", \"x\": [2.406312618272065, 1.2252591113068094], \"xaxis\": \"x\", \"y\": [-2.756237006204306, -0.49713534076965654], \"yaxis\": \"y\"}, {\"hoverlabel\": {\"namelength\": 0}, \"hovertemplate\": \"label=test_subject_08<br>component 1=%{x}<br>component 2=%{y}<br>experiment=%{marker.size}\", \"legendgroup\": \"label=test_subject_08\", \"marker\": {\"color\": \"#B6E880\", \"size\": [0.0125], \"sizemode\": \"area\", \"sizeref\": 6.25e-05, \"symbol\": \"circle\"}, \"mode\": \"markers\", \"name\": \"label=test_subject_08\", \"showlegend\": true, \"type\": \"scatter\", \"x\": [0.9046222680187778], \"xaxis\": \"x\", \"y\": [-0.35481851658726676], \"yaxis\": \"y\"}, {\"hoverlabel\": {\"namelength\": 0}, \"hovertemplate\": \"label=test_subject_09<br>component 1=%{x}<br>component 2=%{y}<br>experiment=%{marker.size}\", \"legendgroup\": \"label=test_subject_09\", \"marker\": {\"color\": \"#FF97FF\", \"size\": [0.0125, 0.025], \"sizemode\": \"area\", \"sizeref\": 6.25e-05, \"symbol\": \"circle\"}, \"mode\": \"markers\", \"name\": \"label=test_subject_09\", \"showlegend\": true, \"type\": \"scatter\", \"x\": [0.13522442863963566, 1.447398678440792], \"xaxis\": \"x\", \"y\": [-2.2050519290764257, -2.2288529045077796], \"yaxis\": \"y\"}, {\"hoverlabel\": {\"namelength\": 0}, \"hovertemplate\": \"label=test_subject_10<br>component 1=%{x}<br>component 2=%{y}<br>experiment=%{marker.size}\", \"legendgroup\": \"label=test_subject_10\", \"marker\": {\"color\": \"#FECB52\", \"size\": [0.0125, 0.025], \"sizemode\": \"area\", \"sizeref\": 6.25e-05, \"symbol\": \"circle\"}, \"mode\": \"markers\", \"name\": \"label=test_subject_10\", \"showlegend\": true, \"type\": \"scatter\", \"x\": [-2.3284724784326327, -2.671973721396493], \"xaxis\": \"x\", \"y\": [0.5132668847711023, 1.014893553317733], \"yaxis\": \"y\"}, {\"hoverlabel\": {\"namelength\": 0}, \"hovertemplate\": \"label=test_subject_11<br>component 1=%{x}<br>component 2=%{y}<br>experiment=%{marker.size}\", \"legendgroup\": \"label=test_subject_11\", \"marker\": {\"color\": \"#636efa\", \"size\": [0.0125, 0.025], \"sizemode\": \"area\", \"sizeref\": 6.25e-05, \"symbol\": \"circle\"}, \"mode\": \"markers\", \"name\": \"label=test_subject_11\", \"showlegend\": true, \"type\": \"scatter\", \"x\": [-0.18401862009393777, -1.0218256201354063], \"xaxis\": \"x\", \"y\": [-1.7581972708123559, -1.4456503131607652], \"yaxis\": \"y\"}, {\"hoverlabel\": {\"namelength\": 0}, \"hovertemplate\": \"label=test_subject_12<br>component 1=%{x}<br>component 2=%{y}<br>experiment=%{marker.size}\", \"legendgroup\": \"label=test_subject_12\", \"marker\": {\"color\": \"#EF553B\", \"size\": [0.0125, 0.025], \"sizemode\": \"area\", \"sizeref\": 6.25e-05, \"symbol\": \"circle\"}, \"mode\": \"markers\", \"name\": \"label=test_subject_12\", \"showlegend\": true, \"type\": \"scatter\", \"x\": [2.217381874755691, 2.907965118488838], \"xaxis\": \"x\", \"y\": [-1.6295849017723198, -1.1556606057251761], \"yaxis\": \"y\"}, {\"hoverlabel\": {\"namelength\": 0}, \"hovertemplate\": \"label=test_subject_13<br>component 1=%{x}<br>component 2=%{y}<br>experiment=%{marker.size}\", \"legendgroup\": \"label=test_subject_13\", \"marker\": {\"color\": \"#00cc96\", \"size\": [0.0125, 0.025], \"sizemode\": \"area\", \"sizeref\": 6.25e-05, \"symbol\": \"circle\"}, \"mode\": \"markers\", \"name\": \"label=test_subject_13\", \"showlegend\": true, \"type\": \"scatter\", \"x\": [4.60452919122362, 0.8202325093915444], \"xaxis\": \"x\", \"y\": [-1.6067417759498748, -2.7289666816736604], \"yaxis\": \"y\"}, {\"hoverlabel\": {\"namelength\": 0}, \"hovertemplate\": \"label=test_subject_14<br>component 1=%{x}<br>component 2=%{y}<br>experiment=%{marker.size}\", \"legendgroup\": \"label=test_subject_14\", \"marker\": {\"color\": \"#ab63fa\", \"size\": [0.0125, 0.025], \"sizemode\": \"area\", \"sizeref\": 6.25e-05, \"symbol\": \"circle\"}, \"mode\": \"markers\", \"name\": \"label=test_subject_14\", \"showlegend\": true, \"type\": \"scatter\", \"x\": [12.0054870208061, -0.40707587366682974], \"xaxis\": \"x\", \"y\": [10.696538542439534, -0.11367753274899199], \"yaxis\": \"y\"}, {\"hoverlabel\": {\"namelength\": 0}, \"hovertemplate\": \"label=test_subject_15<br>component 1=%{x}<br>component 2=%{y}<br>experiment=%{marker.size}\", \"legendgroup\": \"label=test_subject_15\", \"marker\": {\"color\": \"#FFA15A\", \"size\": [0.0125, 0.025], \"sizemode\": \"area\", \"sizeref\": 6.25e-05, \"symbol\": \"circle\"}, \"mode\": \"markers\", \"name\": \"label=test_subject_15\", \"showlegend\": true, \"type\": \"scatter\", \"x\": [1.210864554935267, 0.18667135703948368], \"xaxis\": \"x\", \"y\": [-1.221042071411697, -1.3944211321363285], \"yaxis\": \"y\"}, {\"hoverlabel\": {\"namelength\": 0}, \"hovertemplate\": \"label=test_subject_16<br>component 1=%{x}<br>component 2=%{y}<br>experiment=%{marker.size}\", \"legendgroup\": \"label=test_subject_16\", \"marker\": {\"color\": \"#19d3f3\", \"size\": [0.0125, 0.025], \"sizemode\": \"area\", \"sizeref\": 6.25e-05, \"symbol\": \"circle\"}, \"mode\": \"markers\", \"name\": \"label=test_subject_16\", \"showlegend\": true, \"type\": \"scatter\", \"x\": [-0.5423798432125259, 0.8428600215274542], \"xaxis\": \"x\", \"y\": [-1.8322623837071685, -1.6703242526966036], \"yaxis\": \"y\"}, {\"hoverlabel\": {\"namelength\": 0}, \"hovertemplate\": \"label=test_subject_17<br>component 1=%{x}<br>component 2=%{y}<br>experiment=%{marker.size}\", \"legendgroup\": \"label=test_subject_17\", \"marker\": {\"color\": \"#FF6692\", \"size\": [0.0125, 0.025], \"sizemode\": \"area\", \"sizeref\": 6.25e-05, \"symbol\": \"circle\"}, \"mode\": \"markers\", \"name\": \"label=test_subject_17\", \"showlegend\": true, \"type\": \"scatter\", \"x\": [-1.4561478619257597, -0.8430952625679059], \"xaxis\": \"x\", \"y\": [-1.683664858387539, -1.1598794309323368], \"yaxis\": \"y\"}, {\"hoverlabel\": {\"namelength\": 0}, \"hovertemplate\": \"label=test_subject_18<br>component 1=%{x}<br>component 2=%{y}<br>experiment=%{marker.size}\", \"legendgroup\": \"label=test_subject_18\", \"marker\": {\"color\": \"#B6E880\", \"size\": [0.0125, 0.025], \"sizemode\": \"area\", \"sizeref\": 6.25e-05, \"symbol\": \"circle\"}, \"mode\": \"markers\", \"name\": \"label=test_subject_18\", \"showlegend\": true, \"type\": \"scatter\", \"x\": [-1.061009661415208, -2.2760524155962067], \"xaxis\": \"x\", \"y\": [-0.08927294149486527, 0.12709453667599788], \"yaxis\": \"y\"}, {\"hoverlabel\": {\"namelength\": 0}, \"hovertemplate\": \"label=test_subject_19<br>component 1=%{x}<br>component 2=%{y}<br>experiment=%{marker.size}\", \"legendgroup\": \"label=test_subject_19\", \"marker\": {\"color\": \"#FF97FF\", \"size\": [0.0125, 0.025], \"sizemode\": \"area\", \"sizeref\": 6.25e-05, \"symbol\": \"circle\"}, \"mode\": \"markers\", \"name\": \"label=test_subject_19\", \"showlegend\": true, \"type\": \"scatter\", \"x\": [1.809155297406524, 1.4923914530946536], \"xaxis\": \"x\", \"y\": [-0.5780034215333271, -0.5566284024713655], \"yaxis\": \"y\"}, {\"hoverlabel\": {\"namelength\": 0}, \"hovertemplate\": \"label=test_subject_20<br>component 1=%{x}<br>component 2=%{y}<br>experiment=%{marker.size}\", \"legendgroup\": \"label=test_subject_20\", \"marker\": {\"color\": \"#FECB52\", \"size\": [0.0125, 0.025], \"sizemode\": \"area\", \"sizeref\": 6.25e-05, \"symbol\": \"circle\"}, \"mode\": \"markers\", \"name\": \"label=test_subject_20\", \"showlegend\": true, \"type\": \"scatter\", \"x\": [-2.047668945864322, 1.1868901917856942], \"xaxis\": \"x\", \"y\": [-1.2088916618683212, -1.1822776377883513], \"yaxis\": \"y\"}, {\"hoverlabel\": {\"namelength\": 0}, \"hovertemplate\": \"label=test_subject_21<br>component 1=%{x}<br>component 2=%{y}<br>experiment=%{marker.size}\", \"legendgroup\": \"label=test_subject_21\", \"marker\": {\"color\": \"#636efa\", \"size\": [0.0125, 0.025], \"sizemode\": \"area\", \"sizeref\": 6.25e-05, \"symbol\": \"circle\"}, \"mode\": \"markers\", \"name\": \"label=test_subject_21\", \"showlegend\": true, \"type\": \"scatter\", \"x\": [2.6018410789470092, 1.6846597773587741], \"xaxis\": \"x\", \"y\": [-3.4486395574949813, -1.4117536348898805], \"yaxis\": \"y\"}],\n",
       "                        {\"height\": 600, \"legend\": {\"itemsizing\": \"constant\", \"tracegroupgap\": 0}, \"margin\": {\"t\": 60}, \"template\": {\"data\": {\"bar\": [{\"error_x\": {\"color\": \"#2a3f5f\"}, \"error_y\": {\"color\": \"#2a3f5f\"}, \"marker\": {\"line\": {\"color\": \"#E5ECF6\", \"width\": 0.5}}, \"type\": \"bar\"}], \"barpolar\": [{\"marker\": {\"line\": {\"color\": \"#E5ECF6\", \"width\": 0.5}}, \"type\": \"barpolar\"}], \"carpet\": [{\"aaxis\": {\"endlinecolor\": \"#2a3f5f\", \"gridcolor\": \"white\", \"linecolor\": \"white\", \"minorgridcolor\": \"white\", \"startlinecolor\": \"#2a3f5f\"}, \"baxis\": {\"endlinecolor\": \"#2a3f5f\", \"gridcolor\": \"white\", \"linecolor\": \"white\", \"minorgridcolor\": \"white\", \"startlinecolor\": \"#2a3f5f\"}, \"type\": \"carpet\"}], \"choropleth\": [{\"colorbar\": {\"outlinewidth\": 0, \"ticks\": \"\"}, \"type\": \"choropleth\"}], \"contour\": [{\"colorbar\": {\"outlinewidth\": 0, \"ticks\": \"\"}, \"colorscale\": [[0.0, \"#0d0887\"], [0.1111111111111111, \"#46039f\"], [0.2222222222222222, \"#7201a8\"], [0.3333333333333333, \"#9c179e\"], [0.4444444444444444, \"#bd3786\"], [0.5555555555555556, \"#d8576b\"], [0.6666666666666666, \"#ed7953\"], [0.7777777777777778, \"#fb9f3a\"], [0.8888888888888888, \"#fdca26\"], [1.0, \"#f0f921\"]], \"type\": \"contour\"}], \"contourcarpet\": [{\"colorbar\": {\"outlinewidth\": 0, \"ticks\": \"\"}, \"type\": \"contourcarpet\"}], \"heatmap\": [{\"colorbar\": {\"outlinewidth\": 0, \"ticks\": \"\"}, \"colorscale\": [[0.0, \"#0d0887\"], [0.1111111111111111, \"#46039f\"], [0.2222222222222222, \"#7201a8\"], [0.3333333333333333, \"#9c179e\"], [0.4444444444444444, \"#bd3786\"], [0.5555555555555556, \"#d8576b\"], [0.6666666666666666, \"#ed7953\"], [0.7777777777777778, \"#fb9f3a\"], [0.8888888888888888, \"#fdca26\"], [1.0, \"#f0f921\"]], \"type\": \"heatmap\"}], \"heatmapgl\": [{\"colorbar\": {\"outlinewidth\": 0, \"ticks\": \"\"}, \"colorscale\": [[0.0, \"#0d0887\"], [0.1111111111111111, \"#46039f\"], [0.2222222222222222, \"#7201a8\"], [0.3333333333333333, \"#9c179e\"], [0.4444444444444444, \"#bd3786\"], [0.5555555555555556, \"#d8576b\"], [0.6666666666666666, \"#ed7953\"], [0.7777777777777778, \"#fb9f3a\"], [0.8888888888888888, \"#fdca26\"], [1.0, \"#f0f921\"]], \"type\": \"heatmapgl\"}], \"histogram\": [{\"marker\": {\"colorbar\": {\"outlinewidth\": 0, \"ticks\": \"\"}}, \"type\": \"histogram\"}], \"histogram2d\": [{\"colorbar\": {\"outlinewidth\": 0, \"ticks\": \"\"}, \"colorscale\": [[0.0, \"#0d0887\"], [0.1111111111111111, \"#46039f\"], [0.2222222222222222, \"#7201a8\"], [0.3333333333333333, \"#9c179e\"], [0.4444444444444444, \"#bd3786\"], [0.5555555555555556, \"#d8576b\"], [0.6666666666666666, \"#ed7953\"], [0.7777777777777778, \"#fb9f3a\"], [0.8888888888888888, \"#fdca26\"], [1.0, \"#f0f921\"]], \"type\": \"histogram2d\"}], \"histogram2dcontour\": [{\"colorbar\": {\"outlinewidth\": 0, \"ticks\": \"\"}, \"colorscale\": [[0.0, \"#0d0887\"], [0.1111111111111111, \"#46039f\"], [0.2222222222222222, \"#7201a8\"], [0.3333333333333333, \"#9c179e\"], [0.4444444444444444, \"#bd3786\"], [0.5555555555555556, \"#d8576b\"], [0.6666666666666666, \"#ed7953\"], [0.7777777777777778, \"#fb9f3a\"], [0.8888888888888888, \"#fdca26\"], [1.0, \"#f0f921\"]], \"type\": \"histogram2dcontour\"}], \"mesh3d\": [{\"colorbar\": {\"outlinewidth\": 0, \"ticks\": \"\"}, \"type\": \"mesh3d\"}], \"parcoords\": [{\"line\": {\"colorbar\": {\"outlinewidth\": 0, \"ticks\": \"\"}}, \"type\": \"parcoords\"}], \"scatter\": [{\"marker\": {\"colorbar\": {\"outlinewidth\": 0, \"ticks\": \"\"}}, \"type\": \"scatter\"}], \"scatter3d\": [{\"line\": {\"colorbar\": {\"outlinewidth\": 0, \"ticks\": \"\"}}, \"marker\": {\"colorbar\": {\"outlinewidth\": 0, \"ticks\": \"\"}}, \"type\": \"scatter3d\"}], \"scattercarpet\": [{\"marker\": {\"colorbar\": {\"outlinewidth\": 0, \"ticks\": \"\"}}, \"type\": \"scattercarpet\"}], \"scattergeo\": [{\"marker\": {\"colorbar\": {\"outlinewidth\": 0, \"ticks\": \"\"}}, \"type\": \"scattergeo\"}], \"scattergl\": [{\"marker\": {\"colorbar\": {\"outlinewidth\": 0, \"ticks\": \"\"}}, \"type\": \"scattergl\"}], \"scattermapbox\": [{\"marker\": {\"colorbar\": {\"outlinewidth\": 0, \"ticks\": \"\"}}, \"type\": \"scattermapbox\"}], \"scatterpolar\": [{\"marker\": {\"colorbar\": {\"outlinewidth\": 0, \"ticks\": \"\"}}, \"type\": \"scatterpolar\"}], \"scatterpolargl\": [{\"marker\": {\"colorbar\": {\"outlinewidth\": 0, \"ticks\": \"\"}}, \"type\": \"scatterpolargl\"}], \"scatterternary\": [{\"marker\": {\"colorbar\": {\"outlinewidth\": 0, \"ticks\": \"\"}}, \"type\": \"scatterternary\"}], \"surface\": [{\"colorbar\": {\"outlinewidth\": 0, \"ticks\": \"\"}, \"colorscale\": [[0.0, \"#0d0887\"], [0.1111111111111111, \"#46039f\"], [0.2222222222222222, \"#7201a8\"], [0.3333333333333333, \"#9c179e\"], [0.4444444444444444, \"#bd3786\"], [0.5555555555555556, \"#d8576b\"], [0.6666666666666666, \"#ed7953\"], [0.7777777777777778, \"#fb9f3a\"], [0.8888888888888888, \"#fdca26\"], [1.0, \"#f0f921\"]], \"type\": \"surface\"}], \"table\": [{\"cells\": {\"fill\": {\"color\": \"#EBF0F8\"}, \"line\": {\"color\": \"white\"}}, \"header\": {\"fill\": {\"color\": \"#C8D4E3\"}, \"line\": {\"color\": \"white\"}}, \"type\": \"table\"}]}, \"layout\": {\"annotationdefaults\": {\"arrowcolor\": \"#2a3f5f\", \"arrowhead\": 0, \"arrowwidth\": 1}, \"colorscale\": {\"diverging\": [[0, \"#8e0152\"], [0.1, \"#c51b7d\"], [0.2, \"#de77ae\"], [0.3, \"#f1b6da\"], [0.4, \"#fde0ef\"], [0.5, \"#f7f7f7\"], [0.6, \"#e6f5d0\"], [0.7, \"#b8e186\"], [0.8, \"#7fbc41\"], [0.9, \"#4d9221\"], [1, \"#276419\"]], \"sequential\": [[0.0, \"#0d0887\"], [0.1111111111111111, \"#46039f\"], [0.2222222222222222, \"#7201a8\"], [0.3333333333333333, \"#9c179e\"], [0.4444444444444444, \"#bd3786\"], [0.5555555555555556, \"#d8576b\"], [0.6666666666666666, \"#ed7953\"], [0.7777777777777778, \"#fb9f3a\"], [0.8888888888888888, \"#fdca26\"], [1.0, \"#f0f921\"]], \"sequentialminus\": [[0.0, \"#0d0887\"], [0.1111111111111111, \"#46039f\"], [0.2222222222222222, \"#7201a8\"], [0.3333333333333333, \"#9c179e\"], [0.4444444444444444, \"#bd3786\"], [0.5555555555555556, \"#d8576b\"], [0.6666666666666666, \"#ed7953\"], [0.7777777777777778, \"#fb9f3a\"], [0.8888888888888888, \"#fdca26\"], [1.0, \"#f0f921\"]]}, \"colorway\": [\"#636efa\", \"#EF553B\", \"#00cc96\", \"#ab63fa\", \"#FFA15A\", \"#19d3f3\", \"#FF6692\", \"#B6E880\", \"#FF97FF\", \"#FECB52\"], \"font\": {\"color\": \"#2a3f5f\"}, \"geo\": {\"bgcolor\": \"white\", \"lakecolor\": \"white\", \"landcolor\": \"#E5ECF6\", \"showlakes\": true, \"showland\": true, \"subunitcolor\": \"white\"}, \"hoverlabel\": {\"align\": \"left\"}, \"hovermode\": \"closest\", \"mapbox\": {\"style\": \"light\"}, \"paper_bgcolor\": \"white\", \"plot_bgcolor\": \"#E5ECF6\", \"polar\": {\"angularaxis\": {\"gridcolor\": \"white\", \"linecolor\": \"white\", \"ticks\": \"\"}, \"bgcolor\": \"#E5ECF6\", \"radialaxis\": {\"gridcolor\": \"white\", \"linecolor\": \"white\", \"ticks\": \"\"}}, \"scene\": {\"xaxis\": {\"backgroundcolor\": \"#E5ECF6\", \"gridcolor\": \"white\", \"gridwidth\": 2, \"linecolor\": \"white\", \"showbackground\": true, \"ticks\": \"\", \"zerolinecolor\": \"white\"}, \"yaxis\": {\"backgroundcolor\": \"#E5ECF6\", \"gridcolor\": \"white\", \"gridwidth\": 2, \"linecolor\": \"white\", \"showbackground\": true, \"ticks\": \"\", \"zerolinecolor\": \"white\"}, \"zaxis\": {\"backgroundcolor\": \"#E5ECF6\", \"gridcolor\": \"white\", \"gridwidth\": 2, \"linecolor\": \"white\", \"showbackground\": true, \"ticks\": \"\", \"zerolinecolor\": \"white\"}}, \"shapedefaults\": {\"line\": {\"color\": \"#2a3f5f\"}}, \"ternary\": {\"aaxis\": {\"gridcolor\": \"white\", \"linecolor\": \"white\", \"ticks\": \"\"}, \"baxis\": {\"gridcolor\": \"white\", \"linecolor\": \"white\", \"ticks\": \"\"}, \"bgcolor\": \"#E5ECF6\", \"caxis\": {\"gridcolor\": \"white\", \"linecolor\": \"white\", \"ticks\": \"\"}}, \"title\": {\"x\": 0.05}, \"xaxis\": {\"automargin\": true, \"gridcolor\": \"white\", \"linecolor\": \"white\", \"ticks\": \"\", \"zerolinecolor\": \"white\", \"zerolinewidth\": 2}, \"yaxis\": {\"automargin\": true, \"gridcolor\": \"white\", \"linecolor\": \"white\", \"ticks\": \"\", \"zerolinecolor\": \"white\", \"zerolinewidth\": 2}}}, \"xaxis\": {\"anchor\": \"y\", \"domain\": [0.0, 0.98], \"title\": {\"text\": \"component 1\"}}, \"yaxis\": {\"anchor\": \"x\", \"domain\": [0.0, 1.0], \"title\": {\"text\": \"component 2\"}}},\n",
       "                        {\"responsive\": true}\n",
       "                    ).then(function(){\n",
       "                            \n",
       "var gd = document.getElementById('691e62f8-d740-4d58-a5e5-834ab236f59b');\n",
       "var x = new MutationObserver(function (mutations, observer) {{\n",
       "        var display = window.getComputedStyle(gd).display;\n",
       "        if (!display || display === 'none') {{\n",
       "            console.log([gd, 'removed!']);\n",
       "            Plotly.purge(gd);\n",
       "            observer.disconnect();\n",
       "        }}\n",
       "}});\n",
       "\n",
       "// Listen for the removal of the full notebook cells\n",
       "var notebookContainer = gd.closest('#notebook-container');\n",
       "if (notebookContainer) {{\n",
       "    x.observe(notebookContainer, {childList: true});\n",
       "}}\n",
       "\n",
       "// Listen for the clearing of the current output cell\n",
       "var outputEl = gd.closest('.output');\n",
       "if (outputEl) {{\n",
       "    x.observe(outputEl, {childList: true});\n",
       "}}\n",
       "\n",
       "                        })\n",
       "                };\n",
       "                });\n",
       "            </script>\n",
       "        </div>"
      ]
     },
     "metadata": {},
     "output_type": "display_data"
    },
    {
     "name": "stdout",
     "output_type": "stream",
     "text": [
      "[0.18324616 0.13251893 0.12586415]\n"
     ]
    },
    {
     "data": {
      "application/vnd.plotly.v1+json": {
       "config": {
        "plotlyServerURL": "https://plot.ly"
       },
       "data": [
        {
         "hoverlabel": {
          "namelength": 0
         },
         "hovertemplate": "label=test_subject_01<br>component 1=%{x}<br>component 2=%{y}<br>component 3=%{z}<br>experiment=%{marker.size}",
         "legendgroup": "label=test_subject_01",
         "marker": {
          "color": "#636efa",
          "size": [
           0.0125,
           0.025
          ],
          "sizemode": "area",
          "sizeref": 6.25e-05,
          "symbol": "circle"
         },
         "mode": "markers",
         "name": "label=test_subject_01",
         "scene": "scene",
         "showlegend": true,
         "type": "scatter3d",
         "x": [
          2.712553719183644,
          2.138108937436931
         ],
         "y": [
          0.06460483655729415,
          -3.1016236452238903
         ],
         "z": [
          7.556621857142529,
          2.620155949993303
         ]
        },
        {
         "hoverlabel": {
          "namelength": 0
         },
         "hovertemplate": "label=test_subject_02<br>component 1=%{x}<br>component 2=%{y}<br>component 3=%{z}<br>experiment=%{marker.size}",
         "legendgroup": "label=test_subject_02",
         "marker": {
          "color": "#EF553B",
          "size": [
           0.0125,
           0.025
          ],
          "sizemode": "area",
          "sizeref": 6.25e-05,
          "symbol": "circle"
         },
         "mode": "markers",
         "name": "label=test_subject_02",
         "scene": "scene",
         "showlegend": true,
         "type": "scatter3d",
         "x": [
          6.015659395466363,
          3.009435157026454
         ],
         "y": [
          -3.4031341750580144,
          -2.5550348666460496
         ],
         "z": [
          4.638231658835808,
          3.470019296269418
         ]
        },
        {
         "hoverlabel": {
          "namelength": 0
         },
         "hovertemplate": "label=test_subject_03<br>component 1=%{x}<br>component 2=%{y}<br>component 3=%{z}<br>experiment=%{marker.size}",
         "legendgroup": "label=test_subject_03",
         "marker": {
          "color": "#00cc96",
          "size": [
           0.0125,
           0.025
          ],
          "sizemode": "area",
          "sizeref": 6.25e-05,
          "symbol": "circle"
         },
         "mode": "markers",
         "name": "label=test_subject_03",
         "scene": "scene",
         "showlegend": true,
         "type": "scatter3d",
         "x": [
          9.164002497742898,
          9.621465605203136
         ],
         "y": [
          5.005670547411862,
          3.5771340501260016
         ],
         "z": [
          -2.5376787895956285,
          -3.3138067551958064
         ]
        },
        {
         "hoverlabel": {
          "namelength": 0
         },
         "hovertemplate": "label=test_subject_04<br>component 1=%{x}<br>component 2=%{y}<br>component 3=%{z}<br>experiment=%{marker.size}",
         "legendgroup": "label=test_subject_04",
         "marker": {
          "color": "#ab63fa",
          "size": [
           0.0125,
           0.025
          ],
          "sizemode": "area",
          "sizeref": 6.25e-05,
          "symbol": "circle"
         },
         "mode": "markers",
         "name": "label=test_subject_04",
         "scene": "scene",
         "showlegend": true,
         "type": "scatter3d",
         "x": [
          -0.6345323753317403,
          1.0521436771359653
         ],
         "y": [
          -0.5168440111427778,
          -2.8388798275358806
         ],
         "z": [
          -0.5886664347026604,
          -1.6187265236144142
         ]
        },
        {
         "hoverlabel": {
          "namelength": 0
         },
         "hovertemplate": "label=test_subject_05<br>component 1=%{x}<br>component 2=%{y}<br>component 3=%{z}<br>experiment=%{marker.size}",
         "legendgroup": "label=test_subject_05",
         "marker": {
          "color": "#FFA15A",
          "size": [
           0.0125,
           0.025
          ],
          "sizemode": "area",
          "sizeref": 6.25e-05,
          "symbol": "circle"
         },
         "mode": "markers",
         "name": "label=test_subject_05",
         "scene": "scene",
         "showlegend": true,
         "type": "scatter3d",
         "x": [
          -0.2913483530760751,
          1.1835926078270433
         ],
         "y": [
          -0.30635073685473907,
          -3.183543651114784
         ],
         "z": [
          0.0789803043328801,
          -1.381212428983867
         ]
        },
        {
         "hoverlabel": {
          "namelength": 0
         },
         "hovertemplate": "label=test_subject_06<br>component 1=%{x}<br>component 2=%{y}<br>component 3=%{z}<br>experiment=%{marker.size}",
         "legendgroup": "label=test_subject_06",
         "marker": {
          "color": "#19d3f3",
          "size": [
           0.0125,
           0.025
          ],
          "sizemode": "area",
          "sizeref": 6.25e-05,
          "symbol": "circle"
         },
         "mode": "markers",
         "name": "label=test_subject_06",
         "scene": "scene",
         "showlegend": true,
         "type": "scatter3d",
         "x": [
          -1.9462604983782628,
          6.688787047303867
         ],
         "y": [
          3.1992258929444035,
          6.992436365412159
         ],
         "z": [
          0.7479682021244961,
          -4.657947245893488
         ]
        },
        {
         "hoverlabel": {
          "namelength": 0
         },
         "hovertemplate": "label=test_subject_07<br>component 1=%{x}<br>component 2=%{y}<br>component 3=%{z}<br>experiment=%{marker.size}",
         "legendgroup": "label=test_subject_07",
         "marker": {
          "color": "#FF6692",
          "size": [
           0.0125,
           0.025
          ],
          "sizemode": "area",
          "sizeref": 6.25e-05,
          "symbol": "circle"
         },
         "mode": "markers",
         "name": "label=test_subject_07",
         "scene": "scene",
         "showlegend": true,
         "type": "scatter3d",
         "x": [
          -1.1864849183369,
          -0.6585724037123638
         ],
         "y": [
          3.4151548391106323,
          2.989268494523921
         ],
         "z": [
          2.925911717305752,
          1.7465223674347408
         ]
        },
        {
         "hoverlabel": {
          "namelength": 0
         },
         "hovertemplate": "label=test_subject_08<br>component 1=%{x}<br>component 2=%{y}<br>component 3=%{z}<br>experiment=%{marker.size}",
         "legendgroup": "label=test_subject_08",
         "marker": {
          "color": "#B6E880",
          "size": [
           0.0125,
           0.025
          ],
          "sizemode": "area",
          "sizeref": 6.25e-05,
          "symbol": "circle"
         },
         "mode": "markers",
         "name": "label=test_subject_08",
         "scene": "scene",
         "showlegend": true,
         "type": "scatter3d",
         "x": [
          -1.5877262443908573,
          -0.9121911299211373
         ],
         "y": [
          0.9954667048144438,
          -0.5693178342005549
         ],
         "z": [
          0.8824269801044468,
          2.2527935190089905
         ]
        },
        {
         "hoverlabel": {
          "namelength": 0
         },
         "hovertemplate": "label=test_subject_09<br>component 1=%{x}<br>component 2=%{y}<br>component 3=%{z}<br>experiment=%{marker.size}",
         "legendgroup": "label=test_subject_09",
         "marker": {
          "color": "#FF97FF",
          "size": [
           0.0125,
           0.025
          ],
          "sizemode": "area",
          "sizeref": 6.25e-05,
          "symbol": "circle"
         },
         "mode": "markers",
         "name": "label=test_subject_09",
         "scene": "scene",
         "showlegend": true,
         "type": "scatter3d",
         "x": [
          -1.7208561933119044,
          -1.528170936856864
         ],
         "y": [
          -0.9078288703572506,
          2.2706546812873962
         ],
         "z": [
          -0.07572287163346507,
          4.582914992847729
         ]
        },
        {
         "hoverlabel": {
          "namelength": 0
         },
         "hovertemplate": "label=test_subject_10<br>component 1=%{x}<br>component 2=%{y}<br>component 3=%{z}<br>experiment=%{marker.size}",
         "legendgroup": "label=test_subject_10",
         "marker": {
          "color": "#FECB52",
          "size": [
           0.0125,
           0.025
          ],
          "sizemode": "area",
          "sizeref": 6.25e-05,
          "symbol": "circle"
         },
         "mode": "markers",
         "name": "label=test_subject_10",
         "scene": "scene",
         "showlegend": true,
         "type": "scatter3d",
         "x": [
          0.1130414856192552,
          1.2359318398978159
         ],
         "y": [
          -2.996806090593549,
          -3.681446551393179
         ],
         "z": [
          -1.816601540664576,
          -2.3448022052028437
         ]
        },
        {
         "hoverlabel": {
          "namelength": 0
         },
         "hovertemplate": "label=test_subject_11<br>component 1=%{x}<br>component 2=%{y}<br>component 3=%{z}<br>experiment=%{marker.size}",
         "legendgroup": "label=test_subject_11",
         "marker": {
          "color": "#636efa",
          "size": [
           0.0125,
           0.025
          ],
          "sizemode": "area",
          "sizeref": 6.25e-05,
          "symbol": "circle"
         },
         "mode": "markers",
         "name": "label=test_subject_11",
         "scene": "scene",
         "showlegend": true,
         "type": "scatter3d",
         "x": [
          -2.547850106218597,
          0.7732071261809014
         ],
         "y": [
          1.4841758410054255,
          -0.942434431036285
         ],
         "z": [
          3.0741066164534327,
          0.8974425797334982
         ]
        },
        {
         "hoverlabel": {
          "namelength": 0
         },
         "hovertemplate": "label=test_subject_12<br>component 1=%{x}<br>component 2=%{y}<br>component 3=%{z}<br>experiment=%{marker.size}",
         "legendgroup": "label=test_subject_12",
         "marker": {
          "color": "#EF553B",
          "size": [
           0.0125,
           0.025
          ],
          "sizemode": "area",
          "sizeref": 6.25e-05,
          "symbol": "circle"
         },
         "mode": "markers",
         "name": "label=test_subject_12",
         "scene": "scene",
         "showlegend": true,
         "type": "scatter3d",
         "x": [
          -0.712396345767312,
          -1.983390251778963
         ],
         "y": [
          -1.3573441500365473,
          1.4782929201226211
         ],
         "z": [
          1.945307205495713,
          0.06428027643237813
         ]
        },
        {
         "hoverlabel": {
          "namelength": 0
         },
         "hovertemplate": "label=test_subject_13<br>component 1=%{x}<br>component 2=%{y}<br>component 3=%{z}<br>experiment=%{marker.size}",
         "legendgroup": "label=test_subject_13",
         "marker": {
          "color": "#00cc96",
          "size": [
           0.0125,
           0.025
          ],
          "sizemode": "area",
          "sizeref": 6.25e-05,
          "symbol": "circle"
         },
         "mode": "markers",
         "name": "label=test_subject_13",
         "scene": "scene",
         "showlegend": true,
         "type": "scatter3d",
         "x": [
          -4.341118445213055,
          -3.4198500070191455
         ],
         "y": [
          5.65930246802963,
          4.904592459275439
         ],
         "z": [
          1.3809444260853916,
          1.7150195332511056
         ]
        },
        {
         "hoverlabel": {
          "namelength": 0
         },
         "hovertemplate": "label=test_subject_14<br>component 1=%{x}<br>component 2=%{y}<br>component 3=%{z}<br>experiment=%{marker.size}",
         "legendgroup": "label=test_subject_14",
         "marker": {
          "color": "#ab63fa",
          "size": [
           0.0125,
           0.025
          ],
          "sizemode": "area",
          "sizeref": 6.25e-05,
          "symbol": "circle"
         },
         "mode": "markers",
         "name": "label=test_subject_14",
         "scene": "scene",
         "showlegend": true,
         "type": "scatter3d",
         "x": [
          -2.776102453791006,
          -3.177135592261746
         ],
         "y": [
          1.2170155148380604,
          0.13022155529510598
         ],
         "z": [
          -0.9854620465395192,
          -2.391146812659056
         ]
        },
        {
         "hoverlabel": {
          "namelength": 0
         },
         "hovertemplate": "label=test_subject_15<br>component 1=%{x}<br>component 2=%{y}<br>component 3=%{z}<br>experiment=%{marker.size}",
         "legendgroup": "label=test_subject_15",
         "marker": {
          "color": "#FFA15A",
          "size": [
           0.0125,
           0.025
          ],
          "sizemode": "area",
          "sizeref": 6.25e-05,
          "symbol": "circle"
         },
         "mode": "markers",
         "name": "label=test_subject_15",
         "scene": "scene",
         "showlegend": true,
         "type": "scatter3d",
         "x": [
          -3.8327083342951944,
          -2.4979912237143718
         ],
         "y": [
          0.6707431180400593,
          0.19494737466602796
         ],
         "z": [
          -1.7334209706865613,
          -1.6783856206193584
         ]
        },
        {
         "hoverlabel": {
          "namelength": 0
         },
         "hovertemplate": "label=test_subject_16<br>component 1=%{x}<br>component 2=%{y}<br>component 3=%{z}<br>experiment=%{marker.size}",
         "legendgroup": "label=test_subject_16",
         "marker": {
          "color": "#19d3f3",
          "size": [
           0.0125,
           0.025
          ],
          "sizemode": "area",
          "sizeref": 6.25e-05,
          "symbol": "circle"
         },
         "mode": "markers",
         "name": "label=test_subject_16",
         "scene": "scene",
         "showlegend": true,
         "type": "scatter3d",
         "x": [
          -1.4819807946938661,
          0.6581798299215561
         ],
         "y": [
          -1.3658880789190206,
          -2.627680787000904
         ],
         "z": [
          -1.3673939447442522,
          -0.8881489748988239
         ]
        },
        {
         "hoverlabel": {
          "namelength": 0
         },
         "hovertemplate": "label=test_subject_17<br>component 1=%{x}<br>component 2=%{y}<br>component 3=%{z}<br>experiment=%{marker.size}",
         "legendgroup": "label=test_subject_17",
         "marker": {
          "color": "#FF6692",
          "size": [
           0.0125,
           0.025
          ],
          "sizemode": "area",
          "sizeref": 6.25e-05,
          "symbol": "circle"
         },
         "mode": "markers",
         "name": "label=test_subject_17",
         "scene": "scene",
         "showlegend": true,
         "type": "scatter3d",
         "x": [
          -1.3718433985246579,
          -2.928686530241559
         ],
         "y": [
          -1.4175359410714845,
          -1.1806468199918072
         ],
         "z": [
          -2.9399885474739524,
          -4.3253670550837136
         ]
        },
        {
         "hoverlabel": {
          "namelength": 0
         },
         "hovertemplate": "label=test_subject_18<br>component 1=%{x}<br>component 2=%{y}<br>component 3=%{z}<br>experiment=%{marker.size}",
         "legendgroup": "label=test_subject_18",
         "marker": {
          "color": "#B6E880",
          "size": [
           0.0125,
           0.025
          ],
          "sizemode": "area",
          "sizeref": 6.25e-05,
          "symbol": "circle"
         },
         "mode": "markers",
         "name": "label=test_subject_18",
         "scene": "scene",
         "showlegend": true,
         "type": "scatter3d",
         "x": [
          -1.33695164570846,
          -0.43802497034027754
         ],
         "y": [
          -1.435492755828659,
          -1.462326599069355
         ],
         "z": [
          -1.6714427076980345,
          -2.6468943789070973
         ]
        },
        {
         "hoverlabel": {
          "namelength": 0
         },
         "hovertemplate": "label=test_subject_19<br>component 1=%{x}<br>component 2=%{y}<br>component 3=%{z}<br>experiment=%{marker.size}",
         "legendgroup": "label=test_subject_19",
         "marker": {
          "color": "#FF97FF",
          "size": [
           0.0125,
           0.025
          ],
          "sizemode": "area",
          "sizeref": 6.25e-05,
          "symbol": "circle"
         },
         "mode": "markers",
         "name": "label=test_subject_19",
         "scene": "scene",
         "showlegend": true,
         "type": "scatter3d",
         "x": [
          3.4424072708306666,
          2.444992607778542
         ],
         "y": [
          -3.1060337717834448,
          -3.2706470304949113
         ],
         "z": [
          3.0978680519970734,
          0.5697367830801574
         ]
        },
        {
         "hoverlabel": {
          "namelength": 0
         },
         "hovertemplate": "label=test_subject_20<br>component 1=%{x}<br>component 2=%{y}<br>component 3=%{z}<br>experiment=%{marker.size}",
         "legendgroup": "label=test_subject_20",
         "marker": {
          "color": "#FECB52",
          "size": [
           0.0125,
           0.025
          ],
          "sizemode": "area",
          "sizeref": 6.25e-05,
          "symbol": "circle"
         },
         "mode": "markers",
         "name": "label=test_subject_20",
         "scene": "scene",
         "showlegend": true,
         "type": "scatter3d",
         "x": [
          -2.0176069649198594,
          -1.8216107341633936
         ],
         "y": [
          -2.307312171254772,
          -1.6901833966138826
         ],
         "z": [
          -3.4510713453994044,
          -3.373683762654856
         ]
        },
        {
         "hoverlabel": {
          "namelength": 0
         },
         "hovertemplate": "label=test_subject_21<br>component 1=%{x}<br>component 2=%{y}<br>component 3=%{z}<br>experiment=%{marker.size}",
         "legendgroup": "label=test_subject_21",
         "marker": {
          "color": "#636efa",
          "size": [
           0.0125,
           0.025
          ],
          "sizemode": "area",
          "sizeref": 6.25e-05,
          "symbol": "circle"
         },
         "mode": "markers",
         "name": "label=test_subject_21",
         "scene": "scene",
         "showlegend": true,
         "type": "scatter3d",
         "x": [
          -3.3329005746336593,
          0.2307826220461928
         ],
         "y": [
          2.551251424769497,
          -0.575822895008221
         ],
         "z": [
          0.9449228076857072,
          0.5953958372368391
         ]
        }
       ],
       "layout": {
        "height": 600,
        "legend": {
         "itemsizing": "constant",
         "tracegroupgap": 0
        },
        "margin": {
         "t": 60
        },
        "scene": {
         "domain": {
          "x": [
           0,
           0.98
          ],
          "y": [
           0,
           1
          ]
         },
         "xaxis": {
          "title": {
           "text": "component 1"
          }
         },
         "yaxis": {
          "title": {
           "text": "component 2"
          }
         },
         "zaxis": {
          "title": {
           "text": "component 3"
          }
         }
        },
        "template": {
         "data": {
          "bar": [
           {
            "error_x": {
             "color": "#2a3f5f"
            },
            "error_y": {
             "color": "#2a3f5f"
            },
            "marker": {
             "line": {
              "color": "#E5ECF6",
              "width": 0.5
             }
            },
            "type": "bar"
           }
          ],
          "barpolar": [
           {
            "marker": {
             "line": {
              "color": "#E5ECF6",
              "width": 0.5
             }
            },
            "type": "barpolar"
           }
          ],
          "carpet": [
           {
            "aaxis": {
             "endlinecolor": "#2a3f5f",
             "gridcolor": "white",
             "linecolor": "white",
             "minorgridcolor": "white",
             "startlinecolor": "#2a3f5f"
            },
            "baxis": {
             "endlinecolor": "#2a3f5f",
             "gridcolor": "white",
             "linecolor": "white",
             "minorgridcolor": "white",
             "startlinecolor": "#2a3f5f"
            },
            "type": "carpet"
           }
          ],
          "choropleth": [
           {
            "colorbar": {
             "outlinewidth": 0,
             "ticks": ""
            },
            "type": "choropleth"
           }
          ],
          "contour": [
           {
            "colorbar": {
             "outlinewidth": 0,
             "ticks": ""
            },
            "colorscale": [
             [
              0,
              "#0d0887"
             ],
             [
              0.1111111111111111,
              "#46039f"
             ],
             [
              0.2222222222222222,
              "#7201a8"
             ],
             [
              0.3333333333333333,
              "#9c179e"
             ],
             [
              0.4444444444444444,
              "#bd3786"
             ],
             [
              0.5555555555555556,
              "#d8576b"
             ],
             [
              0.6666666666666666,
              "#ed7953"
             ],
             [
              0.7777777777777778,
              "#fb9f3a"
             ],
             [
              0.8888888888888888,
              "#fdca26"
             ],
             [
              1,
              "#f0f921"
             ]
            ],
            "type": "contour"
           }
          ],
          "contourcarpet": [
           {
            "colorbar": {
             "outlinewidth": 0,
             "ticks": ""
            },
            "type": "contourcarpet"
           }
          ],
          "heatmap": [
           {
            "colorbar": {
             "outlinewidth": 0,
             "ticks": ""
            },
            "colorscale": [
             [
              0,
              "#0d0887"
             ],
             [
              0.1111111111111111,
              "#46039f"
             ],
             [
              0.2222222222222222,
              "#7201a8"
             ],
             [
              0.3333333333333333,
              "#9c179e"
             ],
             [
              0.4444444444444444,
              "#bd3786"
             ],
             [
              0.5555555555555556,
              "#d8576b"
             ],
             [
              0.6666666666666666,
              "#ed7953"
             ],
             [
              0.7777777777777778,
              "#fb9f3a"
             ],
             [
              0.8888888888888888,
              "#fdca26"
             ],
             [
              1,
              "#f0f921"
             ]
            ],
            "type": "heatmap"
           }
          ],
          "heatmapgl": [
           {
            "colorbar": {
             "outlinewidth": 0,
             "ticks": ""
            },
            "colorscale": [
             [
              0,
              "#0d0887"
             ],
             [
              0.1111111111111111,
              "#46039f"
             ],
             [
              0.2222222222222222,
              "#7201a8"
             ],
             [
              0.3333333333333333,
              "#9c179e"
             ],
             [
              0.4444444444444444,
              "#bd3786"
             ],
             [
              0.5555555555555556,
              "#d8576b"
             ],
             [
              0.6666666666666666,
              "#ed7953"
             ],
             [
              0.7777777777777778,
              "#fb9f3a"
             ],
             [
              0.8888888888888888,
              "#fdca26"
             ],
             [
              1,
              "#f0f921"
             ]
            ],
            "type": "heatmapgl"
           }
          ],
          "histogram": [
           {
            "marker": {
             "colorbar": {
              "outlinewidth": 0,
              "ticks": ""
             }
            },
            "type": "histogram"
           }
          ],
          "histogram2d": [
           {
            "colorbar": {
             "outlinewidth": 0,
             "ticks": ""
            },
            "colorscale": [
             [
              0,
              "#0d0887"
             ],
             [
              0.1111111111111111,
              "#46039f"
             ],
             [
              0.2222222222222222,
              "#7201a8"
             ],
             [
              0.3333333333333333,
              "#9c179e"
             ],
             [
              0.4444444444444444,
              "#bd3786"
             ],
             [
              0.5555555555555556,
              "#d8576b"
             ],
             [
              0.6666666666666666,
              "#ed7953"
             ],
             [
              0.7777777777777778,
              "#fb9f3a"
             ],
             [
              0.8888888888888888,
              "#fdca26"
             ],
             [
              1,
              "#f0f921"
             ]
            ],
            "type": "histogram2d"
           }
          ],
          "histogram2dcontour": [
           {
            "colorbar": {
             "outlinewidth": 0,
             "ticks": ""
            },
            "colorscale": [
             [
              0,
              "#0d0887"
             ],
             [
              0.1111111111111111,
              "#46039f"
             ],
             [
              0.2222222222222222,
              "#7201a8"
             ],
             [
              0.3333333333333333,
              "#9c179e"
             ],
             [
              0.4444444444444444,
              "#bd3786"
             ],
             [
              0.5555555555555556,
              "#d8576b"
             ],
             [
              0.6666666666666666,
              "#ed7953"
             ],
             [
              0.7777777777777778,
              "#fb9f3a"
             ],
             [
              0.8888888888888888,
              "#fdca26"
             ],
             [
              1,
              "#f0f921"
             ]
            ],
            "type": "histogram2dcontour"
           }
          ],
          "mesh3d": [
           {
            "colorbar": {
             "outlinewidth": 0,
             "ticks": ""
            },
            "type": "mesh3d"
           }
          ],
          "parcoords": [
           {
            "line": {
             "colorbar": {
              "outlinewidth": 0,
              "ticks": ""
             }
            },
            "type": "parcoords"
           }
          ],
          "scatter": [
           {
            "marker": {
             "colorbar": {
              "outlinewidth": 0,
              "ticks": ""
             }
            },
            "type": "scatter"
           }
          ],
          "scatter3d": [
           {
            "line": {
             "colorbar": {
              "outlinewidth": 0,
              "ticks": ""
             }
            },
            "marker": {
             "colorbar": {
              "outlinewidth": 0,
              "ticks": ""
             }
            },
            "type": "scatter3d"
           }
          ],
          "scattercarpet": [
           {
            "marker": {
             "colorbar": {
              "outlinewidth": 0,
              "ticks": ""
             }
            },
            "type": "scattercarpet"
           }
          ],
          "scattergeo": [
           {
            "marker": {
             "colorbar": {
              "outlinewidth": 0,
              "ticks": ""
             }
            },
            "type": "scattergeo"
           }
          ],
          "scattergl": [
           {
            "marker": {
             "colorbar": {
              "outlinewidth": 0,
              "ticks": ""
             }
            },
            "type": "scattergl"
           }
          ],
          "scattermapbox": [
           {
            "marker": {
             "colorbar": {
              "outlinewidth": 0,
              "ticks": ""
             }
            },
            "type": "scattermapbox"
           }
          ],
          "scatterpolar": [
           {
            "marker": {
             "colorbar": {
              "outlinewidth": 0,
              "ticks": ""
             }
            },
            "type": "scatterpolar"
           }
          ],
          "scatterpolargl": [
           {
            "marker": {
             "colorbar": {
              "outlinewidth": 0,
              "ticks": ""
             }
            },
            "type": "scatterpolargl"
           }
          ],
          "scatterternary": [
           {
            "marker": {
             "colorbar": {
              "outlinewidth": 0,
              "ticks": ""
             }
            },
            "type": "scatterternary"
           }
          ],
          "surface": [
           {
            "colorbar": {
             "outlinewidth": 0,
             "ticks": ""
            },
            "colorscale": [
             [
              0,
              "#0d0887"
             ],
             [
              0.1111111111111111,
              "#46039f"
             ],
             [
              0.2222222222222222,
              "#7201a8"
             ],
             [
              0.3333333333333333,
              "#9c179e"
             ],
             [
              0.4444444444444444,
              "#bd3786"
             ],
             [
              0.5555555555555556,
              "#d8576b"
             ],
             [
              0.6666666666666666,
              "#ed7953"
             ],
             [
              0.7777777777777778,
              "#fb9f3a"
             ],
             [
              0.8888888888888888,
              "#fdca26"
             ],
             [
              1,
              "#f0f921"
             ]
            ],
            "type": "surface"
           }
          ],
          "table": [
           {
            "cells": {
             "fill": {
              "color": "#EBF0F8"
             },
             "line": {
              "color": "white"
             }
            },
            "header": {
             "fill": {
              "color": "#C8D4E3"
             },
             "line": {
              "color": "white"
             }
            },
            "type": "table"
           }
          ]
         },
         "layout": {
          "annotationdefaults": {
           "arrowcolor": "#2a3f5f",
           "arrowhead": 0,
           "arrowwidth": 1
          },
          "colorscale": {
           "diverging": [
            [
             0,
             "#8e0152"
            ],
            [
             0.1,
             "#c51b7d"
            ],
            [
             0.2,
             "#de77ae"
            ],
            [
             0.3,
             "#f1b6da"
            ],
            [
             0.4,
             "#fde0ef"
            ],
            [
             0.5,
             "#f7f7f7"
            ],
            [
             0.6,
             "#e6f5d0"
            ],
            [
             0.7,
             "#b8e186"
            ],
            [
             0.8,
             "#7fbc41"
            ],
            [
             0.9,
             "#4d9221"
            ],
            [
             1,
             "#276419"
            ]
           ],
           "sequential": [
            [
             0,
             "#0d0887"
            ],
            [
             0.1111111111111111,
             "#46039f"
            ],
            [
             0.2222222222222222,
             "#7201a8"
            ],
            [
             0.3333333333333333,
             "#9c179e"
            ],
            [
             0.4444444444444444,
             "#bd3786"
            ],
            [
             0.5555555555555556,
             "#d8576b"
            ],
            [
             0.6666666666666666,
             "#ed7953"
            ],
            [
             0.7777777777777778,
             "#fb9f3a"
            ],
            [
             0.8888888888888888,
             "#fdca26"
            ],
            [
             1,
             "#f0f921"
            ]
           ],
           "sequentialminus": [
            [
             0,
             "#0d0887"
            ],
            [
             0.1111111111111111,
             "#46039f"
            ],
            [
             0.2222222222222222,
             "#7201a8"
            ],
            [
             0.3333333333333333,
             "#9c179e"
            ],
            [
             0.4444444444444444,
             "#bd3786"
            ],
            [
             0.5555555555555556,
             "#d8576b"
            ],
            [
             0.6666666666666666,
             "#ed7953"
            ],
            [
             0.7777777777777778,
             "#fb9f3a"
            ],
            [
             0.8888888888888888,
             "#fdca26"
            ],
            [
             1,
             "#f0f921"
            ]
           ]
          },
          "colorway": [
           "#636efa",
           "#EF553B",
           "#00cc96",
           "#ab63fa",
           "#FFA15A",
           "#19d3f3",
           "#FF6692",
           "#B6E880",
           "#FF97FF",
           "#FECB52"
          ],
          "font": {
           "color": "#2a3f5f"
          },
          "geo": {
           "bgcolor": "white",
           "lakecolor": "white",
           "landcolor": "#E5ECF6",
           "showlakes": true,
           "showland": true,
           "subunitcolor": "white"
          },
          "hoverlabel": {
           "align": "left"
          },
          "hovermode": "closest",
          "mapbox": {
           "style": "light"
          },
          "paper_bgcolor": "white",
          "plot_bgcolor": "#E5ECF6",
          "polar": {
           "angularaxis": {
            "gridcolor": "white",
            "linecolor": "white",
            "ticks": ""
           },
           "bgcolor": "#E5ECF6",
           "radialaxis": {
            "gridcolor": "white",
            "linecolor": "white",
            "ticks": ""
           }
          },
          "scene": {
           "xaxis": {
            "backgroundcolor": "#E5ECF6",
            "gridcolor": "white",
            "gridwidth": 2,
            "linecolor": "white",
            "showbackground": true,
            "ticks": "",
            "zerolinecolor": "white"
           },
           "yaxis": {
            "backgroundcolor": "#E5ECF6",
            "gridcolor": "white",
            "gridwidth": 2,
            "linecolor": "white",
            "showbackground": true,
            "ticks": "",
            "zerolinecolor": "white"
           },
           "zaxis": {
            "backgroundcolor": "#E5ECF6",
            "gridcolor": "white",
            "gridwidth": 2,
            "linecolor": "white",
            "showbackground": true,
            "ticks": "",
            "zerolinecolor": "white"
           }
          },
          "shapedefaults": {
           "line": {
            "color": "#2a3f5f"
           }
          },
          "ternary": {
           "aaxis": {
            "gridcolor": "white",
            "linecolor": "white",
            "ticks": ""
           },
           "baxis": {
            "gridcolor": "white",
            "linecolor": "white",
            "ticks": ""
           },
           "bgcolor": "#E5ECF6",
           "caxis": {
            "gridcolor": "white",
            "linecolor": "white",
            "ticks": ""
           }
          },
          "title": {
           "x": 0.05
          },
          "xaxis": {
           "automargin": true,
           "gridcolor": "white",
           "linecolor": "white",
           "ticks": "",
           "zerolinecolor": "white",
           "zerolinewidth": 2
          },
          "yaxis": {
           "automargin": true,
           "gridcolor": "white",
           "linecolor": "white",
           "ticks": "",
           "zerolinecolor": "white",
           "zerolinewidth": 2
          }
         }
        }
       }
      },
      "text/html": [
       "<div>\n",
       "        \n",
       "        \n",
       "            <div id=\"a1587cfd-70ff-4fdf-94bf-89727448b77c\" class=\"plotly-graph-div\" style=\"height:600px; width:100%;\"></div>\n",
       "            <script type=\"text/javascript\">\n",
       "                require([\"plotly\"], function(Plotly) {\n",
       "                    window.PLOTLYENV=window.PLOTLYENV || {};\n",
       "                    \n",
       "                if (document.getElementById(\"a1587cfd-70ff-4fdf-94bf-89727448b77c\")) {\n",
       "                    Plotly.newPlot(\n",
       "                        'a1587cfd-70ff-4fdf-94bf-89727448b77c',\n",
       "                        [{\"hoverlabel\": {\"namelength\": 0}, \"hovertemplate\": \"label=test_subject_01<br>component 1=%{x}<br>component 2=%{y}<br>component 3=%{z}<br>experiment=%{marker.size}\", \"legendgroup\": \"label=test_subject_01\", \"marker\": {\"color\": \"#636efa\", \"size\": [0.0125, 0.025], \"sizemode\": \"area\", \"sizeref\": 6.25e-05, \"symbol\": \"circle\"}, \"mode\": \"markers\", \"name\": \"label=test_subject_01\", \"scene\": \"scene\", \"showlegend\": true, \"type\": \"scatter3d\", \"x\": [2.712553719183644, 2.138108937436931], \"y\": [0.06460483655729415, -3.1016236452238903], \"z\": [7.556621857142529, 2.620155949993303]}, {\"hoverlabel\": {\"namelength\": 0}, \"hovertemplate\": \"label=test_subject_02<br>component 1=%{x}<br>component 2=%{y}<br>component 3=%{z}<br>experiment=%{marker.size}\", \"legendgroup\": \"label=test_subject_02\", \"marker\": {\"color\": \"#EF553B\", \"size\": [0.0125, 0.025], \"sizemode\": \"area\", \"sizeref\": 6.25e-05, \"symbol\": \"circle\"}, \"mode\": \"markers\", \"name\": \"label=test_subject_02\", \"scene\": \"scene\", \"showlegend\": true, \"type\": \"scatter3d\", \"x\": [6.015659395466363, 3.009435157026454], \"y\": [-3.4031341750580144, -2.5550348666460496], \"z\": [4.638231658835808, 3.470019296269418]}, {\"hoverlabel\": {\"namelength\": 0}, \"hovertemplate\": \"label=test_subject_03<br>component 1=%{x}<br>component 2=%{y}<br>component 3=%{z}<br>experiment=%{marker.size}\", \"legendgroup\": \"label=test_subject_03\", \"marker\": {\"color\": \"#00cc96\", \"size\": [0.0125, 0.025], \"sizemode\": \"area\", \"sizeref\": 6.25e-05, \"symbol\": \"circle\"}, \"mode\": \"markers\", \"name\": \"label=test_subject_03\", \"scene\": \"scene\", \"showlegend\": true, \"type\": \"scatter3d\", \"x\": [9.164002497742898, 9.621465605203136], \"y\": [5.005670547411862, 3.5771340501260016], \"z\": [-2.5376787895956285, -3.3138067551958064]}, {\"hoverlabel\": {\"namelength\": 0}, \"hovertemplate\": \"label=test_subject_04<br>component 1=%{x}<br>component 2=%{y}<br>component 3=%{z}<br>experiment=%{marker.size}\", \"legendgroup\": \"label=test_subject_04\", \"marker\": {\"color\": \"#ab63fa\", \"size\": [0.0125, 0.025], \"sizemode\": \"area\", \"sizeref\": 6.25e-05, \"symbol\": \"circle\"}, \"mode\": \"markers\", \"name\": \"label=test_subject_04\", \"scene\": \"scene\", \"showlegend\": true, \"type\": \"scatter3d\", \"x\": [-0.6345323753317403, 1.0521436771359653], \"y\": [-0.5168440111427778, -2.8388798275358806], \"z\": [-0.5886664347026604, -1.6187265236144142]}, {\"hoverlabel\": {\"namelength\": 0}, \"hovertemplate\": \"label=test_subject_05<br>component 1=%{x}<br>component 2=%{y}<br>component 3=%{z}<br>experiment=%{marker.size}\", \"legendgroup\": \"label=test_subject_05\", \"marker\": {\"color\": \"#FFA15A\", \"size\": [0.0125, 0.025], \"sizemode\": \"area\", \"sizeref\": 6.25e-05, \"symbol\": \"circle\"}, \"mode\": \"markers\", \"name\": \"label=test_subject_05\", \"scene\": \"scene\", \"showlegend\": true, \"type\": \"scatter3d\", \"x\": [-0.2913483530760751, 1.1835926078270433], \"y\": [-0.30635073685473907, -3.183543651114784], \"z\": [0.0789803043328801, -1.381212428983867]}, {\"hoverlabel\": {\"namelength\": 0}, \"hovertemplate\": \"label=test_subject_06<br>component 1=%{x}<br>component 2=%{y}<br>component 3=%{z}<br>experiment=%{marker.size}\", \"legendgroup\": \"label=test_subject_06\", \"marker\": {\"color\": \"#19d3f3\", \"size\": [0.0125, 0.025], \"sizemode\": \"area\", \"sizeref\": 6.25e-05, \"symbol\": \"circle\"}, \"mode\": \"markers\", \"name\": \"label=test_subject_06\", \"scene\": \"scene\", \"showlegend\": true, \"type\": \"scatter3d\", \"x\": [-1.9462604983782628, 6.688787047303867], \"y\": [3.1992258929444035, 6.992436365412159], \"z\": [0.7479682021244961, -4.657947245893488]}, {\"hoverlabel\": {\"namelength\": 0}, \"hovertemplate\": \"label=test_subject_07<br>component 1=%{x}<br>component 2=%{y}<br>component 3=%{z}<br>experiment=%{marker.size}\", \"legendgroup\": \"label=test_subject_07\", \"marker\": {\"color\": \"#FF6692\", \"size\": [0.0125, 0.025], \"sizemode\": \"area\", \"sizeref\": 6.25e-05, \"symbol\": \"circle\"}, \"mode\": \"markers\", \"name\": \"label=test_subject_07\", \"scene\": \"scene\", \"showlegend\": true, \"type\": \"scatter3d\", \"x\": [-1.1864849183369, -0.6585724037123638], \"y\": [3.4151548391106323, 2.989268494523921], \"z\": [2.925911717305752, 1.7465223674347408]}, {\"hoverlabel\": {\"namelength\": 0}, \"hovertemplate\": \"label=test_subject_08<br>component 1=%{x}<br>component 2=%{y}<br>component 3=%{z}<br>experiment=%{marker.size}\", \"legendgroup\": \"label=test_subject_08\", \"marker\": {\"color\": \"#B6E880\", \"size\": [0.0125, 0.025], \"sizemode\": \"area\", \"sizeref\": 6.25e-05, \"symbol\": \"circle\"}, \"mode\": \"markers\", \"name\": \"label=test_subject_08\", \"scene\": \"scene\", \"showlegend\": true, \"type\": \"scatter3d\", \"x\": [-1.5877262443908573, -0.9121911299211373], \"y\": [0.9954667048144438, -0.5693178342005549], \"z\": [0.8824269801044468, 2.2527935190089905]}, {\"hoverlabel\": {\"namelength\": 0}, \"hovertemplate\": \"label=test_subject_09<br>component 1=%{x}<br>component 2=%{y}<br>component 3=%{z}<br>experiment=%{marker.size}\", \"legendgroup\": \"label=test_subject_09\", \"marker\": {\"color\": \"#FF97FF\", \"size\": [0.0125, 0.025], \"sizemode\": \"area\", \"sizeref\": 6.25e-05, \"symbol\": \"circle\"}, \"mode\": \"markers\", \"name\": \"label=test_subject_09\", \"scene\": \"scene\", \"showlegend\": true, \"type\": \"scatter3d\", \"x\": [-1.7208561933119044, -1.528170936856864], \"y\": [-0.9078288703572506, 2.2706546812873962], \"z\": [-0.07572287163346507, 4.582914992847729]}, {\"hoverlabel\": {\"namelength\": 0}, \"hovertemplate\": \"label=test_subject_10<br>component 1=%{x}<br>component 2=%{y}<br>component 3=%{z}<br>experiment=%{marker.size}\", \"legendgroup\": \"label=test_subject_10\", \"marker\": {\"color\": \"#FECB52\", \"size\": [0.0125, 0.025], \"sizemode\": \"area\", \"sizeref\": 6.25e-05, \"symbol\": \"circle\"}, \"mode\": \"markers\", \"name\": \"label=test_subject_10\", \"scene\": \"scene\", \"showlegend\": true, \"type\": \"scatter3d\", \"x\": [0.1130414856192552, 1.2359318398978159], \"y\": [-2.996806090593549, -3.681446551393179], \"z\": [-1.816601540664576, -2.3448022052028437]}, {\"hoverlabel\": {\"namelength\": 0}, \"hovertemplate\": \"label=test_subject_11<br>component 1=%{x}<br>component 2=%{y}<br>component 3=%{z}<br>experiment=%{marker.size}\", \"legendgroup\": \"label=test_subject_11\", \"marker\": {\"color\": \"#636efa\", \"size\": [0.0125, 0.025], \"sizemode\": \"area\", \"sizeref\": 6.25e-05, \"symbol\": \"circle\"}, \"mode\": \"markers\", \"name\": \"label=test_subject_11\", \"scene\": \"scene\", \"showlegend\": true, \"type\": \"scatter3d\", \"x\": [-2.547850106218597, 0.7732071261809014], \"y\": [1.4841758410054255, -0.942434431036285], \"z\": [3.0741066164534327, 0.8974425797334982]}, {\"hoverlabel\": {\"namelength\": 0}, \"hovertemplate\": \"label=test_subject_12<br>component 1=%{x}<br>component 2=%{y}<br>component 3=%{z}<br>experiment=%{marker.size}\", \"legendgroup\": \"label=test_subject_12\", \"marker\": {\"color\": \"#EF553B\", \"size\": [0.0125, 0.025], \"sizemode\": \"area\", \"sizeref\": 6.25e-05, \"symbol\": \"circle\"}, \"mode\": \"markers\", \"name\": \"label=test_subject_12\", \"scene\": \"scene\", \"showlegend\": true, \"type\": \"scatter3d\", \"x\": [-0.712396345767312, -1.983390251778963], \"y\": [-1.3573441500365473, 1.4782929201226211], \"z\": [1.945307205495713, 0.06428027643237813]}, {\"hoverlabel\": {\"namelength\": 0}, \"hovertemplate\": \"label=test_subject_13<br>component 1=%{x}<br>component 2=%{y}<br>component 3=%{z}<br>experiment=%{marker.size}\", \"legendgroup\": \"label=test_subject_13\", \"marker\": {\"color\": \"#00cc96\", \"size\": [0.0125, 0.025], \"sizemode\": \"area\", \"sizeref\": 6.25e-05, \"symbol\": \"circle\"}, \"mode\": \"markers\", \"name\": \"label=test_subject_13\", \"scene\": \"scene\", \"showlegend\": true, \"type\": \"scatter3d\", \"x\": [-4.341118445213055, -3.4198500070191455], \"y\": [5.65930246802963, 4.904592459275439], \"z\": [1.3809444260853916, 1.7150195332511056]}, {\"hoverlabel\": {\"namelength\": 0}, \"hovertemplate\": \"label=test_subject_14<br>component 1=%{x}<br>component 2=%{y}<br>component 3=%{z}<br>experiment=%{marker.size}\", \"legendgroup\": \"label=test_subject_14\", \"marker\": {\"color\": \"#ab63fa\", \"size\": [0.0125, 0.025], \"sizemode\": \"area\", \"sizeref\": 6.25e-05, \"symbol\": \"circle\"}, \"mode\": \"markers\", \"name\": \"label=test_subject_14\", \"scene\": \"scene\", \"showlegend\": true, \"type\": \"scatter3d\", \"x\": [-2.776102453791006, -3.177135592261746], \"y\": [1.2170155148380604, 0.13022155529510598], \"z\": [-0.9854620465395192, -2.391146812659056]}, {\"hoverlabel\": {\"namelength\": 0}, \"hovertemplate\": \"label=test_subject_15<br>component 1=%{x}<br>component 2=%{y}<br>component 3=%{z}<br>experiment=%{marker.size}\", \"legendgroup\": \"label=test_subject_15\", \"marker\": {\"color\": \"#FFA15A\", \"size\": [0.0125, 0.025], \"sizemode\": \"area\", \"sizeref\": 6.25e-05, \"symbol\": \"circle\"}, \"mode\": \"markers\", \"name\": \"label=test_subject_15\", \"scene\": \"scene\", \"showlegend\": true, \"type\": \"scatter3d\", \"x\": [-3.8327083342951944, -2.4979912237143718], \"y\": [0.6707431180400593, 0.19494737466602796], \"z\": [-1.7334209706865613, -1.6783856206193584]}, {\"hoverlabel\": {\"namelength\": 0}, \"hovertemplate\": \"label=test_subject_16<br>component 1=%{x}<br>component 2=%{y}<br>component 3=%{z}<br>experiment=%{marker.size}\", \"legendgroup\": \"label=test_subject_16\", \"marker\": {\"color\": \"#19d3f3\", \"size\": [0.0125, 0.025], \"sizemode\": \"area\", \"sizeref\": 6.25e-05, \"symbol\": \"circle\"}, \"mode\": \"markers\", \"name\": \"label=test_subject_16\", \"scene\": \"scene\", \"showlegend\": true, \"type\": \"scatter3d\", \"x\": [-1.4819807946938661, 0.6581798299215561], \"y\": [-1.3658880789190206, -2.627680787000904], \"z\": [-1.3673939447442522, -0.8881489748988239]}, {\"hoverlabel\": {\"namelength\": 0}, \"hovertemplate\": \"label=test_subject_17<br>component 1=%{x}<br>component 2=%{y}<br>component 3=%{z}<br>experiment=%{marker.size}\", \"legendgroup\": \"label=test_subject_17\", \"marker\": {\"color\": \"#FF6692\", \"size\": [0.0125, 0.025], \"sizemode\": \"area\", \"sizeref\": 6.25e-05, \"symbol\": \"circle\"}, \"mode\": \"markers\", \"name\": \"label=test_subject_17\", \"scene\": \"scene\", \"showlegend\": true, \"type\": \"scatter3d\", \"x\": [-1.3718433985246579, -2.928686530241559], \"y\": [-1.4175359410714845, -1.1806468199918072], \"z\": [-2.9399885474739524, -4.3253670550837136]}, {\"hoverlabel\": {\"namelength\": 0}, \"hovertemplate\": \"label=test_subject_18<br>component 1=%{x}<br>component 2=%{y}<br>component 3=%{z}<br>experiment=%{marker.size}\", \"legendgroup\": \"label=test_subject_18\", \"marker\": {\"color\": \"#B6E880\", \"size\": [0.0125, 0.025], \"sizemode\": \"area\", \"sizeref\": 6.25e-05, \"symbol\": \"circle\"}, \"mode\": \"markers\", \"name\": \"label=test_subject_18\", \"scene\": \"scene\", \"showlegend\": true, \"type\": \"scatter3d\", \"x\": [-1.33695164570846, -0.43802497034027754], \"y\": [-1.435492755828659, -1.462326599069355], \"z\": [-1.6714427076980345, -2.6468943789070973]}, {\"hoverlabel\": {\"namelength\": 0}, \"hovertemplate\": \"label=test_subject_19<br>component 1=%{x}<br>component 2=%{y}<br>component 3=%{z}<br>experiment=%{marker.size}\", \"legendgroup\": \"label=test_subject_19\", \"marker\": {\"color\": \"#FF97FF\", \"size\": [0.0125, 0.025], \"sizemode\": \"area\", \"sizeref\": 6.25e-05, \"symbol\": \"circle\"}, \"mode\": \"markers\", \"name\": \"label=test_subject_19\", \"scene\": \"scene\", \"showlegend\": true, \"type\": \"scatter3d\", \"x\": [3.4424072708306666, 2.444992607778542], \"y\": [-3.1060337717834448, -3.2706470304949113], \"z\": [3.0978680519970734, 0.5697367830801574]}, {\"hoverlabel\": {\"namelength\": 0}, \"hovertemplate\": \"label=test_subject_20<br>component 1=%{x}<br>component 2=%{y}<br>component 3=%{z}<br>experiment=%{marker.size}\", \"legendgroup\": \"label=test_subject_20\", \"marker\": {\"color\": \"#FECB52\", \"size\": [0.0125, 0.025], \"sizemode\": \"area\", \"sizeref\": 6.25e-05, \"symbol\": \"circle\"}, \"mode\": \"markers\", \"name\": \"label=test_subject_20\", \"scene\": \"scene\", \"showlegend\": true, \"type\": \"scatter3d\", \"x\": [-2.0176069649198594, -1.8216107341633936], \"y\": [-2.307312171254772, -1.6901833966138826], \"z\": [-3.4510713453994044, -3.373683762654856]}, {\"hoverlabel\": {\"namelength\": 0}, \"hovertemplate\": \"label=test_subject_21<br>component 1=%{x}<br>component 2=%{y}<br>component 3=%{z}<br>experiment=%{marker.size}\", \"legendgroup\": \"label=test_subject_21\", \"marker\": {\"color\": \"#636efa\", \"size\": [0.0125, 0.025], \"sizemode\": \"area\", \"sizeref\": 6.25e-05, \"symbol\": \"circle\"}, \"mode\": \"markers\", \"name\": \"label=test_subject_21\", \"scene\": \"scene\", \"showlegend\": true, \"type\": \"scatter3d\", \"x\": [-3.3329005746336593, 0.2307826220461928], \"y\": [2.551251424769497, -0.575822895008221], \"z\": [0.9449228076857072, 0.5953958372368391]}],\n",
       "                        {\"height\": 600, \"legend\": {\"itemsizing\": \"constant\", \"tracegroupgap\": 0}, \"margin\": {\"t\": 60}, \"scene\": {\"domain\": {\"x\": [0.0, 0.98], \"y\": [0.0, 1.0]}, \"xaxis\": {\"title\": {\"text\": \"component 1\"}}, \"yaxis\": {\"title\": {\"text\": \"component 2\"}}, \"zaxis\": {\"title\": {\"text\": \"component 3\"}}}, \"template\": {\"data\": {\"bar\": [{\"error_x\": {\"color\": \"#2a3f5f\"}, \"error_y\": {\"color\": \"#2a3f5f\"}, \"marker\": {\"line\": {\"color\": \"#E5ECF6\", \"width\": 0.5}}, \"type\": \"bar\"}], \"barpolar\": [{\"marker\": {\"line\": {\"color\": \"#E5ECF6\", \"width\": 0.5}}, \"type\": \"barpolar\"}], \"carpet\": [{\"aaxis\": {\"endlinecolor\": \"#2a3f5f\", \"gridcolor\": \"white\", \"linecolor\": \"white\", \"minorgridcolor\": \"white\", \"startlinecolor\": \"#2a3f5f\"}, \"baxis\": {\"endlinecolor\": \"#2a3f5f\", \"gridcolor\": \"white\", \"linecolor\": \"white\", \"minorgridcolor\": \"white\", \"startlinecolor\": \"#2a3f5f\"}, \"type\": \"carpet\"}], \"choropleth\": [{\"colorbar\": {\"outlinewidth\": 0, \"ticks\": \"\"}, \"type\": \"choropleth\"}], \"contour\": [{\"colorbar\": {\"outlinewidth\": 0, \"ticks\": \"\"}, \"colorscale\": [[0.0, \"#0d0887\"], [0.1111111111111111, \"#46039f\"], [0.2222222222222222, \"#7201a8\"], [0.3333333333333333, \"#9c179e\"], [0.4444444444444444, \"#bd3786\"], [0.5555555555555556, \"#d8576b\"], [0.6666666666666666, \"#ed7953\"], [0.7777777777777778, \"#fb9f3a\"], [0.8888888888888888, \"#fdca26\"], [1.0, \"#f0f921\"]], \"type\": \"contour\"}], \"contourcarpet\": [{\"colorbar\": {\"outlinewidth\": 0, \"ticks\": \"\"}, \"type\": \"contourcarpet\"}], \"heatmap\": [{\"colorbar\": {\"outlinewidth\": 0, \"ticks\": \"\"}, \"colorscale\": [[0.0, \"#0d0887\"], [0.1111111111111111, \"#46039f\"], [0.2222222222222222, \"#7201a8\"], [0.3333333333333333, \"#9c179e\"], [0.4444444444444444, \"#bd3786\"], [0.5555555555555556, \"#d8576b\"], [0.6666666666666666, \"#ed7953\"], [0.7777777777777778, \"#fb9f3a\"], [0.8888888888888888, \"#fdca26\"], [1.0, \"#f0f921\"]], \"type\": \"heatmap\"}], \"heatmapgl\": [{\"colorbar\": {\"outlinewidth\": 0, \"ticks\": \"\"}, \"colorscale\": [[0.0, \"#0d0887\"], [0.1111111111111111, \"#46039f\"], [0.2222222222222222, \"#7201a8\"], [0.3333333333333333, \"#9c179e\"], [0.4444444444444444, \"#bd3786\"], [0.5555555555555556, \"#d8576b\"], [0.6666666666666666, \"#ed7953\"], [0.7777777777777778, \"#fb9f3a\"], [0.8888888888888888, \"#fdca26\"], [1.0, \"#f0f921\"]], \"type\": \"heatmapgl\"}], \"histogram\": [{\"marker\": {\"colorbar\": {\"outlinewidth\": 0, \"ticks\": \"\"}}, \"type\": \"histogram\"}], \"histogram2d\": [{\"colorbar\": {\"outlinewidth\": 0, \"ticks\": \"\"}, \"colorscale\": [[0.0, \"#0d0887\"], [0.1111111111111111, \"#46039f\"], [0.2222222222222222, \"#7201a8\"], [0.3333333333333333, \"#9c179e\"], [0.4444444444444444, \"#bd3786\"], [0.5555555555555556, \"#d8576b\"], [0.6666666666666666, \"#ed7953\"], [0.7777777777777778, \"#fb9f3a\"], [0.8888888888888888, \"#fdca26\"], [1.0, \"#f0f921\"]], \"type\": \"histogram2d\"}], \"histogram2dcontour\": [{\"colorbar\": {\"outlinewidth\": 0, \"ticks\": \"\"}, \"colorscale\": [[0.0, \"#0d0887\"], [0.1111111111111111, \"#46039f\"], [0.2222222222222222, \"#7201a8\"], [0.3333333333333333, \"#9c179e\"], [0.4444444444444444, \"#bd3786\"], [0.5555555555555556, \"#d8576b\"], [0.6666666666666666, \"#ed7953\"], [0.7777777777777778, \"#fb9f3a\"], [0.8888888888888888, \"#fdca26\"], [1.0, \"#f0f921\"]], \"type\": \"histogram2dcontour\"}], \"mesh3d\": [{\"colorbar\": {\"outlinewidth\": 0, \"ticks\": \"\"}, \"type\": \"mesh3d\"}], \"parcoords\": [{\"line\": {\"colorbar\": {\"outlinewidth\": 0, \"ticks\": \"\"}}, \"type\": \"parcoords\"}], \"scatter\": [{\"marker\": {\"colorbar\": {\"outlinewidth\": 0, \"ticks\": \"\"}}, \"type\": \"scatter\"}], \"scatter3d\": [{\"line\": {\"colorbar\": {\"outlinewidth\": 0, \"ticks\": \"\"}}, \"marker\": {\"colorbar\": {\"outlinewidth\": 0, \"ticks\": \"\"}}, \"type\": \"scatter3d\"}], \"scattercarpet\": [{\"marker\": {\"colorbar\": {\"outlinewidth\": 0, \"ticks\": \"\"}}, \"type\": \"scattercarpet\"}], \"scattergeo\": [{\"marker\": {\"colorbar\": {\"outlinewidth\": 0, \"ticks\": \"\"}}, \"type\": \"scattergeo\"}], \"scattergl\": [{\"marker\": {\"colorbar\": {\"outlinewidth\": 0, \"ticks\": \"\"}}, \"type\": \"scattergl\"}], \"scattermapbox\": [{\"marker\": {\"colorbar\": {\"outlinewidth\": 0, \"ticks\": \"\"}}, \"type\": \"scattermapbox\"}], \"scatterpolar\": [{\"marker\": {\"colorbar\": {\"outlinewidth\": 0, \"ticks\": \"\"}}, \"type\": \"scatterpolar\"}], \"scatterpolargl\": [{\"marker\": {\"colorbar\": {\"outlinewidth\": 0, \"ticks\": \"\"}}, \"type\": \"scatterpolargl\"}], \"scatterternary\": [{\"marker\": {\"colorbar\": {\"outlinewidth\": 0, \"ticks\": \"\"}}, \"type\": \"scatterternary\"}], \"surface\": [{\"colorbar\": {\"outlinewidth\": 0, \"ticks\": \"\"}, \"colorscale\": [[0.0, \"#0d0887\"], [0.1111111111111111, \"#46039f\"], [0.2222222222222222, \"#7201a8\"], [0.3333333333333333, \"#9c179e\"], [0.4444444444444444, \"#bd3786\"], [0.5555555555555556, \"#d8576b\"], [0.6666666666666666, \"#ed7953\"], [0.7777777777777778, \"#fb9f3a\"], [0.8888888888888888, \"#fdca26\"], [1.0, \"#f0f921\"]], \"type\": \"surface\"}], \"table\": [{\"cells\": {\"fill\": {\"color\": \"#EBF0F8\"}, \"line\": {\"color\": \"white\"}}, \"header\": {\"fill\": {\"color\": \"#C8D4E3\"}, \"line\": {\"color\": \"white\"}}, \"type\": \"table\"}]}, \"layout\": {\"annotationdefaults\": {\"arrowcolor\": \"#2a3f5f\", \"arrowhead\": 0, \"arrowwidth\": 1}, \"colorscale\": {\"diverging\": [[0, \"#8e0152\"], [0.1, \"#c51b7d\"], [0.2, \"#de77ae\"], [0.3, \"#f1b6da\"], [0.4, \"#fde0ef\"], [0.5, \"#f7f7f7\"], [0.6, \"#e6f5d0\"], [0.7, \"#b8e186\"], [0.8, \"#7fbc41\"], [0.9, \"#4d9221\"], [1, \"#276419\"]], \"sequential\": [[0.0, \"#0d0887\"], [0.1111111111111111, \"#46039f\"], [0.2222222222222222, \"#7201a8\"], [0.3333333333333333, \"#9c179e\"], [0.4444444444444444, \"#bd3786\"], [0.5555555555555556, \"#d8576b\"], [0.6666666666666666, \"#ed7953\"], [0.7777777777777778, \"#fb9f3a\"], [0.8888888888888888, \"#fdca26\"], [1.0, \"#f0f921\"]], \"sequentialminus\": [[0.0, \"#0d0887\"], [0.1111111111111111, \"#46039f\"], [0.2222222222222222, \"#7201a8\"], [0.3333333333333333, \"#9c179e\"], [0.4444444444444444, \"#bd3786\"], [0.5555555555555556, \"#d8576b\"], [0.6666666666666666, \"#ed7953\"], [0.7777777777777778, \"#fb9f3a\"], [0.8888888888888888, \"#fdca26\"], [1.0, \"#f0f921\"]]}, \"colorway\": [\"#636efa\", \"#EF553B\", \"#00cc96\", \"#ab63fa\", \"#FFA15A\", \"#19d3f3\", \"#FF6692\", \"#B6E880\", \"#FF97FF\", \"#FECB52\"], \"font\": {\"color\": \"#2a3f5f\"}, \"geo\": {\"bgcolor\": \"white\", \"lakecolor\": \"white\", \"landcolor\": \"#E5ECF6\", \"showlakes\": true, \"showland\": true, \"subunitcolor\": \"white\"}, \"hoverlabel\": {\"align\": \"left\"}, \"hovermode\": \"closest\", \"mapbox\": {\"style\": \"light\"}, \"paper_bgcolor\": \"white\", \"plot_bgcolor\": \"#E5ECF6\", \"polar\": {\"angularaxis\": {\"gridcolor\": \"white\", \"linecolor\": \"white\", \"ticks\": \"\"}, \"bgcolor\": \"#E5ECF6\", \"radialaxis\": {\"gridcolor\": \"white\", \"linecolor\": \"white\", \"ticks\": \"\"}}, \"scene\": {\"xaxis\": {\"backgroundcolor\": \"#E5ECF6\", \"gridcolor\": \"white\", \"gridwidth\": 2, \"linecolor\": \"white\", \"showbackground\": true, \"ticks\": \"\", \"zerolinecolor\": \"white\"}, \"yaxis\": {\"backgroundcolor\": \"#E5ECF6\", \"gridcolor\": \"white\", \"gridwidth\": 2, \"linecolor\": \"white\", \"showbackground\": true, \"ticks\": \"\", \"zerolinecolor\": \"white\"}, \"zaxis\": {\"backgroundcolor\": \"#E5ECF6\", \"gridcolor\": \"white\", \"gridwidth\": 2, \"linecolor\": \"white\", \"showbackground\": true, \"ticks\": \"\", \"zerolinecolor\": \"white\"}}, \"shapedefaults\": {\"line\": {\"color\": \"#2a3f5f\"}}, \"ternary\": {\"aaxis\": {\"gridcolor\": \"white\", \"linecolor\": \"white\", \"ticks\": \"\"}, \"baxis\": {\"gridcolor\": \"white\", \"linecolor\": \"white\", \"ticks\": \"\"}, \"bgcolor\": \"#E5ECF6\", \"caxis\": {\"gridcolor\": \"white\", \"linecolor\": \"white\", \"ticks\": \"\"}}, \"title\": {\"x\": 0.05}, \"xaxis\": {\"automargin\": true, \"gridcolor\": \"white\", \"linecolor\": \"white\", \"ticks\": \"\", \"zerolinecolor\": \"white\", \"zerolinewidth\": 2}, \"yaxis\": {\"automargin\": true, \"gridcolor\": \"white\", \"linecolor\": \"white\", \"ticks\": \"\", \"zerolinecolor\": \"white\", \"zerolinewidth\": 2}}}},\n",
       "                        {\"responsive\": true}\n",
       "                    ).then(function(){\n",
       "                            \n",
       "var gd = document.getElementById('a1587cfd-70ff-4fdf-94bf-89727448b77c');\n",
       "var x = new MutationObserver(function (mutations, observer) {{\n",
       "        var display = window.getComputedStyle(gd).display;\n",
       "        if (!display || display === 'none') {{\n",
       "            console.log([gd, 'removed!']);\n",
       "            Plotly.purge(gd);\n",
       "            observer.disconnect();\n",
       "        }}\n",
       "}});\n",
       "\n",
       "// Listen for the removal of the full notebook cells\n",
       "var notebookContainer = gd.closest('#notebook-container');\n",
       "if (notebookContainer) {{\n",
       "    x.observe(notebookContainer, {childList: true});\n",
       "}}\n",
       "\n",
       "// Listen for the clearing of the current output cell\n",
       "var outputEl = gd.closest('.output');\n",
       "if (outputEl) {{\n",
       "    x.observe(outputEl, {childList: true});\n",
       "}}\n",
       "\n",
       "                        })\n",
       "                };\n",
       "                });\n",
       "            </script>\n",
       "        </div>"
      ]
     },
     "metadata": {},
     "output_type": "display_data"
    },
    {
     "name": "stdout",
     "output_type": "stream",
     "text": [
      "[0.17608125 0.17480934 0.09600114]\n"
     ]
    },
    {
     "data": {
      "application/vnd.plotly.v1+json": {
       "config": {
        "plotlyServerURL": "https://plot.ly"
       },
       "data": [
        {
         "hoverlabel": {
          "namelength": 0
         },
         "hovertemplate": "label=test_subject_01<br>component 1=%{x}<br>component 2=%{y}<br>component 3=%{z}<br>experiment=%{marker.size}",
         "legendgroup": "label=test_subject_01",
         "marker": {
          "color": "#636efa",
          "size": [
           0.0125,
           0.025
          ],
          "sizemode": "area",
          "sizeref": 6.25e-05,
          "symbol": "circle"
         },
         "mode": "markers",
         "name": "label=test_subject_01",
         "scene": "scene",
         "showlegend": true,
         "type": "scatter3d",
         "x": [
          0.9035468676790749,
          1.6045450367129903
         ],
         "y": [
          -0.4208206900068767,
          0.7987120772316693
         ],
         "z": [
          1.2040583313828006,
          0.2764650052519803
         ]
        },
        {
         "hoverlabel": {
          "namelength": 0
         },
         "hovertemplate": "label=test_subject_02<br>component 1=%{x}<br>component 2=%{y}<br>component 3=%{z}<br>experiment=%{marker.size}",
         "legendgroup": "label=test_subject_02",
         "marker": {
          "color": "#EF553B",
          "size": [
           0.0125,
           0.025
          ],
          "sizemode": "area",
          "sizeref": 6.25e-05,
          "symbol": "circle"
         },
         "mode": "markers",
         "name": "label=test_subject_02",
         "scene": "scene",
         "showlegend": true,
         "type": "scatter3d",
         "x": [
          -4.576190653138378,
          -3.872109484167664
         ],
         "y": [
          -1.2508807067166576,
          -1.1838841786769128
         ],
         "z": [
          -1.8537208813831445,
          -2.6399314700509326
         ]
        },
        {
         "hoverlabel": {
          "namelength": 0
         },
         "hovertemplate": "label=test_subject_03<br>component 1=%{x}<br>component 2=%{y}<br>component 3=%{z}<br>experiment=%{marker.size}",
         "legendgroup": "label=test_subject_03",
         "marker": {
          "color": "#00cc96",
          "size": [
           0.0125,
           0.025
          ],
          "sizemode": "area",
          "sizeref": 6.25e-05,
          "symbol": "circle"
         },
         "mode": "markers",
         "name": "label=test_subject_03",
         "scene": "scene",
         "showlegend": true,
         "type": "scatter3d",
         "x": [
          -2.8692417800352796,
          0.20002463415415406
         ],
         "y": [
          -5.406616054590674,
          2.637373029512694
         ],
         "z": [
          2.2387282137935984,
          1.7361731192598227
         ]
        },
        {
         "hoverlabel": {
          "namelength": 0
         },
         "hovertemplate": "label=test_subject_04<br>component 1=%{x}<br>component 2=%{y}<br>component 3=%{z}<br>experiment=%{marker.size}",
         "legendgroup": "label=test_subject_04",
         "marker": {
          "color": "#ab63fa",
          "size": [
           0.0125,
           0.025
          ],
          "sizemode": "area",
          "sizeref": 6.25e-05,
          "symbol": "circle"
         },
         "mode": "markers",
         "name": "label=test_subject_04",
         "scene": "scene",
         "showlegend": true,
         "type": "scatter3d",
         "x": [
          0.30250191360380146,
          -1.636540363243156
         ],
         "y": [
          0.8915988426088116,
          -1.0899031422107126
         ],
         "z": [
          -1.6519998463107097,
          0.2539079055751464
         ]
        },
        {
         "hoverlabel": {
          "namelength": 0
         },
         "hovertemplate": "label=test_subject_05<br>component 1=%{x}<br>component 2=%{y}<br>component 3=%{z}<br>experiment=%{marker.size}",
         "legendgroup": "label=test_subject_05",
         "marker": {
          "color": "#FFA15A",
          "size": [
           0.0125,
           0.025
          ],
          "sizemode": "area",
          "sizeref": 6.25e-05,
          "symbol": "circle"
         },
         "mode": "markers",
         "name": "label=test_subject_05",
         "scene": "scene",
         "showlegend": true,
         "type": "scatter3d",
         "x": [
          -0.5318273220472622,
          -0.5285910371866436
         ],
         "y": [
          -1.3724691413067502,
          -0.3940487461357545
         ],
         "z": [
          0.17762864565319414,
          0.28491510006119564
         ]
        },
        {
         "hoverlabel": {
          "namelength": 0
         },
         "hovertemplate": "label=test_subject_06<br>component 1=%{x}<br>component 2=%{y}<br>component 3=%{z}<br>experiment=%{marker.size}",
         "legendgroup": "label=test_subject_06",
         "marker": {
          "color": "#19d3f3",
          "size": [
           0.0125,
           0.025
          ],
          "sizemode": "area",
          "sizeref": 6.25e-05,
          "symbol": "circle"
         },
         "mode": "markers",
         "name": "label=test_subject_06",
         "scene": "scene",
         "showlegend": true,
         "type": "scatter3d",
         "x": [
          -5.607535980771773,
          -6.074594206078975
         ],
         "y": [
          11.736754959740404,
          11.121336897556914
         ],
         "z": [
          1.7944332607872187,
          3.4492248882502827
         ]
        },
        {
         "hoverlabel": {
          "namelength": 0
         },
         "hovertemplate": "label=test_subject_07<br>component 1=%{x}<br>component 2=%{y}<br>component 3=%{z}<br>experiment=%{marker.size}",
         "legendgroup": "label=test_subject_07",
         "marker": {
          "color": "#FF6692",
          "size": [
           0.0125,
           0.025
          ],
          "sizemode": "area",
          "sizeref": 6.25e-05,
          "symbol": "circle"
         },
         "mode": "markers",
         "name": "label=test_subject_07",
         "scene": "scene",
         "showlegend": true,
         "type": "scatter3d",
         "x": [
          0.4058154405710742,
          -3.0752935260478678
         ],
         "y": [
          0.22699293114059954,
          -1.666429988568278
         ],
         "z": [
          -1.2037917863764964,
          -0.17761796480430034
         ]
        },
        {
         "hoverlabel": {
          "namelength": 0
         },
         "hovertemplate": "label=test_subject_08<br>component 1=%{x}<br>component 2=%{y}<br>component 3=%{z}<br>experiment=%{marker.size}",
         "legendgroup": "label=test_subject_08",
         "marker": {
          "color": "#B6E880",
          "size": [
           0.0125,
           0.025
          ],
          "sizemode": "area",
          "sizeref": 6.25e-05,
          "symbol": "circle"
         },
         "mode": "markers",
         "name": "label=test_subject_08",
         "scene": "scene",
         "showlegend": true,
         "type": "scatter3d",
         "x": [
          -2.4367663726011735,
          -3.8978894985763146
         ],
         "y": [
          -3.9956120663551724,
          -2.5920855546169643
         ],
         "z": [
          2.1394580318699323,
          -2.753882993163766
         ]
        },
        {
         "hoverlabel": {
          "namelength": 0
         },
         "hovertemplate": "label=test_subject_09<br>component 1=%{x}<br>component 2=%{y}<br>component 3=%{z}<br>experiment=%{marker.size}",
         "legendgroup": "label=test_subject_09",
         "marker": {
          "color": "#FF97FF",
          "size": [
           0.0125,
           0.025
          ],
          "sizemode": "area",
          "sizeref": 6.25e-05,
          "symbol": "circle"
         },
         "mode": "markers",
         "name": "label=test_subject_09",
         "scene": "scene",
         "showlegend": true,
         "type": "scatter3d",
         "x": [
          2.519418836663077,
          2.50197427305126
         ],
         "y": [
          -1.4274203694430179,
          -0.9727299845936227
         ],
         "z": [
          3.292650500913286,
          3.230781029127941
         ]
        },
        {
         "hoverlabel": {
          "namelength": 0
         },
         "hovertemplate": "label=test_subject_10<br>component 1=%{x}<br>component 2=%{y}<br>component 3=%{z}<br>experiment=%{marker.size}",
         "legendgroup": "label=test_subject_10",
         "marker": {
          "color": "#FECB52",
          "size": [
           0.0125,
           0.025
          ],
          "sizemode": "area",
          "sizeref": 6.25e-05,
          "symbol": "circle"
         },
         "mode": "markers",
         "name": "label=test_subject_10",
         "scene": "scene",
         "showlegend": true,
         "type": "scatter3d",
         "x": [
          3.601750952058749,
          4.565516527432759
         ],
         "y": [
          0.6610412640629897,
          3.328484433337176
         ],
         "z": [
          1.255204496320106,
          -0.5507649950377508
         ]
        },
        {
         "hoverlabel": {
          "namelength": 0
         },
         "hovertemplate": "label=test_subject_11<br>component 1=%{x}<br>component 2=%{y}<br>component 3=%{z}<br>experiment=%{marker.size}",
         "legendgroup": "label=test_subject_11",
         "marker": {
          "color": "#636efa",
          "size": [
           0.0125,
           0.025
          ],
          "sizemode": "area",
          "sizeref": 6.25e-05,
          "symbol": "circle"
         },
         "mode": "markers",
         "name": "label=test_subject_11",
         "scene": "scene",
         "showlegend": true,
         "type": "scatter3d",
         "x": [
          -3.148593806927992,
          -4.7035019153063935
         ],
         "y": [
          -0.3404301316489655,
          -1.7361089758793642
         ],
         "z": [
          -3.519891906782016,
          -2.722338490169199
         ]
        },
        {
         "hoverlabel": {
          "namelength": 0
         },
         "hovertemplate": "label=test_subject_12<br>component 1=%{x}<br>component 2=%{y}<br>component 3=%{z}<br>experiment=%{marker.size}",
         "legendgroup": "label=test_subject_12",
         "marker": {
          "color": "#EF553B",
          "size": [
           0.0125,
           0.025
          ],
          "sizemode": "area",
          "sizeref": 6.25e-05,
          "symbol": "circle"
         },
         "mode": "markers",
         "name": "label=test_subject_12",
         "scene": "scene",
         "showlegend": true,
         "type": "scatter3d",
         "x": [
          1.3474353044665641,
          0.2067599600923668
         ],
         "y": [
          -2.4506074994714306,
          -2.0529482423186685
         ],
         "z": [
          5.331241537365959,
          2.8941411451236903
         ]
        },
        {
         "hoverlabel": {
          "namelength": 0
         },
         "hovertemplate": "label=test_subject_13<br>component 1=%{x}<br>component 2=%{y}<br>component 3=%{z}<br>experiment=%{marker.size}",
         "legendgroup": "label=test_subject_13",
         "marker": {
          "color": "#00cc96",
          "size": [
           0.0125,
           0.025
          ],
          "sizemode": "area",
          "sizeref": 6.25e-05,
          "symbol": "circle"
         },
         "mode": "markers",
         "name": "label=test_subject_13",
         "scene": "scene",
         "showlegend": true,
         "type": "scatter3d",
         "x": [
          4.301020178137564,
          -0.7978472446486921
         ],
         "y": [
          0.21750269766151512,
          -2.9287260017206083
         ],
         "z": [
          1.8496031557995198,
          1.7036127103435956
         ]
        },
        {
         "hoverlabel": {
          "namelength": 0
         },
         "hovertemplate": "label=test_subject_14<br>component 1=%{x}<br>component 2=%{y}<br>component 3=%{z}<br>experiment=%{marker.size}",
         "legendgroup": "label=test_subject_14",
         "marker": {
          "color": "#ab63fa",
          "size": [
           0.0125,
           0.025
          ],
          "sizemode": "area",
          "sizeref": 6.25e-05,
          "symbol": "circle"
         },
         "mode": "markers",
         "name": "label=test_subject_14",
         "scene": "scene",
         "showlegend": true,
         "type": "scatter3d",
         "x": [
          -2.3755450247925602,
          -1.5997483311937841
         ],
         "y": [
          -3.810512238343499,
          -1.2698794058103318
         ],
         "z": [
          2.521228712621004,
          -1.6448629687543885
         ]
        },
        {
         "hoverlabel": {
          "namelength": 0
         },
         "hovertemplate": "label=test_subject_15<br>component 1=%{x}<br>component 2=%{y}<br>component 3=%{z}<br>experiment=%{marker.size}",
         "legendgroup": "label=test_subject_15",
         "marker": {
          "color": "#FFA15A",
          "size": [
           0.0125,
           0.025
          ],
          "sizemode": "area",
          "sizeref": 6.25e-05,
          "symbol": "circle"
         },
         "mode": "markers",
         "name": "label=test_subject_15",
         "scene": "scene",
         "showlegend": true,
         "type": "scatter3d",
         "x": [
          0.04044701052232752,
          3.2045812671654343
         ],
         "y": [
          -0.07421311481176215,
          1.1220249498411496
         ],
         "z": [
          -4.788228727917581,
          -3.8595489772798497
         ]
        },
        {
         "hoverlabel": {
          "namelength": 0
         },
         "hovertemplate": "label=test_subject_16<br>component 1=%{x}<br>component 2=%{y}<br>component 3=%{z}<br>experiment=%{marker.size}",
         "legendgroup": "label=test_subject_16",
         "marker": {
          "color": "#19d3f3",
          "size": [
           0.0125,
           0.025
          ],
          "sizemode": "area",
          "sizeref": 6.25e-05,
          "symbol": "circle"
         },
         "mode": "markers",
         "name": "label=test_subject_16",
         "scene": "scene",
         "showlegend": true,
         "type": "scatter3d",
         "x": [
          1.1465219231449528,
          -2.057235123949641
         ],
         "y": [
          0.9155415807859641,
          -0.520165287932949
         ],
         "z": [
          -3.6266414790426063,
          -3.0744118222151786
         ]
        },
        {
         "hoverlabel": {
          "namelength": 0
         },
         "hovertemplate": "label=test_subject_17<br>component 1=%{x}<br>component 2=%{y}<br>component 3=%{z}<br>experiment=%{marker.size}",
         "legendgroup": "label=test_subject_17",
         "marker": {
          "color": "#FF6692",
          "size": [
           0.0125,
           0.025
          ],
          "sizemode": "area",
          "sizeref": 6.25e-05,
          "symbol": "circle"
         },
         "mode": "markers",
         "name": "label=test_subject_17",
         "scene": "scene",
         "showlegend": true,
         "type": "scatter3d",
         "x": [
          6.306916046369095,
          5.270059943065036
         ],
         "y": [
          0.9766899795709141,
          1.1353321601471507
         ],
         "z": [
          -2.3274990907396185,
          -1.9422403509076538
         ]
        },
        {
         "hoverlabel": {
          "namelength": 0
         },
         "hovertemplate": "label=test_subject_18<br>component 1=%{x}<br>component 2=%{y}<br>component 3=%{z}<br>experiment=%{marker.size}",
         "legendgroup": "label=test_subject_18",
         "marker": {
          "color": "#B6E880",
          "size": [
           0.0125,
           0.025
          ],
          "sizemode": "area",
          "sizeref": 6.25e-05,
          "symbol": "circle"
         },
         "mode": "markers",
         "name": "label=test_subject_18",
         "scene": "scene",
         "showlegend": true,
         "type": "scatter3d",
         "x": [
          0.7831031271284299,
          5.595555706589995
         ],
         "y": [
          -0.07138140672501991,
          3.0067459583344007
         ],
         "z": [
          1.728403330117732,
          -1.08358392566845
         ]
        },
        {
         "hoverlabel": {
          "namelength": 0
         },
         "hovertemplate": "label=test_subject_19<br>component 1=%{x}<br>component 2=%{y}<br>component 3=%{z}<br>experiment=%{marker.size}",
         "legendgroup": "label=test_subject_19",
         "marker": {
          "color": "#FF97FF",
          "size": [
           0.0125,
           0.025
          ],
          "sizemode": "area",
          "sizeref": 6.25e-05,
          "symbol": "circle"
         },
         "mode": "markers",
         "name": "label=test_subject_19",
         "scene": "scene",
         "showlegend": true,
         "type": "scatter3d",
         "x": [
          1.9250809877868034,
          3.8361120296874995
         ],
         "y": [
          0.8788357040066793,
          2.2777691150738106
         ],
         "z": [
          0.10824424919057017,
          -1.0455205750755336
         ]
        },
        {
         "hoverlabel": {
          "namelength": 0
         },
         "hovertemplate": "label=test_subject_20<br>component 1=%{x}<br>component 2=%{y}<br>component 3=%{z}<br>experiment=%{marker.size}",
         "legendgroup": "label=test_subject_20",
         "marker": {
          "color": "#FECB52",
          "size": [
           0.0125,
           0.025
          ],
          "sizemode": "area",
          "sizeref": 6.25e-05,
          "symbol": "circle"
         },
         "mode": "markers",
         "name": "label=test_subject_20",
         "scene": "scene",
         "showlegend": true,
         "type": "scatter3d",
         "x": [
          0.004850258260859156,
          2.1201476924358142
         ],
         "y": [
          -1.58860356073071,
          -1.1080143398827231
         ],
         "z": [
          0.8673080108018277,
          1.4712111565900572
         ]
        },
        {
         "hoverlabel": {
          "namelength": 0
         },
         "hovertemplate": "label=test_subject_21<br>component 1=%{x}<br>component 2=%{y}<br>component 3=%{z}<br>experiment=%{marker.size}",
         "legendgroup": "label=test_subject_21",
         "marker": {
          "color": "#636efa",
          "size": [
           0.0125,
           0.025
          ],
          "sizemode": "area",
          "sizeref": 6.25e-05,
          "symbol": "circle"
         },
         "mode": "markers",
         "name": "label=test_subject_21",
         "scene": "scene",
         "showlegend": true,
         "type": "scatter3d",
         "x": [
          1.0245452523887355,
          -3.9291794984548605
         ],
         "y": [
          -0.9516510237477206,
          -1.2565947283676944
         ],
         "z": [
          0.4900324838210455,
          0.16782323165766982
         ]
        }
       ],
       "layout": {
        "height": 600,
        "legend": {
         "itemsizing": "constant",
         "tracegroupgap": 0
        },
        "margin": {
         "t": 60
        },
        "scene": {
         "domain": {
          "x": [
           0,
           0.98
          ],
          "y": [
           0,
           1
          ]
         },
         "xaxis": {
          "title": {
           "text": "component 1"
          }
         },
         "yaxis": {
          "title": {
           "text": "component 2"
          }
         },
         "zaxis": {
          "title": {
           "text": "component 3"
          }
         }
        },
        "template": {
         "data": {
          "bar": [
           {
            "error_x": {
             "color": "#2a3f5f"
            },
            "error_y": {
             "color": "#2a3f5f"
            },
            "marker": {
             "line": {
              "color": "#E5ECF6",
              "width": 0.5
             }
            },
            "type": "bar"
           }
          ],
          "barpolar": [
           {
            "marker": {
             "line": {
              "color": "#E5ECF6",
              "width": 0.5
             }
            },
            "type": "barpolar"
           }
          ],
          "carpet": [
           {
            "aaxis": {
             "endlinecolor": "#2a3f5f",
             "gridcolor": "white",
             "linecolor": "white",
             "minorgridcolor": "white",
             "startlinecolor": "#2a3f5f"
            },
            "baxis": {
             "endlinecolor": "#2a3f5f",
             "gridcolor": "white",
             "linecolor": "white",
             "minorgridcolor": "white",
             "startlinecolor": "#2a3f5f"
            },
            "type": "carpet"
           }
          ],
          "choropleth": [
           {
            "colorbar": {
             "outlinewidth": 0,
             "ticks": ""
            },
            "type": "choropleth"
           }
          ],
          "contour": [
           {
            "colorbar": {
             "outlinewidth": 0,
             "ticks": ""
            },
            "colorscale": [
             [
              0,
              "#0d0887"
             ],
             [
              0.1111111111111111,
              "#46039f"
             ],
             [
              0.2222222222222222,
              "#7201a8"
             ],
             [
              0.3333333333333333,
              "#9c179e"
             ],
             [
              0.4444444444444444,
              "#bd3786"
             ],
             [
              0.5555555555555556,
              "#d8576b"
             ],
             [
              0.6666666666666666,
              "#ed7953"
             ],
             [
              0.7777777777777778,
              "#fb9f3a"
             ],
             [
              0.8888888888888888,
              "#fdca26"
             ],
             [
              1,
              "#f0f921"
             ]
            ],
            "type": "contour"
           }
          ],
          "contourcarpet": [
           {
            "colorbar": {
             "outlinewidth": 0,
             "ticks": ""
            },
            "type": "contourcarpet"
           }
          ],
          "heatmap": [
           {
            "colorbar": {
             "outlinewidth": 0,
             "ticks": ""
            },
            "colorscale": [
             [
              0,
              "#0d0887"
             ],
             [
              0.1111111111111111,
              "#46039f"
             ],
             [
              0.2222222222222222,
              "#7201a8"
             ],
             [
              0.3333333333333333,
              "#9c179e"
             ],
             [
              0.4444444444444444,
              "#bd3786"
             ],
             [
              0.5555555555555556,
              "#d8576b"
             ],
             [
              0.6666666666666666,
              "#ed7953"
             ],
             [
              0.7777777777777778,
              "#fb9f3a"
             ],
             [
              0.8888888888888888,
              "#fdca26"
             ],
             [
              1,
              "#f0f921"
             ]
            ],
            "type": "heatmap"
           }
          ],
          "heatmapgl": [
           {
            "colorbar": {
             "outlinewidth": 0,
             "ticks": ""
            },
            "colorscale": [
             [
              0,
              "#0d0887"
             ],
             [
              0.1111111111111111,
              "#46039f"
             ],
             [
              0.2222222222222222,
              "#7201a8"
             ],
             [
              0.3333333333333333,
              "#9c179e"
             ],
             [
              0.4444444444444444,
              "#bd3786"
             ],
             [
              0.5555555555555556,
              "#d8576b"
             ],
             [
              0.6666666666666666,
              "#ed7953"
             ],
             [
              0.7777777777777778,
              "#fb9f3a"
             ],
             [
              0.8888888888888888,
              "#fdca26"
             ],
             [
              1,
              "#f0f921"
             ]
            ],
            "type": "heatmapgl"
           }
          ],
          "histogram": [
           {
            "marker": {
             "colorbar": {
              "outlinewidth": 0,
              "ticks": ""
             }
            },
            "type": "histogram"
           }
          ],
          "histogram2d": [
           {
            "colorbar": {
             "outlinewidth": 0,
             "ticks": ""
            },
            "colorscale": [
             [
              0,
              "#0d0887"
             ],
             [
              0.1111111111111111,
              "#46039f"
             ],
             [
              0.2222222222222222,
              "#7201a8"
             ],
             [
              0.3333333333333333,
              "#9c179e"
             ],
             [
              0.4444444444444444,
              "#bd3786"
             ],
             [
              0.5555555555555556,
              "#d8576b"
             ],
             [
              0.6666666666666666,
              "#ed7953"
             ],
             [
              0.7777777777777778,
              "#fb9f3a"
             ],
             [
              0.8888888888888888,
              "#fdca26"
             ],
             [
              1,
              "#f0f921"
             ]
            ],
            "type": "histogram2d"
           }
          ],
          "histogram2dcontour": [
           {
            "colorbar": {
             "outlinewidth": 0,
             "ticks": ""
            },
            "colorscale": [
             [
              0,
              "#0d0887"
             ],
             [
              0.1111111111111111,
              "#46039f"
             ],
             [
              0.2222222222222222,
              "#7201a8"
             ],
             [
              0.3333333333333333,
              "#9c179e"
             ],
             [
              0.4444444444444444,
              "#bd3786"
             ],
             [
              0.5555555555555556,
              "#d8576b"
             ],
             [
              0.6666666666666666,
              "#ed7953"
             ],
             [
              0.7777777777777778,
              "#fb9f3a"
             ],
             [
              0.8888888888888888,
              "#fdca26"
             ],
             [
              1,
              "#f0f921"
             ]
            ],
            "type": "histogram2dcontour"
           }
          ],
          "mesh3d": [
           {
            "colorbar": {
             "outlinewidth": 0,
             "ticks": ""
            },
            "type": "mesh3d"
           }
          ],
          "parcoords": [
           {
            "line": {
             "colorbar": {
              "outlinewidth": 0,
              "ticks": ""
             }
            },
            "type": "parcoords"
           }
          ],
          "scatter": [
           {
            "marker": {
             "colorbar": {
              "outlinewidth": 0,
              "ticks": ""
             }
            },
            "type": "scatter"
           }
          ],
          "scatter3d": [
           {
            "line": {
             "colorbar": {
              "outlinewidth": 0,
              "ticks": ""
             }
            },
            "marker": {
             "colorbar": {
              "outlinewidth": 0,
              "ticks": ""
             }
            },
            "type": "scatter3d"
           }
          ],
          "scattercarpet": [
           {
            "marker": {
             "colorbar": {
              "outlinewidth": 0,
              "ticks": ""
             }
            },
            "type": "scattercarpet"
           }
          ],
          "scattergeo": [
           {
            "marker": {
             "colorbar": {
              "outlinewidth": 0,
              "ticks": ""
             }
            },
            "type": "scattergeo"
           }
          ],
          "scattergl": [
           {
            "marker": {
             "colorbar": {
              "outlinewidth": 0,
              "ticks": ""
             }
            },
            "type": "scattergl"
           }
          ],
          "scattermapbox": [
           {
            "marker": {
             "colorbar": {
              "outlinewidth": 0,
              "ticks": ""
             }
            },
            "type": "scattermapbox"
           }
          ],
          "scatterpolar": [
           {
            "marker": {
             "colorbar": {
              "outlinewidth": 0,
              "ticks": ""
             }
            },
            "type": "scatterpolar"
           }
          ],
          "scatterpolargl": [
           {
            "marker": {
             "colorbar": {
              "outlinewidth": 0,
              "ticks": ""
             }
            },
            "type": "scatterpolargl"
           }
          ],
          "scatterternary": [
           {
            "marker": {
             "colorbar": {
              "outlinewidth": 0,
              "ticks": ""
             }
            },
            "type": "scatterternary"
           }
          ],
          "surface": [
           {
            "colorbar": {
             "outlinewidth": 0,
             "ticks": ""
            },
            "colorscale": [
             [
              0,
              "#0d0887"
             ],
             [
              0.1111111111111111,
              "#46039f"
             ],
             [
              0.2222222222222222,
              "#7201a8"
             ],
             [
              0.3333333333333333,
              "#9c179e"
             ],
             [
              0.4444444444444444,
              "#bd3786"
             ],
             [
              0.5555555555555556,
              "#d8576b"
             ],
             [
              0.6666666666666666,
              "#ed7953"
             ],
             [
              0.7777777777777778,
              "#fb9f3a"
             ],
             [
              0.8888888888888888,
              "#fdca26"
             ],
             [
              1,
              "#f0f921"
             ]
            ],
            "type": "surface"
           }
          ],
          "table": [
           {
            "cells": {
             "fill": {
              "color": "#EBF0F8"
             },
             "line": {
              "color": "white"
             }
            },
            "header": {
             "fill": {
              "color": "#C8D4E3"
             },
             "line": {
              "color": "white"
             }
            },
            "type": "table"
           }
          ]
         },
         "layout": {
          "annotationdefaults": {
           "arrowcolor": "#2a3f5f",
           "arrowhead": 0,
           "arrowwidth": 1
          },
          "colorscale": {
           "diverging": [
            [
             0,
             "#8e0152"
            ],
            [
             0.1,
             "#c51b7d"
            ],
            [
             0.2,
             "#de77ae"
            ],
            [
             0.3,
             "#f1b6da"
            ],
            [
             0.4,
             "#fde0ef"
            ],
            [
             0.5,
             "#f7f7f7"
            ],
            [
             0.6,
             "#e6f5d0"
            ],
            [
             0.7,
             "#b8e186"
            ],
            [
             0.8,
             "#7fbc41"
            ],
            [
             0.9,
             "#4d9221"
            ],
            [
             1,
             "#276419"
            ]
           ],
           "sequential": [
            [
             0,
             "#0d0887"
            ],
            [
             0.1111111111111111,
             "#46039f"
            ],
            [
             0.2222222222222222,
             "#7201a8"
            ],
            [
             0.3333333333333333,
             "#9c179e"
            ],
            [
             0.4444444444444444,
             "#bd3786"
            ],
            [
             0.5555555555555556,
             "#d8576b"
            ],
            [
             0.6666666666666666,
             "#ed7953"
            ],
            [
             0.7777777777777778,
             "#fb9f3a"
            ],
            [
             0.8888888888888888,
             "#fdca26"
            ],
            [
             1,
             "#f0f921"
            ]
           ],
           "sequentialminus": [
            [
             0,
             "#0d0887"
            ],
            [
             0.1111111111111111,
             "#46039f"
            ],
            [
             0.2222222222222222,
             "#7201a8"
            ],
            [
             0.3333333333333333,
             "#9c179e"
            ],
            [
             0.4444444444444444,
             "#bd3786"
            ],
            [
             0.5555555555555556,
             "#d8576b"
            ],
            [
             0.6666666666666666,
             "#ed7953"
            ],
            [
             0.7777777777777778,
             "#fb9f3a"
            ],
            [
             0.8888888888888888,
             "#fdca26"
            ],
            [
             1,
             "#f0f921"
            ]
           ]
          },
          "colorway": [
           "#636efa",
           "#EF553B",
           "#00cc96",
           "#ab63fa",
           "#FFA15A",
           "#19d3f3",
           "#FF6692",
           "#B6E880",
           "#FF97FF",
           "#FECB52"
          ],
          "font": {
           "color": "#2a3f5f"
          },
          "geo": {
           "bgcolor": "white",
           "lakecolor": "white",
           "landcolor": "#E5ECF6",
           "showlakes": true,
           "showland": true,
           "subunitcolor": "white"
          },
          "hoverlabel": {
           "align": "left"
          },
          "hovermode": "closest",
          "mapbox": {
           "style": "light"
          },
          "paper_bgcolor": "white",
          "plot_bgcolor": "#E5ECF6",
          "polar": {
           "angularaxis": {
            "gridcolor": "white",
            "linecolor": "white",
            "ticks": ""
           },
           "bgcolor": "#E5ECF6",
           "radialaxis": {
            "gridcolor": "white",
            "linecolor": "white",
            "ticks": ""
           }
          },
          "scene": {
           "xaxis": {
            "backgroundcolor": "#E5ECF6",
            "gridcolor": "white",
            "gridwidth": 2,
            "linecolor": "white",
            "showbackground": true,
            "ticks": "",
            "zerolinecolor": "white"
           },
           "yaxis": {
            "backgroundcolor": "#E5ECF6",
            "gridcolor": "white",
            "gridwidth": 2,
            "linecolor": "white",
            "showbackground": true,
            "ticks": "",
            "zerolinecolor": "white"
           },
           "zaxis": {
            "backgroundcolor": "#E5ECF6",
            "gridcolor": "white",
            "gridwidth": 2,
            "linecolor": "white",
            "showbackground": true,
            "ticks": "",
            "zerolinecolor": "white"
           }
          },
          "shapedefaults": {
           "line": {
            "color": "#2a3f5f"
           }
          },
          "ternary": {
           "aaxis": {
            "gridcolor": "white",
            "linecolor": "white",
            "ticks": ""
           },
           "baxis": {
            "gridcolor": "white",
            "linecolor": "white",
            "ticks": ""
           },
           "bgcolor": "#E5ECF6",
           "caxis": {
            "gridcolor": "white",
            "linecolor": "white",
            "ticks": ""
           }
          },
          "title": {
           "x": 0.05
          },
          "xaxis": {
           "automargin": true,
           "gridcolor": "white",
           "linecolor": "white",
           "ticks": "",
           "zerolinecolor": "white",
           "zerolinewidth": 2
          },
          "yaxis": {
           "automargin": true,
           "gridcolor": "white",
           "linecolor": "white",
           "ticks": "",
           "zerolinecolor": "white",
           "zerolinewidth": 2
          }
         }
        }
       }
      },
      "text/html": [
       "<div>\n",
       "        \n",
       "        \n",
       "            <div id=\"6e91f493-4012-49a7-8cb9-88f64aa91eca\" class=\"plotly-graph-div\" style=\"height:600px; width:100%;\"></div>\n",
       "            <script type=\"text/javascript\">\n",
       "                require([\"plotly\"], function(Plotly) {\n",
       "                    window.PLOTLYENV=window.PLOTLYENV || {};\n",
       "                    \n",
       "                if (document.getElementById(\"6e91f493-4012-49a7-8cb9-88f64aa91eca\")) {\n",
       "                    Plotly.newPlot(\n",
       "                        '6e91f493-4012-49a7-8cb9-88f64aa91eca',\n",
       "                        [{\"hoverlabel\": {\"namelength\": 0}, \"hovertemplate\": \"label=test_subject_01<br>component 1=%{x}<br>component 2=%{y}<br>component 3=%{z}<br>experiment=%{marker.size}\", \"legendgroup\": \"label=test_subject_01\", \"marker\": {\"color\": \"#636efa\", \"size\": [0.0125, 0.025], \"sizemode\": \"area\", \"sizeref\": 6.25e-05, \"symbol\": \"circle\"}, \"mode\": \"markers\", \"name\": \"label=test_subject_01\", \"scene\": \"scene\", \"showlegend\": true, \"type\": \"scatter3d\", \"x\": [0.9035468676790749, 1.6045450367129903], \"y\": [-0.4208206900068767, 0.7987120772316693], \"z\": [1.2040583313828006, 0.2764650052519803]}, {\"hoverlabel\": {\"namelength\": 0}, \"hovertemplate\": \"label=test_subject_02<br>component 1=%{x}<br>component 2=%{y}<br>component 3=%{z}<br>experiment=%{marker.size}\", \"legendgroup\": \"label=test_subject_02\", \"marker\": {\"color\": \"#EF553B\", \"size\": [0.0125, 0.025], \"sizemode\": \"area\", \"sizeref\": 6.25e-05, \"symbol\": \"circle\"}, \"mode\": \"markers\", \"name\": \"label=test_subject_02\", \"scene\": \"scene\", \"showlegend\": true, \"type\": \"scatter3d\", \"x\": [-4.576190653138378, -3.872109484167664], \"y\": [-1.2508807067166576, -1.1838841786769128], \"z\": [-1.8537208813831445, -2.6399314700509326]}, {\"hoverlabel\": {\"namelength\": 0}, \"hovertemplate\": \"label=test_subject_03<br>component 1=%{x}<br>component 2=%{y}<br>component 3=%{z}<br>experiment=%{marker.size}\", \"legendgroup\": \"label=test_subject_03\", \"marker\": {\"color\": \"#00cc96\", \"size\": [0.0125, 0.025], \"sizemode\": \"area\", \"sizeref\": 6.25e-05, \"symbol\": \"circle\"}, \"mode\": \"markers\", \"name\": \"label=test_subject_03\", \"scene\": \"scene\", \"showlegend\": true, \"type\": \"scatter3d\", \"x\": [-2.8692417800352796, 0.20002463415415406], \"y\": [-5.406616054590674, 2.637373029512694], \"z\": [2.2387282137935984, 1.7361731192598227]}, {\"hoverlabel\": {\"namelength\": 0}, \"hovertemplate\": \"label=test_subject_04<br>component 1=%{x}<br>component 2=%{y}<br>component 3=%{z}<br>experiment=%{marker.size}\", \"legendgroup\": \"label=test_subject_04\", \"marker\": {\"color\": \"#ab63fa\", \"size\": [0.0125, 0.025], \"sizemode\": \"area\", \"sizeref\": 6.25e-05, \"symbol\": \"circle\"}, \"mode\": \"markers\", \"name\": \"label=test_subject_04\", \"scene\": \"scene\", \"showlegend\": true, \"type\": \"scatter3d\", \"x\": [0.30250191360380146, -1.636540363243156], \"y\": [0.8915988426088116, -1.0899031422107126], \"z\": [-1.6519998463107097, 0.2539079055751464]}, {\"hoverlabel\": {\"namelength\": 0}, \"hovertemplate\": \"label=test_subject_05<br>component 1=%{x}<br>component 2=%{y}<br>component 3=%{z}<br>experiment=%{marker.size}\", \"legendgroup\": \"label=test_subject_05\", \"marker\": {\"color\": \"#FFA15A\", \"size\": [0.0125, 0.025], \"sizemode\": \"area\", \"sizeref\": 6.25e-05, \"symbol\": \"circle\"}, \"mode\": \"markers\", \"name\": \"label=test_subject_05\", \"scene\": \"scene\", \"showlegend\": true, \"type\": \"scatter3d\", \"x\": [-0.5318273220472622, -0.5285910371866436], \"y\": [-1.3724691413067502, -0.3940487461357545], \"z\": [0.17762864565319414, 0.28491510006119564]}, {\"hoverlabel\": {\"namelength\": 0}, \"hovertemplate\": \"label=test_subject_06<br>component 1=%{x}<br>component 2=%{y}<br>component 3=%{z}<br>experiment=%{marker.size}\", \"legendgroup\": \"label=test_subject_06\", \"marker\": {\"color\": \"#19d3f3\", \"size\": [0.0125, 0.025], \"sizemode\": \"area\", \"sizeref\": 6.25e-05, \"symbol\": \"circle\"}, \"mode\": \"markers\", \"name\": \"label=test_subject_06\", \"scene\": \"scene\", \"showlegend\": true, \"type\": \"scatter3d\", \"x\": [-5.607535980771773, -6.074594206078975], \"y\": [11.736754959740404, 11.121336897556914], \"z\": [1.7944332607872187, 3.4492248882502827]}, {\"hoverlabel\": {\"namelength\": 0}, \"hovertemplate\": \"label=test_subject_07<br>component 1=%{x}<br>component 2=%{y}<br>component 3=%{z}<br>experiment=%{marker.size}\", \"legendgroup\": \"label=test_subject_07\", \"marker\": {\"color\": \"#FF6692\", \"size\": [0.0125, 0.025], \"sizemode\": \"area\", \"sizeref\": 6.25e-05, \"symbol\": \"circle\"}, \"mode\": \"markers\", \"name\": \"label=test_subject_07\", \"scene\": \"scene\", \"showlegend\": true, \"type\": \"scatter3d\", \"x\": [0.4058154405710742, -3.0752935260478678], \"y\": [0.22699293114059954, -1.666429988568278], \"z\": [-1.2037917863764964, -0.17761796480430034]}, {\"hoverlabel\": {\"namelength\": 0}, \"hovertemplate\": \"label=test_subject_08<br>component 1=%{x}<br>component 2=%{y}<br>component 3=%{z}<br>experiment=%{marker.size}\", \"legendgroup\": \"label=test_subject_08\", \"marker\": {\"color\": \"#B6E880\", \"size\": [0.0125, 0.025], \"sizemode\": \"area\", \"sizeref\": 6.25e-05, \"symbol\": \"circle\"}, \"mode\": \"markers\", \"name\": \"label=test_subject_08\", \"scene\": \"scene\", \"showlegend\": true, \"type\": \"scatter3d\", \"x\": [-2.4367663726011735, -3.8978894985763146], \"y\": [-3.9956120663551724, -2.5920855546169643], \"z\": [2.1394580318699323, -2.753882993163766]}, {\"hoverlabel\": {\"namelength\": 0}, \"hovertemplate\": \"label=test_subject_09<br>component 1=%{x}<br>component 2=%{y}<br>component 3=%{z}<br>experiment=%{marker.size}\", \"legendgroup\": \"label=test_subject_09\", \"marker\": {\"color\": \"#FF97FF\", \"size\": [0.0125, 0.025], \"sizemode\": \"area\", \"sizeref\": 6.25e-05, \"symbol\": \"circle\"}, \"mode\": \"markers\", \"name\": \"label=test_subject_09\", \"scene\": \"scene\", \"showlegend\": true, \"type\": \"scatter3d\", \"x\": [2.519418836663077, 2.50197427305126], \"y\": [-1.4274203694430179, -0.9727299845936227], \"z\": [3.292650500913286, 3.230781029127941]}, {\"hoverlabel\": {\"namelength\": 0}, \"hovertemplate\": \"label=test_subject_10<br>component 1=%{x}<br>component 2=%{y}<br>component 3=%{z}<br>experiment=%{marker.size}\", \"legendgroup\": \"label=test_subject_10\", \"marker\": {\"color\": \"#FECB52\", \"size\": [0.0125, 0.025], \"sizemode\": \"area\", \"sizeref\": 6.25e-05, \"symbol\": \"circle\"}, \"mode\": \"markers\", \"name\": \"label=test_subject_10\", \"scene\": \"scene\", \"showlegend\": true, \"type\": \"scatter3d\", \"x\": [3.601750952058749, 4.565516527432759], \"y\": [0.6610412640629897, 3.328484433337176], \"z\": [1.255204496320106, -0.5507649950377508]}, {\"hoverlabel\": {\"namelength\": 0}, \"hovertemplate\": \"label=test_subject_11<br>component 1=%{x}<br>component 2=%{y}<br>component 3=%{z}<br>experiment=%{marker.size}\", \"legendgroup\": \"label=test_subject_11\", \"marker\": {\"color\": \"#636efa\", \"size\": [0.0125, 0.025], \"sizemode\": \"area\", \"sizeref\": 6.25e-05, \"symbol\": \"circle\"}, \"mode\": \"markers\", \"name\": \"label=test_subject_11\", \"scene\": \"scene\", \"showlegend\": true, \"type\": \"scatter3d\", \"x\": [-3.148593806927992, -4.7035019153063935], \"y\": [-0.3404301316489655, -1.7361089758793642], \"z\": [-3.519891906782016, -2.722338490169199]}, {\"hoverlabel\": {\"namelength\": 0}, \"hovertemplate\": \"label=test_subject_12<br>component 1=%{x}<br>component 2=%{y}<br>component 3=%{z}<br>experiment=%{marker.size}\", \"legendgroup\": \"label=test_subject_12\", \"marker\": {\"color\": \"#EF553B\", \"size\": [0.0125, 0.025], \"sizemode\": \"area\", \"sizeref\": 6.25e-05, \"symbol\": \"circle\"}, \"mode\": \"markers\", \"name\": \"label=test_subject_12\", \"scene\": \"scene\", \"showlegend\": true, \"type\": \"scatter3d\", \"x\": [1.3474353044665641, 0.2067599600923668], \"y\": [-2.4506074994714306, -2.0529482423186685], \"z\": [5.331241537365959, 2.8941411451236903]}, {\"hoverlabel\": {\"namelength\": 0}, \"hovertemplate\": \"label=test_subject_13<br>component 1=%{x}<br>component 2=%{y}<br>component 3=%{z}<br>experiment=%{marker.size}\", \"legendgroup\": \"label=test_subject_13\", \"marker\": {\"color\": \"#00cc96\", \"size\": [0.0125, 0.025], \"sizemode\": \"area\", \"sizeref\": 6.25e-05, \"symbol\": \"circle\"}, \"mode\": \"markers\", \"name\": \"label=test_subject_13\", \"scene\": \"scene\", \"showlegend\": true, \"type\": \"scatter3d\", \"x\": [4.301020178137564, -0.7978472446486921], \"y\": [0.21750269766151512, -2.9287260017206083], \"z\": [1.8496031557995198, 1.7036127103435956]}, {\"hoverlabel\": {\"namelength\": 0}, \"hovertemplate\": \"label=test_subject_14<br>component 1=%{x}<br>component 2=%{y}<br>component 3=%{z}<br>experiment=%{marker.size}\", \"legendgroup\": \"label=test_subject_14\", \"marker\": {\"color\": \"#ab63fa\", \"size\": [0.0125, 0.025], \"sizemode\": \"area\", \"sizeref\": 6.25e-05, \"symbol\": \"circle\"}, \"mode\": \"markers\", \"name\": \"label=test_subject_14\", \"scene\": \"scene\", \"showlegend\": true, \"type\": \"scatter3d\", \"x\": [-2.3755450247925602, -1.5997483311937841], \"y\": [-3.810512238343499, -1.2698794058103318], \"z\": [2.521228712621004, -1.6448629687543885]}, {\"hoverlabel\": {\"namelength\": 0}, \"hovertemplate\": \"label=test_subject_15<br>component 1=%{x}<br>component 2=%{y}<br>component 3=%{z}<br>experiment=%{marker.size}\", \"legendgroup\": \"label=test_subject_15\", \"marker\": {\"color\": \"#FFA15A\", \"size\": [0.0125, 0.025], \"sizemode\": \"area\", \"sizeref\": 6.25e-05, \"symbol\": \"circle\"}, \"mode\": \"markers\", \"name\": \"label=test_subject_15\", \"scene\": \"scene\", \"showlegend\": true, \"type\": \"scatter3d\", \"x\": [0.04044701052232752, 3.2045812671654343], \"y\": [-0.07421311481176215, 1.1220249498411496], \"z\": [-4.788228727917581, -3.8595489772798497]}, {\"hoverlabel\": {\"namelength\": 0}, \"hovertemplate\": \"label=test_subject_16<br>component 1=%{x}<br>component 2=%{y}<br>component 3=%{z}<br>experiment=%{marker.size}\", \"legendgroup\": \"label=test_subject_16\", \"marker\": {\"color\": \"#19d3f3\", \"size\": [0.0125, 0.025], \"sizemode\": \"area\", \"sizeref\": 6.25e-05, \"symbol\": \"circle\"}, \"mode\": \"markers\", \"name\": \"label=test_subject_16\", \"scene\": \"scene\", \"showlegend\": true, \"type\": \"scatter3d\", \"x\": [1.1465219231449528, -2.057235123949641], \"y\": [0.9155415807859641, -0.520165287932949], \"z\": [-3.6266414790426063, -3.0744118222151786]}, {\"hoverlabel\": {\"namelength\": 0}, \"hovertemplate\": \"label=test_subject_17<br>component 1=%{x}<br>component 2=%{y}<br>component 3=%{z}<br>experiment=%{marker.size}\", \"legendgroup\": \"label=test_subject_17\", \"marker\": {\"color\": \"#FF6692\", \"size\": [0.0125, 0.025], \"sizemode\": \"area\", \"sizeref\": 6.25e-05, \"symbol\": \"circle\"}, \"mode\": \"markers\", \"name\": \"label=test_subject_17\", \"scene\": \"scene\", \"showlegend\": true, \"type\": \"scatter3d\", \"x\": [6.306916046369095, 5.270059943065036], \"y\": [0.9766899795709141, 1.1353321601471507], \"z\": [-2.3274990907396185, -1.9422403509076538]}, {\"hoverlabel\": {\"namelength\": 0}, \"hovertemplate\": \"label=test_subject_18<br>component 1=%{x}<br>component 2=%{y}<br>component 3=%{z}<br>experiment=%{marker.size}\", \"legendgroup\": \"label=test_subject_18\", \"marker\": {\"color\": \"#B6E880\", \"size\": [0.0125, 0.025], \"sizemode\": \"area\", \"sizeref\": 6.25e-05, \"symbol\": \"circle\"}, \"mode\": \"markers\", \"name\": \"label=test_subject_18\", \"scene\": \"scene\", \"showlegend\": true, \"type\": \"scatter3d\", \"x\": [0.7831031271284299, 5.595555706589995], \"y\": [-0.07138140672501991, 3.0067459583344007], \"z\": [1.728403330117732, -1.08358392566845]}, {\"hoverlabel\": {\"namelength\": 0}, \"hovertemplate\": \"label=test_subject_19<br>component 1=%{x}<br>component 2=%{y}<br>component 3=%{z}<br>experiment=%{marker.size}\", \"legendgroup\": \"label=test_subject_19\", \"marker\": {\"color\": \"#FF97FF\", \"size\": [0.0125, 0.025], \"sizemode\": \"area\", \"sizeref\": 6.25e-05, \"symbol\": \"circle\"}, \"mode\": \"markers\", \"name\": \"label=test_subject_19\", \"scene\": \"scene\", \"showlegend\": true, \"type\": \"scatter3d\", \"x\": [1.9250809877868034, 3.8361120296874995], \"y\": [0.8788357040066793, 2.2777691150738106], \"z\": [0.10824424919057017, -1.0455205750755336]}, {\"hoverlabel\": {\"namelength\": 0}, \"hovertemplate\": \"label=test_subject_20<br>component 1=%{x}<br>component 2=%{y}<br>component 3=%{z}<br>experiment=%{marker.size}\", \"legendgroup\": \"label=test_subject_20\", \"marker\": {\"color\": \"#FECB52\", \"size\": [0.0125, 0.025], \"sizemode\": \"area\", \"sizeref\": 6.25e-05, \"symbol\": \"circle\"}, \"mode\": \"markers\", \"name\": \"label=test_subject_20\", \"scene\": \"scene\", \"showlegend\": true, \"type\": \"scatter3d\", \"x\": [0.004850258260859156, 2.1201476924358142], \"y\": [-1.58860356073071, -1.1080143398827231], \"z\": [0.8673080108018277, 1.4712111565900572]}, {\"hoverlabel\": {\"namelength\": 0}, \"hovertemplate\": \"label=test_subject_21<br>component 1=%{x}<br>component 2=%{y}<br>component 3=%{z}<br>experiment=%{marker.size}\", \"legendgroup\": \"label=test_subject_21\", \"marker\": {\"color\": \"#636efa\", \"size\": [0.0125, 0.025], \"sizemode\": \"area\", \"sizeref\": 6.25e-05, \"symbol\": \"circle\"}, \"mode\": \"markers\", \"name\": \"label=test_subject_21\", \"scene\": \"scene\", \"showlegend\": true, \"type\": \"scatter3d\", \"x\": [1.0245452523887355, -3.9291794984548605], \"y\": [-0.9516510237477206, -1.2565947283676944], \"z\": [0.4900324838210455, 0.16782323165766982]}],\n",
       "                        {\"height\": 600, \"legend\": {\"itemsizing\": \"constant\", \"tracegroupgap\": 0}, \"margin\": {\"t\": 60}, \"scene\": {\"domain\": {\"x\": [0.0, 0.98], \"y\": [0.0, 1.0]}, \"xaxis\": {\"title\": {\"text\": \"component 1\"}}, \"yaxis\": {\"title\": {\"text\": \"component 2\"}}, \"zaxis\": {\"title\": {\"text\": \"component 3\"}}}, \"template\": {\"data\": {\"bar\": [{\"error_x\": {\"color\": \"#2a3f5f\"}, \"error_y\": {\"color\": \"#2a3f5f\"}, \"marker\": {\"line\": {\"color\": \"#E5ECF6\", \"width\": 0.5}}, \"type\": \"bar\"}], \"barpolar\": [{\"marker\": {\"line\": {\"color\": \"#E5ECF6\", \"width\": 0.5}}, \"type\": \"barpolar\"}], \"carpet\": [{\"aaxis\": {\"endlinecolor\": \"#2a3f5f\", \"gridcolor\": \"white\", \"linecolor\": \"white\", \"minorgridcolor\": \"white\", \"startlinecolor\": \"#2a3f5f\"}, \"baxis\": {\"endlinecolor\": \"#2a3f5f\", \"gridcolor\": \"white\", \"linecolor\": \"white\", \"minorgridcolor\": \"white\", \"startlinecolor\": \"#2a3f5f\"}, \"type\": \"carpet\"}], \"choropleth\": [{\"colorbar\": {\"outlinewidth\": 0, \"ticks\": \"\"}, \"type\": \"choropleth\"}], \"contour\": [{\"colorbar\": {\"outlinewidth\": 0, \"ticks\": \"\"}, \"colorscale\": [[0.0, \"#0d0887\"], [0.1111111111111111, \"#46039f\"], [0.2222222222222222, \"#7201a8\"], [0.3333333333333333, \"#9c179e\"], [0.4444444444444444, \"#bd3786\"], [0.5555555555555556, \"#d8576b\"], [0.6666666666666666, \"#ed7953\"], [0.7777777777777778, \"#fb9f3a\"], [0.8888888888888888, \"#fdca26\"], [1.0, \"#f0f921\"]], \"type\": \"contour\"}], \"contourcarpet\": [{\"colorbar\": {\"outlinewidth\": 0, \"ticks\": \"\"}, \"type\": \"contourcarpet\"}], \"heatmap\": [{\"colorbar\": {\"outlinewidth\": 0, \"ticks\": \"\"}, \"colorscale\": [[0.0, \"#0d0887\"], [0.1111111111111111, \"#46039f\"], [0.2222222222222222, \"#7201a8\"], [0.3333333333333333, \"#9c179e\"], [0.4444444444444444, \"#bd3786\"], [0.5555555555555556, \"#d8576b\"], [0.6666666666666666, \"#ed7953\"], [0.7777777777777778, \"#fb9f3a\"], [0.8888888888888888, \"#fdca26\"], [1.0, \"#f0f921\"]], \"type\": \"heatmap\"}], \"heatmapgl\": [{\"colorbar\": {\"outlinewidth\": 0, \"ticks\": \"\"}, \"colorscale\": [[0.0, \"#0d0887\"], [0.1111111111111111, \"#46039f\"], [0.2222222222222222, \"#7201a8\"], [0.3333333333333333, \"#9c179e\"], [0.4444444444444444, \"#bd3786\"], [0.5555555555555556, \"#d8576b\"], [0.6666666666666666, \"#ed7953\"], [0.7777777777777778, \"#fb9f3a\"], [0.8888888888888888, \"#fdca26\"], [1.0, \"#f0f921\"]], \"type\": \"heatmapgl\"}], \"histogram\": [{\"marker\": {\"colorbar\": {\"outlinewidth\": 0, \"ticks\": \"\"}}, \"type\": \"histogram\"}], \"histogram2d\": [{\"colorbar\": {\"outlinewidth\": 0, \"ticks\": \"\"}, \"colorscale\": [[0.0, \"#0d0887\"], [0.1111111111111111, \"#46039f\"], [0.2222222222222222, \"#7201a8\"], [0.3333333333333333, \"#9c179e\"], [0.4444444444444444, \"#bd3786\"], [0.5555555555555556, \"#d8576b\"], [0.6666666666666666, \"#ed7953\"], [0.7777777777777778, \"#fb9f3a\"], [0.8888888888888888, \"#fdca26\"], [1.0, \"#f0f921\"]], \"type\": \"histogram2d\"}], \"histogram2dcontour\": [{\"colorbar\": {\"outlinewidth\": 0, \"ticks\": \"\"}, \"colorscale\": [[0.0, \"#0d0887\"], [0.1111111111111111, \"#46039f\"], [0.2222222222222222, \"#7201a8\"], [0.3333333333333333, \"#9c179e\"], [0.4444444444444444, \"#bd3786\"], [0.5555555555555556, \"#d8576b\"], [0.6666666666666666, \"#ed7953\"], [0.7777777777777778, \"#fb9f3a\"], [0.8888888888888888, \"#fdca26\"], [1.0, \"#f0f921\"]], \"type\": \"histogram2dcontour\"}], \"mesh3d\": [{\"colorbar\": {\"outlinewidth\": 0, \"ticks\": \"\"}, \"type\": \"mesh3d\"}], \"parcoords\": [{\"line\": {\"colorbar\": {\"outlinewidth\": 0, \"ticks\": \"\"}}, \"type\": \"parcoords\"}], \"scatter\": [{\"marker\": {\"colorbar\": {\"outlinewidth\": 0, \"ticks\": \"\"}}, \"type\": \"scatter\"}], \"scatter3d\": [{\"line\": {\"colorbar\": {\"outlinewidth\": 0, \"ticks\": \"\"}}, \"marker\": {\"colorbar\": {\"outlinewidth\": 0, \"ticks\": \"\"}}, \"type\": \"scatter3d\"}], \"scattercarpet\": [{\"marker\": {\"colorbar\": {\"outlinewidth\": 0, \"ticks\": \"\"}}, \"type\": \"scattercarpet\"}], \"scattergeo\": [{\"marker\": {\"colorbar\": {\"outlinewidth\": 0, \"ticks\": \"\"}}, \"type\": \"scattergeo\"}], \"scattergl\": [{\"marker\": {\"colorbar\": {\"outlinewidth\": 0, \"ticks\": \"\"}}, \"type\": \"scattergl\"}], \"scattermapbox\": [{\"marker\": {\"colorbar\": {\"outlinewidth\": 0, \"ticks\": \"\"}}, \"type\": \"scattermapbox\"}], \"scatterpolar\": [{\"marker\": {\"colorbar\": {\"outlinewidth\": 0, \"ticks\": \"\"}}, \"type\": \"scatterpolar\"}], \"scatterpolargl\": [{\"marker\": {\"colorbar\": {\"outlinewidth\": 0, \"ticks\": \"\"}}, \"type\": \"scatterpolargl\"}], \"scatterternary\": [{\"marker\": {\"colorbar\": {\"outlinewidth\": 0, \"ticks\": \"\"}}, \"type\": \"scatterternary\"}], \"surface\": [{\"colorbar\": {\"outlinewidth\": 0, \"ticks\": \"\"}, \"colorscale\": [[0.0, \"#0d0887\"], [0.1111111111111111, \"#46039f\"], [0.2222222222222222, \"#7201a8\"], [0.3333333333333333, \"#9c179e\"], [0.4444444444444444, \"#bd3786\"], [0.5555555555555556, \"#d8576b\"], [0.6666666666666666, \"#ed7953\"], [0.7777777777777778, \"#fb9f3a\"], [0.8888888888888888, \"#fdca26\"], [1.0, \"#f0f921\"]], \"type\": \"surface\"}], \"table\": [{\"cells\": {\"fill\": {\"color\": \"#EBF0F8\"}, \"line\": {\"color\": \"white\"}}, \"header\": {\"fill\": {\"color\": \"#C8D4E3\"}, \"line\": {\"color\": \"white\"}}, \"type\": \"table\"}]}, \"layout\": {\"annotationdefaults\": {\"arrowcolor\": \"#2a3f5f\", \"arrowhead\": 0, \"arrowwidth\": 1}, \"colorscale\": {\"diverging\": [[0, \"#8e0152\"], [0.1, \"#c51b7d\"], [0.2, \"#de77ae\"], [0.3, \"#f1b6da\"], [0.4, \"#fde0ef\"], [0.5, \"#f7f7f7\"], [0.6, \"#e6f5d0\"], [0.7, \"#b8e186\"], [0.8, \"#7fbc41\"], [0.9, \"#4d9221\"], [1, \"#276419\"]], \"sequential\": [[0.0, \"#0d0887\"], [0.1111111111111111, \"#46039f\"], [0.2222222222222222, \"#7201a8\"], [0.3333333333333333, \"#9c179e\"], [0.4444444444444444, \"#bd3786\"], [0.5555555555555556, \"#d8576b\"], [0.6666666666666666, \"#ed7953\"], [0.7777777777777778, \"#fb9f3a\"], [0.8888888888888888, \"#fdca26\"], [1.0, \"#f0f921\"]], \"sequentialminus\": [[0.0, \"#0d0887\"], [0.1111111111111111, \"#46039f\"], [0.2222222222222222, \"#7201a8\"], [0.3333333333333333, \"#9c179e\"], [0.4444444444444444, \"#bd3786\"], [0.5555555555555556, \"#d8576b\"], [0.6666666666666666, \"#ed7953\"], [0.7777777777777778, \"#fb9f3a\"], [0.8888888888888888, \"#fdca26\"], [1.0, \"#f0f921\"]]}, \"colorway\": [\"#636efa\", \"#EF553B\", \"#00cc96\", \"#ab63fa\", \"#FFA15A\", \"#19d3f3\", \"#FF6692\", \"#B6E880\", \"#FF97FF\", \"#FECB52\"], \"font\": {\"color\": \"#2a3f5f\"}, \"geo\": {\"bgcolor\": \"white\", \"lakecolor\": \"white\", \"landcolor\": \"#E5ECF6\", \"showlakes\": true, \"showland\": true, \"subunitcolor\": \"white\"}, \"hoverlabel\": {\"align\": \"left\"}, \"hovermode\": \"closest\", \"mapbox\": {\"style\": \"light\"}, \"paper_bgcolor\": \"white\", \"plot_bgcolor\": \"#E5ECF6\", \"polar\": {\"angularaxis\": {\"gridcolor\": \"white\", \"linecolor\": \"white\", \"ticks\": \"\"}, \"bgcolor\": \"#E5ECF6\", \"radialaxis\": {\"gridcolor\": \"white\", \"linecolor\": \"white\", \"ticks\": \"\"}}, \"scene\": {\"xaxis\": {\"backgroundcolor\": \"#E5ECF6\", \"gridcolor\": \"white\", \"gridwidth\": 2, \"linecolor\": \"white\", \"showbackground\": true, \"ticks\": \"\", \"zerolinecolor\": \"white\"}, \"yaxis\": {\"backgroundcolor\": \"#E5ECF6\", \"gridcolor\": \"white\", \"gridwidth\": 2, \"linecolor\": \"white\", \"showbackground\": true, \"ticks\": \"\", \"zerolinecolor\": \"white\"}, \"zaxis\": {\"backgroundcolor\": \"#E5ECF6\", \"gridcolor\": \"white\", \"gridwidth\": 2, \"linecolor\": \"white\", \"showbackground\": true, \"ticks\": \"\", \"zerolinecolor\": \"white\"}}, \"shapedefaults\": {\"line\": {\"color\": \"#2a3f5f\"}}, \"ternary\": {\"aaxis\": {\"gridcolor\": \"white\", \"linecolor\": \"white\", \"ticks\": \"\"}, \"baxis\": {\"gridcolor\": \"white\", \"linecolor\": \"white\", \"ticks\": \"\"}, \"bgcolor\": \"#E5ECF6\", \"caxis\": {\"gridcolor\": \"white\", \"linecolor\": \"white\", \"ticks\": \"\"}}, \"title\": {\"x\": 0.05}, \"xaxis\": {\"automargin\": true, \"gridcolor\": \"white\", \"linecolor\": \"white\", \"ticks\": \"\", \"zerolinecolor\": \"white\", \"zerolinewidth\": 2}, \"yaxis\": {\"automargin\": true, \"gridcolor\": \"white\", \"linecolor\": \"white\", \"ticks\": \"\", \"zerolinecolor\": \"white\", \"zerolinewidth\": 2}}}},\n",
       "                        {\"responsive\": true}\n",
       "                    ).then(function(){\n",
       "                            \n",
       "var gd = document.getElementById('6e91f493-4012-49a7-8cb9-88f64aa91eca');\n",
       "var x = new MutationObserver(function (mutations, observer) {{\n",
       "        var display = window.getComputedStyle(gd).display;\n",
       "        if (!display || display === 'none') {{\n",
       "            console.log([gd, 'removed!']);\n",
       "            Plotly.purge(gd);\n",
       "            observer.disconnect();\n",
       "        }}\n",
       "}});\n",
       "\n",
       "// Listen for the removal of the full notebook cells\n",
       "var notebookContainer = gd.closest('#notebook-container');\n",
       "if (notebookContainer) {{\n",
       "    x.observe(notebookContainer, {childList: true});\n",
       "}}\n",
       "\n",
       "// Listen for the clearing of the current output cell\n",
       "var outputEl = gd.closest('.output');\n",
       "if (outputEl) {{\n",
       "    x.observe(outputEl, {childList: true});\n",
       "}}\n",
       "\n",
       "                        })\n",
       "                };\n",
       "                });\n",
       "            </script>\n",
       "        </div>"
      ]
     },
     "metadata": {},
     "output_type": "display_data"
    },
    {
     "name": "stdout",
     "output_type": "stream",
     "text": [
      "[0.23382361 0.18722177 0.08463521]\n"
     ]
    },
    {
     "data": {
      "application/vnd.plotly.v1+json": {
       "config": {
        "plotlyServerURL": "https://plot.ly"
       },
       "data": [
        {
         "hoverlabel": {
          "namelength": 0
         },
         "hovertemplate": "label=test_subject_01<br>component 1=%{x}<br>component 2=%{y}<br>component 3=%{z}<br>experiment=%{marker.size}",
         "legendgroup": "label=test_subject_01",
         "marker": {
          "color": "#636efa",
          "size": [
           0.0125,
           0.025
          ],
          "sizemode": "area",
          "sizeref": 6.25e-05,
          "symbol": "circle"
         },
         "mode": "markers",
         "name": "label=test_subject_01",
         "scene": "scene",
         "showlegend": true,
         "type": "scatter3d",
         "x": [
          -1.2179742180672317,
          -1.2206004914401634
         ],
         "y": [
          -0.7059568821858473,
          0.65323563887741
         ],
         "z": [
          -0.6430963702796834,
          3.669024661795089
         ]
        },
        {
         "hoverlabel": {
          "namelength": 0
         },
         "hovertemplate": "label=test_subject_02<br>component 1=%{x}<br>component 2=%{y}<br>component 3=%{z}<br>experiment=%{marker.size}",
         "legendgroup": "label=test_subject_02",
         "marker": {
          "color": "#EF553B",
          "size": [
           0.0125,
           0.025
          ],
          "sizemode": "area",
          "sizeref": 6.25e-05,
          "symbol": "circle"
         },
         "mode": "markers",
         "name": "label=test_subject_02",
         "scene": "scene",
         "showlegend": true,
         "type": "scatter3d",
         "x": [
          -10.280303749125812,
          -11.29252322109339
         ],
         "y": [
          2.7942357489489225,
          3.3101656941703204
         ],
         "z": [
          2.8737588649081207,
          4.117900081582933
         ]
        },
        {
         "hoverlabel": {
          "namelength": 0
         },
         "hovertemplate": "label=test_subject_03<br>component 1=%{x}<br>component 2=%{y}<br>component 3=%{z}<br>experiment=%{marker.size}",
         "legendgroup": "label=test_subject_03",
         "marker": {
          "color": "#00cc96",
          "size": [
           0.0125,
           0.025
          ],
          "sizemode": "area",
          "sizeref": 6.25e-05,
          "symbol": "circle"
         },
         "mode": "markers",
         "name": "label=test_subject_03",
         "scene": "scene",
         "showlegend": true,
         "type": "scatter3d",
         "x": [
          -6.662227267975733,
          1.8466316498756852
         ],
         "y": [
          4.17734886252707,
          -1.0542976340889634
         ],
         "z": [
          -4.099528978185563,
          0.8272876291682449
         ]
        },
        {
         "hoverlabel": {
          "namelength": 0
         },
         "hovertemplate": "label=test_subject_04<br>component 1=%{x}<br>component 2=%{y}<br>component 3=%{z}<br>experiment=%{marker.size}",
         "legendgroup": "label=test_subject_04",
         "marker": {
          "color": "#ab63fa",
          "size": [
           0.0125,
           0.025
          ],
          "sizemode": "area",
          "sizeref": 6.25e-05,
          "symbol": "circle"
         },
         "mode": "markers",
         "name": "label=test_subject_04",
         "scene": "scene",
         "showlegend": true,
         "type": "scatter3d",
         "x": [
          0.12365972242370624,
          -0.1588014150939293
         ],
         "y": [
          -1.0919548980415477,
          -0.9589742357630173
         ],
         "z": [
          -0.2980354267811163,
          -0.4637903471206878
         ]
        },
        {
         "hoverlabel": {
          "namelength": 0
         },
         "hovertemplate": "label=test_subject_05<br>component 1=%{x}<br>component 2=%{y}<br>component 3=%{z}<br>experiment=%{marker.size}",
         "legendgroup": "label=test_subject_05",
         "marker": {
          "color": "#FFA15A",
          "size": [
           0.0125,
           0.025
          ],
          "sizemode": "area",
          "sizeref": 6.25e-05,
          "symbol": "circle"
         },
         "mode": "markers",
         "name": "label=test_subject_05",
         "scene": "scene",
         "showlegend": true,
         "type": "scatter3d",
         "x": [
          1.0268969200945612,
          1.0791841973395448
         ],
         "y": [
          -2.09904114989845,
          -1.0928723867575654
         ],
         "z": [
          0.44563523579833236,
          -0.4378500465872635
         ]
        },
        {
         "hoverlabel": {
          "namelength": 0
         },
         "hovertemplate": "label=test_subject_06<br>component 1=%{x}<br>component 2=%{y}<br>component 3=%{z}<br>experiment=%{marker.size}",
         "legendgroup": "label=test_subject_06",
         "marker": {
          "color": "#19d3f3",
          "size": [
           0.0125,
           0.025
          ],
          "sizemode": "area",
          "sizeref": 6.25e-05,
          "symbol": "circle"
         },
         "mode": "markers",
         "name": "label=test_subject_06",
         "scene": "scene",
         "showlegend": true,
         "type": "scatter3d",
         "x": [
          3.2160573959075274,
          -1.3100257699762663
         ],
         "y": [
          8.235059715931719,
          11.398894174876935
         ],
         "z": [
          -5.542615816049884,
          -4.108333179709157
         ]
        },
        {
         "hoverlabel": {
          "namelength": 0
         },
         "hovertemplate": "label=test_subject_07<br>component 1=%{x}<br>component 2=%{y}<br>component 3=%{z}<br>experiment=%{marker.size}",
         "legendgroup": "label=test_subject_07",
         "marker": {
          "color": "#FF6692",
          "size": [
           0.0125,
           0.025
          ],
          "sizemode": "area",
          "sizeref": 6.25e-05,
          "symbol": "circle"
         },
         "mode": "markers",
         "name": "label=test_subject_07",
         "scene": "scene",
         "showlegend": true,
         "type": "scatter3d",
         "x": [
          2.406312618272065,
          1.2252591113068094
         ],
         "y": [
          -2.756237006204306,
          -0.49713534076965654
         ],
         "z": [
          -0.4237530404376207,
          -0.8238212890676031
         ]
        },
        {
         "hoverlabel": {
          "namelength": 0
         },
         "hovertemplate": "label=test_subject_08<br>component 1=%{x}<br>component 2=%{y}<br>component 3=%{z}<br>experiment=%{marker.size}",
         "legendgroup": "label=test_subject_08",
         "marker": {
          "color": "#B6E880",
          "size": [
           0.0125
          ],
          "sizemode": "area",
          "sizeref": 6.25e-05,
          "symbol": "circle"
         },
         "mode": "markers",
         "name": "label=test_subject_08",
         "scene": "scene",
         "showlegend": true,
         "type": "scatter3d",
         "x": [
          0.9046222680187778
         ],
         "y": [
          -0.35481851658726676
         ],
         "z": [
          -0.0300946054637774
         ]
        },
        {
         "hoverlabel": {
          "namelength": 0
         },
         "hovertemplate": "label=test_subject_09<br>component 1=%{x}<br>component 2=%{y}<br>component 3=%{z}<br>experiment=%{marker.size}",
         "legendgroup": "label=test_subject_09",
         "marker": {
          "color": "#FF97FF",
          "size": [
           0.0125,
           0.025
          ],
          "sizemode": "area",
          "sizeref": 6.25e-05,
          "symbol": "circle"
         },
         "mode": "markers",
         "name": "label=test_subject_09",
         "scene": "scene",
         "showlegend": true,
         "type": "scatter3d",
         "x": [
          0.13522442863963566,
          1.447398678440792
         ],
         "y": [
          -2.2050519290764257,
          -2.2288529045077796
         ],
         "z": [
          0.40791504311140375,
          -0.7720406011306049
         ]
        },
        {
         "hoverlabel": {
          "namelength": 0
         },
         "hovertemplate": "label=test_subject_10<br>component 1=%{x}<br>component 2=%{y}<br>component 3=%{z}<br>experiment=%{marker.size}",
         "legendgroup": "label=test_subject_10",
         "marker": {
          "color": "#FECB52",
          "size": [
           0.0125,
           0.025
          ],
          "sizemode": "area",
          "sizeref": 6.25e-05,
          "symbol": "circle"
         },
         "mode": "markers",
         "name": "label=test_subject_10",
         "scene": "scene",
         "showlegend": true,
         "type": "scatter3d",
         "x": [
          -2.3284724784326327,
          -2.671973721396493
         ],
         "y": [
          0.5132668847711023,
          1.014893553317733
         ],
         "z": [
          1.0493956175385373,
          1.1046270412215122
         ]
        },
        {
         "hoverlabel": {
          "namelength": 0
         },
         "hovertemplate": "label=test_subject_11<br>component 1=%{x}<br>component 2=%{y}<br>component 3=%{z}<br>experiment=%{marker.size}",
         "legendgroup": "label=test_subject_11",
         "marker": {
          "color": "#636efa",
          "size": [
           0.0125,
           0.025
          ],
          "sizemode": "area",
          "sizeref": 6.25e-05,
          "symbol": "circle"
         },
         "mode": "markers",
         "name": "label=test_subject_11",
         "scene": "scene",
         "showlegend": true,
         "type": "scatter3d",
         "x": [
          -0.18401862009393777,
          -1.0218256201354063
         ],
         "y": [
          -1.7581972708123559,
          -1.4456503131607652
         ],
         "z": [
          -2.905236284171847,
          -2.3849878760074477
         ]
        },
        {
         "hoverlabel": {
          "namelength": 0
         },
         "hovertemplate": "label=test_subject_12<br>component 1=%{x}<br>component 2=%{y}<br>component 3=%{z}<br>experiment=%{marker.size}",
         "legendgroup": "label=test_subject_12",
         "marker": {
          "color": "#EF553B",
          "size": [
           0.0125,
           0.025
          ],
          "sizemode": "area",
          "sizeref": 6.25e-05,
          "symbol": "circle"
         },
         "mode": "markers",
         "name": "label=test_subject_12",
         "scene": "scene",
         "showlegend": true,
         "type": "scatter3d",
         "x": [
          2.217381874755691,
          2.907965118488838
         ],
         "y": [
          -1.6295849017723198,
          -1.1556606057251761
         ],
         "z": [
          -1.3865748090536845,
          -0.16708445192521482
         ]
        },
        {
         "hoverlabel": {
          "namelength": 0
         },
         "hovertemplate": "label=test_subject_13<br>component 1=%{x}<br>component 2=%{y}<br>component 3=%{z}<br>experiment=%{marker.size}",
         "legendgroup": "label=test_subject_13",
         "marker": {
          "color": "#00cc96",
          "size": [
           0.0125,
           0.025
          ],
          "sizemode": "area",
          "sizeref": 6.25e-05,
          "symbol": "circle"
         },
         "mode": "markers",
         "name": "label=test_subject_13",
         "scene": "scene",
         "showlegend": true,
         "type": "scatter3d",
         "x": [
          4.60452919122362,
          0.8202325093915444
         ],
         "y": [
          -1.6067417759498748,
          -2.7289666816736604
         ],
         "z": [
          0.44960297078532435,
          0.20194342174996158
         ]
        },
        {
         "hoverlabel": {
          "namelength": 0
         },
         "hovertemplate": "label=test_subject_14<br>component 1=%{x}<br>component 2=%{y}<br>component 3=%{z}<br>experiment=%{marker.size}",
         "legendgroup": "label=test_subject_14",
         "marker": {
          "color": "#ab63fa",
          "size": [
           0.0125,
           0.025
          ],
          "sizemode": "area",
          "sizeref": 6.25e-05,
          "symbol": "circle"
         },
         "mode": "markers",
         "name": "label=test_subject_14",
         "scene": "scene",
         "showlegend": true,
         "type": "scatter3d",
         "x": [
          12.0054870208061,
          -0.40707587366682974
         ],
         "y": [
          10.696538542439534,
          -0.11367753274899199
         ],
         "z": [
          6.1680380144474265,
          0.3991005063256931
         ]
        },
        {
         "hoverlabel": {
          "namelength": 0
         },
         "hovertemplate": "label=test_subject_15<br>component 1=%{x}<br>component 2=%{y}<br>component 3=%{z}<br>experiment=%{marker.size}",
         "legendgroup": "label=test_subject_15",
         "marker": {
          "color": "#FFA15A",
          "size": [
           0.0125,
           0.025
          ],
          "sizemode": "area",
          "sizeref": 6.25e-05,
          "symbol": "circle"
         },
         "mode": "markers",
         "name": "label=test_subject_15",
         "scene": "scene",
         "showlegend": true,
         "type": "scatter3d",
         "x": [
          1.210864554935267,
          0.18667135703948368
         ],
         "y": [
          -1.221042071411697,
          -1.3944211321363285
         ],
         "z": [
          1.5495523926964179,
          0.45948239347834613
         ]
        },
        {
         "hoverlabel": {
          "namelength": 0
         },
         "hovertemplate": "label=test_subject_16<br>component 1=%{x}<br>component 2=%{y}<br>component 3=%{z}<br>experiment=%{marker.size}",
         "legendgroup": "label=test_subject_16",
         "marker": {
          "color": "#19d3f3",
          "size": [
           0.0125,
           0.025
          ],
          "sizemode": "area",
          "sizeref": 6.25e-05,
          "symbol": "circle"
         },
         "mode": "markers",
         "name": "label=test_subject_16",
         "scene": "scene",
         "showlegend": true,
         "type": "scatter3d",
         "x": [
          -0.5423798432125259,
          0.8428600215274542
         ],
         "y": [
          -1.8322623837071685,
          -1.6703242526966036
         ],
         "z": [
          -2.876447296320404,
          -0.7858106921685412
         ]
        },
        {
         "hoverlabel": {
          "namelength": 0
         },
         "hovertemplate": "label=test_subject_17<br>component 1=%{x}<br>component 2=%{y}<br>component 3=%{z}<br>experiment=%{marker.size}",
         "legendgroup": "label=test_subject_17",
         "marker": {
          "color": "#FF6692",
          "size": [
           0.0125,
           0.025
          ],
          "sizemode": "area",
          "sizeref": 6.25e-05,
          "symbol": "circle"
         },
         "mode": "markers",
         "name": "label=test_subject_17",
         "scene": "scene",
         "showlegend": true,
         "type": "scatter3d",
         "x": [
          -1.4561478619257597,
          -0.8430952625679059
         ],
         "y": [
          -1.683664858387539,
          -1.1598794309323368
         ],
         "z": [
          -0.05499249298323073,
          2.198343766436341
         ]
        },
        {
         "hoverlabel": {
          "namelength": 0
         },
         "hovertemplate": "label=test_subject_18<br>component 1=%{x}<br>component 2=%{y}<br>component 3=%{z}<br>experiment=%{marker.size}",
         "legendgroup": "label=test_subject_18",
         "marker": {
          "color": "#B6E880",
          "size": [
           0.0125,
           0.025
          ],
          "sizemode": "area",
          "sizeref": 6.25e-05,
          "symbol": "circle"
         },
         "mode": "markers",
         "name": "label=test_subject_18",
         "scene": "scene",
         "showlegend": true,
         "type": "scatter3d",
         "x": [
          -1.061009661415208,
          -2.2760524155962067
         ],
         "y": [
          -0.08927294149486527,
          0.12709453667599788
         ],
         "z": [
          1.017438035308555,
          1.5323480998227337
         ]
        },
        {
         "hoverlabel": {
          "namelength": 0
         },
         "hovertemplate": "label=test_subject_19<br>component 1=%{x}<br>component 2=%{y}<br>component 3=%{z}<br>experiment=%{marker.size}",
         "legendgroup": "label=test_subject_19",
         "marker": {
          "color": "#FF97FF",
          "size": [
           0.0125,
           0.025
          ],
          "sizemode": "area",
          "sizeref": 6.25e-05,
          "symbol": "circle"
         },
         "mode": "markers",
         "name": "label=test_subject_19",
         "scene": "scene",
         "showlegend": true,
         "type": "scatter3d",
         "x": [
          1.809155297406524,
          1.4923914530946536
         ],
         "y": [
          -0.5780034215333271,
          -0.5566284024713655
         ],
         "z": [
          0.629982109121495,
          1.7343616378840234
         ]
        },
        {
         "hoverlabel": {
          "namelength": 0
         },
         "hovertemplate": "label=test_subject_20<br>component 1=%{x}<br>component 2=%{y}<br>component 3=%{z}<br>experiment=%{marker.size}",
         "legendgroup": "label=test_subject_20",
         "marker": {
          "color": "#FECB52",
          "size": [
           0.0125,
           0.025
          ],
          "sizemode": "area",
          "sizeref": 6.25e-05,
          "symbol": "circle"
         },
         "mode": "markers",
         "name": "label=test_subject_20",
         "scene": "scene",
         "showlegend": true,
         "type": "scatter3d",
         "x": [
          -2.047668945864322,
          1.1868901917856942
         ],
         "y": [
          -1.2088916618683212,
          -1.1822776377883513
         ],
         "z": [
          -0.45934870074257733,
          0.9198977901458735
         ]
        },
        {
         "hoverlabel": {
          "namelength": 0
         },
         "hovertemplate": "label=test_subject_21<br>component 1=%{x}<br>component 2=%{y}<br>component 3=%{z}<br>experiment=%{marker.size}",
         "legendgroup": "label=test_subject_21",
         "marker": {
          "color": "#636efa",
          "size": [
           0.0125,
           0.025
          ],
          "sizemode": "area",
          "sizeref": 6.25e-05,
          "symbol": "circle"
         },
         "mode": "markers",
         "name": "label=test_subject_21",
         "scene": "scene",
         "showlegend": true,
         "type": "scatter3d",
         "x": [
          2.6018410789470092,
          1.6846597773587741
         ],
         "y": [
          -3.4486395574949813,
          -1.4117536348898805
         ],
         "z": [
          -0.8398657450356387,
          -2.2523272641048115
         ]
        }
       ],
       "layout": {
        "height": 600,
        "legend": {
         "itemsizing": "constant",
         "tracegroupgap": 0
        },
        "margin": {
         "t": 60
        },
        "scene": {
         "domain": {
          "x": [
           0,
           0.98
          ],
          "y": [
           0,
           1
          ]
         },
         "xaxis": {
          "title": {
           "text": "component 1"
          }
         },
         "yaxis": {
          "title": {
           "text": "component 2"
          }
         },
         "zaxis": {
          "title": {
           "text": "component 3"
          }
         }
        },
        "template": {
         "data": {
          "bar": [
           {
            "error_x": {
             "color": "#2a3f5f"
            },
            "error_y": {
             "color": "#2a3f5f"
            },
            "marker": {
             "line": {
              "color": "#E5ECF6",
              "width": 0.5
             }
            },
            "type": "bar"
           }
          ],
          "barpolar": [
           {
            "marker": {
             "line": {
              "color": "#E5ECF6",
              "width": 0.5
             }
            },
            "type": "barpolar"
           }
          ],
          "carpet": [
           {
            "aaxis": {
             "endlinecolor": "#2a3f5f",
             "gridcolor": "white",
             "linecolor": "white",
             "minorgridcolor": "white",
             "startlinecolor": "#2a3f5f"
            },
            "baxis": {
             "endlinecolor": "#2a3f5f",
             "gridcolor": "white",
             "linecolor": "white",
             "minorgridcolor": "white",
             "startlinecolor": "#2a3f5f"
            },
            "type": "carpet"
           }
          ],
          "choropleth": [
           {
            "colorbar": {
             "outlinewidth": 0,
             "ticks": ""
            },
            "type": "choropleth"
           }
          ],
          "contour": [
           {
            "colorbar": {
             "outlinewidth": 0,
             "ticks": ""
            },
            "colorscale": [
             [
              0,
              "#0d0887"
             ],
             [
              0.1111111111111111,
              "#46039f"
             ],
             [
              0.2222222222222222,
              "#7201a8"
             ],
             [
              0.3333333333333333,
              "#9c179e"
             ],
             [
              0.4444444444444444,
              "#bd3786"
             ],
             [
              0.5555555555555556,
              "#d8576b"
             ],
             [
              0.6666666666666666,
              "#ed7953"
             ],
             [
              0.7777777777777778,
              "#fb9f3a"
             ],
             [
              0.8888888888888888,
              "#fdca26"
             ],
             [
              1,
              "#f0f921"
             ]
            ],
            "type": "contour"
           }
          ],
          "contourcarpet": [
           {
            "colorbar": {
             "outlinewidth": 0,
             "ticks": ""
            },
            "type": "contourcarpet"
           }
          ],
          "heatmap": [
           {
            "colorbar": {
             "outlinewidth": 0,
             "ticks": ""
            },
            "colorscale": [
             [
              0,
              "#0d0887"
             ],
             [
              0.1111111111111111,
              "#46039f"
             ],
             [
              0.2222222222222222,
              "#7201a8"
             ],
             [
              0.3333333333333333,
              "#9c179e"
             ],
             [
              0.4444444444444444,
              "#bd3786"
             ],
             [
              0.5555555555555556,
              "#d8576b"
             ],
             [
              0.6666666666666666,
              "#ed7953"
             ],
             [
              0.7777777777777778,
              "#fb9f3a"
             ],
             [
              0.8888888888888888,
              "#fdca26"
             ],
             [
              1,
              "#f0f921"
             ]
            ],
            "type": "heatmap"
           }
          ],
          "heatmapgl": [
           {
            "colorbar": {
             "outlinewidth": 0,
             "ticks": ""
            },
            "colorscale": [
             [
              0,
              "#0d0887"
             ],
             [
              0.1111111111111111,
              "#46039f"
             ],
             [
              0.2222222222222222,
              "#7201a8"
             ],
             [
              0.3333333333333333,
              "#9c179e"
             ],
             [
              0.4444444444444444,
              "#bd3786"
             ],
             [
              0.5555555555555556,
              "#d8576b"
             ],
             [
              0.6666666666666666,
              "#ed7953"
             ],
             [
              0.7777777777777778,
              "#fb9f3a"
             ],
             [
              0.8888888888888888,
              "#fdca26"
             ],
             [
              1,
              "#f0f921"
             ]
            ],
            "type": "heatmapgl"
           }
          ],
          "histogram": [
           {
            "marker": {
             "colorbar": {
              "outlinewidth": 0,
              "ticks": ""
             }
            },
            "type": "histogram"
           }
          ],
          "histogram2d": [
           {
            "colorbar": {
             "outlinewidth": 0,
             "ticks": ""
            },
            "colorscale": [
             [
              0,
              "#0d0887"
             ],
             [
              0.1111111111111111,
              "#46039f"
             ],
             [
              0.2222222222222222,
              "#7201a8"
             ],
             [
              0.3333333333333333,
              "#9c179e"
             ],
             [
              0.4444444444444444,
              "#bd3786"
             ],
             [
              0.5555555555555556,
              "#d8576b"
             ],
             [
              0.6666666666666666,
              "#ed7953"
             ],
             [
              0.7777777777777778,
              "#fb9f3a"
             ],
             [
              0.8888888888888888,
              "#fdca26"
             ],
             [
              1,
              "#f0f921"
             ]
            ],
            "type": "histogram2d"
           }
          ],
          "histogram2dcontour": [
           {
            "colorbar": {
             "outlinewidth": 0,
             "ticks": ""
            },
            "colorscale": [
             [
              0,
              "#0d0887"
             ],
             [
              0.1111111111111111,
              "#46039f"
             ],
             [
              0.2222222222222222,
              "#7201a8"
             ],
             [
              0.3333333333333333,
              "#9c179e"
             ],
             [
              0.4444444444444444,
              "#bd3786"
             ],
             [
              0.5555555555555556,
              "#d8576b"
             ],
             [
              0.6666666666666666,
              "#ed7953"
             ],
             [
              0.7777777777777778,
              "#fb9f3a"
             ],
             [
              0.8888888888888888,
              "#fdca26"
             ],
             [
              1,
              "#f0f921"
             ]
            ],
            "type": "histogram2dcontour"
           }
          ],
          "mesh3d": [
           {
            "colorbar": {
             "outlinewidth": 0,
             "ticks": ""
            },
            "type": "mesh3d"
           }
          ],
          "parcoords": [
           {
            "line": {
             "colorbar": {
              "outlinewidth": 0,
              "ticks": ""
             }
            },
            "type": "parcoords"
           }
          ],
          "scatter": [
           {
            "marker": {
             "colorbar": {
              "outlinewidth": 0,
              "ticks": ""
             }
            },
            "type": "scatter"
           }
          ],
          "scatter3d": [
           {
            "line": {
             "colorbar": {
              "outlinewidth": 0,
              "ticks": ""
             }
            },
            "marker": {
             "colorbar": {
              "outlinewidth": 0,
              "ticks": ""
             }
            },
            "type": "scatter3d"
           }
          ],
          "scattercarpet": [
           {
            "marker": {
             "colorbar": {
              "outlinewidth": 0,
              "ticks": ""
             }
            },
            "type": "scattercarpet"
           }
          ],
          "scattergeo": [
           {
            "marker": {
             "colorbar": {
              "outlinewidth": 0,
              "ticks": ""
             }
            },
            "type": "scattergeo"
           }
          ],
          "scattergl": [
           {
            "marker": {
             "colorbar": {
              "outlinewidth": 0,
              "ticks": ""
             }
            },
            "type": "scattergl"
           }
          ],
          "scattermapbox": [
           {
            "marker": {
             "colorbar": {
              "outlinewidth": 0,
              "ticks": ""
             }
            },
            "type": "scattermapbox"
           }
          ],
          "scatterpolar": [
           {
            "marker": {
             "colorbar": {
              "outlinewidth": 0,
              "ticks": ""
             }
            },
            "type": "scatterpolar"
           }
          ],
          "scatterpolargl": [
           {
            "marker": {
             "colorbar": {
              "outlinewidth": 0,
              "ticks": ""
             }
            },
            "type": "scatterpolargl"
           }
          ],
          "scatterternary": [
           {
            "marker": {
             "colorbar": {
              "outlinewidth": 0,
              "ticks": ""
             }
            },
            "type": "scatterternary"
           }
          ],
          "surface": [
           {
            "colorbar": {
             "outlinewidth": 0,
             "ticks": ""
            },
            "colorscale": [
             [
              0,
              "#0d0887"
             ],
             [
              0.1111111111111111,
              "#46039f"
             ],
             [
              0.2222222222222222,
              "#7201a8"
             ],
             [
              0.3333333333333333,
              "#9c179e"
             ],
             [
              0.4444444444444444,
              "#bd3786"
             ],
             [
              0.5555555555555556,
              "#d8576b"
             ],
             [
              0.6666666666666666,
              "#ed7953"
             ],
             [
              0.7777777777777778,
              "#fb9f3a"
             ],
             [
              0.8888888888888888,
              "#fdca26"
             ],
             [
              1,
              "#f0f921"
             ]
            ],
            "type": "surface"
           }
          ],
          "table": [
           {
            "cells": {
             "fill": {
              "color": "#EBF0F8"
             },
             "line": {
              "color": "white"
             }
            },
            "header": {
             "fill": {
              "color": "#C8D4E3"
             },
             "line": {
              "color": "white"
             }
            },
            "type": "table"
           }
          ]
         },
         "layout": {
          "annotationdefaults": {
           "arrowcolor": "#2a3f5f",
           "arrowhead": 0,
           "arrowwidth": 1
          },
          "colorscale": {
           "diverging": [
            [
             0,
             "#8e0152"
            ],
            [
             0.1,
             "#c51b7d"
            ],
            [
             0.2,
             "#de77ae"
            ],
            [
             0.3,
             "#f1b6da"
            ],
            [
             0.4,
             "#fde0ef"
            ],
            [
             0.5,
             "#f7f7f7"
            ],
            [
             0.6,
             "#e6f5d0"
            ],
            [
             0.7,
             "#b8e186"
            ],
            [
             0.8,
             "#7fbc41"
            ],
            [
             0.9,
             "#4d9221"
            ],
            [
             1,
             "#276419"
            ]
           ],
           "sequential": [
            [
             0,
             "#0d0887"
            ],
            [
             0.1111111111111111,
             "#46039f"
            ],
            [
             0.2222222222222222,
             "#7201a8"
            ],
            [
             0.3333333333333333,
             "#9c179e"
            ],
            [
             0.4444444444444444,
             "#bd3786"
            ],
            [
             0.5555555555555556,
             "#d8576b"
            ],
            [
             0.6666666666666666,
             "#ed7953"
            ],
            [
             0.7777777777777778,
             "#fb9f3a"
            ],
            [
             0.8888888888888888,
             "#fdca26"
            ],
            [
             1,
             "#f0f921"
            ]
           ],
           "sequentialminus": [
            [
             0,
             "#0d0887"
            ],
            [
             0.1111111111111111,
             "#46039f"
            ],
            [
             0.2222222222222222,
             "#7201a8"
            ],
            [
             0.3333333333333333,
             "#9c179e"
            ],
            [
             0.4444444444444444,
             "#bd3786"
            ],
            [
             0.5555555555555556,
             "#d8576b"
            ],
            [
             0.6666666666666666,
             "#ed7953"
            ],
            [
             0.7777777777777778,
             "#fb9f3a"
            ],
            [
             0.8888888888888888,
             "#fdca26"
            ],
            [
             1,
             "#f0f921"
            ]
           ]
          },
          "colorway": [
           "#636efa",
           "#EF553B",
           "#00cc96",
           "#ab63fa",
           "#FFA15A",
           "#19d3f3",
           "#FF6692",
           "#B6E880",
           "#FF97FF",
           "#FECB52"
          ],
          "font": {
           "color": "#2a3f5f"
          },
          "geo": {
           "bgcolor": "white",
           "lakecolor": "white",
           "landcolor": "#E5ECF6",
           "showlakes": true,
           "showland": true,
           "subunitcolor": "white"
          },
          "hoverlabel": {
           "align": "left"
          },
          "hovermode": "closest",
          "mapbox": {
           "style": "light"
          },
          "paper_bgcolor": "white",
          "plot_bgcolor": "#E5ECF6",
          "polar": {
           "angularaxis": {
            "gridcolor": "white",
            "linecolor": "white",
            "ticks": ""
           },
           "bgcolor": "#E5ECF6",
           "radialaxis": {
            "gridcolor": "white",
            "linecolor": "white",
            "ticks": ""
           }
          },
          "scene": {
           "xaxis": {
            "backgroundcolor": "#E5ECF6",
            "gridcolor": "white",
            "gridwidth": 2,
            "linecolor": "white",
            "showbackground": true,
            "ticks": "",
            "zerolinecolor": "white"
           },
           "yaxis": {
            "backgroundcolor": "#E5ECF6",
            "gridcolor": "white",
            "gridwidth": 2,
            "linecolor": "white",
            "showbackground": true,
            "ticks": "",
            "zerolinecolor": "white"
           },
           "zaxis": {
            "backgroundcolor": "#E5ECF6",
            "gridcolor": "white",
            "gridwidth": 2,
            "linecolor": "white",
            "showbackground": true,
            "ticks": "",
            "zerolinecolor": "white"
           }
          },
          "shapedefaults": {
           "line": {
            "color": "#2a3f5f"
           }
          },
          "ternary": {
           "aaxis": {
            "gridcolor": "white",
            "linecolor": "white",
            "ticks": ""
           },
           "baxis": {
            "gridcolor": "white",
            "linecolor": "white",
            "ticks": ""
           },
           "bgcolor": "#E5ECF6",
           "caxis": {
            "gridcolor": "white",
            "linecolor": "white",
            "ticks": ""
           }
          },
          "title": {
           "x": 0.05
          },
          "xaxis": {
           "automargin": true,
           "gridcolor": "white",
           "linecolor": "white",
           "ticks": "",
           "zerolinecolor": "white",
           "zerolinewidth": 2
          },
          "yaxis": {
           "automargin": true,
           "gridcolor": "white",
           "linecolor": "white",
           "ticks": "",
           "zerolinecolor": "white",
           "zerolinewidth": 2
          }
         }
        }
       }
      },
      "text/html": [
       "<div>\n",
       "        \n",
       "        \n",
       "            <div id=\"b7b9d0a9-bfc2-46c1-bf62-3dfd07fb390f\" class=\"plotly-graph-div\" style=\"height:600px; width:100%;\"></div>\n",
       "            <script type=\"text/javascript\">\n",
       "                require([\"plotly\"], function(Plotly) {\n",
       "                    window.PLOTLYENV=window.PLOTLYENV || {};\n",
       "                    \n",
       "                if (document.getElementById(\"b7b9d0a9-bfc2-46c1-bf62-3dfd07fb390f\")) {\n",
       "                    Plotly.newPlot(\n",
       "                        'b7b9d0a9-bfc2-46c1-bf62-3dfd07fb390f',\n",
       "                        [{\"hoverlabel\": {\"namelength\": 0}, \"hovertemplate\": \"label=test_subject_01<br>component 1=%{x}<br>component 2=%{y}<br>component 3=%{z}<br>experiment=%{marker.size}\", \"legendgroup\": \"label=test_subject_01\", \"marker\": {\"color\": \"#636efa\", \"size\": [0.0125, 0.025], \"sizemode\": \"area\", \"sizeref\": 6.25e-05, \"symbol\": \"circle\"}, \"mode\": \"markers\", \"name\": \"label=test_subject_01\", \"scene\": \"scene\", \"showlegend\": true, \"type\": \"scatter3d\", \"x\": [-1.2179742180672317, -1.2206004914401634], \"y\": [-0.7059568821858473, 0.65323563887741], \"z\": [-0.6430963702796834, 3.669024661795089]}, {\"hoverlabel\": {\"namelength\": 0}, \"hovertemplate\": \"label=test_subject_02<br>component 1=%{x}<br>component 2=%{y}<br>component 3=%{z}<br>experiment=%{marker.size}\", \"legendgroup\": \"label=test_subject_02\", \"marker\": {\"color\": \"#EF553B\", \"size\": [0.0125, 0.025], \"sizemode\": \"area\", \"sizeref\": 6.25e-05, \"symbol\": \"circle\"}, \"mode\": \"markers\", \"name\": \"label=test_subject_02\", \"scene\": \"scene\", \"showlegend\": true, \"type\": \"scatter3d\", \"x\": [-10.280303749125812, -11.29252322109339], \"y\": [2.7942357489489225, 3.3101656941703204], \"z\": [2.8737588649081207, 4.117900081582933]}, {\"hoverlabel\": {\"namelength\": 0}, \"hovertemplate\": \"label=test_subject_03<br>component 1=%{x}<br>component 2=%{y}<br>component 3=%{z}<br>experiment=%{marker.size}\", \"legendgroup\": \"label=test_subject_03\", \"marker\": {\"color\": \"#00cc96\", \"size\": [0.0125, 0.025], \"sizemode\": \"area\", \"sizeref\": 6.25e-05, \"symbol\": \"circle\"}, \"mode\": \"markers\", \"name\": \"label=test_subject_03\", \"scene\": \"scene\", \"showlegend\": true, \"type\": \"scatter3d\", \"x\": [-6.662227267975733, 1.8466316498756852], \"y\": [4.17734886252707, -1.0542976340889634], \"z\": [-4.099528978185563, 0.8272876291682449]}, {\"hoverlabel\": {\"namelength\": 0}, \"hovertemplate\": \"label=test_subject_04<br>component 1=%{x}<br>component 2=%{y}<br>component 3=%{z}<br>experiment=%{marker.size}\", \"legendgroup\": \"label=test_subject_04\", \"marker\": {\"color\": \"#ab63fa\", \"size\": [0.0125, 0.025], \"sizemode\": \"area\", \"sizeref\": 6.25e-05, \"symbol\": \"circle\"}, \"mode\": \"markers\", \"name\": \"label=test_subject_04\", \"scene\": \"scene\", \"showlegend\": true, \"type\": \"scatter3d\", \"x\": [0.12365972242370624, -0.1588014150939293], \"y\": [-1.0919548980415477, -0.9589742357630173], \"z\": [-0.2980354267811163, -0.4637903471206878]}, {\"hoverlabel\": {\"namelength\": 0}, \"hovertemplate\": \"label=test_subject_05<br>component 1=%{x}<br>component 2=%{y}<br>component 3=%{z}<br>experiment=%{marker.size}\", \"legendgroup\": \"label=test_subject_05\", \"marker\": {\"color\": \"#FFA15A\", \"size\": [0.0125, 0.025], \"sizemode\": \"area\", \"sizeref\": 6.25e-05, \"symbol\": \"circle\"}, \"mode\": \"markers\", \"name\": \"label=test_subject_05\", \"scene\": \"scene\", \"showlegend\": true, \"type\": \"scatter3d\", \"x\": [1.0268969200945612, 1.0791841973395448], \"y\": [-2.09904114989845, -1.0928723867575654], \"z\": [0.44563523579833236, -0.4378500465872635]}, {\"hoverlabel\": {\"namelength\": 0}, \"hovertemplate\": \"label=test_subject_06<br>component 1=%{x}<br>component 2=%{y}<br>component 3=%{z}<br>experiment=%{marker.size}\", \"legendgroup\": \"label=test_subject_06\", \"marker\": {\"color\": \"#19d3f3\", \"size\": [0.0125, 0.025], \"sizemode\": \"area\", \"sizeref\": 6.25e-05, \"symbol\": \"circle\"}, \"mode\": \"markers\", \"name\": \"label=test_subject_06\", \"scene\": \"scene\", \"showlegend\": true, \"type\": \"scatter3d\", \"x\": [3.2160573959075274, -1.3100257699762663], \"y\": [8.235059715931719, 11.398894174876935], \"z\": [-5.542615816049884, -4.108333179709157]}, {\"hoverlabel\": {\"namelength\": 0}, \"hovertemplate\": \"label=test_subject_07<br>component 1=%{x}<br>component 2=%{y}<br>component 3=%{z}<br>experiment=%{marker.size}\", \"legendgroup\": \"label=test_subject_07\", \"marker\": {\"color\": \"#FF6692\", \"size\": [0.0125, 0.025], \"sizemode\": \"area\", \"sizeref\": 6.25e-05, \"symbol\": \"circle\"}, \"mode\": \"markers\", \"name\": \"label=test_subject_07\", \"scene\": \"scene\", \"showlegend\": true, \"type\": \"scatter3d\", \"x\": [2.406312618272065, 1.2252591113068094], \"y\": [-2.756237006204306, -0.49713534076965654], \"z\": [-0.4237530404376207, -0.8238212890676031]}, {\"hoverlabel\": {\"namelength\": 0}, \"hovertemplate\": \"label=test_subject_08<br>component 1=%{x}<br>component 2=%{y}<br>component 3=%{z}<br>experiment=%{marker.size}\", \"legendgroup\": \"label=test_subject_08\", \"marker\": {\"color\": \"#B6E880\", \"size\": [0.0125], \"sizemode\": \"area\", \"sizeref\": 6.25e-05, \"symbol\": \"circle\"}, \"mode\": \"markers\", \"name\": \"label=test_subject_08\", \"scene\": \"scene\", \"showlegend\": true, \"type\": \"scatter3d\", \"x\": [0.9046222680187778], \"y\": [-0.35481851658726676], \"z\": [-0.0300946054637774]}, {\"hoverlabel\": {\"namelength\": 0}, \"hovertemplate\": \"label=test_subject_09<br>component 1=%{x}<br>component 2=%{y}<br>component 3=%{z}<br>experiment=%{marker.size}\", \"legendgroup\": \"label=test_subject_09\", \"marker\": {\"color\": \"#FF97FF\", \"size\": [0.0125, 0.025], \"sizemode\": \"area\", \"sizeref\": 6.25e-05, \"symbol\": \"circle\"}, \"mode\": \"markers\", \"name\": \"label=test_subject_09\", \"scene\": \"scene\", \"showlegend\": true, \"type\": \"scatter3d\", \"x\": [0.13522442863963566, 1.447398678440792], \"y\": [-2.2050519290764257, -2.2288529045077796], \"z\": [0.40791504311140375, -0.7720406011306049]}, {\"hoverlabel\": {\"namelength\": 0}, \"hovertemplate\": \"label=test_subject_10<br>component 1=%{x}<br>component 2=%{y}<br>component 3=%{z}<br>experiment=%{marker.size}\", \"legendgroup\": \"label=test_subject_10\", \"marker\": {\"color\": \"#FECB52\", \"size\": [0.0125, 0.025], \"sizemode\": \"area\", \"sizeref\": 6.25e-05, \"symbol\": \"circle\"}, \"mode\": \"markers\", \"name\": \"label=test_subject_10\", \"scene\": \"scene\", \"showlegend\": true, \"type\": \"scatter3d\", \"x\": [-2.3284724784326327, -2.671973721396493], \"y\": [0.5132668847711023, 1.014893553317733], \"z\": [1.0493956175385373, 1.1046270412215122]}, {\"hoverlabel\": {\"namelength\": 0}, \"hovertemplate\": \"label=test_subject_11<br>component 1=%{x}<br>component 2=%{y}<br>component 3=%{z}<br>experiment=%{marker.size}\", \"legendgroup\": \"label=test_subject_11\", \"marker\": {\"color\": \"#636efa\", \"size\": [0.0125, 0.025], \"sizemode\": \"area\", \"sizeref\": 6.25e-05, \"symbol\": \"circle\"}, \"mode\": \"markers\", \"name\": \"label=test_subject_11\", \"scene\": \"scene\", \"showlegend\": true, \"type\": \"scatter3d\", \"x\": [-0.18401862009393777, -1.0218256201354063], \"y\": [-1.7581972708123559, -1.4456503131607652], \"z\": [-2.905236284171847, -2.3849878760074477]}, {\"hoverlabel\": {\"namelength\": 0}, \"hovertemplate\": \"label=test_subject_12<br>component 1=%{x}<br>component 2=%{y}<br>component 3=%{z}<br>experiment=%{marker.size}\", \"legendgroup\": \"label=test_subject_12\", \"marker\": {\"color\": \"#EF553B\", \"size\": [0.0125, 0.025], \"sizemode\": \"area\", \"sizeref\": 6.25e-05, \"symbol\": \"circle\"}, \"mode\": \"markers\", \"name\": \"label=test_subject_12\", \"scene\": \"scene\", \"showlegend\": true, \"type\": \"scatter3d\", \"x\": [2.217381874755691, 2.907965118488838], \"y\": [-1.6295849017723198, -1.1556606057251761], \"z\": [-1.3865748090536845, -0.16708445192521482]}, {\"hoverlabel\": {\"namelength\": 0}, \"hovertemplate\": \"label=test_subject_13<br>component 1=%{x}<br>component 2=%{y}<br>component 3=%{z}<br>experiment=%{marker.size}\", \"legendgroup\": \"label=test_subject_13\", \"marker\": {\"color\": \"#00cc96\", \"size\": [0.0125, 0.025], \"sizemode\": \"area\", \"sizeref\": 6.25e-05, \"symbol\": \"circle\"}, \"mode\": \"markers\", \"name\": \"label=test_subject_13\", \"scene\": \"scene\", \"showlegend\": true, \"type\": \"scatter3d\", \"x\": [4.60452919122362, 0.8202325093915444], \"y\": [-1.6067417759498748, -2.7289666816736604], \"z\": [0.44960297078532435, 0.20194342174996158]}, {\"hoverlabel\": {\"namelength\": 0}, \"hovertemplate\": \"label=test_subject_14<br>component 1=%{x}<br>component 2=%{y}<br>component 3=%{z}<br>experiment=%{marker.size}\", \"legendgroup\": \"label=test_subject_14\", \"marker\": {\"color\": \"#ab63fa\", \"size\": [0.0125, 0.025], \"sizemode\": \"area\", \"sizeref\": 6.25e-05, \"symbol\": \"circle\"}, \"mode\": \"markers\", \"name\": \"label=test_subject_14\", \"scene\": \"scene\", \"showlegend\": true, \"type\": \"scatter3d\", \"x\": [12.0054870208061, -0.40707587366682974], \"y\": [10.696538542439534, -0.11367753274899199], \"z\": [6.1680380144474265, 0.3991005063256931]}, {\"hoverlabel\": {\"namelength\": 0}, \"hovertemplate\": \"label=test_subject_15<br>component 1=%{x}<br>component 2=%{y}<br>component 3=%{z}<br>experiment=%{marker.size}\", \"legendgroup\": \"label=test_subject_15\", \"marker\": {\"color\": \"#FFA15A\", \"size\": [0.0125, 0.025], \"sizemode\": \"area\", \"sizeref\": 6.25e-05, \"symbol\": \"circle\"}, \"mode\": \"markers\", \"name\": \"label=test_subject_15\", \"scene\": \"scene\", \"showlegend\": true, \"type\": \"scatter3d\", \"x\": [1.210864554935267, 0.18667135703948368], \"y\": [-1.221042071411697, -1.3944211321363285], \"z\": [1.5495523926964179, 0.45948239347834613]}, {\"hoverlabel\": {\"namelength\": 0}, \"hovertemplate\": \"label=test_subject_16<br>component 1=%{x}<br>component 2=%{y}<br>component 3=%{z}<br>experiment=%{marker.size}\", \"legendgroup\": \"label=test_subject_16\", \"marker\": {\"color\": \"#19d3f3\", \"size\": [0.0125, 0.025], \"sizemode\": \"area\", \"sizeref\": 6.25e-05, \"symbol\": \"circle\"}, \"mode\": \"markers\", \"name\": \"label=test_subject_16\", \"scene\": \"scene\", \"showlegend\": true, \"type\": \"scatter3d\", \"x\": [-0.5423798432125259, 0.8428600215274542], \"y\": [-1.8322623837071685, -1.6703242526966036], \"z\": [-2.876447296320404, -0.7858106921685412]}, {\"hoverlabel\": {\"namelength\": 0}, \"hovertemplate\": \"label=test_subject_17<br>component 1=%{x}<br>component 2=%{y}<br>component 3=%{z}<br>experiment=%{marker.size}\", \"legendgroup\": \"label=test_subject_17\", \"marker\": {\"color\": \"#FF6692\", \"size\": [0.0125, 0.025], \"sizemode\": \"area\", \"sizeref\": 6.25e-05, \"symbol\": \"circle\"}, \"mode\": \"markers\", \"name\": \"label=test_subject_17\", \"scene\": \"scene\", \"showlegend\": true, \"type\": \"scatter3d\", \"x\": [-1.4561478619257597, -0.8430952625679059], \"y\": [-1.683664858387539, -1.1598794309323368], \"z\": [-0.05499249298323073, 2.198343766436341]}, {\"hoverlabel\": {\"namelength\": 0}, \"hovertemplate\": \"label=test_subject_18<br>component 1=%{x}<br>component 2=%{y}<br>component 3=%{z}<br>experiment=%{marker.size}\", \"legendgroup\": \"label=test_subject_18\", \"marker\": {\"color\": \"#B6E880\", \"size\": [0.0125, 0.025], \"sizemode\": \"area\", \"sizeref\": 6.25e-05, \"symbol\": \"circle\"}, \"mode\": \"markers\", \"name\": \"label=test_subject_18\", \"scene\": \"scene\", \"showlegend\": true, \"type\": \"scatter3d\", \"x\": [-1.061009661415208, -2.2760524155962067], \"y\": [-0.08927294149486527, 0.12709453667599788], \"z\": [1.017438035308555, 1.5323480998227337]}, {\"hoverlabel\": {\"namelength\": 0}, \"hovertemplate\": \"label=test_subject_19<br>component 1=%{x}<br>component 2=%{y}<br>component 3=%{z}<br>experiment=%{marker.size}\", \"legendgroup\": \"label=test_subject_19\", \"marker\": {\"color\": \"#FF97FF\", \"size\": [0.0125, 0.025], \"sizemode\": \"area\", \"sizeref\": 6.25e-05, \"symbol\": \"circle\"}, \"mode\": \"markers\", \"name\": \"label=test_subject_19\", \"scene\": \"scene\", \"showlegend\": true, \"type\": \"scatter3d\", \"x\": [1.809155297406524, 1.4923914530946536], \"y\": [-0.5780034215333271, -0.5566284024713655], \"z\": [0.629982109121495, 1.7343616378840234]}, {\"hoverlabel\": {\"namelength\": 0}, \"hovertemplate\": \"label=test_subject_20<br>component 1=%{x}<br>component 2=%{y}<br>component 3=%{z}<br>experiment=%{marker.size}\", \"legendgroup\": \"label=test_subject_20\", \"marker\": {\"color\": \"#FECB52\", \"size\": [0.0125, 0.025], \"sizemode\": \"area\", \"sizeref\": 6.25e-05, \"symbol\": \"circle\"}, \"mode\": \"markers\", \"name\": \"label=test_subject_20\", \"scene\": \"scene\", \"showlegend\": true, \"type\": \"scatter3d\", \"x\": [-2.047668945864322, 1.1868901917856942], \"y\": [-1.2088916618683212, -1.1822776377883513], \"z\": [-0.45934870074257733, 0.9198977901458735]}, {\"hoverlabel\": {\"namelength\": 0}, \"hovertemplate\": \"label=test_subject_21<br>component 1=%{x}<br>component 2=%{y}<br>component 3=%{z}<br>experiment=%{marker.size}\", \"legendgroup\": \"label=test_subject_21\", \"marker\": {\"color\": \"#636efa\", \"size\": [0.0125, 0.025], \"sizemode\": \"area\", \"sizeref\": 6.25e-05, \"symbol\": \"circle\"}, \"mode\": \"markers\", \"name\": \"label=test_subject_21\", \"scene\": \"scene\", \"showlegend\": true, \"type\": \"scatter3d\", \"x\": [2.6018410789470092, 1.6846597773587741], \"y\": [-3.4486395574949813, -1.4117536348898805], \"z\": [-0.8398657450356387, -2.2523272641048115]}],\n",
       "                        {\"height\": 600, \"legend\": {\"itemsizing\": \"constant\", \"tracegroupgap\": 0}, \"margin\": {\"t\": 60}, \"scene\": {\"domain\": {\"x\": [0.0, 0.98], \"y\": [0.0, 1.0]}, \"xaxis\": {\"title\": {\"text\": \"component 1\"}}, \"yaxis\": {\"title\": {\"text\": \"component 2\"}}, \"zaxis\": {\"title\": {\"text\": \"component 3\"}}}, \"template\": {\"data\": {\"bar\": [{\"error_x\": {\"color\": \"#2a3f5f\"}, \"error_y\": {\"color\": \"#2a3f5f\"}, \"marker\": {\"line\": {\"color\": \"#E5ECF6\", \"width\": 0.5}}, \"type\": \"bar\"}], \"barpolar\": [{\"marker\": {\"line\": {\"color\": \"#E5ECF6\", \"width\": 0.5}}, \"type\": \"barpolar\"}], \"carpet\": [{\"aaxis\": {\"endlinecolor\": \"#2a3f5f\", \"gridcolor\": \"white\", \"linecolor\": \"white\", \"minorgridcolor\": \"white\", \"startlinecolor\": \"#2a3f5f\"}, \"baxis\": {\"endlinecolor\": \"#2a3f5f\", \"gridcolor\": \"white\", \"linecolor\": \"white\", \"minorgridcolor\": \"white\", \"startlinecolor\": \"#2a3f5f\"}, \"type\": \"carpet\"}], \"choropleth\": [{\"colorbar\": {\"outlinewidth\": 0, \"ticks\": \"\"}, \"type\": \"choropleth\"}], \"contour\": [{\"colorbar\": {\"outlinewidth\": 0, \"ticks\": \"\"}, \"colorscale\": [[0.0, \"#0d0887\"], [0.1111111111111111, \"#46039f\"], [0.2222222222222222, \"#7201a8\"], [0.3333333333333333, \"#9c179e\"], [0.4444444444444444, \"#bd3786\"], [0.5555555555555556, \"#d8576b\"], [0.6666666666666666, \"#ed7953\"], [0.7777777777777778, \"#fb9f3a\"], [0.8888888888888888, \"#fdca26\"], [1.0, \"#f0f921\"]], \"type\": \"contour\"}], \"contourcarpet\": [{\"colorbar\": {\"outlinewidth\": 0, \"ticks\": \"\"}, \"type\": \"contourcarpet\"}], \"heatmap\": [{\"colorbar\": {\"outlinewidth\": 0, \"ticks\": \"\"}, \"colorscale\": [[0.0, \"#0d0887\"], [0.1111111111111111, \"#46039f\"], [0.2222222222222222, \"#7201a8\"], [0.3333333333333333, \"#9c179e\"], [0.4444444444444444, \"#bd3786\"], [0.5555555555555556, \"#d8576b\"], [0.6666666666666666, \"#ed7953\"], [0.7777777777777778, \"#fb9f3a\"], [0.8888888888888888, \"#fdca26\"], [1.0, \"#f0f921\"]], \"type\": \"heatmap\"}], \"heatmapgl\": [{\"colorbar\": {\"outlinewidth\": 0, \"ticks\": \"\"}, \"colorscale\": [[0.0, \"#0d0887\"], [0.1111111111111111, \"#46039f\"], [0.2222222222222222, \"#7201a8\"], [0.3333333333333333, \"#9c179e\"], [0.4444444444444444, \"#bd3786\"], [0.5555555555555556, \"#d8576b\"], [0.6666666666666666, \"#ed7953\"], [0.7777777777777778, \"#fb9f3a\"], [0.8888888888888888, \"#fdca26\"], [1.0, \"#f0f921\"]], \"type\": \"heatmapgl\"}], \"histogram\": [{\"marker\": {\"colorbar\": {\"outlinewidth\": 0, \"ticks\": \"\"}}, \"type\": \"histogram\"}], \"histogram2d\": [{\"colorbar\": {\"outlinewidth\": 0, \"ticks\": \"\"}, \"colorscale\": [[0.0, \"#0d0887\"], [0.1111111111111111, \"#46039f\"], [0.2222222222222222, \"#7201a8\"], [0.3333333333333333, \"#9c179e\"], [0.4444444444444444, \"#bd3786\"], [0.5555555555555556, \"#d8576b\"], [0.6666666666666666, \"#ed7953\"], [0.7777777777777778, \"#fb9f3a\"], [0.8888888888888888, \"#fdca26\"], [1.0, \"#f0f921\"]], \"type\": \"histogram2d\"}], \"histogram2dcontour\": [{\"colorbar\": {\"outlinewidth\": 0, \"ticks\": \"\"}, \"colorscale\": [[0.0, \"#0d0887\"], [0.1111111111111111, \"#46039f\"], [0.2222222222222222, \"#7201a8\"], [0.3333333333333333, \"#9c179e\"], [0.4444444444444444, \"#bd3786\"], [0.5555555555555556, \"#d8576b\"], [0.6666666666666666, \"#ed7953\"], [0.7777777777777778, \"#fb9f3a\"], [0.8888888888888888, \"#fdca26\"], [1.0, \"#f0f921\"]], \"type\": \"histogram2dcontour\"}], \"mesh3d\": [{\"colorbar\": {\"outlinewidth\": 0, \"ticks\": \"\"}, \"type\": \"mesh3d\"}], \"parcoords\": [{\"line\": {\"colorbar\": {\"outlinewidth\": 0, \"ticks\": \"\"}}, \"type\": \"parcoords\"}], \"scatter\": [{\"marker\": {\"colorbar\": {\"outlinewidth\": 0, \"ticks\": \"\"}}, \"type\": \"scatter\"}], \"scatter3d\": [{\"line\": {\"colorbar\": {\"outlinewidth\": 0, \"ticks\": \"\"}}, \"marker\": {\"colorbar\": {\"outlinewidth\": 0, \"ticks\": \"\"}}, \"type\": \"scatter3d\"}], \"scattercarpet\": [{\"marker\": {\"colorbar\": {\"outlinewidth\": 0, \"ticks\": \"\"}}, \"type\": \"scattercarpet\"}], \"scattergeo\": [{\"marker\": {\"colorbar\": {\"outlinewidth\": 0, \"ticks\": \"\"}}, \"type\": \"scattergeo\"}], \"scattergl\": [{\"marker\": {\"colorbar\": {\"outlinewidth\": 0, \"ticks\": \"\"}}, \"type\": \"scattergl\"}], \"scattermapbox\": [{\"marker\": {\"colorbar\": {\"outlinewidth\": 0, \"ticks\": \"\"}}, \"type\": \"scattermapbox\"}], \"scatterpolar\": [{\"marker\": {\"colorbar\": {\"outlinewidth\": 0, \"ticks\": \"\"}}, \"type\": \"scatterpolar\"}], \"scatterpolargl\": [{\"marker\": {\"colorbar\": {\"outlinewidth\": 0, \"ticks\": \"\"}}, \"type\": \"scatterpolargl\"}], \"scatterternary\": [{\"marker\": {\"colorbar\": {\"outlinewidth\": 0, \"ticks\": \"\"}}, \"type\": \"scatterternary\"}], \"surface\": [{\"colorbar\": {\"outlinewidth\": 0, \"ticks\": \"\"}, \"colorscale\": [[0.0, \"#0d0887\"], [0.1111111111111111, \"#46039f\"], [0.2222222222222222, \"#7201a8\"], [0.3333333333333333, \"#9c179e\"], [0.4444444444444444, \"#bd3786\"], [0.5555555555555556, \"#d8576b\"], [0.6666666666666666, \"#ed7953\"], [0.7777777777777778, \"#fb9f3a\"], [0.8888888888888888, \"#fdca26\"], [1.0, \"#f0f921\"]], \"type\": \"surface\"}], \"table\": [{\"cells\": {\"fill\": {\"color\": \"#EBF0F8\"}, \"line\": {\"color\": \"white\"}}, \"header\": {\"fill\": {\"color\": \"#C8D4E3\"}, \"line\": {\"color\": \"white\"}}, \"type\": \"table\"}]}, \"layout\": {\"annotationdefaults\": {\"arrowcolor\": \"#2a3f5f\", \"arrowhead\": 0, \"arrowwidth\": 1}, \"colorscale\": {\"diverging\": [[0, \"#8e0152\"], [0.1, \"#c51b7d\"], [0.2, \"#de77ae\"], [0.3, \"#f1b6da\"], [0.4, \"#fde0ef\"], [0.5, \"#f7f7f7\"], [0.6, \"#e6f5d0\"], [0.7, \"#b8e186\"], [0.8, \"#7fbc41\"], [0.9, \"#4d9221\"], [1, \"#276419\"]], \"sequential\": [[0.0, \"#0d0887\"], [0.1111111111111111, \"#46039f\"], [0.2222222222222222, \"#7201a8\"], [0.3333333333333333, \"#9c179e\"], [0.4444444444444444, \"#bd3786\"], [0.5555555555555556, \"#d8576b\"], [0.6666666666666666, \"#ed7953\"], [0.7777777777777778, \"#fb9f3a\"], [0.8888888888888888, \"#fdca26\"], [1.0, \"#f0f921\"]], \"sequentialminus\": [[0.0, \"#0d0887\"], [0.1111111111111111, \"#46039f\"], [0.2222222222222222, \"#7201a8\"], [0.3333333333333333, \"#9c179e\"], [0.4444444444444444, \"#bd3786\"], [0.5555555555555556, \"#d8576b\"], [0.6666666666666666, \"#ed7953\"], [0.7777777777777778, \"#fb9f3a\"], [0.8888888888888888, \"#fdca26\"], [1.0, \"#f0f921\"]]}, \"colorway\": [\"#636efa\", \"#EF553B\", \"#00cc96\", \"#ab63fa\", \"#FFA15A\", \"#19d3f3\", \"#FF6692\", \"#B6E880\", \"#FF97FF\", \"#FECB52\"], \"font\": {\"color\": \"#2a3f5f\"}, \"geo\": {\"bgcolor\": \"white\", \"lakecolor\": \"white\", \"landcolor\": \"#E5ECF6\", \"showlakes\": true, \"showland\": true, \"subunitcolor\": \"white\"}, \"hoverlabel\": {\"align\": \"left\"}, \"hovermode\": \"closest\", \"mapbox\": {\"style\": \"light\"}, \"paper_bgcolor\": \"white\", \"plot_bgcolor\": \"#E5ECF6\", \"polar\": {\"angularaxis\": {\"gridcolor\": \"white\", \"linecolor\": \"white\", \"ticks\": \"\"}, \"bgcolor\": \"#E5ECF6\", \"radialaxis\": {\"gridcolor\": \"white\", \"linecolor\": \"white\", \"ticks\": \"\"}}, \"scene\": {\"xaxis\": {\"backgroundcolor\": \"#E5ECF6\", \"gridcolor\": \"white\", \"gridwidth\": 2, \"linecolor\": \"white\", \"showbackground\": true, \"ticks\": \"\", \"zerolinecolor\": \"white\"}, \"yaxis\": {\"backgroundcolor\": \"#E5ECF6\", \"gridcolor\": \"white\", \"gridwidth\": 2, \"linecolor\": \"white\", \"showbackground\": true, \"ticks\": \"\", \"zerolinecolor\": \"white\"}, \"zaxis\": {\"backgroundcolor\": \"#E5ECF6\", \"gridcolor\": \"white\", \"gridwidth\": 2, \"linecolor\": \"white\", \"showbackground\": true, \"ticks\": \"\", \"zerolinecolor\": \"white\"}}, \"shapedefaults\": {\"line\": {\"color\": \"#2a3f5f\"}}, \"ternary\": {\"aaxis\": {\"gridcolor\": \"white\", \"linecolor\": \"white\", \"ticks\": \"\"}, \"baxis\": {\"gridcolor\": \"white\", \"linecolor\": \"white\", \"ticks\": \"\"}, \"bgcolor\": \"#E5ECF6\", \"caxis\": {\"gridcolor\": \"white\", \"linecolor\": \"white\", \"ticks\": \"\"}}, \"title\": {\"x\": 0.05}, \"xaxis\": {\"automargin\": true, \"gridcolor\": \"white\", \"linecolor\": \"white\", \"ticks\": \"\", \"zerolinecolor\": \"white\", \"zerolinewidth\": 2}, \"yaxis\": {\"automargin\": true, \"gridcolor\": \"white\", \"linecolor\": \"white\", \"ticks\": \"\", \"zerolinecolor\": \"white\", \"zerolinewidth\": 2}}}},\n",
       "                        {\"responsive\": true}\n",
       "                    ).then(function(){\n",
       "                            \n",
       "var gd = document.getElementById('b7b9d0a9-bfc2-46c1-bf62-3dfd07fb390f');\n",
       "var x = new MutationObserver(function (mutations, observer) {{\n",
       "        var display = window.getComputedStyle(gd).display;\n",
       "        if (!display || display === 'none') {{\n",
       "            console.log([gd, 'removed!']);\n",
       "            Plotly.purge(gd);\n",
       "            observer.disconnect();\n",
       "        }}\n",
       "}});\n",
       "\n",
       "// Listen for the removal of the full notebook cells\n",
       "var notebookContainer = gd.closest('#notebook-container');\n",
       "if (notebookContainer) {{\n",
       "    x.observe(notebookContainer, {childList: true});\n",
       "}}\n",
       "\n",
       "// Listen for the clearing of the current output cell\n",
       "var outputEl = gd.closest('.output');\n",
       "if (outputEl) {{\n",
       "    x.observe(outputEl, {childList: true});\n",
       "}}\n",
       "\n",
       "                        })\n",
       "                };\n",
       "                });\n",
       "            </script>\n",
       "        </div>"
      ]
     },
     "metadata": {},
     "output_type": "display_data"
    }
   ],
   "source": [
    "from pandas import read_csv, DataFrame, concat, Series\n",
    "from sklearn.preprocessing import StandardScaler\n",
    "from sklearn.decomposition import PCA\n",
    "from numpy import nan_to_num\n",
    "from plotly.express import scatter, scatter_3d\n",
    "\n",
    "def perform_pca(df, comp_num=2):\n",
    "    features = [x for x in range(2, 58)]\n",
    "    data = df.iloc[:, features]\n",
    "    data.fillna(0)\n",
    "    x = df.loc[:, features].values\n",
    "    x = StandardScaler().fit_transform(x)\n",
    "    x = nan_to_num(x)\n",
    "    y = list(df.loc[:, 0])\n",
    "    z = [0.0125 if a <= 2 else 0.025 for a in list(df.loc[:, 1])]\n",
    "    pca = PCA(n_components=comp_num)\n",
    "    principalComponents = pca.fit_transform(x)\n",
    "    print(pca.explained_variance_ratio_)\n",
    "    if comp_num == 2:\n",
    "        return concat([DataFrame(data = principalComponents, columns = ['component 1', 'component 2']), DataFrame(y, columns=[\"label\"]), DataFrame(z, columns=[\"experiment\"])], axis=1)\n",
    "    elif comp_num == 3:\n",
    "        return concat([DataFrame(data = principalComponents, columns = ['component 1', 'component 2', 'component 3']), DataFrame(y, columns=[\"label\"]), DataFrame(z, columns=[\"experiment\"])], axis=1)\n",
    "    else:\n",
    "        raise ValueError(\"Number of components limited to 2 or 3.\")\n",
    "df = read_csv(\"processed_data.csv\", header=None)\n",
    "\n",
    "df_0 = df[df.iloc[:, 1] == 0].copy()\n",
    "df_3 = df[df.iloc[:, 1] == 3].copy()\n",
    "df_03 = concat([df_0, df_3])\n",
    "\n",
    "df_1 = df[df.iloc[:, 1] == 1].copy()\n",
    "df_4 = df[df.iloc[:, 1] == 4].copy()\n",
    "df_14 = concat([df_1, df_4])\n",
    "\n",
    "df_2 = df[df.iloc[:, 1] == 2].copy()\n",
    "df_5 = df[df.iloc[:, 1] == 5].copy()\n",
    "df_25 = concat([df_2, df_5])\n",
    "\n",
    "fig = scatter(perform_pca(df_03), x=\"component 1\", y=\"component 2\", color=\"label\", size=\"experiment\")\n",
    "fig.show()\n",
    "fig = scatter(perform_pca(df_14), x=\"component 1\", y=\"component 2\", color=\"label\", size=\"experiment\")\n",
    "fig.show()\n",
    "fig = scatter(perform_pca(df_25), x=\"component 1\", y=\"component 2\", color=\"label\", size=\"experiment\")\n",
    "fig.show()\n",
    "\n",
    "fig = scatter_3d(perform_pca(df_03, comp_num=3), x=\"component 1\", y=\"component 2\", z=\"component 3\", color=\"label\", size=\"experiment\")\n",
    "fig.show()\n",
    "fig = scatter_3d(perform_pca(df_14, comp_num=3), x=\"component 1\", y=\"component 2\", z=\"component 3\", color=\"label\", size=\"experiment\")\n",
    "fig.show()\n",
    "fig = scatter_3d(perform_pca(df_25, comp_num=3), x=\"component 1\", y=\"component 2\", z=\"component 3\", color=\"label\", size=\"experiment\")\n",
    "fig.show()\n",
    "\n",
    "# add dimension to graphs to separate first and second try of each experiment\n",
    "# https://stackoverflow.com/questions/50796024/feature-variable-importance-after-a-pca-analysis\n",
    "# clustering quality metrics per experiment per user (compare with random)\n",
    "# plot by features (without pca)"
   ]
  },
  {
   "cell_type": "code",
   "execution_count": 41,
   "metadata": {},
   "outputs": [
    {
     "name": "stdout",
     "output_type": "stream",
     "text": [
      "[[-2.26470281  0.4800266 ]\n",
      " [-2.08096115 -0.67413356]\n",
      " [-2.36422905 -0.34190802]\n",
      " [-2.29938422 -0.59739451]\n",
      " [-2.38984217  0.64683538]\n",
      " [-2.07563095  1.48917752]\n",
      " [-2.44402884  0.0476442 ]\n",
      " [-2.23284716  0.22314807]\n",
      " [-2.33464048 -1.11532768]\n",
      " [-2.18432817 -0.46901356]\n",
      " [-2.1663101   1.04369065]\n",
      " [-2.32613087  0.13307834]\n",
      " [-2.2184509  -0.72867617]\n",
      " [-2.6331007  -0.96150673]\n",
      " [-2.1987406   1.86005711]\n",
      " [-2.26221453  2.68628449]\n",
      " [-2.2075877   1.48360936]\n",
      " [-2.19034951  0.48883832]\n",
      " [-1.898572    1.40501879]\n",
      " [-2.34336905  1.12784938]\n",
      " [-1.914323    0.40885571]\n",
      " [-2.20701284  0.92412143]\n",
      " [-2.7743447   0.45834367]\n",
      " [-1.81866953  0.08555853]\n",
      " [-2.22716331  0.13725446]\n",
      " [-1.95184633 -0.62561859]\n",
      " [-2.05115137  0.24216355]\n",
      " [-2.16857717  0.52714953]\n",
      " [-2.13956345  0.31321781]\n",
      " [-2.26526149 -0.3377319 ]\n",
      " [-2.14012214 -0.50454069]\n",
      " [-1.83159477  0.42369507]\n",
      " [-2.61494794  1.79357586]\n",
      " [-2.44617739  2.15072788]\n",
      " [-2.10997488 -0.46020184]\n",
      " [-2.2078089  -0.2061074 ]\n",
      " [-2.04514621  0.66155811]\n",
      " [-2.52733191  0.59229277]\n",
      " [-2.42963258 -0.90418004]\n",
      " [-2.16971071  0.26887896]\n",
      " [-2.28647514  0.44171539]\n",
      " [-1.85812246 -2.33741516]\n",
      " [-2.5536384  -0.47910069]\n",
      " [-1.96444768  0.47232667]\n",
      " [-2.13705901  1.14222926]\n",
      " [-2.0697443  -0.71105273]\n",
      " [-2.38473317  1.1204297 ]\n",
      " [-2.39437631 -0.38624687]\n",
      " [-2.22944655  0.99795976]\n",
      " [-2.20383344  0.00921636]\n",
      " [ 1.10178118  0.86297242]\n",
      " [ 0.73133743  0.59461473]\n",
      " [ 1.24097932  0.61629765]\n",
      " [ 0.40748306 -1.75440399]\n",
      " [ 1.0754747  -0.20842105]\n",
      " [ 0.38868734 -0.59328364]\n",
      " [ 0.74652974  0.77301931]\n",
      " [-0.48732274 -1.85242909]\n",
      " [ 0.92790164  0.03222608]\n",
      " [ 0.01142619 -1.03401828]\n",
      " [-0.11019628 -2.65407282]\n",
      " [ 0.44069345 -0.06329519]\n",
      " [ 0.56210831 -1.76472438]\n",
      " [ 0.71956189 -0.18622461]\n",
      " [-0.0333547  -0.43900321]\n",
      " [ 0.87540719  0.50906396]\n",
      " [ 0.35025167 -0.19631173]\n",
      " [ 0.15881005 -0.79209574]\n",
      " [ 1.22509363 -1.6222438 ]\n",
      " [ 0.1649179  -1.30260923]\n",
      " [ 0.73768265  0.39657156]\n",
      " [ 0.47628719 -0.41732028]\n",
      " [ 1.2341781  -0.93332573]\n",
      " [ 0.6328582  -0.41638772]\n",
      " [ 0.70266118 -0.06341182]\n",
      " [ 0.87427365  0.25079339]\n",
      " [ 1.25650912 -0.07725602]\n",
      " [ 1.35840512  0.33131168]\n",
      " [ 0.66480037 -0.22592785]\n",
      " [-0.04025861 -1.05871855]\n",
      " [ 0.13079518 -1.56227183]\n",
      " [ 0.02345269 -1.57247559]\n",
      " [ 0.24153827 -0.77725638]\n",
      " [ 1.06109461 -0.63384324]\n",
      " [ 0.22397877 -0.28777351]\n",
      " [ 0.42913912  0.84558224]\n",
      " [ 1.04872805  0.5220518 ]\n",
      " [ 1.04453138 -1.38298872]\n",
      " [ 0.06958832 -0.21950333]\n",
      " [ 0.28347724 -1.32932464]\n",
      " [ 0.27907778 -1.12002852]\n",
      " [ 0.62456979  0.02492303]\n",
      " [ 0.33653037 -0.98840402]\n",
      " [-0.36218338 -2.01923787]\n",
      " [ 0.28858624 -0.85573032]\n",
      " [ 0.09136066 -0.18119213]\n",
      " [ 0.22771687 -0.38492008]\n",
      " [ 0.57638829 -0.1548736 ]\n",
      " [-0.44766702 -1.54379203]\n",
      " [ 0.25673059 -0.5988518 ]\n",
      " [ 1.84456887  0.87042131]\n",
      " [ 1.15788161 -0.69886986]\n",
      " [ 2.20526679  0.56201048]\n",
      " [ 1.44015066 -0.04698759]\n",
      " [ 1.86781222  0.29504482]\n",
      " [ 2.75187334  0.8004092 ]\n",
      " [ 0.36701769 -1.56150289]\n",
      " [ 2.30243944  0.42006558]\n",
      " [ 2.00668647 -0.71143865]\n",
      " [ 2.25977735  1.92101038]\n",
      " [ 1.36417549  0.69275645]\n",
      " [ 1.60267867 -0.42170045]\n",
      " [ 1.8839007   0.41924965]\n",
      " [ 1.2601151  -1.16226042]\n",
      " [ 1.4676452  -0.44227159]\n",
      " [ 1.59007732  0.67624481]\n",
      " [ 1.47143146  0.25562182]\n",
      " [ 2.42632899  2.55666125]\n",
      " [ 3.31069558  0.01778095]\n",
      " [ 1.26376667 -1.70674538]\n",
      " [ 2.0377163   0.91046741]\n",
      " [ 0.97798073 -0.57176432]\n",
      " [ 2.89765149  0.41364106]\n",
      " [ 1.33323218 -0.48181122]\n",
      " [ 1.7007339   1.01392187]\n",
      " [ 1.95432671  1.0077776 ]\n",
      " [ 1.17510363 -0.31639447]\n",
      " [ 1.02095055  0.06434603]\n",
      " [ 1.78834992 -0.18736121]\n",
      " [ 1.86364755  0.56229073]\n",
      " [ 2.43595373  0.25928443]\n",
      " [ 2.30492772  2.62632347]\n",
      " [ 1.86270322 -0.17854949]\n",
      " [ 1.11414774 -0.29292262]\n",
      " [ 1.2024733  -0.81131527]\n",
      " [ 2.79877045  0.85680333]\n",
      " [ 1.57625591  1.06858111]\n",
      " [ 1.3462921   0.42243061]\n",
      " [ 0.92482492  0.0172231 ]\n",
      " [ 1.85204505  0.67612817]\n",
      " [ 2.01481043  0.61388564]\n",
      " [ 1.90178409  0.68957549]\n",
      " [ 1.15788161 -0.69886986]\n",
      " [ 2.04055823  0.8675206 ]\n",
      " [ 1.9981471   1.04916875]\n",
      " [ 1.87050329  0.38696608]\n",
      " [ 1.56458048 -0.89668681]\n",
      " [ 1.5211705   0.26906914]\n",
      " [ 1.37278779  1.01125442]\n",
      " [ 0.96065603 -0.02433167]]\n",
      "[[ 0.52106591  0.37741762]\n",
      " [-0.26934744  0.92329566]\n",
      " [ 0.5804131   0.02449161]\n",
      " [ 0.56485654  0.06694199]]\n"
     ]
    },
    {
     "data": {
      "image/png": "[encoded data removed]",
      "text/plain": [
       "<Figure size 432x288 with 1 Axes>"
      ]
     },
     "metadata": {
      "needs_background": "light"
     },
     "output_type": "display_data"
    }
   ],
   "source": [
    "import numpy as np\n",
    "import matplotlib.pyplot as plt\n",
    "from sklearn import datasets\n",
    "from sklearn.decomposition import PCA\n",
    "import pandas as pd\n",
    "from sklearn.preprocessing import StandardScaler\n",
    "\n",
    "iris = datasets.load_iris()\n",
    "X = iris.data\n",
    "y = iris.target\n",
    "#In general a good idea is to scale the data\n",
    "scaler = StandardScaler()\n",
    "scaler.fit(X)\n",
    "X=scaler.transform(X)    \n",
    "\n",
    "\n",
    "features = [x for x in range(2, 58)]\n",
    "data = df.iloc[:, features]\n",
    "data.fillna(0)\n",
    "x = df.loc[:, features].values\n",
    "x = StandardScaler().fit_transform(x)\n",
    "x = nan_to_num(x)\n",
    "y = list(df.loc[:, 0])\n",
    "z = [0.0125 if a <= 2 else 0.025 for a in list(df.loc[:, 1])]\n",
    "pca = PCA(n_components=comp_num)\n",
    "principalComponents = pca.fit_transform(x)\n",
    "\n",
    "pca = PCA()\n",
    "x_new = pca.fit_transform(X)\n",
    "\n",
    "def myplot(score,coeff,labels=None):\n",
    "    xs = score[:,0]\n",
    "    ys = score[:,1]\n",
    "    n = coeff.shape[0]\n",
    "    scalex = 1.0/(xs.max() - xs.min())\n",
    "    scaley = 1.0/(ys.max() - ys.min())\n",
    "    plt.scatter(xs * scalex,ys * scaley, c = y)\n",
    "    for i in range(n):\n",
    "        plt.arrow(0, 0, coeff[i,0], coeff[i,1],color = 'r',alpha = 0.5)\n",
    "        if labels is None:\n",
    "            plt.text(coeff[i,0]* 1.15, coeff[i,1] * 1.15, \"Var\"+str(i+1), color = 'g', ha = 'center', va = 'center')\n",
    "        else:\n",
    "            plt.text(coeff[i,0]* 1.15, coeff[i,1] * 1.15, labels[i], color = 'g', ha = 'center', va = 'center')\n",
    "plt.xlim(-1,1)\n",
    "plt.ylim(-1,1)\n",
    "plt.xlabel(\"PC{}\".format(1))\n",
    "plt.ylabel(\"PC{}\".format(2))\n",
    "plt.grid()\n",
    "\n",
    "print(x_new[:,0:2])\n",
    "print(np.transpose(pca.components_[0:2, :]))\n",
    "#Call the function. Use only the 2 PCs.\n",
    "myplot(x_new[:,0:2],np.transpose(pca.components_[0:2, :]))\n",
    "plt.show()"
   ]
  },
  {
   "cell_type": "code",
   "execution_count": null,
   "metadata": {},
   "outputs": [],
   "source": []
  },
  {
   "cell_type": "code",
   "execution_count": null,
   "metadata": {},
   "outputs": [],
   "source": []
  }
 ],
 "metadata": {
  "kernelspec": {
   "display_name": "Django Shell-Plus",
   "language": "python",
   "name": "django_extensions"
  },
  "language_info": {
   "codemirror_mode": {
    "name": "ipython",
    "version": 3
   },
   "file_extension": ".py",
   "mimetype": "text/x-python",
   "name": "python",
   "nbconvert_exporter": "python",
   "pygments_lexer": "ipython3",
   "version": "3.6.8"
  }
 },
 "nbformat": 4,
 "nbformat_minor": 2
}
