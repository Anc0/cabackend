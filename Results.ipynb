version https://git-lfs.github.com/spec/v1
oid sha256:90a2ab873245884eb6b0b1bcd1bed43b64a8f00a4fef9e59cdb25abc708ca352
size 994515
